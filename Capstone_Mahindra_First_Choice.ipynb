{
  "nbformat": 4,
  "nbformat_minor": 0,
  "metadata": {
    "colab": {
      "name": "Capstone_Mahindra_First_Choice.ipynb",
      "version": "0.3.2",
      "provenance": [],
      "collapsed_sections": [
        "RP-Ew7HwbmCa",
        "xVqML_yzdr1o",
        "_SjzdmPwoaq4",
        "daOdM5BV_AVs"
      ],
      "include_colab_link": true
    },
    "kernelspec": {
      "name": "python3",
      "display_name": "Python 3"
    }
  },
  "cells": [
    {
      "cell_type": "markdown",
      "metadata": {
        "id": "view-in-github",
        "colab_type": "text"
      },
      "source": [
        "<a href=\"https://colab.research.google.com/github/shailendrajain2892/GA-Classes/blob/master/Capstone_Mahindra_First_Choice.ipynb\" target=\"_parent\"><img src=\"https://colab.research.google.com/assets/colab-badge.svg\" alt=\"Open In Colab\"/></a>"
      ]
    },
    {
      "cell_type": "code",
      "metadata": {
        "id": "ijiRV1yciq_5",
        "colab_type": "code",
        "colab": {}
      },
      "source": [
        "import pandas as pd\n",
        "import numpy as np"
      ],
      "execution_count": 0,
      "outputs": []
    },
    {
      "cell_type": "code",
      "metadata": {
        "id": "N4N3OoCEiylL",
        "colab_type": "code",
        "outputId": "a8134006-7070-4e14-d8b1-a30e3291ac83",
        "colab": {
          "base_uri": "https://localhost:8080/",
          "height": 34
        }
      },
      "source": [
        "from google.colab import drive\n",
        "drive.mount('/content/drive')"
      ],
      "execution_count": 2,
      "outputs": [
        {
          "output_type": "stream",
          "text": [
            "Drive already mounted at /content/drive; to attempt to forcibly remount, call drive.mount(\"/content/drive\", force_remount=True).\n"
          ],
          "name": "stdout"
        }
      ]
    },
    {
      "cell_type": "markdown",
      "metadata": {
        "id": "RP-Ew7HwbmCa",
        "colab_type": "text"
      },
      "source": [
        "##Load Plant data \n",
        "**remove duplicate and null columns.**"
      ]
    },
    {
      "cell_type": "code",
      "metadata": {
        "id": "8N057FhYjY3K",
        "colab_type": "code",
        "colab": {}
      },
      "source": [
        "plant_full_data = pd.read_csv('./drive/My Drive/Colab Notebooks/data/final_csv/plant.csv', index_col=0)"
      ],
      "execution_count": 0,
      "outputs": []
    },
    {
      "cell_type": "code",
      "metadata": {
        "id": "yEPSpLibktkQ",
        "colab_type": "code",
        "outputId": "89ac8610-718a-4b0f-c95b-021e42b47230",
        "colab": {
          "base_uri": "https://localhost:8080/",
          "height": 0
        }
      },
      "source": [
        "plant_full_data.head()"
      ],
      "execution_count": 4,
      "outputs": [
        {
          "output_type": "execute_result",
          "data": {
            "text/html": [
              "<div>\n",
              "<style scoped>\n",
              "    .dataframe tbody tr th:only-of-type {\n",
              "        vertical-align: middle;\n",
              "    }\n",
              "\n",
              "    .dataframe tbody tr th {\n",
              "        vertical-align: top;\n",
              "    }\n",
              "\n",
              "    .dataframe thead th {\n",
              "        text-align: right;\n",
              "    }\n",
              "</style>\n",
              "<table border=\"1\" class=\"dataframe\">\n",
              "  <thead>\n",
              "    <tr style=\"text-align: right;\">\n",
              "      <th></th>\n",
              "      <th>Plant</th>\n",
              "      <th>Name 1</th>\n",
              "      <th>Valuation Area</th>\n",
              "      <th>Customer no. - plant</th>\n",
              "      <th>Vendor number plant</th>\n",
              "      <th>Factory calendar</th>\n",
              "      <th>Name 2</th>\n",
              "      <th>House number and street</th>\n",
              "      <th>PO Box</th>\n",
              "      <th>Postal Code</th>\n",
              "      <th>City</th>\n",
              "      <th>Sales organization</th>\n",
              "      <th>State</th>\n",
              "    </tr>\n",
              "  </thead>\n",
              "  <tbody>\n",
              "    <tr>\n",
              "      <th>0</th>\n",
              "      <td>BC07</td>\n",
              "      <td>NERKUNDRAM</td>\n",
              "      <td>BC07</td>\n",
              "      <td>PLBC07</td>\n",
              "      <td>PLBC07</td>\n",
              "      <td>IN</td>\n",
              "      <td>NaN</td>\n",
              "      <td>No.117 Poonamallee High Road,</td>\n",
              "      <td>600107.0</td>\n",
              "      <td>600107</td>\n",
              "      <td>Chennai</td>\n",
              "      <td>MFCS</td>\n",
              "      <td>Tamil Nadu</td>\n",
              "    </tr>\n",
              "    <tr>\n",
              "      <th>1</th>\n",
              "      <td>BC30</td>\n",
              "      <td>SAS NAGAR - MOHALI</td>\n",
              "      <td>BC30</td>\n",
              "      <td>PLBC30</td>\n",
              "      <td>PLBC30</td>\n",
              "      <td>IN</td>\n",
              "      <td>NaN</td>\n",
              "      <td>C-118, Phase 07,</td>\n",
              "      <td>160055.0</td>\n",
              "      <td>160055</td>\n",
              "      <td>Mohali</td>\n",
              "      <td>MFCS</td>\n",
              "      <td>Punjab</td>\n",
              "    </tr>\n",
              "    <tr>\n",
              "      <th>2</th>\n",
              "      <td>X001</td>\n",
              "      <td>X001 - AUTO PLANET WHEELS</td>\n",
              "      <td>X001</td>\n",
              "      <td>PLX001</td>\n",
              "      <td>NaN</td>\n",
              "      <td>IN</td>\n",
              "      <td>Thane</td>\n",
              "      <td>Unit No.3, Kothari Compound,</td>\n",
              "      <td>400610.0</td>\n",
              "      <td>400610</td>\n",
              "      <td>Thane</td>\n",
              "      <td>MFCA</td>\n",
              "      <td>Maharashtra</td>\n",
              "    </tr>\n",
              "    <tr>\n",
              "      <th>3</th>\n",
              "      <td>X002</td>\n",
              "      <td>X002 - BHANDARI INDUSTRIES PVT</td>\n",
              "      <td>X002</td>\n",
              "      <td>PLX002</td>\n",
              "      <td>NaN</td>\n",
              "      <td>IN</td>\n",
              "      <td>Ghaziabad</td>\n",
              "      <td>18/1, C Site 4, Sahibabad</td>\n",
              "      <td>201010.0</td>\n",
              "      <td>201010</td>\n",
              "      <td>Ghaziabad</td>\n",
              "      <td>MFCA</td>\n",
              "      <td>Uttar Pradesh</td>\n",
              "    </tr>\n",
              "    <tr>\n",
              "      <th>4</th>\n",
              "      <td>X003</td>\n",
              "      <td>X003 - Om Sri Satya Sai Automo</td>\n",
              "      <td>X003</td>\n",
              "      <td>PLX003</td>\n",
              "      <td>NaN</td>\n",
              "      <td>IN</td>\n",
              "      <td>Bengaluru</td>\n",
              "      <td>#75, Sy.No. 83/2, Panathur Mai</td>\n",
              "      <td>560087.0</td>\n",
              "      <td>560087</td>\n",
              "      <td>Bengaluru</td>\n",
              "      <td>MFCB</td>\n",
              "      <td>Karnataka</td>\n",
              "    </tr>\n",
              "  </tbody>\n",
              "</table>\n",
              "</div>"
            ],
            "text/plain": [
              "  Plant                          Name 1  ... Sales organization          State\n",
              "0  BC07                      NERKUNDRAM  ...               MFCS     Tamil Nadu\n",
              "1  BC30              SAS NAGAR - MOHALI  ...               MFCS         Punjab\n",
              "2  X001       X001 - AUTO PLANET WHEELS  ...               MFCA    Maharashtra\n",
              "3  X002  X002 - BHANDARI INDUSTRIES PVT  ...               MFCA  Uttar Pradesh\n",
              "4  X003  X003 - Om Sri Satya Sai Automo  ...               MFCB      Karnataka\n",
              "\n",
              "[5 rows x 13 columns]"
            ]
          },
          "metadata": {
            "tags": []
          },
          "execution_count": 4
        }
      ]
    },
    {
      "cell_type": "code",
      "metadata": {
        "id": "R21BLM_DacpH",
        "colab_type": "code",
        "outputId": "0cbdb06b-62db-4da2-b00c-02f5447701a9",
        "colab": {
          "base_uri": "https://localhost:8080/",
          "height": 0
        }
      },
      "source": [
        "plant_full_data.isnull().sum()"
      ],
      "execution_count": 5,
      "outputs": [
        {
          "output_type": "execute_result",
          "data": {
            "text/plain": [
              "Plant                        0\n",
              "Name 1                       0\n",
              "Valuation Area               0\n",
              "Customer no. - plant         0\n",
              "Vendor number plant        436\n",
              "Factory calendar             0\n",
              "Name 2                       2\n",
              "House number and street      2\n",
              "PO Box                       1\n",
              "Postal Code                  0\n",
              "City                         0\n",
              "Sales organization           5\n",
              "State                        0\n",
              "dtype: int64"
            ]
          },
          "metadata": {
            "tags": []
          },
          "execution_count": 5
        }
      ]
    },
    {
      "cell_type": "code",
      "metadata": {
        "id": "kg1VM_-RaikQ",
        "colab_type": "code",
        "outputId": "cc8314f4-8c7a-47c2-fb46-f54abfa14a95",
        "colab": {
          "base_uri": "https://localhost:8080/",
          "height": 0
        }
      },
      "source": [
        "plant_full_data.shape"
      ],
      "execution_count": 6,
      "outputs": [
        {
          "output_type": "execute_result",
          "data": {
            "text/plain": [
              "(438, 13)"
            ]
          },
          "metadata": {
            "tags": []
          },
          "execution_count": 6
        }
      ]
    },
    {
      "cell_type": "markdown",
      "metadata": {
        "id": "BrLsb6wLc6tK",
        "colab_type": "text"
      },
      "source": [
        "**Drop columns=['Vendor number plant', 'Valuation Area', 'Factory calendar', 'Name 2', 'House number and street', 'PO Box', 'Sales organization']**"
      ]
    },
    {
      "cell_type": "code",
      "metadata": {
        "id": "xiOmysjbam9V",
        "colab_type": "code",
        "colab": {}
      },
      "source": [
        "plant = plant_full_data.drop(columns=['Vendor number plant', 'Valuation Area', 'Factory calendar', 'Name 2', 'House number and street', 'PO Box', 'Sales organization', 'Customer no. - plant'])"
      ],
      "execution_count": 0,
      "outputs": []
    },
    {
      "cell_type": "code",
      "metadata": {
        "id": "x-g1ppOOavsV",
        "colab_type": "code",
        "outputId": "0d16f904-c016-4c74-f692-5d812781f7e2",
        "colab": {
          "base_uri": "https://localhost:8080/",
          "height": 0
        }
      },
      "source": [
        "plant.shape"
      ],
      "execution_count": 8,
      "outputs": [
        {
          "output_type": "execute_result",
          "data": {
            "text/plain": [
              "(438, 5)"
            ]
          },
          "metadata": {
            "tags": []
          },
          "execution_count": 8
        }
      ]
    },
    {
      "cell_type": "code",
      "metadata": {
        "id": "fxctlvb1dMy5",
        "colab_type": "code",
        "outputId": "aee296d1-12c3-4d04-d8cb-027c29419fed",
        "colab": {
          "base_uri": "https://localhost:8080/",
          "height": 0
        }
      },
      "source": [
        "plant.isnull().sum()"
      ],
      "execution_count": 9,
      "outputs": [
        {
          "output_type": "execute_result",
          "data": {
            "text/plain": [
              "Plant          0\n",
              "Name 1         0\n",
              "Postal Code    0\n",
              "City           0\n",
              "State          0\n",
              "dtype: int64"
            ]
          },
          "metadata": {
            "tags": []
          },
          "execution_count": 9
        }
      ]
    },
    {
      "cell_type": "markdown",
      "metadata": {
        "id": "xVqML_yzdr1o",
        "colab_type": "text"
      },
      "source": [
        "##Read Customer Data. \n",
        "**Remove Duplicate and Missing values columns**."
      ]
    },
    {
      "cell_type": "code",
      "metadata": {
        "id": "Ae7b-ddplUqh",
        "colab_type": "code",
        "outputId": "e1bb3eef-ea45-42b8-9785-09e00abc5bcc",
        "colab": {
          "base_uri": "https://localhost:8080/",
          "height": 0
        }
      },
      "source": [
        "customer_full_data = pd.read_csv('./drive/My Drive/Colab Notebooks/data/final_csv/customer.csv', index_col=0)"
      ],
      "execution_count": 10,
      "outputs": [
        {
          "output_type": "stream",
          "text": [
            "/usr/local/lib/python3.6/dist-packages/IPython/core/interactiveshell.py:2718: DtypeWarning: Columns (1,2) have mixed types. Specify dtype option on import or set low_memory=False.\n",
            "  interactivity=interactivity, compiler=compiler, result=result)\n"
          ],
          "name": "stderr"
        }
      ]
    },
    {
      "cell_type": "code",
      "metadata": {
        "id": "pzB4RwgXlxrM",
        "colab_type": "code",
        "outputId": "a211e8c0-7369-418d-ff3d-c453bdcd3f6f",
        "colab": {
          "base_uri": "https://localhost:8080/",
          "height": 0
        }
      },
      "source": [
        "customer_full_data.head()"
      ],
      "execution_count": 11,
      "outputs": [
        {
          "output_type": "execute_result",
          "data": {
            "text/html": [
              "<div>\n",
              "<style scoped>\n",
              "    .dataframe tbody tr th:only-of-type {\n",
              "        vertical-align: middle;\n",
              "    }\n",
              "\n",
              "    .dataframe tbody tr th {\n",
              "        vertical-align: top;\n",
              "    }\n",
              "\n",
              "    .dataframe thead th {\n",
              "        text-align: right;\n",
              "    }\n",
              "</style>\n",
              "<table border=\"1\" class=\"dataframe\">\n",
              "  <thead>\n",
              "    <tr style=\"text-align: right;\">\n",
              "      <th></th>\n",
              "      <th>Business Partner</th>\n",
              "      <th>Customer No.</th>\n",
              "      <th>Partner Type</th>\n",
              "      <th>Data Origin</th>\n",
              "      <th>Title</th>\n",
              "      <th>Marital Status</th>\n",
              "      <th>Occupation</th>\n",
              "      <th>Date of Birth</th>\n",
              "      <th>Death date</th>\n",
              "    </tr>\n",
              "  </thead>\n",
              "  <tbody>\n",
              "    <tr>\n",
              "      <th>0</th>\n",
              "      <td>31</td>\n",
              "      <td>1</td>\n",
              "      <td>1.0</td>\n",
              "      <td>Z001</td>\n",
              "      <td>NaN</td>\n",
              "      <td>NaN</td>\n",
              "      <td>NaN</td>\n",
              "      <td>NaN</td>\n",
              "      <td>NaN</td>\n",
              "    </tr>\n",
              "    <tr>\n",
              "      <th>1</th>\n",
              "      <td>32</td>\n",
              "      <td>2</td>\n",
              "      <td>1.0</td>\n",
              "      <td>Z005</td>\n",
              "      <td>NaN</td>\n",
              "      <td>NaN</td>\n",
              "      <td>NaN</td>\n",
              "      <td>NaN</td>\n",
              "      <td>NaN</td>\n",
              "    </tr>\n",
              "    <tr>\n",
              "      <th>2</th>\n",
              "      <td>34</td>\n",
              "      <td>4</td>\n",
              "      <td>1.0</td>\n",
              "      <td>Z005</td>\n",
              "      <td>NaN</td>\n",
              "      <td>2.0</td>\n",
              "      <td>NaN</td>\n",
              "      <td>NaN</td>\n",
              "      <td>NaN</td>\n",
              "    </tr>\n",
              "    <tr>\n",
              "      <th>3</th>\n",
              "      <td>35</td>\n",
              "      <td>5</td>\n",
              "      <td>1.0</td>\n",
              "      <td>Z005</td>\n",
              "      <td>NaN</td>\n",
              "      <td>NaN</td>\n",
              "      <td>NaN</td>\n",
              "      <td>NaN</td>\n",
              "      <td>NaN</td>\n",
              "    </tr>\n",
              "    <tr>\n",
              "      <th>4</th>\n",
              "      <td>42</td>\n",
              "      <td>7</td>\n",
              "      <td>1.0</td>\n",
              "      <td>Z008</td>\n",
              "      <td>NaN</td>\n",
              "      <td>NaN</td>\n",
              "      <td>NaN</td>\n",
              "      <td>NaN</td>\n",
              "      <td>NaN</td>\n",
              "    </tr>\n",
              "  </tbody>\n",
              "</table>\n",
              "</div>"
            ],
            "text/plain": [
              "  Business Partner Customer No.  ...  Date of Birth Death date\n",
              "0               31            1  ...            NaN        NaN\n",
              "1               32            2  ...            NaN        NaN\n",
              "2               34            4  ...            NaN        NaN\n",
              "3               35            5  ...            NaN        NaN\n",
              "4               42            7  ...            NaN        NaN\n",
              "\n",
              "[5 rows x 9 columns]"
            ]
          },
          "metadata": {
            "tags": []
          },
          "execution_count": 11
        }
      ]
    },
    {
      "cell_type": "code",
      "metadata": {
        "id": "m9o7xFETe5OI",
        "colab_type": "code",
        "outputId": "c3ea61e3-0115-4540-d52e-97e4201f2d56",
        "colab": {
          "base_uri": "https://localhost:8080/",
          "height": 0
        }
      },
      "source": [
        "customer_full_data.shape"
      ],
      "execution_count": 12,
      "outputs": [
        {
          "output_type": "execute_result",
          "data": {
            "text/plain": [
              "(555338, 9)"
            ]
          },
          "metadata": {
            "tags": []
          },
          "execution_count": 12
        }
      ]
    },
    {
      "cell_type": "code",
      "metadata": {
        "id": "1wojI66kVXjs",
        "colab_type": "code",
        "outputId": "96fa23f3-f2fb-48e0-87a5-18c1445b9279",
        "colab": {
          "base_uri": "https://localhost:8080/",
          "height": 0
        }
      },
      "source": [
        "customer_full_data.isnull().sum()"
      ],
      "execution_count": 13,
      "outputs": [
        {
          "output_type": "execute_result",
          "data": {
            "text/plain": [
              "Business Partner         0\n",
              "Customer No.             0\n",
              "Partner Type            78\n",
              "Data Origin            136\n",
              "Title                46307\n",
              "Marital Status      539301\n",
              "Occupation          540780\n",
              "Date of Birth       541894\n",
              "Death date          554675\n",
              "dtype: int64"
            ]
          },
          "metadata": {
            "tags": []
          },
          "execution_count": 13
        }
      ]
    },
    {
      "cell_type": "code",
      "metadata": {
        "id": "mC2YZ6mmgA0q",
        "colab_type": "code",
        "colab": {}
      },
      "source": [
        "customer = customer_full_data.drop(columns = ['Marital Status', 'Occupation', 'Date of Birth', 'Death date', 'Business Partner'])"
      ],
      "execution_count": 0,
      "outputs": []
    },
    {
      "cell_type": "code",
      "metadata": {
        "id": "H9JXOWb-jJxr",
        "colab_type": "code",
        "outputId": "e3885e83-8844-4b71-fb88-f873f59b9b9b",
        "colab": {
          "base_uri": "https://localhost:8080/",
          "height": 0
        }
      },
      "source": [
        "customer.dtypes"
      ],
      "execution_count": 15,
      "outputs": [
        {
          "output_type": "execute_result",
          "data": {
            "text/plain": [
              "Customer No.     object\n",
              "Partner Type    float64\n",
              "Data Origin      object\n",
              "Title           float64\n",
              "dtype: object"
            ]
          },
          "metadata": {
            "tags": []
          },
          "execution_count": 15
        }
      ]
    },
    {
      "cell_type": "code",
      "metadata": {
        "id": "6qOtHQd0gUHt",
        "colab_type": "code",
        "outputId": "14ca208b-bd69-4295-9e8d-dc33278dc6a9",
        "colab": {
          "base_uri": "https://localhost:8080/",
          "height": 0
        }
      },
      "source": [
        "customer.isnull().sum()"
      ],
      "execution_count": 16,
      "outputs": [
        {
          "output_type": "execute_result",
          "data": {
            "text/plain": [
              "Customer No.        0\n",
              "Partner Type       78\n",
              "Data Origin       136\n",
              "Title           46307\n",
              "dtype: int64"
            ]
          },
          "metadata": {
            "tags": []
          },
          "execution_count": 16
        }
      ]
    },
    {
      "cell_type": "markdown",
      "metadata": {
        "id": "BJs7yJAjlwP2",
        "colab_type": "text"
      },
      "source": [
        "**FIll Missing Values in Partner Type, Data Origin, Title columns with most_frequently used values.**"
      ]
    },
    {
      "cell_type": "code",
      "metadata": {
        "id": "_ezt1434hKqd",
        "colab_type": "code",
        "colab": {}
      },
      "source": [
        "most_frequent_value = customer['Partner Type'].mode()\n",
        "customer['Partner Type'] = customer['Partner Type'].fillna(most_frequent_value[0])"
      ],
      "execution_count": 0,
      "outputs": []
    },
    {
      "cell_type": "code",
      "metadata": {
        "id": "fC5xpwkRlVtZ",
        "colab_type": "code",
        "colab": {}
      },
      "source": [
        "customer['Data Origin'] = customer['Data Origin'].fillna(customer['Data Origin'].mode()[0])"
      ],
      "execution_count": 0,
      "outputs": []
    },
    {
      "cell_type": "code",
      "metadata": {
        "id": "1bT6C0ZnlgUI",
        "colab_type": "code",
        "colab": {}
      },
      "source": [
        "customer['Title'] = customer['Title'].fillna(customer['Title'].mode()[0])"
      ],
      "execution_count": 0,
      "outputs": []
    },
    {
      "cell_type": "code",
      "metadata": {
        "id": "zTUNWHj8lvTE",
        "colab_type": "code",
        "outputId": "e74c1917-2dcb-4901-c33b-5c46a8c888bf",
        "colab": {
          "base_uri": "https://localhost:8080/",
          "height": 0
        }
      },
      "source": [
        "customer.isnull().sum()"
      ],
      "execution_count": 20,
      "outputs": [
        {
          "output_type": "execute_result",
          "data": {
            "text/plain": [
              "Customer No.    0\n",
              "Partner Type    0\n",
              "Data Origin     0\n",
              "Title           0\n",
              "dtype: int64"
            ]
          },
          "metadata": {
            "tags": []
          },
          "execution_count": 20
        }
      ]
    },
    {
      "cell_type": "markdown",
      "metadata": {
        "id": "_SjzdmPwoaq4",
        "colab_type": "text"
      },
      "source": [
        "##Load Vehicle Data. \n",
        "**Treat missing and nan values.**"
      ]
    },
    {
      "cell_type": "code",
      "metadata": {
        "id": "N1SGaJcDl5xE",
        "colab_type": "code",
        "outputId": "4d4e2240-ec66-4a40-d4b1-55a6c5cee622",
        "colab": {
          "base_uri": "https://localhost:8080/",
          "height": 0
        }
      },
      "source": [
        "vehicles_full_data = pd.read_csv('./drive/My Drive/Colab Notebooks/data/final_csv/vehicles.csv', index_col=0)"
      ],
      "execution_count": 21,
      "outputs": [
        {
          "output_type": "stream",
          "text": [
            "/usr/local/lib/python3.6/dist-packages/IPython/core/interactiveshell.py:2718: DtypeWarning: Columns (4) have mixed types. Specify dtype option on import or set low_memory=False.\n",
            "  interactivity=interactivity, compiler=compiler, result=result)\n"
          ],
          "name": "stderr"
        }
      ]
    },
    {
      "cell_type": "code",
      "metadata": {
        "id": "e_wT8KtYsVDr",
        "colab_type": "code",
        "outputId": "a50ef677-8518-4bee-c978-b87c0dde31a2",
        "colab": {
          "base_uri": "https://localhost:8080/",
          "height": 0
        }
      },
      "source": [
        "vehicles_full_data.head()"
      ],
      "execution_count": 22,
      "outputs": [
        {
          "output_type": "execute_result",
          "data": {
            "text/html": [
              "<div>\n",
              "<style scoped>\n",
              "    .dataframe tbody tr th:only-of-type {\n",
              "        vertical-align: middle;\n",
              "    }\n",
              "\n",
              "    .dataframe tbody tr th {\n",
              "        vertical-align: top;\n",
              "    }\n",
              "\n",
              "    .dataframe thead th {\n",
              "        text-align: right;\n",
              "    }\n",
              "</style>\n",
              "<table border=\"1\" class=\"dataframe\">\n",
              "  <thead>\n",
              "    <tr style=\"text-align: right;\">\n",
              "      <th></th>\n",
              "      <th>Vehicle Model</th>\n",
              "      <th>Product GUID</th>\n",
              "      <th>License Plate Number</th>\n",
              "      <th>Fuel Type</th>\n",
              "    </tr>\n",
              "  </thead>\n",
              "  <tbody>\n",
              "    <tr>\n",
              "      <th>0</th>\n",
              "      <td>Z_MAHINDRA</td>\n",
              "      <td>000C2937F0991ED493A0CC3579ED97ED</td>\n",
              "      <td>MH12HN2835</td>\n",
              "      <td>2</td>\n",
              "    </tr>\n",
              "    <tr>\n",
              "      <th>1</th>\n",
              "      <td>Z_TATA</td>\n",
              "      <td>000C2937F0991ED493A19620CB69DDA0</td>\n",
              "      <td>TN10AL3462</td>\n",
              "      <td>2</td>\n",
              "    </tr>\n",
              "    <tr>\n",
              "      <th>2</th>\n",
              "      <td>Z_MARUTI</td>\n",
              "      <td>000C2937F0991ED493A28DAFBFBA870E</td>\n",
              "      <td>AP28DG9695</td>\n",
              "      <td>1</td>\n",
              "    </tr>\n",
              "    <tr>\n",
              "      <th>3</th>\n",
              "      <td>Z_HONDA</td>\n",
              "      <td>000C2937F0991ED493A496B779A143D3</td>\n",
              "      <td>MH15DS9580</td>\n",
              "      <td>1</td>\n",
              "    </tr>\n",
              "    <tr>\n",
              "      <th>4</th>\n",
              "      <td>Z_MARUTI</td>\n",
              "      <td>000C2937F0991ED493A58273B92EC2F8</td>\n",
              "      <td>MH14CK0669</td>\n",
              "      <td>2</td>\n",
              "    </tr>\n",
              "  </tbody>\n",
              "</table>\n",
              "</div>"
            ],
            "text/plain": [
              "  Vehicle Model  ... Fuel Type\n",
              "0    Z_MAHINDRA  ...         2\n",
              "1        Z_TATA  ...         2\n",
              "2      Z_MARUTI  ...         1\n",
              "3       Z_HONDA  ...         1\n",
              "4      Z_MARUTI  ...         2\n",
              "\n",
              "[5 rows x 4 columns]"
            ]
          },
          "metadata": {
            "tags": []
          },
          "execution_count": 22
        }
      ]
    },
    {
      "cell_type": "code",
      "metadata": {
        "id": "KeshmvEGpTBC",
        "colab_type": "code",
        "outputId": "b018f53e-64d5-4318-9ab3-c2f9ed202b43",
        "colab": {
          "base_uri": "https://localhost:8080/",
          "height": 0
        }
      },
      "source": [
        "vehicles_full_data.shape"
      ],
      "execution_count": 23,
      "outputs": [
        {
          "output_type": "execute_result",
          "data": {
            "text/plain": [
              "(588761, 4)"
            ]
          },
          "metadata": {
            "tags": []
          },
          "execution_count": 23
        }
      ]
    },
    {
      "cell_type": "code",
      "metadata": {
        "id": "5e2KQAa9pLKC",
        "colab_type": "code",
        "outputId": "2e1db1c4-ac50-4468-b000-458b1da44cab",
        "colab": {
          "base_uri": "https://localhost:8080/",
          "height": 0
        }
      },
      "source": [
        "vehicles_full_data.isnull().sum()"
      ],
      "execution_count": 24,
      "outputs": [
        {
          "output_type": "execute_result",
          "data": {
            "text/plain": [
              "Vehicle Model               0\n",
              "Product GUID                0\n",
              "License Plate Number     2058\n",
              "Fuel Type               15627\n",
              "dtype: int64"
            ]
          },
          "metadata": {
            "tags": []
          },
          "execution_count": 24
        }
      ]
    },
    {
      "cell_type": "markdown",
      "metadata": {
        "id": "61U8R8REqiYL",
        "colab_type": "text"
      },
      "source": [
        "***`Remove Product GUID column`***"
      ]
    },
    {
      "cell_type": "code",
      "metadata": {
        "id": "kzii6AKApzLH",
        "colab_type": "code",
        "colab": {}
      },
      "source": [
        "vehicles = vehicles_full_data.drop(columns='Product GUID')"
      ],
      "execution_count": 0,
      "outputs": []
    },
    {
      "cell_type": "code",
      "metadata": {
        "id": "rxylrfdyqhtv",
        "colab_type": "code",
        "outputId": "e5ef696c-116b-423e-ac8d-9d3a52b63550",
        "colab": {
          "base_uri": "https://localhost:8080/",
          "height": 0
        }
      },
      "source": [
        "vehicles.shape"
      ],
      "execution_count": 26,
      "outputs": [
        {
          "output_type": "execute_result",
          "data": {
            "text/plain": [
              "(588761, 3)"
            ]
          },
          "metadata": {
            "tags": []
          },
          "execution_count": 26
        }
      ]
    },
    {
      "cell_type": "code",
      "metadata": {
        "id": "w4___Ep9qw2h",
        "colab_type": "code",
        "outputId": "73cdace7-96fd-498b-f50c-a7b841754018",
        "colab": {
          "base_uri": "https://localhost:8080/",
          "height": 0
        }
      },
      "source": [
        "vehicles.isnull().sum()"
      ],
      "execution_count": 27,
      "outputs": [
        {
          "output_type": "execute_result",
          "data": {
            "text/plain": [
              "Vehicle Model               0\n",
              "License Plate Number     2058\n",
              "Fuel Type               15627\n",
              "dtype: int64"
            ]
          },
          "metadata": {
            "tags": []
          },
          "execution_count": 27
        }
      ]
    },
    {
      "cell_type": "code",
      "metadata": {
        "id": "AV3T2ddjq4dO",
        "colab_type": "code",
        "outputId": "f5d2e39c-15ab-4b1d-f4e3-94dd45fda79b",
        "colab": {
          "base_uri": "https://localhost:8080/",
          "height": 0
        }
      },
      "source": [
        "vehicles.dtypes"
      ],
      "execution_count": 28,
      "outputs": [
        {
          "output_type": "execute_result",
          "data": {
            "text/plain": [
              "Vehicle Model           object\n",
              "License Plate Number    object\n",
              "Fuel Type               object\n",
              "dtype: object"
            ]
          },
          "metadata": {
            "tags": []
          },
          "execution_count": 28
        }
      ]
    },
    {
      "cell_type": "markdown",
      "metadata": {
        "id": "cdjfWR-rrN5s",
        "colab_type": "text"
      },
      "source": [
        "***`Remove vehicles which doesn't have License Plate Number`***"
      ]
    },
    {
      "cell_type": "code",
      "metadata": {
        "id": "CdymoOowpzRB",
        "colab_type": "code",
        "colab": {}
      },
      "source": [
        "vehicles.dropna(subset=['License Plate Number'], inplace=True)"
      ],
      "execution_count": 0,
      "outputs": []
    },
    {
      "cell_type": "code",
      "metadata": {
        "id": "c7_Y8xRIrLKd",
        "colab_type": "code",
        "outputId": "97eb3cec-362b-45d4-a269-fc0b485dbea1",
        "colab": {
          "base_uri": "https://localhost:8080/",
          "height": 0
        }
      },
      "source": [
        "vehicles.shape"
      ],
      "execution_count": 30,
      "outputs": [
        {
          "output_type": "execute_result",
          "data": {
            "text/plain": [
              "(586703, 3)"
            ]
          },
          "metadata": {
            "tags": []
          },
          "execution_count": 30
        }
      ]
    },
    {
      "cell_type": "code",
      "metadata": {
        "id": "yIenhMf5raGy",
        "colab_type": "code",
        "colab": {}
      },
      "source": [
        "vehicles['Fuel Type'] = vehicles['Fuel Type'].fillna(vehicles['Fuel Type'].mode()[0])"
      ],
      "execution_count": 0,
      "outputs": []
    },
    {
      "cell_type": "code",
      "metadata": {
        "id": "CePgWMv-r5JV",
        "colab_type": "code",
        "outputId": "8ec7b78b-967b-4414-a73e-0a901249c103",
        "colab": {
          "base_uri": "https://localhost:8080/",
          "height": 0
        }
      },
      "source": [
        "vehicles.isnull().sum()"
      ],
      "execution_count": 32,
      "outputs": [
        {
          "output_type": "execute_result",
          "data": {
            "text/plain": [
              "Vehicle Model           0\n",
              "License Plate Number    0\n",
              "Fuel Type               0\n",
              "dtype: int64"
            ]
          },
          "metadata": {
            "tags": []
          },
          "execution_count": 32
        }
      ]
    },
    {
      "cell_type": "markdown",
      "metadata": {
        "id": "-gDSUTYQr-83",
        "colab_type": "text"
      },
      "source": [
        "## Load Invoice Data\n",
        "Handle missing, duplicate data"
      ]
    },
    {
      "cell_type": "code",
      "metadata": {
        "id": "V-e3x0M7si2Y",
        "colab_type": "code",
        "outputId": "7f72e576-e59e-4bc1-f22b-9b0a2f0cd7d8",
        "colab": {
          "base_uri": "https://localhost:8080/",
          "height": 71
        }
      },
      "source": [
        "invoice_full_data = pd.read_csv('/content/drive/My Drive/Colab Notebooks/data/final_csv/invoice.csv',index_col=0)"
      ],
      "execution_count": 33,
      "outputs": [
        {
          "output_type": "stream",
          "text": [
            "/usr/local/lib/python3.6/dist-packages/IPython/core/interactiveshell.py:2718: DtypeWarning: Columns (9,10,14,15,21,41,51) have mixed types. Specify dtype option on import or set low_memory=False.\n",
            "  interactivity=interactivity, compiler=compiler, result=result)\n"
          ],
          "name": "stderr"
        }
      ]
    },
    {
      "cell_type": "code",
      "metadata": {
        "id": "EHceLpPfss7g",
        "colab_type": "code",
        "outputId": "db1d4ee0-0a08-4cfb-b761-3c1dc19e6827",
        "colab": {
          "base_uri": "https://localhost:8080/",
          "height": 428
        }
      },
      "source": [
        "invoice_full_data.head()"
      ],
      "execution_count": 34,
      "outputs": [
        {
          "output_type": "execute_result",
          "data": {
            "text/html": [
              "<div>\n",
              "<style scoped>\n",
              "    .dataframe tbody tr th:only-of-type {\n",
              "        vertical-align: middle;\n",
              "    }\n",
              "\n",
              "    .dataframe tbody tr th {\n",
              "        vertical-align: top;\n",
              "    }\n",
              "\n",
              "    .dataframe thead th {\n",
              "        text-align: right;\n",
              "    }\n",
              "</style>\n",
              "<table border=\"1\" class=\"dataframe\">\n",
              "  <thead>\n",
              "    <tr style=\"text-align: right;\">\n",
              "      <th></th>\n",
              "      <th>Amt Rcvd From Custom</th>\n",
              "      <th>Amt Rcvd From Ins Co</th>\n",
              "      <th>Area / Locality</th>\n",
              "      <th>CGST(14%)</th>\n",
              "      <th>CGST(2.5%)</th>\n",
              "      <th>CGST(6%)</th>\n",
              "      <th>CGST(9%)</th>\n",
              "      <th>CITY</th>\n",
              "      <th>Cash /Cashless Type</th>\n",
              "      <th>Claim No.</th>\n",
              "      <th>Cust Type</th>\n",
              "      <th>Customer No.</th>\n",
              "      <th>District</th>\n",
              "      <th>Expiry Date</th>\n",
              "      <th>Gate Pass Date</th>\n",
              "      <th>Gate Pass Time</th>\n",
              "      <th>IGST(12%)</th>\n",
              "      <th>IGST(18%)</th>\n",
              "      <th>IGST(28%)</th>\n",
              "      <th>IGST(5%)</th>\n",
              "      <th>Insurance Company</th>\n",
              "      <th>Invoice Date</th>\n",
              "      <th>Invoice No</th>\n",
              "      <th>Invoice Time</th>\n",
              "      <th>Job Card No</th>\n",
              "      <th>JobCard Date</th>\n",
              "      <th>JobCard Time</th>\n",
              "      <th>KMs Reading</th>\n",
              "      <th>Labour Total</th>\n",
              "      <th>Make</th>\n",
              "      <th>Misc Total</th>\n",
              "      <th>Model</th>\n",
              "      <th>ODN No.</th>\n",
              "      <th>OSL Total</th>\n",
              "      <th>Order Type</th>\n",
              "      <th>Outstanding Amt</th>\n",
              "      <th>Parts Total</th>\n",
              "      <th>Pin code</th>\n",
              "      <th>Plant</th>\n",
              "      <th>Plant Name1</th>\n",
              "      <th>Policy no.</th>\n",
              "      <th>Print Status</th>\n",
              "      <th>Recovrbl Exp</th>\n",
              "      <th>Regn No</th>\n",
              "      <th>SGST/UGST(14%)</th>\n",
              "      <th>SGST/UGST(2.5%)</th>\n",
              "      <th>SGST/UGST(6%)</th>\n",
              "      <th>SGST/UGST(9%)</th>\n",
              "      <th>Service Advisor Name</th>\n",
              "      <th>TDS amount</th>\n",
              "      <th>Technician Name</th>\n",
              "      <th>Total Amt Wtd Tax.</th>\n",
              "      <th>Total CGST</th>\n",
              "      <th>Total GST</th>\n",
              "      <th>Total IGST</th>\n",
              "      <th>Total SGST/UGST</th>\n",
              "      <th>Total Value</th>\n",
              "      <th>User ID</th>\n",
              "    </tr>\n",
              "  </thead>\n",
              "  <tbody>\n",
              "    <tr>\n",
              "      <th>0</th>\n",
              "      <td>0.0</td>\n",
              "      <td>0.0</td>\n",
              "      <td>NaN</td>\n",
              "      <td>0.0</td>\n",
              "      <td>0.0</td>\n",
              "      <td>0.0</td>\n",
              "      <td>0.0</td>\n",
              "      <td>Nashik</td>\n",
              "      <td>NaN</td>\n",
              "      <td>NaN</td>\n",
              "      <td>Retail</td>\n",
              "      <td>E14006</td>\n",
              "      <td>Maharashtra</td>\n",
              "      <td>NaN</td>\n",
              "      <td>NaN</td>\n",
              "      <td>00:00:00</td>\n",
              "      <td>0.0</td>\n",
              "      <td>0.0</td>\n",
              "      <td>0.0</td>\n",
              "      <td>0.0</td>\n",
              "      <td>NaN</td>\n",
              "      <td>2012-04-02</td>\n",
              "      <td>7000000011</td>\n",
              "      <td>17:04:33</td>\n",
              "      <td>101</td>\n",
              "      <td>2012-04-02</td>\n",
              "      <td>15:15:31</td>\n",
              "      <td>80440</td>\n",
              "      <td>420.09</td>\n",
              "      <td>HYUNDAI</td>\n",
              "      <td>0.0</td>\n",
              "      <td>SANTRO</td>\n",
              "      <td>7.000000e+09</td>\n",
              "      <td>0.00</td>\n",
              "      <td>Running Repairs</td>\n",
              "      <td>0.0</td>\n",
              "      <td>0.00</td>\n",
              "      <td>422000</td>\n",
              "      <td>BC03</td>\n",
              "      <td>NASHIK</td>\n",
              "      <td>NaN</td>\n",
              "      <td>NO</td>\n",
              "      <td>0.0</td>\n",
              "      <td>MH15BN2714</td>\n",
              "      <td>0.0</td>\n",
              "      <td>0.0</td>\n",
              "      <td>0.0</td>\n",
              "      <td>0.0</td>\n",
              "      <td>NaN</td>\n",
              "      <td>0.0</td>\n",
              "      <td>NaN</td>\n",
              "      <td>420.09</td>\n",
              "      <td>0.0</td>\n",
              "      <td>0.0</td>\n",
              "      <td>0.0</td>\n",
              "      <td>0.0</td>\n",
              "      <td>420.09</td>\n",
              "      <td>GOLIVE</td>\n",
              "    </tr>\n",
              "    <tr>\n",
              "      <th>1</th>\n",
              "      <td>0.0</td>\n",
              "      <td>0.0</td>\n",
              "      <td>NaN</td>\n",
              "      <td>0.0</td>\n",
              "      <td>0.0</td>\n",
              "      <td>0.0</td>\n",
              "      <td>0.0</td>\n",
              "      <td>THANE</td>\n",
              "      <td>NaN</td>\n",
              "      <td>NaN</td>\n",
              "      <td>Retail</td>\n",
              "      <td>0000000017</td>\n",
              "      <td>Maharashtra</td>\n",
              "      <td>NaN</td>\n",
              "      <td>NaN</td>\n",
              "      <td>00:00:00</td>\n",
              "      <td>0.0</td>\n",
              "      <td>0.0</td>\n",
              "      <td>0.0</td>\n",
              "      <td>0.0</td>\n",
              "      <td>NaN</td>\n",
              "      <td>2012-04-02</td>\n",
              "      <td>7000000014</td>\n",
              "      <td>17:26:52</td>\n",
              "      <td>105</td>\n",
              "      <td>2012-04-02</td>\n",
              "      <td>16:13:11</td>\n",
              "      <td>98474</td>\n",
              "      <td>179.75</td>\n",
              "      <td>MAHINDRA &amp;  MAHINDRA</td>\n",
              "      <td>0.0</td>\n",
              "      <td>LOGAN P</td>\n",
              "      <td>7.000000e+09</td>\n",
              "      <td>0.00</td>\n",
              "      <td>Running Repairs</td>\n",
              "      <td>0.0</td>\n",
              "      <td>0.00</td>\n",
              "      <td>401107</td>\n",
              "      <td>BC01</td>\n",
              "      <td>THANE</td>\n",
              "      <td>NaN</td>\n",
              "      <td>NO</td>\n",
              "      <td>0.0</td>\n",
              "      <td>MH04DN6210</td>\n",
              "      <td>0.0</td>\n",
              "      <td>0.0</td>\n",
              "      <td>0.0</td>\n",
              "      <td>0.0</td>\n",
              "      <td>NaN</td>\n",
              "      <td>0.0</td>\n",
              "      <td>NaN</td>\n",
              "      <td>179.75</td>\n",
              "      <td>0.0</td>\n",
              "      <td>0.0</td>\n",
              "      <td>0.0</td>\n",
              "      <td>0.0</td>\n",
              "      <td>179.75</td>\n",
              "      <td>GOLIVE</td>\n",
              "    </tr>\n",
              "    <tr>\n",
              "      <th>2</th>\n",
              "      <td>0.0</td>\n",
              "      <td>0.0</td>\n",
              "      <td>NaN</td>\n",
              "      <td>0.0</td>\n",
              "      <td>0.0</td>\n",
              "      <td>0.0</td>\n",
              "      <td>0.0</td>\n",
              "      <td>Hyderabad</td>\n",
              "      <td>NaN</td>\n",
              "      <td>NaN</td>\n",
              "      <td>Retail</td>\n",
              "      <td>0000000007</td>\n",
              "      <td>Andhra Pradesh</td>\n",
              "      <td>NaN</td>\n",
              "      <td>NaN</td>\n",
              "      <td>00:00:00</td>\n",
              "      <td>0.0</td>\n",
              "      <td>0.0</td>\n",
              "      <td>0.0</td>\n",
              "      <td>0.0</td>\n",
              "      <td>NaN</td>\n",
              "      <td>2012-04-02</td>\n",
              "      <td>7000000016</td>\n",
              "      <td>17:44:03</td>\n",
              "      <td>6</td>\n",
              "      <td>2012-04-02</td>\n",
              "      <td>12:47:59</td>\n",
              "      <td>137832</td>\n",
              "      <td>1340.37</td>\n",
              "      <td>MAHINDRA &amp;  MAHINDRA</td>\n",
              "      <td>0.0</td>\n",
              "      <td>SCORPIO CRDE</td>\n",
              "      <td>7.000000e+09</td>\n",
              "      <td>0.00</td>\n",
              "      <td>Paid Service</td>\n",
              "      <td>0.0</td>\n",
              "      <td>0.00</td>\n",
              "      <td>500038</td>\n",
              "      <td>BC04</td>\n",
              "      <td>BALANAGAR</td>\n",
              "      <td>NaN</td>\n",
              "      <td>NO</td>\n",
              "      <td>0.0</td>\n",
              "      <td>AP11AB0153</td>\n",
              "      <td>0.0</td>\n",
              "      <td>0.0</td>\n",
              "      <td>0.0</td>\n",
              "      <td>0.0</td>\n",
              "      <td>NaN</td>\n",
              "      <td>0.0</td>\n",
              "      <td>NaN</td>\n",
              "      <td>1340.37</td>\n",
              "      <td>0.0</td>\n",
              "      <td>0.0</td>\n",
              "      <td>0.0</td>\n",
              "      <td>0.0</td>\n",
              "      <td>1340.37</td>\n",
              "      <td>GOLIVE</td>\n",
              "    </tr>\n",
              "    <tr>\n",
              "      <th>3</th>\n",
              "      <td>0.0</td>\n",
              "      <td>0.0</td>\n",
              "      <td>NaN</td>\n",
              "      <td>0.0</td>\n",
              "      <td>0.0</td>\n",
              "      <td>0.0</td>\n",
              "      <td>0.0</td>\n",
              "      <td>Hyderabad</td>\n",
              "      <td>NaN</td>\n",
              "      <td>NaN</td>\n",
              "      <td>Retail</td>\n",
              "      <td>E22364</td>\n",
              "      <td>Andhra Pradesh</td>\n",
              "      <td>NaN</td>\n",
              "      <td>NaN</td>\n",
              "      <td>00:00:00</td>\n",
              "      <td>0.0</td>\n",
              "      <td>0.0</td>\n",
              "      <td>0.0</td>\n",
              "      <td>0.0</td>\n",
              "      <td>NaN</td>\n",
              "      <td>2012-04-02</td>\n",
              "      <td>7000000026</td>\n",
              "      <td>20:04:51</td>\n",
              "      <td>24</td>\n",
              "      <td>2012-04-01</td>\n",
              "      <td>16:19:32</td>\n",
              "      <td>75627</td>\n",
              "      <td>1709.06</td>\n",
              "      <td>MAHINDRA &amp;  MAHINDRA</td>\n",
              "      <td>0.0</td>\n",
              "      <td>SCORPIO CRDE</td>\n",
              "      <td>7.000000e+09</td>\n",
              "      <td>480.02</td>\n",
              "      <td>Paid Service</td>\n",
              "      <td>0.0</td>\n",
              "      <td>3317.37</td>\n",
              "      <td>500023</td>\n",
              "      <td>BC04</td>\n",
              "      <td>BALANAGAR</td>\n",
              "      <td>NaN</td>\n",
              "      <td>NO</td>\n",
              "      <td>0.0</td>\n",
              "      <td>AP9BJ4847</td>\n",
              "      <td>0.0</td>\n",
              "      <td>0.0</td>\n",
              "      <td>0.0</td>\n",
              "      <td>0.0</td>\n",
              "      <td>NaN</td>\n",
              "      <td>0.0</td>\n",
              "      <td>4302339</td>\n",
              "      <td>5506.45</td>\n",
              "      <td>0.0</td>\n",
              "      <td>0.0</td>\n",
              "      <td>0.0</td>\n",
              "      <td>0.0</td>\n",
              "      <td>5506.45</td>\n",
              "      <td>GOLIVE</td>\n",
              "    </tr>\n",
              "    <tr>\n",
              "      <th>4</th>\n",
              "      <td>0.0</td>\n",
              "      <td>0.0</td>\n",
              "      <td>NaN</td>\n",
              "      <td>0.0</td>\n",
              "      <td>0.0</td>\n",
              "      <td>0.0</td>\n",
              "      <td>0.0</td>\n",
              "      <td>Hyderabad</td>\n",
              "      <td>NaN</td>\n",
              "      <td>NaN</td>\n",
              "      <td>Retail</td>\n",
              "      <td>E25218</td>\n",
              "      <td>Andhra Pradesh</td>\n",
              "      <td>NaN</td>\n",
              "      <td>NaN</td>\n",
              "      <td>00:00:00</td>\n",
              "      <td>0.0</td>\n",
              "      <td>0.0</td>\n",
              "      <td>0.0</td>\n",
              "      <td>0.0</td>\n",
              "      <td>NaN</td>\n",
              "      <td>2012-04-02</td>\n",
              "      <td>7000000027</td>\n",
              "      <td>20:24:21</td>\n",
              "      <td>23</td>\n",
              "      <td>2012-04-01</td>\n",
              "      <td>16:19:32</td>\n",
              "      <td>1</td>\n",
              "      <td>2074.88</td>\n",
              "      <td>TATA MOTORS</td>\n",
              "      <td>0.0</td>\n",
              "      <td>INDICA</td>\n",
              "      <td>7.000000e+09</td>\n",
              "      <td>0.00</td>\n",
              "      <td>Accidental</td>\n",
              "      <td>0.0</td>\n",
              "      <td>3105.67</td>\n",
              "      <td>500045</td>\n",
              "      <td>BC04</td>\n",
              "      <td>BALANAGAR</td>\n",
              "      <td>NaN</td>\n",
              "      <td>NO</td>\n",
              "      <td>0.0</td>\n",
              "      <td>AP29BB4586</td>\n",
              "      <td>0.0</td>\n",
              "      <td>0.0</td>\n",
              "      <td>0.0</td>\n",
              "      <td>0.0</td>\n",
              "      <td>NaN</td>\n",
              "      <td>0.0</td>\n",
              "      <td>4302337</td>\n",
              "      <td>5180.55</td>\n",
              "      <td>0.0</td>\n",
              "      <td>0.0</td>\n",
              "      <td>0.0</td>\n",
              "      <td>0.0</td>\n",
              "      <td>5180.55</td>\n",
              "      <td>GOLIVE</td>\n",
              "    </tr>\n",
              "  </tbody>\n",
              "</table>\n",
              "</div>"
            ],
            "text/plain": [
              "   Amt Rcvd From Custom  Amt Rcvd From Ins Co  ... Total Value  User ID\n",
              "0                   0.0                   0.0  ...      420.09   GOLIVE\n",
              "1                   0.0                   0.0  ...      179.75   GOLIVE\n",
              "2                   0.0                   0.0  ...     1340.37   GOLIVE\n",
              "3                   0.0                   0.0  ...     5506.45   GOLIVE\n",
              "4                   0.0                   0.0  ...     5180.55   GOLIVE\n",
              "\n",
              "[5 rows x 58 columns]"
            ]
          },
          "metadata": {
            "tags": []
          },
          "execution_count": 34
        }
      ]
    },
    {
      "cell_type": "code",
      "metadata": {
        "id": "vEJjDsZOsWvd",
        "colab_type": "code",
        "outputId": "5e794761-c151-4f7f-994f-8d05b9b76df9",
        "colab": {
          "base_uri": "https://localhost:8080/",
          "height": 34
        }
      },
      "source": [
        "invoice_full_data.shape"
      ],
      "execution_count": 35,
      "outputs": [
        {
          "output_type": "execute_result",
          "data": {
            "text/plain": [
              "(984741, 58)"
            ]
          },
          "metadata": {
            "tags": []
          },
          "execution_count": 35
        }
      ]
    },
    {
      "cell_type": "code",
      "metadata": {
        "id": "pleDGsx33iCc",
        "colab_type": "code",
        "outputId": "6b3b9303-d1ad-4632-94fe-84d265e322db",
        "colab": {
          "base_uri": "https://localhost:8080/",
          "height": 459
        }
      },
      "source": [
        "invoice_full_data[invoice_full_data['Customer No.']=='E14006']"
      ],
      "execution_count": 36,
      "outputs": [
        {
          "output_type": "execute_result",
          "data": {
            "text/html": [
              "<div>\n",
              "<style scoped>\n",
              "    .dataframe tbody tr th:only-of-type {\n",
              "        vertical-align: middle;\n",
              "    }\n",
              "\n",
              "    .dataframe tbody tr th {\n",
              "        vertical-align: top;\n",
              "    }\n",
              "\n",
              "    .dataframe thead th {\n",
              "        text-align: right;\n",
              "    }\n",
              "</style>\n",
              "<table border=\"1\" class=\"dataframe\">\n",
              "  <thead>\n",
              "    <tr style=\"text-align: right;\">\n",
              "      <th></th>\n",
              "      <th>Amt Rcvd From Custom</th>\n",
              "      <th>Amt Rcvd From Ins Co</th>\n",
              "      <th>Area / Locality</th>\n",
              "      <th>CGST(14%)</th>\n",
              "      <th>CGST(2.5%)</th>\n",
              "      <th>CGST(6%)</th>\n",
              "      <th>CGST(9%)</th>\n",
              "      <th>CITY</th>\n",
              "      <th>Cash /Cashless Type</th>\n",
              "      <th>Claim No.</th>\n",
              "      <th>Cust Type</th>\n",
              "      <th>Customer No.</th>\n",
              "      <th>District</th>\n",
              "      <th>Expiry Date</th>\n",
              "      <th>Gate Pass Date</th>\n",
              "      <th>Gate Pass Time</th>\n",
              "      <th>IGST(12%)</th>\n",
              "      <th>IGST(18%)</th>\n",
              "      <th>IGST(28%)</th>\n",
              "      <th>IGST(5%)</th>\n",
              "      <th>Insurance Company</th>\n",
              "      <th>Invoice Date</th>\n",
              "      <th>Invoice No</th>\n",
              "      <th>Invoice Time</th>\n",
              "      <th>Job Card No</th>\n",
              "      <th>JobCard Date</th>\n",
              "      <th>JobCard Time</th>\n",
              "      <th>KMs Reading</th>\n",
              "      <th>Labour Total</th>\n",
              "      <th>Make</th>\n",
              "      <th>Misc Total</th>\n",
              "      <th>Model</th>\n",
              "      <th>ODN No.</th>\n",
              "      <th>OSL Total</th>\n",
              "      <th>Order Type</th>\n",
              "      <th>Outstanding Amt</th>\n",
              "      <th>Parts Total</th>\n",
              "      <th>Pin code</th>\n",
              "      <th>Plant</th>\n",
              "      <th>Plant Name1</th>\n",
              "      <th>Policy no.</th>\n",
              "      <th>Print Status</th>\n",
              "      <th>Recovrbl Exp</th>\n",
              "      <th>Regn No</th>\n",
              "      <th>SGST/UGST(14%)</th>\n",
              "      <th>SGST/UGST(2.5%)</th>\n",
              "      <th>SGST/UGST(6%)</th>\n",
              "      <th>SGST/UGST(9%)</th>\n",
              "      <th>Service Advisor Name</th>\n",
              "      <th>TDS amount</th>\n",
              "      <th>Technician Name</th>\n",
              "      <th>Total Amt Wtd Tax.</th>\n",
              "      <th>Total CGST</th>\n",
              "      <th>Total GST</th>\n",
              "      <th>Total IGST</th>\n",
              "      <th>Total SGST/UGST</th>\n",
              "      <th>Total Value</th>\n",
              "      <th>User ID</th>\n",
              "    </tr>\n",
              "  </thead>\n",
              "  <tbody>\n",
              "    <tr>\n",
              "      <th>0</th>\n",
              "      <td>0.0</td>\n",
              "      <td>0.0</td>\n",
              "      <td>NaN</td>\n",
              "      <td>0.0</td>\n",
              "      <td>0.0</td>\n",
              "      <td>0.0</td>\n",
              "      <td>0.0</td>\n",
              "      <td>Nashik</td>\n",
              "      <td>NaN</td>\n",
              "      <td>NaN</td>\n",
              "      <td>Retail</td>\n",
              "      <td>E14006</td>\n",
              "      <td>Maharashtra</td>\n",
              "      <td>NaN</td>\n",
              "      <td>NaN</td>\n",
              "      <td>00:00:00</td>\n",
              "      <td>0.0</td>\n",
              "      <td>0.0</td>\n",
              "      <td>0.0</td>\n",
              "      <td>0.0</td>\n",
              "      <td>NaN</td>\n",
              "      <td>2012-04-02</td>\n",
              "      <td>7000000011</td>\n",
              "      <td>17:04:33</td>\n",
              "      <td>101</td>\n",
              "      <td>2012-04-02</td>\n",
              "      <td>15:15:31</td>\n",
              "      <td>80440</td>\n",
              "      <td>420.09</td>\n",
              "      <td>HYUNDAI</td>\n",
              "      <td>0.0</td>\n",
              "      <td>SANTRO</td>\n",
              "      <td>7.000000e+09</td>\n",
              "      <td>0.0</td>\n",
              "      <td>Running Repairs</td>\n",
              "      <td>0.0</td>\n",
              "      <td>0.00</td>\n",
              "      <td>422000</td>\n",
              "      <td>BC03</td>\n",
              "      <td>NASHIK</td>\n",
              "      <td>NaN</td>\n",
              "      <td>NO</td>\n",
              "      <td>0.0</td>\n",
              "      <td>MH15BN2714</td>\n",
              "      <td>0.0</td>\n",
              "      <td>0.0</td>\n",
              "      <td>0.0</td>\n",
              "      <td>0.0</td>\n",
              "      <td>NaN</td>\n",
              "      <td>0.0</td>\n",
              "      <td>NaN</td>\n",
              "      <td>420.09</td>\n",
              "      <td>0.0</td>\n",
              "      <td>0.0</td>\n",
              "      <td>0.0</td>\n",
              "      <td>0.0</td>\n",
              "      <td>420.09</td>\n",
              "      <td>GOLIVE</td>\n",
              "    </tr>\n",
              "    <tr>\n",
              "      <th>16267</th>\n",
              "      <td>0.0</td>\n",
              "      <td>0.0</td>\n",
              "      <td>NaN</td>\n",
              "      <td>0.0</td>\n",
              "      <td>0.0</td>\n",
              "      <td>0.0</td>\n",
              "      <td>0.0</td>\n",
              "      <td>Nashik</td>\n",
              "      <td>NaN</td>\n",
              "      <td>NaN</td>\n",
              "      <td>Retail</td>\n",
              "      <td>E14006</td>\n",
              "      <td>Maharashtra</td>\n",
              "      <td>NaN</td>\n",
              "      <td>NaN</td>\n",
              "      <td>00:00:00</td>\n",
              "      <td>0.0</td>\n",
              "      <td>0.0</td>\n",
              "      <td>0.0</td>\n",
              "      <td>0.0</td>\n",
              "      <td>NaN</td>\n",
              "      <td>2012-12-05</td>\n",
              "      <td>7000016665</td>\n",
              "      <td>17:53:56</td>\n",
              "      <td>16545</td>\n",
              "      <td>2012-12-05</td>\n",
              "      <td>10:45:16</td>\n",
              "      <td>89165</td>\n",
              "      <td>779.09</td>\n",
              "      <td>HYUNDAI</td>\n",
              "      <td>0.0</td>\n",
              "      <td>SANTRO</td>\n",
              "      <td>7.000017e+09</td>\n",
              "      <td>0.0</td>\n",
              "      <td>Paid Service</td>\n",
              "      <td>0.0</td>\n",
              "      <td>858.34</td>\n",
              "      <td>422000</td>\n",
              "      <td>BC03</td>\n",
              "      <td>NASHIK</td>\n",
              "      <td>NaN</td>\n",
              "      <td>NO</td>\n",
              "      <td>0.0</td>\n",
              "      <td>MH15BN2714</td>\n",
              "      <td>0.0</td>\n",
              "      <td>0.0</td>\n",
              "      <td>0.0</td>\n",
              "      <td>0.0</td>\n",
              "      <td>NaN</td>\n",
              "      <td>0.0</td>\n",
              "      <td>NaN</td>\n",
              "      <td>1637.43</td>\n",
              "      <td>0.0</td>\n",
              "      <td>0.0</td>\n",
              "      <td>0.0</td>\n",
              "      <td>0.0</td>\n",
              "      <td>1637.43</td>\n",
              "      <td>BC03SA3</td>\n",
              "    </tr>\n",
              "    <tr>\n",
              "      <th>109394</th>\n",
              "      <td>NaN</td>\n",
              "      <td>NaN</td>\n",
              "      <td>NaN</td>\n",
              "      <td>NaN</td>\n",
              "      <td>NaN</td>\n",
              "      <td>NaN</td>\n",
              "      <td>NaN</td>\n",
              "      <td>Nashik</td>\n",
              "      <td>NaN</td>\n",
              "      <td>NaN</td>\n",
              "      <td>Retail</td>\n",
              "      <td>E14006</td>\n",
              "      <td>Maharashtra</td>\n",
              "      <td>NaN</td>\n",
              "      <td>NaN</td>\n",
              "      <td>00:00:00</td>\n",
              "      <td>NaN</td>\n",
              "      <td>NaN</td>\n",
              "      <td>NaN</td>\n",
              "      <td>NaN</td>\n",
              "      <td>NaN</td>\n",
              "      <td>2017-04-14</td>\n",
              "      <td>7164601412</td>\n",
              "      <td>15:29:52</td>\n",
              "      <td>674656</td>\n",
              "      <td>2017-04-13</td>\n",
              "      <td>17:09:17</td>\n",
              "      <td>35165</td>\n",
              "      <td>579.13</td>\n",
              "      <td>HONDA</td>\n",
              "      <td>0.0</td>\n",
              "      <td>CITY</td>\n",
              "      <td>NaN</td>\n",
              "      <td>0.0</td>\n",
              "      <td>Paid Service</td>\n",
              "      <td>NaN</td>\n",
              "      <td>40.54</td>\n",
              "      <td>422000</td>\n",
              "      <td>X073</td>\n",
              "      <td>X073- KRITI AUTOMOBILE REPAIR</td>\n",
              "      <td>NaN</td>\n",
              "      <td>NO</td>\n",
              "      <td>0.0</td>\n",
              "      <td>MH15EB5067</td>\n",
              "      <td>NaN</td>\n",
              "      <td>NaN</td>\n",
              "      <td>NaN</td>\n",
              "      <td>NaN</td>\n",
              "      <td>NaN</td>\n",
              "      <td>NaN</td>\n",
              "      <td>NaN</td>\n",
              "      <td>619.67</td>\n",
              "      <td>NaN</td>\n",
              "      <td>NaN</td>\n",
              "      <td>NaN</td>\n",
              "      <td>NaN</td>\n",
              "      <td>NaN</td>\n",
              "      <td>X073SA1</td>\n",
              "    </tr>\n",
              "    <tr>\n",
              "      <th>422583</th>\n",
              "      <td>NaN</td>\n",
              "      <td>NaN</td>\n",
              "      <td>NaN</td>\n",
              "      <td>NaN</td>\n",
              "      <td>NaN</td>\n",
              "      <td>NaN</td>\n",
              "      <td>NaN</td>\n",
              "      <td>Nashik</td>\n",
              "      <td>NaN</td>\n",
              "      <td>NaN</td>\n",
              "      <td>Retail</td>\n",
              "      <td>E14006</td>\n",
              "      <td>Maharashtra</td>\n",
              "      <td>NaN</td>\n",
              "      <td>NaN</td>\n",
              "      <td>00:00:00</td>\n",
              "      <td>NaN</td>\n",
              "      <td>NaN</td>\n",
              "      <td>NaN</td>\n",
              "      <td>NaN</td>\n",
              "      <td>NaN</td>\n",
              "      <td>2017-07-26</td>\n",
              "      <td>7164602068</td>\n",
              "      <td>12:07:36</td>\n",
              "      <td>809011</td>\n",
              "      <td>2017-07-26</td>\n",
              "      <td>11:01:16</td>\n",
              "      <td>36165</td>\n",
              "      <td>3.46</td>\n",
              "      <td>HONDA</td>\n",
              "      <td>0.0</td>\n",
              "      <td>CITY</td>\n",
              "      <td>NaN</td>\n",
              "      <td>0.0</td>\n",
              "      <td>Running Repairs</td>\n",
              "      <td>NaN</td>\n",
              "      <td>0.00</td>\n",
              "      <td>422000</td>\n",
              "      <td>X073</td>\n",
              "      <td>X073- KRITI AUTOMOBILE REPAIR</td>\n",
              "      <td>NaN</td>\n",
              "      <td>NO</td>\n",
              "      <td>0.0</td>\n",
              "      <td>MH15EB5067</td>\n",
              "      <td>NaN</td>\n",
              "      <td>NaN</td>\n",
              "      <td>NaN</td>\n",
              "      <td>NaN</td>\n",
              "      <td>NaN</td>\n",
              "      <td>NaN</td>\n",
              "      <td>NaN</td>\n",
              "      <td>3.46</td>\n",
              "      <td>NaN</td>\n",
              "      <td>NaN</td>\n",
              "      <td>NaN</td>\n",
              "      <td>NaN</td>\n",
              "      <td>NaN</td>\n",
              "      <td>X073SA1</td>\n",
              "    </tr>\n",
              "    <tr>\n",
              "      <th>36482</th>\n",
              "      <td>0.0</td>\n",
              "      <td>0.0</td>\n",
              "      <td>NaN</td>\n",
              "      <td>0.0</td>\n",
              "      <td>0.0</td>\n",
              "      <td>0.0</td>\n",
              "      <td>0.0</td>\n",
              "      <td>Nashik</td>\n",
              "      <td>NaN</td>\n",
              "      <td>NaN</td>\n",
              "      <td>Retail</td>\n",
              "      <td>E14006</td>\n",
              "      <td>Maharashtra</td>\n",
              "      <td>NaN</td>\n",
              "      <td>NaN</td>\n",
              "      <td>00:00:00</td>\n",
              "      <td>0.0</td>\n",
              "      <td>0.0</td>\n",
              "      <td>0.0</td>\n",
              "      <td>0.0</td>\n",
              "      <td>NaN</td>\n",
              "      <td>2014-05-13</td>\n",
              "      <td>7000113010</td>\n",
              "      <td>10:18:16</td>\n",
              "      <td>113877</td>\n",
              "      <td>2014-05-12</td>\n",
              "      <td>10:09:53</td>\n",
              "      <td>104111</td>\n",
              "      <td>1539.84</td>\n",
              "      <td>HYUNDAI</td>\n",
              "      <td>0.0</td>\n",
              "      <td>SANTRO</td>\n",
              "      <td>7.000113e+09</td>\n",
              "      <td>0.0</td>\n",
              "      <td>Paid Service</td>\n",
              "      <td>0.0</td>\n",
              "      <td>1685.14</td>\n",
              "      <td>422000</td>\n",
              "      <td>BC03</td>\n",
              "      <td>NASHIK</td>\n",
              "      <td>NaN</td>\n",
              "      <td>NO</td>\n",
              "      <td>0.0</td>\n",
              "      <td>MH15BN2714</td>\n",
              "      <td>0.0</td>\n",
              "      <td>0.0</td>\n",
              "      <td>0.0</td>\n",
              "      <td>0.0</td>\n",
              "      <td>NaN</td>\n",
              "      <td>0.0</td>\n",
              "      <td>VILAS</td>\n",
              "      <td>3224.98</td>\n",
              "      <td>0.0</td>\n",
              "      <td>0.0</td>\n",
              "      <td>0.0</td>\n",
              "      <td>0.0</td>\n",
              "      <td>3224.98</td>\n",
              "      <td>BC03SA2</td>\n",
              "    </tr>\n",
              "    <tr>\n",
              "      <th>24089</th>\n",
              "      <td>0.0</td>\n",
              "      <td>0.0</td>\n",
              "      <td>NaN</td>\n",
              "      <td>0.0</td>\n",
              "      <td>0.0</td>\n",
              "      <td>0.0</td>\n",
              "      <td>0.0</td>\n",
              "      <td>Nashik</td>\n",
              "      <td>NaN</td>\n",
              "      <td>NaN</td>\n",
              "      <td>Retail</td>\n",
              "      <td>E14006</td>\n",
              "      <td>Maharashtra</td>\n",
              "      <td>NaN</td>\n",
              "      <td>NaN</td>\n",
              "      <td>00:00:00</td>\n",
              "      <td>0.0</td>\n",
              "      <td>0.0</td>\n",
              "      <td>0.0</td>\n",
              "      <td>0.0</td>\n",
              "      <td>NaN</td>\n",
              "      <td>2013-07-31</td>\n",
              "      <td>7000043586</td>\n",
              "      <td>17:27:04</td>\n",
              "      <td>43294</td>\n",
              "      <td>2013-07-30</td>\n",
              "      <td>10:38:55</td>\n",
              "      <td>99320</td>\n",
              "      <td>463.05</td>\n",
              "      <td>HYUNDAI</td>\n",
              "      <td>0.0</td>\n",
              "      <td>SANTRO</td>\n",
              "      <td>7.000044e+09</td>\n",
              "      <td>0.0</td>\n",
              "      <td>Paid Service</td>\n",
              "      <td>0.0</td>\n",
              "      <td>1340.22</td>\n",
              "      <td>422000</td>\n",
              "      <td>BC03</td>\n",
              "      <td>NASHIK</td>\n",
              "      <td>NaN</td>\n",
              "      <td>NO</td>\n",
              "      <td>0.0</td>\n",
              "      <td>MH15BN2714</td>\n",
              "      <td>0.0</td>\n",
              "      <td>0.0</td>\n",
              "      <td>0.0</td>\n",
              "      <td>0.0</td>\n",
              "      <td>NaN</td>\n",
              "      <td>0.0</td>\n",
              "      <td>CX</td>\n",
              "      <td>1803.27</td>\n",
              "      <td>0.0</td>\n",
              "      <td>0.0</td>\n",
              "      <td>0.0</td>\n",
              "      <td>0.0</td>\n",
              "      <td>1803.27</td>\n",
              "      <td>BC03SA3</td>\n",
              "    </tr>\n",
              "  </tbody>\n",
              "</table>\n",
              "</div>"
            ],
            "text/plain": [
              "        Amt Rcvd From Custom  Amt Rcvd From Ins Co  ... Total Value  User ID\n",
              "0                        0.0                   0.0  ...      420.09   GOLIVE\n",
              "16267                    0.0                   0.0  ...     1637.43  BC03SA3\n",
              "109394                   NaN                   NaN  ...         NaN  X073SA1\n",
              "422583                   NaN                   NaN  ...         NaN  X073SA1\n",
              "36482                    0.0                   0.0  ...     3224.98  BC03SA2\n",
              "24089                    0.0                   0.0  ...     1803.27  BC03SA3\n",
              "\n",
              "[6 rows x 58 columns]"
            ]
          },
          "metadata": {
            "tags": []
          },
          "execution_count": 36
        }
      ]
    },
    {
      "cell_type": "code",
      "metadata": {
        "id": "fXG5tq3bsW-x",
        "colab_type": "code",
        "colab": {}
      },
      "source": [
        "columns_to_be_removed = invoice_full_data.isnull().sum()[invoice_full_data.isnull().sum().sort_values() > 29178].index"
      ],
      "execution_count": 0,
      "outputs": []
    },
    {
      "cell_type": "code",
      "metadata": {
        "id": "NqOKaco9D_ly",
        "colab_type": "code",
        "colab": {}
      },
      "source": [
        "invoice = invoice_full_data.drop(columns=columns_to_be_removed)"
      ],
      "execution_count": 0,
      "outputs": []
    },
    {
      "cell_type": "code",
      "metadata": {
        "id": "CE-wcFK9EEhJ",
        "colab_type": "code",
        "outputId": "ed4ddf8c-f5ac-43f3-c10e-e547e34791a9",
        "colab": {
          "base_uri": "https://localhost:8080/",
          "height": 34
        }
      },
      "source": [
        "invoice.shape"
      ],
      "execution_count": 39,
      "outputs": [
        {
          "output_type": "execute_result",
          "data": {
            "text/plain": [
              "(984741, 28)"
            ]
          },
          "metadata": {
            "tags": []
          },
          "execution_count": 39
        }
      ]
    },
    {
      "cell_type": "code",
      "metadata": {
        "id": "M32ZbEo5EK8s",
        "colab_type": "code",
        "outputId": "aa791958-08a0-46ab-ea53-6e3bb55c59d0",
        "colab": {
          "base_uri": "https://localhost:8080/",
          "height": 411
        }
      },
      "source": [
        "invoice.head(5)"
      ],
      "execution_count": 40,
      "outputs": [
        {
          "output_type": "execute_result",
          "data": {
            "text/html": [
              "<div>\n",
              "<style scoped>\n",
              "    .dataframe tbody tr th:only-of-type {\n",
              "        vertical-align: middle;\n",
              "    }\n",
              "\n",
              "    .dataframe tbody tr th {\n",
              "        vertical-align: top;\n",
              "    }\n",
              "\n",
              "    .dataframe thead th {\n",
              "        text-align: right;\n",
              "    }\n",
              "</style>\n",
              "<table border=\"1\" class=\"dataframe\">\n",
              "  <thead>\n",
              "    <tr style=\"text-align: right;\">\n",
              "      <th></th>\n",
              "      <th>Area / Locality</th>\n",
              "      <th>CITY</th>\n",
              "      <th>Cust Type</th>\n",
              "      <th>Customer No.</th>\n",
              "      <th>District</th>\n",
              "      <th>Gate Pass Time</th>\n",
              "      <th>Invoice Date</th>\n",
              "      <th>Invoice No</th>\n",
              "      <th>Invoice Time</th>\n",
              "      <th>Job Card No</th>\n",
              "      <th>JobCard Date</th>\n",
              "      <th>JobCard Time</th>\n",
              "      <th>KMs Reading</th>\n",
              "      <th>Labour Total</th>\n",
              "      <th>Make</th>\n",
              "      <th>Misc Total</th>\n",
              "      <th>Model</th>\n",
              "      <th>OSL Total</th>\n",
              "      <th>Order Type</th>\n",
              "      <th>Parts Total</th>\n",
              "      <th>Pin code</th>\n",
              "      <th>Plant</th>\n",
              "      <th>Plant Name1</th>\n",
              "      <th>Print Status</th>\n",
              "      <th>Recovrbl Exp</th>\n",
              "      <th>Regn No</th>\n",
              "      <th>Total Amt Wtd Tax.</th>\n",
              "      <th>User ID</th>\n",
              "    </tr>\n",
              "  </thead>\n",
              "  <tbody>\n",
              "    <tr>\n",
              "      <th>0</th>\n",
              "      <td>NaN</td>\n",
              "      <td>Nashik</td>\n",
              "      <td>Retail</td>\n",
              "      <td>E14006</td>\n",
              "      <td>Maharashtra</td>\n",
              "      <td>00:00:00</td>\n",
              "      <td>2012-04-02</td>\n",
              "      <td>7000000011</td>\n",
              "      <td>17:04:33</td>\n",
              "      <td>101</td>\n",
              "      <td>2012-04-02</td>\n",
              "      <td>15:15:31</td>\n",
              "      <td>80440</td>\n",
              "      <td>420.09</td>\n",
              "      <td>HYUNDAI</td>\n",
              "      <td>0.0</td>\n",
              "      <td>SANTRO</td>\n",
              "      <td>0.00</td>\n",
              "      <td>Running Repairs</td>\n",
              "      <td>0.00</td>\n",
              "      <td>422000</td>\n",
              "      <td>BC03</td>\n",
              "      <td>NASHIK</td>\n",
              "      <td>NO</td>\n",
              "      <td>0.0</td>\n",
              "      <td>MH15BN2714</td>\n",
              "      <td>420.09</td>\n",
              "      <td>GOLIVE</td>\n",
              "    </tr>\n",
              "    <tr>\n",
              "      <th>1</th>\n",
              "      <td>NaN</td>\n",
              "      <td>THANE</td>\n",
              "      <td>Retail</td>\n",
              "      <td>0000000017</td>\n",
              "      <td>Maharashtra</td>\n",
              "      <td>00:00:00</td>\n",
              "      <td>2012-04-02</td>\n",
              "      <td>7000000014</td>\n",
              "      <td>17:26:52</td>\n",
              "      <td>105</td>\n",
              "      <td>2012-04-02</td>\n",
              "      <td>16:13:11</td>\n",
              "      <td>98474</td>\n",
              "      <td>179.75</td>\n",
              "      <td>MAHINDRA &amp;  MAHINDRA</td>\n",
              "      <td>0.0</td>\n",
              "      <td>LOGAN P</td>\n",
              "      <td>0.00</td>\n",
              "      <td>Running Repairs</td>\n",
              "      <td>0.00</td>\n",
              "      <td>401107</td>\n",
              "      <td>BC01</td>\n",
              "      <td>THANE</td>\n",
              "      <td>NO</td>\n",
              "      <td>0.0</td>\n",
              "      <td>MH04DN6210</td>\n",
              "      <td>179.75</td>\n",
              "      <td>GOLIVE</td>\n",
              "    </tr>\n",
              "    <tr>\n",
              "      <th>2</th>\n",
              "      <td>NaN</td>\n",
              "      <td>Hyderabad</td>\n",
              "      <td>Retail</td>\n",
              "      <td>0000000007</td>\n",
              "      <td>Andhra Pradesh</td>\n",
              "      <td>00:00:00</td>\n",
              "      <td>2012-04-02</td>\n",
              "      <td>7000000016</td>\n",
              "      <td>17:44:03</td>\n",
              "      <td>6</td>\n",
              "      <td>2012-04-02</td>\n",
              "      <td>12:47:59</td>\n",
              "      <td>137832</td>\n",
              "      <td>1340.37</td>\n",
              "      <td>MAHINDRA &amp;  MAHINDRA</td>\n",
              "      <td>0.0</td>\n",
              "      <td>SCORPIO CRDE</td>\n",
              "      <td>0.00</td>\n",
              "      <td>Paid Service</td>\n",
              "      <td>0.00</td>\n",
              "      <td>500038</td>\n",
              "      <td>BC04</td>\n",
              "      <td>BALANAGAR</td>\n",
              "      <td>NO</td>\n",
              "      <td>0.0</td>\n",
              "      <td>AP11AB0153</td>\n",
              "      <td>1340.37</td>\n",
              "      <td>GOLIVE</td>\n",
              "    </tr>\n",
              "    <tr>\n",
              "      <th>3</th>\n",
              "      <td>NaN</td>\n",
              "      <td>Hyderabad</td>\n",
              "      <td>Retail</td>\n",
              "      <td>E22364</td>\n",
              "      <td>Andhra Pradesh</td>\n",
              "      <td>00:00:00</td>\n",
              "      <td>2012-04-02</td>\n",
              "      <td>7000000026</td>\n",
              "      <td>20:04:51</td>\n",
              "      <td>24</td>\n",
              "      <td>2012-04-01</td>\n",
              "      <td>16:19:32</td>\n",
              "      <td>75627</td>\n",
              "      <td>1709.06</td>\n",
              "      <td>MAHINDRA &amp;  MAHINDRA</td>\n",
              "      <td>0.0</td>\n",
              "      <td>SCORPIO CRDE</td>\n",
              "      <td>480.02</td>\n",
              "      <td>Paid Service</td>\n",
              "      <td>3317.37</td>\n",
              "      <td>500023</td>\n",
              "      <td>BC04</td>\n",
              "      <td>BALANAGAR</td>\n",
              "      <td>NO</td>\n",
              "      <td>0.0</td>\n",
              "      <td>AP9BJ4847</td>\n",
              "      <td>5506.45</td>\n",
              "      <td>GOLIVE</td>\n",
              "    </tr>\n",
              "    <tr>\n",
              "      <th>4</th>\n",
              "      <td>NaN</td>\n",
              "      <td>Hyderabad</td>\n",
              "      <td>Retail</td>\n",
              "      <td>E25218</td>\n",
              "      <td>Andhra Pradesh</td>\n",
              "      <td>00:00:00</td>\n",
              "      <td>2012-04-02</td>\n",
              "      <td>7000000027</td>\n",
              "      <td>20:24:21</td>\n",
              "      <td>23</td>\n",
              "      <td>2012-04-01</td>\n",
              "      <td>16:19:32</td>\n",
              "      <td>1</td>\n",
              "      <td>2074.88</td>\n",
              "      <td>TATA MOTORS</td>\n",
              "      <td>0.0</td>\n",
              "      <td>INDICA</td>\n",
              "      <td>0.00</td>\n",
              "      <td>Accidental</td>\n",
              "      <td>3105.67</td>\n",
              "      <td>500045</td>\n",
              "      <td>BC04</td>\n",
              "      <td>BALANAGAR</td>\n",
              "      <td>NO</td>\n",
              "      <td>0.0</td>\n",
              "      <td>AP29BB4586</td>\n",
              "      <td>5180.55</td>\n",
              "      <td>GOLIVE</td>\n",
              "    </tr>\n",
              "  </tbody>\n",
              "</table>\n",
              "</div>"
            ],
            "text/plain": [
              "  Area / Locality       CITY Cust Type  ...     Regn No Total Amt Wtd Tax. User ID\n",
              "0             NaN     Nashik    Retail  ...  MH15BN2714             420.09  GOLIVE\n",
              "1             NaN      THANE    Retail  ...  MH04DN6210             179.75  GOLIVE\n",
              "2             NaN  Hyderabad    Retail  ...  AP11AB0153            1340.37  GOLIVE\n",
              "3             NaN  Hyderabad    Retail  ...   AP9BJ4847            5506.45  GOLIVE\n",
              "4             NaN  Hyderabad    Retail  ...  AP29BB4586            5180.55  GOLIVE\n",
              "\n",
              "[5 rows x 28 columns]"
            ]
          },
          "metadata": {
            "tags": []
          },
          "execution_count": 40
        }
      ]
    },
    {
      "cell_type": "code",
      "metadata": {
        "id": "ADyVxU0TLKJb",
        "colab_type": "code",
        "colab": {}
      },
      "source": [
        "columns_irrelevant = ['Area / Locality', 'Print Status', 'Gate Pass Time', 'Recovrbl Exp']"
      ],
      "execution_count": 0,
      "outputs": []
    },
    {
      "cell_type": "code",
      "metadata": {
        "id": "owC2gn0thq_P",
        "colab_type": "code",
        "colab": {}
      },
      "source": [
        "invoice = invoice.drop(columns=columns_irrelevant)"
      ],
      "execution_count": 0,
      "outputs": []
    },
    {
      "cell_type": "code",
      "metadata": {
        "id": "UIxpmur3jQkx",
        "colab_type": "code",
        "colab": {}
      },
      "source": [
        "invoice.dropna(subset=['Regn No'], inplace=True)"
      ],
      "execution_count": 0,
      "outputs": []
    },
    {
      "cell_type": "code",
      "metadata": {
        "id": "KthPw8BoLX7G",
        "colab_type": "code",
        "outputId": "962dde3a-d52f-495c-e062-ec0bf3ed93fc",
        "colab": {
          "base_uri": "https://localhost:8080/",
          "height": 442
        }
      },
      "source": [
        "invoice.isnull().sum().sort_values()"
      ],
      "execution_count": 44,
      "outputs": [
        {
          "output_type": "execute_result",
          "data": {
            "text/plain": [
              "Labour Total             0\n",
              "Regn No                  0\n",
              "Plant Name1              0\n",
              "Plant                    0\n",
              "Pin code                 0\n",
              "Parts Total              0\n",
              "Order Type               0\n",
              "OSL Total                0\n",
              "Misc Total               0\n",
              "Make                     0\n",
              "Total Amt Wtd Tax.       0\n",
              "User ID                  0\n",
              "JobCard Time             0\n",
              "JobCard Date             0\n",
              "Job Card No              0\n",
              "Invoice Time             0\n",
              "Invoice No               0\n",
              "Invoice Date             0\n",
              "District                 0\n",
              "Customer No.             0\n",
              "KMs Reading              0\n",
              "Cust Type                4\n",
              "CITY                     4\n",
              "Model                 1524\n",
              "dtype: int64"
            ]
          },
          "metadata": {
            "tags": []
          },
          "execution_count": 44
        }
      ]
    },
    {
      "cell_type": "code",
      "metadata": {
        "id": "kCGj8yMNcc7I",
        "colab_type": "code",
        "colab": {}
      },
      "source": [
        "invoice['Cust Type'] = invoice['Cust Type'].fillna(invoice['Cust Type'].mode()[0])\n",
        "invoice['CITY'] = invoice['CITY'].fillna(invoice['CITY'].mode()[0])\n",
        "invoice['Model']  = invoice['Model'].fillna(invoice['Model'].mode()[0])"
      ],
      "execution_count": 0,
      "outputs": []
    },
    {
      "cell_type": "code",
      "metadata": {
        "id": "9BPxLAzujpTb",
        "colab_type": "code",
        "outputId": "d4b85498-c64a-4907-c636-fec7153bb841",
        "colab": {
          "base_uri": "https://localhost:8080/",
          "height": 442
        }
      },
      "source": [
        "invoice.isnull().sum().sort_values()"
      ],
      "execution_count": 46,
      "outputs": [
        {
          "output_type": "execute_result",
          "data": {
            "text/plain": [
              "CITY                  0\n",
              "Regn No               0\n",
              "Plant Name1           0\n",
              "Plant                 0\n",
              "Pin code              0\n",
              "Parts Total           0\n",
              "Order Type            0\n",
              "OSL Total             0\n",
              "Model                 0\n",
              "Misc Total            0\n",
              "Make                  0\n",
              "Labour Total          0\n",
              "KMs Reading           0\n",
              "JobCard Time          0\n",
              "JobCard Date          0\n",
              "Job Card No           0\n",
              "Invoice Time          0\n",
              "Invoice No            0\n",
              "Invoice Date          0\n",
              "District              0\n",
              "Customer No.          0\n",
              "Cust Type             0\n",
              "Total Amt Wtd Tax.    0\n",
              "User ID               0\n",
              "dtype: int64"
            ]
          },
          "metadata": {
            "tags": []
          },
          "execution_count": 46
        }
      ]
    },
    {
      "cell_type": "code",
      "metadata": {
        "id": "R7uIJ9nuAM_t",
        "colab_type": "code",
        "outputId": "2d6610c4-8598-4661-b770-ecec474769f6",
        "colab": {
          "base_uri": "https://localhost:8080/",
          "height": 187
        }
      },
      "source": [
        "invoice['Order Type'].value_counts()"
      ],
      "execution_count": 47,
      "outputs": [
        {
          "output_type": "execute_result",
          "data": {
            "text/plain": [
              "Running Repairs      551850\n",
              "Paid Service         291507\n",
              "Accidental            88396\n",
              "SMC Redemption        20038\n",
              "Mechanical            15100\n",
              "SMC Value Package     14091\n",
              "Repeat Order           3473\n",
              "WBW Order               252\n",
              "Workshop Damage          18\n",
              "Name: Order Type, dtype: int64"
            ]
          },
          "metadata": {
            "tags": []
          },
          "execution_count": 47
        }
      ]
    },
    {
      "cell_type": "markdown",
      "metadata": {
        "id": "2J0JfMJ8kfkx",
        "colab_type": "text"
      },
      "source": [
        "## Read JTD data\n",
        "* Handle missing and duplicate data."
      ]
    },
    {
      "cell_type": "code",
      "metadata": {
        "id": "Q5YbQqDus6dw",
        "colab_type": "code",
        "outputId": "1649e4ea-79ad-4dd4-fb1b-0d05e44bc2da",
        "colab": {
          "base_uri": "https://localhost:8080/",
          "height": 71
        }
      },
      "source": [
        "jtd = pd.read_csv('/content/drive/My Drive/Colab Notebooks/data/final_csv/jtd.csv', index_col=0)"
      ],
      "execution_count": 48,
      "outputs": [
        {
          "output_type": "stream",
          "text": [
            "/usr/local/lib/python3.6/dist-packages/numpy/lib/arraysetops.py:569: FutureWarning: elementwise comparison failed; returning scalar instead, but in the future will perform elementwise comparison\n",
            "  mask |= (ar1 == a)\n"
          ],
          "name": "stderr"
        }
      ]
    },
    {
      "cell_type": "code",
      "metadata": {
        "id": "LjHXSKGcBkJA",
        "colab_type": "code",
        "outputId": "2b3f8acf-d1b0-486f-da30-9637481e85fa",
        "colab": {
          "base_uri": "https://localhost:8080/",
          "height": 34
        }
      },
      "source": [
        "jtd.shape"
      ],
      "execution_count": 49,
      "outputs": [
        {
          "output_type": "execute_result",
          "data": {
            "text/plain": [
              "(5619484, 9)"
            ]
          },
          "metadata": {
            "tags": []
          },
          "execution_count": 49
        }
      ]
    },
    {
      "cell_type": "code",
      "metadata": {
        "id": "4SceHKu8tAEn",
        "colab_type": "code",
        "outputId": "b4bac037-df3c-40c5-e22f-0c88ece7ab1f",
        "colab": {
          "base_uri": "https://localhost:8080/",
          "height": 204
        }
      },
      "source": [
        "jtd[jtd['DBM Order']==98050]"
      ],
      "execution_count": 50,
      "outputs": [
        {
          "output_type": "execute_result",
          "data": {
            "text/html": [
              "<div>\n",
              "<style scoped>\n",
              "    .dataframe tbody tr th:only-of-type {\n",
              "        vertical-align: middle;\n",
              "    }\n",
              "\n",
              "    .dataframe tbody tr th {\n",
              "        vertical-align: top;\n",
              "    }\n",
              "\n",
              "    .dataframe thead th {\n",
              "        text-align: right;\n",
              "    }\n",
              "</style>\n",
              "<table border=\"1\" class=\"dataframe\">\n",
              "  <thead>\n",
              "    <tr style=\"text-align: right;\">\n",
              "      <th></th>\n",
              "      <th>DBM Order</th>\n",
              "      <th>Order Item</th>\n",
              "      <th>Material</th>\n",
              "      <th>Labor Value Number</th>\n",
              "      <th>Description</th>\n",
              "      <th>Item Category</th>\n",
              "      <th>Order Quantity</th>\n",
              "      <th>Target quantity UoM</th>\n",
              "      <th>Net value</th>\n",
              "    </tr>\n",
              "  </thead>\n",
              "  <tbody>\n",
              "    <tr>\n",
              "      <th>0</th>\n",
              "      <td>98050</td>\n",
              "      <td>10</td>\n",
              "      <td>1EMJ96615412</td>\n",
              "      <td>NaN</td>\n",
              "      <td>SWITCH A-A/C CONTROL</td>\n",
              "      <td>P002</td>\n",
              "      <td>1.0</td>\n",
              "      <td>EA</td>\n",
              "      <td>5185.92</td>\n",
              "    </tr>\n",
              "    <tr>\n",
              "      <th>1</th>\n",
              "      <td>98050</td>\n",
              "      <td>20</td>\n",
              "      <td>1EMJ96548238</td>\n",
              "      <td>NaN</td>\n",
              "      <td>WEATHER STRIP A-REAR DOOR LH</td>\n",
              "      <td>P002</td>\n",
              "      <td>1.0</td>\n",
              "      <td>EA</td>\n",
              "      <td>1433.49</td>\n",
              "    </tr>\n",
              "    <tr>\n",
              "      <th>2</th>\n",
              "      <td>98050</td>\n",
              "      <td>30</td>\n",
              "      <td>1EMJ96548102</td>\n",
              "      <td>NaN</td>\n",
              "      <td>WEATHER STRIP A-FRONT DOOR LH</td>\n",
              "      <td>P002</td>\n",
              "      <td>1.0</td>\n",
              "      <td>EA</td>\n",
              "      <td>1526.88</td>\n",
              "    </tr>\n",
              "    <tr>\n",
              "      <th>3</th>\n",
              "      <td>98050</td>\n",
              "      <td>40</td>\n",
              "      <td>1EMJ96548239</td>\n",
              "      <td>NaN</td>\n",
              "      <td>WEATHER STRIP A-REAR DOOR RH</td>\n",
              "      <td>P002</td>\n",
              "      <td>1.0</td>\n",
              "      <td>EA</td>\n",
              "      <td>1433.49</td>\n",
              "    </tr>\n",
              "    <tr>\n",
              "      <th>4</th>\n",
              "      <td>98050</td>\n",
              "      <td>50</td>\n",
              "      <td>1EMJ96548103</td>\n",
              "      <td>NaN</td>\n",
              "      <td>WEATHER STRIP A-FRONT DOOR RH</td>\n",
              "      <td>P002</td>\n",
              "      <td>1.0</td>\n",
              "      <td>EA</td>\n",
              "      <td>1526.88</td>\n",
              "    </tr>\n",
              "  </tbody>\n",
              "</table>\n",
              "</div>"
            ],
            "text/plain": [
              "   DBM Order  Order Item  ... Target quantity UoM Net value\n",
              "0      98050          10  ...                  EA   5185.92\n",
              "1      98050          20  ...                  EA   1433.49\n",
              "2      98050          30  ...                  EA   1526.88\n",
              "3      98050          40  ...                  EA   1433.49\n",
              "4      98050          50  ...                  EA   1526.88\n",
              "\n",
              "[5 rows x 9 columns]"
            ]
          },
          "metadata": {
            "tags": []
          },
          "execution_count": 50
        }
      ]
    },
    {
      "cell_type": "code",
      "metadata": {
        "id": "qHFfLOjxBbAd",
        "colab_type": "code",
        "outputId": "a330eca4-7eb2-4d7d-fb9b-79fa977200e7",
        "colab": {
          "base_uri": "https://localhost:8080/",
          "height": 34
        }
      },
      "source": [
        "len(jtd['Order Quantity'].unique())"
      ],
      "execution_count": 51,
      "outputs": [
        {
          "output_type": "execute_result",
          "data": {
            "text/plain": [
              "3604"
            ]
          },
          "metadata": {
            "tags": []
          },
          "execution_count": 51
        }
      ]
    },
    {
      "cell_type": "code",
      "metadata": {
        "id": "cJHJl3m5BpPN",
        "colab_type": "code",
        "outputId": "6d63c8ce-0d64-4d0e-f31f-7b155522d867",
        "colab": {
          "base_uri": "https://localhost:8080/",
          "height": 71
        }
      },
      "source": [
        "aggregation_jtd_dbno={ 'Description' : {'Description' : lambda x: str(set(x)).strip('{}').replace(\"'\",\"\")},\n",
        "                      'Item Category' : {'Item Category' : lambda x: str(set(x)).strip('{}').replace(\"'\",\"\")}, \n",
        "                      'Order Quantity' : {'Order Quantity' : 'sum'},\n",
        "                      'Net value' : {'Net value' : 'sum'} }\n",
        "jtd_grouped = jtd.groupby('DBM Order')['Description','Item Category','Order Quantity','Net value'].agg(aggregation_jtd_dbno).reset_index()"
      ],
      "execution_count": 52,
      "outputs": [
        {
          "output_type": "stream",
          "text": [
            "/usr/local/lib/python3.6/dist-packages/pandas/core/groupby/generic.py:1315: FutureWarning: using a dict with renaming is deprecated and will be removed in a future version\n",
            "  return super(DataFrameGroupBy, self).aggregate(arg, *args, **kwargs)\n"
          ],
          "name": "stderr"
        }
      ]
    },
    {
      "cell_type": "code",
      "metadata": {
        "id": "5dNL96UcDkig",
        "colab_type": "code",
        "outputId": "9de2b8bc-e6ab-45e8-cfc6-de900f0698d0",
        "colab": {
          "base_uri": "https://localhost:8080/",
          "height": 204
        }
      },
      "source": [
        "jtd_grouped.head()"
      ],
      "execution_count": 53,
      "outputs": [
        {
          "output_type": "execute_result",
          "data": {
            "text/html": [
              "<div>\n",
              "<style scoped>\n",
              "    .dataframe tbody tr th:only-of-type {\n",
              "        vertical-align: middle;\n",
              "    }\n",
              "\n",
              "    .dataframe tbody tr th {\n",
              "        vertical-align: top;\n",
              "    }\n",
              "\n",
              "    .dataframe thead th {\n",
              "        text-align: right;\n",
              "    }\n",
              "</style>\n",
              "<table border=\"1\" class=\"dataframe\">\n",
              "  <thead>\n",
              "    <tr style=\"text-align: right;\">\n",
              "      <th></th>\n",
              "      <th>DBM Order</th>\n",
              "      <th>Description</th>\n",
              "      <th>Item Category</th>\n",
              "      <th>Order Quantity</th>\n",
              "      <th>Net value</th>\n",
              "    </tr>\n",
              "  </thead>\n",
              "  <tbody>\n",
              "    <tr>\n",
              "      <th>0</th>\n",
              "      <td>4</td>\n",
              "      <td>FILTER-OIL, TIMING BELT, MISC_OTHER CHARGES, T...</td>\n",
              "      <td>P011, P002, P010, P001</td>\n",
              "      <td>731.6</td>\n",
              "      <td>16998.49</td>\n",
              "    </tr>\n",
              "    <tr>\n",
              "      <th>1</th>\n",
              "      <td>5</td>\n",
              "      <td>CLEAFUEL FILTER, BULB 60/55W,12V,P43T, Paid Se...</td>\n",
              "      <td>P002, P001</td>\n",
              "      <td>290.2</td>\n",
              "      <td>3779.80</td>\n",
              "    </tr>\n",
              "    <tr>\n",
              "      <th>2</th>\n",
              "      <td>6</td>\n",
              "      <td>Paid Service-Minor, MISC LABOR 0.5 HOURS, REPL...</td>\n",
              "      <td>P001</td>\n",
              "      <td>109.0</td>\n",
              "      <td>1340.37</td>\n",
              "    </tr>\n",
              "    <tr>\n",
              "      <th>3</th>\n",
              "      <td>7</td>\n",
              "      <td>MISC LABOR 0.25 HOURS</td>\n",
              "      <td>P001</td>\n",
              "      <td>36.5</td>\n",
              "      <td>167.36</td>\n",
              "    </tr>\n",
              "    <tr>\n",
              "      <th>4</th>\n",
              "      <td>8</td>\n",
              "      <td>OIL FILTER, AIR FILTER, REPLACE ENGINE OIL &amp; O...</td>\n",
              "      <td>P002, P001</td>\n",
              "      <td>69.0</td>\n",
              "      <td>2306.94</td>\n",
              "    </tr>\n",
              "  </tbody>\n",
              "</table>\n",
              "</div>"
            ],
            "text/plain": [
              "   DBM Order  ... Net value\n",
              "0          4  ...  16998.49\n",
              "1          5  ...   3779.80\n",
              "2          6  ...   1340.37\n",
              "3          7  ...    167.36\n",
              "4          8  ...   2306.94\n",
              "\n",
              "[5 rows x 5 columns]"
            ]
          },
          "metadata": {
            "tags": []
          },
          "execution_count": 53
        }
      ]
    },
    {
      "cell_type": "code",
      "metadata": {
        "id": "vXKN_vGvDpv7",
        "colab_type": "code",
        "outputId": "8f991f5e-2b55-459a-9c67-69736771c193",
        "colab": {
          "base_uri": "https://localhost:8080/",
          "height": 34
        }
      },
      "source": [
        "jtd_grouped.shape"
      ],
      "execution_count": 54,
      "outputs": [
        {
          "output_type": "execute_result",
          "data": {
            "text/plain": [
              "(973473, 5)"
            ]
          },
          "metadata": {
            "tags": []
          },
          "execution_count": 54
        }
      ]
    },
    {
      "cell_type": "code",
      "metadata": {
        "id": "XLGX1WsI4LBo",
        "colab_type": "code",
        "outputId": "e96aab66-814e-4a31-c817-b8f5803f7f4b",
        "colab": {
          "base_uri": "https://localhost:8080/",
          "height": 884
        }
      },
      "source": [
        "jtd['Description'].value_counts().head(50)"
      ],
      "execution_count": 55,
      "outputs": [
        {
          "output_type": "execute_result",
          "data": {
            "text/plain": [
              "MISC_OTHER CHARGES                        270563\n",
              "Paid Service-Minor                        201857\n",
              "WASHING                                   199068\n",
              "Wheel Alignment                           191211\n",
              "OIL FILTER                                154387\n",
              "URANIA SUPREMO CI 4 15W 40                122218\n",
              "MFC PROLEUM CI4/SL 15W40                   92091\n",
              "AIR FILTER                                 80211\n",
              "Wheel Balancing (5 Wheels)                 79970\n",
              "MISC LABOR 0.5 HOURS                       62982\n",
              "General Check up                           62459\n",
              "Paid Service-Major                         60369\n",
              "WINDSHIELD LIQUID WASHER                   55352\n",
              "MISC LABOR 0.25 HOURS                      50143\n",
              "DISTILLED WATER                            46919\n",
              "Interior & Upholstery Cleaning             44864\n",
              "REPLACE BRAKE PAD (BOTH SIDE)              38552\n",
              "PAINTING CHARGES                           34187\n",
              "MISC LABOR 1 HOUR                          33993\n",
              "BALANCE WEIGHT 15GRAM                      31791\n",
              "MISC LABOR 2 HOURS                         31761\n",
              "BALANCE WEIGHT 20 GRAM                     29524\n",
              "BALANCE WEIGHT 25GRAM                      28774\n",
              "CLIP                                       28714\n",
              "BALANCE WEIGHT 10GRAM                      27962\n",
              "ANTIFREEZE COOLANT-GREEN                   27403\n",
              "BALANCE WEIGHT 30GRAM                      26724\n",
              "REPAIRING CHARGES                          23669\n",
              "PROFAR CONCENTRATED ANTIFREEZE COOLANT     22536\n",
              "Brake service - All 4 Wheels               21236\n",
              "FUEL FILTER                                20818\n",
              "BALANCE WEIGHT 35 GRAM                     20798\n",
              "RUST SPRAY                                 20731\n",
              "TIE CLIP                                   19829\n",
              "Clutch Overhaul                            19696\n",
              "Oil Filter-Spin On Petrol                  19610\n",
              "MISC_ON ROAD ASSISTANCE                    18991\n",
              "REPLACE ENGINE OIL & OIL FILTER            18268\n",
              "BRAKE OIL DOT 4                            17929\n",
              "BALANCE WEIGHT 5 GRAM                      17139\n",
              "TUTELA TRANSMISSIONS EPYX 90               16945\n",
              "BALANCE WEIGHT 40GRAM                      16278\n",
              "CLEANING INJECTOR PETROL (EACH)            15436\n",
              "REPLACE COOLANT                            14524\n",
              "Engine Flush                               13900\n",
              "FEVIQUIK 3 GM                              13479\n",
              "MFC PROLEUM GL-4 80W-90 - 26 Ltr           13188\n",
              "BULB 1016(12V 21/5W)                       12619\n",
              "MISC_COST OF WEIGHT (EACH)                 12530\n",
              "TYRE ROTATION                              12529\n",
              "Name: Description, dtype: int64"
            ]
          },
          "metadata": {
            "tags": []
          },
          "execution_count": 55
        }
      ]
    },
    {
      "cell_type": "code",
      "metadata": {
        "id": "BL1V-0c4kvyz",
        "colab_type": "code",
        "outputId": "25e2fb34-e3fe-44ea-b871-788ba0d92f6f",
        "colab": {
          "base_uri": "https://localhost:8080/",
          "height": 34
        }
      },
      "source": [
        "jtd.shape"
      ],
      "execution_count": 56,
      "outputs": [
        {
          "output_type": "execute_result",
          "data": {
            "text/plain": [
              "(5619484, 9)"
            ]
          },
          "metadata": {
            "tags": []
          },
          "execution_count": 56
        }
      ]
    },
    {
      "cell_type": "code",
      "metadata": {
        "id": "yAdjItftkrm3",
        "colab_type": "code",
        "outputId": "d92131d3-135b-4cb1-f6c7-62e0cbfa23dd",
        "colab": {
          "base_uri": "https://localhost:8080/",
          "height": 187
        }
      },
      "source": [
        "jtd.isnull().sum().sort_values()"
      ],
      "execution_count": 57,
      "outputs": [
        {
          "output_type": "execute_result",
          "data": {
            "text/plain": [
              "DBM Order                    0\n",
              "Order Item                   0\n",
              "Item Category                0\n",
              "Order Quantity               0\n",
              "Net value                    0\n",
              "Material                 51629\n",
              "Description              51629\n",
              "Target quantity UoM      51629\n",
              "Labor Value Number     3774033\n",
              "dtype: int64"
            ]
          },
          "metadata": {
            "tags": []
          },
          "execution_count": 57
        }
      ]
    },
    {
      "cell_type": "markdown",
      "metadata": {
        "id": "E_ANL4TJmjIM",
        "colab_type": "text"
      },
      "source": [
        "## Merge the Data\n",
        "**Merge Invoice and Customer Data on Customer No. Key**"
      ]
    },
    {
      "cell_type": "code",
      "metadata": {
        "id": "v9IP3WO9v_uT",
        "colab_type": "code",
        "colab": {}
      },
      "source": [
        "invoice['Customer No.'] = invoice['Customer No.'].str.lstrip('0')"
      ],
      "execution_count": 0,
      "outputs": []
    },
    {
      "cell_type": "code",
      "metadata": {
        "id": "1zgxfmYZsMUo",
        "colab_type": "code",
        "colab": {}
      },
      "source": [
        "customer['Customer No.'] = customer['Customer No.'].astype(str)"
      ],
      "execution_count": 0,
      "outputs": []
    },
    {
      "cell_type": "code",
      "metadata": {
        "id": "4ecC8PX-xsDZ",
        "colab_type": "code",
        "colab": {}
      },
      "source": [
        "invoice_customer = pd.merge(invoice, customer, on='Customer No.')"
      ],
      "execution_count": 0,
      "outputs": []
    },
    {
      "cell_type": "code",
      "metadata": {
        "id": "oVDs_BjwxuoL",
        "colab_type": "code",
        "outputId": "e60a59ee-b5ae-467c-c8b1-4b79a6a65a29",
        "colab": {
          "base_uri": "https://localhost:8080/",
          "height": 34
        }
      },
      "source": [
        "invoice_customer.shape, len(invoice['Customer No.'].unique()), len(customer['Customer No.'].unique()), len(invoice_customer['Customer No.'].unique())"
      ],
      "execution_count": 61,
      "outputs": [
        {
          "output_type": "execute_result",
          "data": {
            "text/plain": [
              "((981217, 27), 502770, 555338, 502480)"
            ]
          },
          "metadata": {
            "tags": []
          },
          "execution_count": 61
        }
      ]
    },
    {
      "cell_type": "code",
      "metadata": {
        "id": "T_7DAYhv_ULl",
        "colab_type": "code",
        "outputId": "b0ba6bbb-535d-476b-a758-1fe06c4081d7",
        "colab": {
          "base_uri": "https://localhost:8080/",
          "height": 493
        }
      },
      "source": [
        "invoice_customer.isnull().sum()"
      ],
      "execution_count": 62,
      "outputs": [
        {
          "output_type": "execute_result",
          "data": {
            "text/plain": [
              "CITY                  0\n",
              "Cust Type             0\n",
              "Customer No.          0\n",
              "District              0\n",
              "Invoice Date          0\n",
              "Invoice No            0\n",
              "Invoice Time          0\n",
              "Job Card No           0\n",
              "JobCard Date          0\n",
              "JobCard Time          0\n",
              "KMs Reading           0\n",
              "Labour Total          0\n",
              "Make                  0\n",
              "Misc Total            0\n",
              "Model                 0\n",
              "OSL Total             0\n",
              "Order Type            0\n",
              "Parts Total           0\n",
              "Pin code              0\n",
              "Plant                 0\n",
              "Plant Name1           0\n",
              "Regn No               0\n",
              "Total Amt Wtd Tax.    0\n",
              "User ID               0\n",
              "Partner Type          0\n",
              "Data Origin           0\n",
              "Title                 0\n",
              "dtype: int64"
            ]
          },
          "metadata": {
            "tags": []
          },
          "execution_count": 62
        }
      ]
    },
    {
      "cell_type": "markdown",
      "metadata": {
        "id": "q2Q2GdF6mwiD",
        "colab_type": "text"
      },
      "source": [
        "**Merge Vehicle and Invoice Customer df based on Registration number and License plat number**"
      ]
    },
    {
      "cell_type": "code",
      "metadata": {
        "id": "Q_k4JBrUmvcB",
        "colab_type": "code",
        "outputId": "3dbbf29d-8c62-4b0d-8819-38928c3d8623",
        "colab": {
          "base_uri": "https://localhost:8080/",
          "height": 394
        }
      },
      "source": [
        "invoice_customer.head()"
      ],
      "execution_count": 63,
      "outputs": [
        {
          "output_type": "execute_result",
          "data": {
            "text/html": [
              "<div>\n",
              "<style scoped>\n",
              "    .dataframe tbody tr th:only-of-type {\n",
              "        vertical-align: middle;\n",
              "    }\n",
              "\n",
              "    .dataframe tbody tr th {\n",
              "        vertical-align: top;\n",
              "    }\n",
              "\n",
              "    .dataframe thead th {\n",
              "        text-align: right;\n",
              "    }\n",
              "</style>\n",
              "<table border=\"1\" class=\"dataframe\">\n",
              "  <thead>\n",
              "    <tr style=\"text-align: right;\">\n",
              "      <th></th>\n",
              "      <th>CITY</th>\n",
              "      <th>Cust Type</th>\n",
              "      <th>Customer No.</th>\n",
              "      <th>District</th>\n",
              "      <th>Invoice Date</th>\n",
              "      <th>Invoice No</th>\n",
              "      <th>Invoice Time</th>\n",
              "      <th>Job Card No</th>\n",
              "      <th>JobCard Date</th>\n",
              "      <th>JobCard Time</th>\n",
              "      <th>KMs Reading</th>\n",
              "      <th>Labour Total</th>\n",
              "      <th>Make</th>\n",
              "      <th>Misc Total</th>\n",
              "      <th>Model</th>\n",
              "      <th>OSL Total</th>\n",
              "      <th>Order Type</th>\n",
              "      <th>Parts Total</th>\n",
              "      <th>Pin code</th>\n",
              "      <th>Plant</th>\n",
              "      <th>Plant Name1</th>\n",
              "      <th>Regn No</th>\n",
              "      <th>Total Amt Wtd Tax.</th>\n",
              "      <th>User ID</th>\n",
              "      <th>Partner Type</th>\n",
              "      <th>Data Origin</th>\n",
              "      <th>Title</th>\n",
              "    </tr>\n",
              "  </thead>\n",
              "  <tbody>\n",
              "    <tr>\n",
              "      <th>0</th>\n",
              "      <td>Nashik</td>\n",
              "      <td>Retail</td>\n",
              "      <td>E14006</td>\n",
              "      <td>Maharashtra</td>\n",
              "      <td>2012-04-02</td>\n",
              "      <td>7000000011</td>\n",
              "      <td>17:04:33</td>\n",
              "      <td>101</td>\n",
              "      <td>2012-04-02</td>\n",
              "      <td>15:15:31</td>\n",
              "      <td>80440</td>\n",
              "      <td>420.09</td>\n",
              "      <td>HYUNDAI</td>\n",
              "      <td>0.0</td>\n",
              "      <td>SANTRO</td>\n",
              "      <td>0.0</td>\n",
              "      <td>Running Repairs</td>\n",
              "      <td>0.00</td>\n",
              "      <td>422000</td>\n",
              "      <td>BC03</td>\n",
              "      <td>NASHIK</td>\n",
              "      <td>MH15BN2714</td>\n",
              "      <td>420.09</td>\n",
              "      <td>GOLIVE</td>\n",
              "      <td>1.0</td>\n",
              "      <td>Z001</td>\n",
              "      <td>2.0</td>\n",
              "    </tr>\n",
              "    <tr>\n",
              "      <th>1</th>\n",
              "      <td>Nashik</td>\n",
              "      <td>Retail</td>\n",
              "      <td>E14006</td>\n",
              "      <td>Maharashtra</td>\n",
              "      <td>2012-12-05</td>\n",
              "      <td>7000016665</td>\n",
              "      <td>17:53:56</td>\n",
              "      <td>16545</td>\n",
              "      <td>2012-12-05</td>\n",
              "      <td>10:45:16</td>\n",
              "      <td>89165</td>\n",
              "      <td>779.09</td>\n",
              "      <td>HYUNDAI</td>\n",
              "      <td>0.0</td>\n",
              "      <td>SANTRO</td>\n",
              "      <td>0.0</td>\n",
              "      <td>Paid Service</td>\n",
              "      <td>858.34</td>\n",
              "      <td>422000</td>\n",
              "      <td>BC03</td>\n",
              "      <td>NASHIK</td>\n",
              "      <td>MH15BN2714</td>\n",
              "      <td>1637.43</td>\n",
              "      <td>BC03SA3</td>\n",
              "      <td>1.0</td>\n",
              "      <td>Z001</td>\n",
              "      <td>2.0</td>\n",
              "    </tr>\n",
              "    <tr>\n",
              "      <th>2</th>\n",
              "      <td>Nashik</td>\n",
              "      <td>Retail</td>\n",
              "      <td>E14006</td>\n",
              "      <td>Maharashtra</td>\n",
              "      <td>2017-04-14</td>\n",
              "      <td>7164601412</td>\n",
              "      <td>15:29:52</td>\n",
              "      <td>674656</td>\n",
              "      <td>2017-04-13</td>\n",
              "      <td>17:09:17</td>\n",
              "      <td>35165</td>\n",
              "      <td>579.13</td>\n",
              "      <td>HONDA</td>\n",
              "      <td>0.0</td>\n",
              "      <td>CITY</td>\n",
              "      <td>0.0</td>\n",
              "      <td>Paid Service</td>\n",
              "      <td>40.54</td>\n",
              "      <td>422000</td>\n",
              "      <td>X073</td>\n",
              "      <td>X073- KRITI AUTOMOBILE REPAIR</td>\n",
              "      <td>MH15EB5067</td>\n",
              "      <td>619.67</td>\n",
              "      <td>X073SA1</td>\n",
              "      <td>1.0</td>\n",
              "      <td>Z001</td>\n",
              "      <td>2.0</td>\n",
              "    </tr>\n",
              "    <tr>\n",
              "      <th>3</th>\n",
              "      <td>Nashik</td>\n",
              "      <td>Retail</td>\n",
              "      <td>E14006</td>\n",
              "      <td>Maharashtra</td>\n",
              "      <td>2017-07-26</td>\n",
              "      <td>7164602068</td>\n",
              "      <td>12:07:36</td>\n",
              "      <td>809011</td>\n",
              "      <td>2017-07-26</td>\n",
              "      <td>11:01:16</td>\n",
              "      <td>36165</td>\n",
              "      <td>3.46</td>\n",
              "      <td>HONDA</td>\n",
              "      <td>0.0</td>\n",
              "      <td>CITY</td>\n",
              "      <td>0.0</td>\n",
              "      <td>Running Repairs</td>\n",
              "      <td>0.00</td>\n",
              "      <td>422000</td>\n",
              "      <td>X073</td>\n",
              "      <td>X073- KRITI AUTOMOBILE REPAIR</td>\n",
              "      <td>MH15EB5067</td>\n",
              "      <td>3.46</td>\n",
              "      <td>X073SA1</td>\n",
              "      <td>1.0</td>\n",
              "      <td>Z001</td>\n",
              "      <td>2.0</td>\n",
              "    </tr>\n",
              "    <tr>\n",
              "      <th>4</th>\n",
              "      <td>Nashik</td>\n",
              "      <td>Retail</td>\n",
              "      <td>E14006</td>\n",
              "      <td>Maharashtra</td>\n",
              "      <td>2014-05-13</td>\n",
              "      <td>7000113010</td>\n",
              "      <td>10:18:16</td>\n",
              "      <td>113877</td>\n",
              "      <td>2014-05-12</td>\n",
              "      <td>10:09:53</td>\n",
              "      <td>104111</td>\n",
              "      <td>1539.84</td>\n",
              "      <td>HYUNDAI</td>\n",
              "      <td>0.0</td>\n",
              "      <td>SANTRO</td>\n",
              "      <td>0.0</td>\n",
              "      <td>Paid Service</td>\n",
              "      <td>1685.14</td>\n",
              "      <td>422000</td>\n",
              "      <td>BC03</td>\n",
              "      <td>NASHIK</td>\n",
              "      <td>MH15BN2714</td>\n",
              "      <td>3224.98</td>\n",
              "      <td>BC03SA2</td>\n",
              "      <td>1.0</td>\n",
              "      <td>Z001</td>\n",
              "      <td>2.0</td>\n",
              "    </tr>\n",
              "  </tbody>\n",
              "</table>\n",
              "</div>"
            ],
            "text/plain": [
              "     CITY Cust Type Customer No.  ... Partner Type Data Origin  Title\n",
              "0  Nashik    Retail       E14006  ...          1.0        Z001    2.0\n",
              "1  Nashik    Retail       E14006  ...          1.0        Z001    2.0\n",
              "2  Nashik    Retail       E14006  ...          1.0        Z001    2.0\n",
              "3  Nashik    Retail       E14006  ...          1.0        Z001    2.0\n",
              "4  Nashik    Retail       E14006  ...          1.0        Z001    2.0\n",
              "\n",
              "[5 rows x 27 columns]"
            ]
          },
          "metadata": {
            "tags": []
          },
          "execution_count": 63
        }
      ]
    },
    {
      "cell_type": "code",
      "metadata": {
        "id": "MdXw7L2S3DQY",
        "colab_type": "code",
        "colab": {}
      },
      "source": [
        "invoice_customer['Regn No'] = invoice_customer['Regn No'].astype(str)"
      ],
      "execution_count": 0,
      "outputs": []
    },
    {
      "cell_type": "code",
      "metadata": {
        "id": "3rXdqugiUhoH",
        "colab_type": "code",
        "colab": {}
      },
      "source": [
        "vehicles['License Plate Number'] = vehicles['License Plate Number'].astype(str)"
      ],
      "execution_count": 0,
      "outputs": []
    },
    {
      "cell_type": "code",
      "metadata": {
        "id": "lzQQ2GUP3Ma6",
        "colab_type": "code",
        "outputId": "96ed7efa-e3b3-4455-8a5d-bb41a009e538",
        "colab": {
          "base_uri": "https://localhost:8080/",
          "height": 51
        }
      },
      "source": [
        "vehicles['License Plate Number'].unique()"
      ],
      "execution_count": 66,
      "outputs": [
        {
          "output_type": "execute_result",
          "data": {
            "text/plain": [
              "array(['MH12HN2835', 'TN10AL3462', 'AP28DG9695', ..., 'KA09Z6087',\n",
              "       'TN30K7112', 'KA09MB290'], dtype=object)"
            ]
          },
          "metadata": {
            "tags": []
          },
          "execution_count": 66
        }
      ]
    },
    {
      "cell_type": "code",
      "metadata": {
        "id": "MEABAJsECyV2",
        "colab_type": "code",
        "outputId": "a5449a52-bad0-469a-ec32-09cd39fca704",
        "colab": {
          "base_uri": "https://localhost:8080/",
          "height": 34
        }
      },
      "source": [
        "invoice_customer.shape"
      ],
      "execution_count": 67,
      "outputs": [
        {
          "output_type": "execute_result",
          "data": {
            "text/plain": [
              "(981217, 27)"
            ]
          },
          "metadata": {
            "tags": []
          },
          "execution_count": 67
        }
      ]
    },
    {
      "cell_type": "code",
      "metadata": {
        "id": "O_rVbCif3fLx",
        "colab_type": "code",
        "colab": {}
      },
      "source": [
        "invoice_customer_vehicles = pd.merge(invoice_customer, vehicles, left_on='Regn No', right_on='License Plate Number')"
      ],
      "execution_count": 0,
      "outputs": []
    },
    {
      "cell_type": "code",
      "metadata": {
        "id": "d3ZGvPXG3tiX",
        "colab_type": "code",
        "colab": {}
      },
      "source": [
        "invoice_customer_vehicles.drop(columns='Regn No', inplace=True)"
      ],
      "execution_count": 0,
      "outputs": []
    },
    {
      "cell_type": "code",
      "metadata": {
        "id": "vU4KJFwUP2M8",
        "colab_type": "code",
        "outputId": "a7519719-4bec-491a-821c-192b04935fdc",
        "colab": {
          "base_uri": "https://localhost:8080/",
          "height": 85
        }
      },
      "source": [
        "vehicles.isnull().sum()"
      ],
      "execution_count": 70,
      "outputs": [
        {
          "output_type": "execute_result",
          "data": {
            "text/plain": [
              "Vehicle Model           0\n",
              "License Plate Number    0\n",
              "Fuel Type               0\n",
              "dtype: int64"
            ]
          },
          "metadata": {
            "tags": []
          },
          "execution_count": 70
        }
      ]
    },
    {
      "cell_type": "code",
      "metadata": {
        "id": "xdslQ3ljE16a",
        "colab_type": "code",
        "outputId": "a6a166f0-e7c3-4e4c-8631-9d160610e4d1",
        "colab": {
          "base_uri": "https://localhost:8080/",
          "height": 527
        }
      },
      "source": [
        "invoice_customer_vehicles.isnull().sum()"
      ],
      "execution_count": 71,
      "outputs": [
        {
          "output_type": "execute_result",
          "data": {
            "text/plain": [
              "CITY                    0\n",
              "Cust Type               0\n",
              "Customer No.            0\n",
              "District                0\n",
              "Invoice Date            0\n",
              "Invoice No              0\n",
              "Invoice Time            0\n",
              "Job Card No             0\n",
              "JobCard Date            0\n",
              "JobCard Time            0\n",
              "KMs Reading             0\n",
              "Labour Total            0\n",
              "Make                    0\n",
              "Misc Total              0\n",
              "Model                   0\n",
              "OSL Total               0\n",
              "Order Type              0\n",
              "Parts Total             0\n",
              "Pin code                0\n",
              "Plant                   0\n",
              "Plant Name1             0\n",
              "Total Amt Wtd Tax.      0\n",
              "User ID                 0\n",
              "Partner Type            0\n",
              "Data Origin             0\n",
              "Title                   0\n",
              "Vehicle Model           0\n",
              "License Plate Number    0\n",
              "Fuel Type               0\n",
              "dtype: int64"
            ]
          },
          "metadata": {
            "tags": []
          },
          "execution_count": 71
        }
      ]
    },
    {
      "cell_type": "code",
      "metadata": {
        "id": "XTFhuwhcvmNB",
        "colab_type": "code",
        "outputId": "3a56d015-fb7e-4c6f-bd61-c1766c182792",
        "colab": {
          "base_uri": "https://localhost:8080/",
          "height": 34
        }
      },
      "source": [
        "invoice_customer_vehicles.shape"
      ],
      "execution_count": 72,
      "outputs": [
        {
          "output_type": "execute_result",
          "data": {
            "text/plain": [
              "(984165, 29)"
            ]
          },
          "metadata": {
            "tags": []
          },
          "execution_count": 72
        }
      ]
    },
    {
      "cell_type": "markdown",
      "metadata": {
        "id": "vP32h0DvvFtp",
        "colab_type": "text"
      },
      "source": [
        "**Merge invoice_customer_vehicles and Plant**"
      ]
    },
    {
      "cell_type": "code",
      "metadata": {
        "id": "xmxkFlXMu9Hc",
        "colab_type": "code",
        "outputId": "cd015dac-e8a7-4506-e349-acdbf86ef835",
        "colab": {
          "base_uri": "https://localhost:8080/",
          "height": 34
        }
      },
      "source": [
        "plant.shape"
      ],
      "execution_count": 73,
      "outputs": [
        {
          "output_type": "execute_result",
          "data": {
            "text/plain": [
              "(438, 5)"
            ]
          },
          "metadata": {
            "tags": []
          },
          "execution_count": 73
        }
      ]
    },
    {
      "cell_type": "code",
      "metadata": {
        "id": "IcKRbfOlwaVJ",
        "colab_type": "code",
        "outputId": "2927a39d-2216-45c6-c22a-bb610d173bc0",
        "colab": {
          "base_uri": "https://localhost:8080/",
          "height": 34
        }
      },
      "source": [
        "len(invoice_customer_vehicles.Plant.unique()), len(plant.Plant.unique())"
      ],
      "execution_count": 74,
      "outputs": [
        {
          "output_type": "execute_result",
          "data": {
            "text/plain": [
              "(431, 438)"
            ]
          },
          "metadata": {
            "tags": []
          },
          "execution_count": 74
        }
      ]
    },
    {
      "cell_type": "code",
      "metadata": {
        "id": "mt9d-E4kvLmL",
        "colab_type": "code",
        "colab": {}
      },
      "source": [
        "invoice_customer_vehicles_plant = pd.merge(invoice_customer_vehicles, plant, on='Plant')"
      ],
      "execution_count": 0,
      "outputs": []
    },
    {
      "cell_type": "code",
      "metadata": {
        "id": "jZ5UrVXqvgU5",
        "colab_type": "code",
        "outputId": "ab0b0dea-f82b-41ae-8597-054b70bd5742",
        "colab": {
          "base_uri": "https://localhost:8080/",
          "height": 34
        }
      },
      "source": [
        "invoice_customer_vehicles_plant.shape"
      ],
      "execution_count": 76,
      "outputs": [
        {
          "output_type": "execute_result",
          "data": {
            "text/plain": [
              "(743801, 33)"
            ]
          },
          "metadata": {
            "tags": []
          },
          "execution_count": 76
        }
      ]
    },
    {
      "cell_type": "code",
      "metadata": {
        "id": "-SueEcdtrCu6",
        "colab_type": "code",
        "outputId": "2959b8f2-7a43-41cd-ca51-8064edc5e440",
        "colab": {
          "base_uri": "https://localhost:8080/",
          "height": 595
        }
      },
      "source": [
        "invoice_customer_vehicles_plant.isnull().sum()"
      ],
      "execution_count": 77,
      "outputs": [
        {
          "output_type": "execute_result",
          "data": {
            "text/plain": [
              "CITY                    0\n",
              "Cust Type               0\n",
              "Customer No.            0\n",
              "District                0\n",
              "Invoice Date            0\n",
              "Invoice No              0\n",
              "Invoice Time            0\n",
              "Job Card No             0\n",
              "JobCard Date            0\n",
              "JobCard Time            0\n",
              "KMs Reading             0\n",
              "Labour Total            0\n",
              "Make                    0\n",
              "Misc Total              0\n",
              "Model                   0\n",
              "OSL Total               0\n",
              "Order Type              0\n",
              "Parts Total             0\n",
              "Pin code                0\n",
              "Plant                   0\n",
              "Plant Name1             0\n",
              "Total Amt Wtd Tax.      0\n",
              "User ID                 0\n",
              "Partner Type            0\n",
              "Data Origin             0\n",
              "Title                   0\n",
              "Vehicle Model           0\n",
              "License Plate Number    0\n",
              "Fuel Type               0\n",
              "Name 1                  0\n",
              "Postal Code             0\n",
              "City                    0\n",
              "State                   0\n",
              "dtype: int64"
            ]
          },
          "metadata": {
            "tags": []
          },
          "execution_count": 77
        }
      ]
    },
    {
      "cell_type": "markdown",
      "metadata": {
        "id": "xboWtcYxLV3J",
        "colab_type": "text"
      },
      "source": [
        "## Prepare Data for Clustering after cleaning merged data"
      ]
    },
    {
      "cell_type": "code",
      "metadata": {
        "id": "aPVhZ7MVLPbU",
        "colab_type": "code",
        "outputId": "f4222dd9-93d4-4a72-b71f-d5df0eefe12c",
        "colab": {
          "base_uri": "https://localhost:8080/",
          "height": 445
        }
      },
      "source": [
        "invoice_customer_vehicles_plant.head()"
      ],
      "execution_count": 78,
      "outputs": [
        {
          "output_type": "execute_result",
          "data": {
            "text/html": [
              "<div>\n",
              "<style scoped>\n",
              "    .dataframe tbody tr th:only-of-type {\n",
              "        vertical-align: middle;\n",
              "    }\n",
              "\n",
              "    .dataframe tbody tr th {\n",
              "        vertical-align: top;\n",
              "    }\n",
              "\n",
              "    .dataframe thead th {\n",
              "        text-align: right;\n",
              "    }\n",
              "</style>\n",
              "<table border=\"1\" class=\"dataframe\">\n",
              "  <thead>\n",
              "    <tr style=\"text-align: right;\">\n",
              "      <th></th>\n",
              "      <th>CITY</th>\n",
              "      <th>Cust Type</th>\n",
              "      <th>Customer No.</th>\n",
              "      <th>District</th>\n",
              "      <th>Invoice Date</th>\n",
              "      <th>Invoice No</th>\n",
              "      <th>Invoice Time</th>\n",
              "      <th>Job Card No</th>\n",
              "      <th>JobCard Date</th>\n",
              "      <th>JobCard Time</th>\n",
              "      <th>KMs Reading</th>\n",
              "      <th>Labour Total</th>\n",
              "      <th>Make</th>\n",
              "      <th>Misc Total</th>\n",
              "      <th>Model</th>\n",
              "      <th>OSL Total</th>\n",
              "      <th>Order Type</th>\n",
              "      <th>Parts Total</th>\n",
              "      <th>Pin code</th>\n",
              "      <th>Plant</th>\n",
              "      <th>Plant Name1</th>\n",
              "      <th>Total Amt Wtd Tax.</th>\n",
              "      <th>User ID</th>\n",
              "      <th>Partner Type</th>\n",
              "      <th>Data Origin</th>\n",
              "      <th>Title</th>\n",
              "      <th>Vehicle Model</th>\n",
              "      <th>License Plate Number</th>\n",
              "      <th>Fuel Type</th>\n",
              "      <th>Name 1</th>\n",
              "      <th>Postal Code</th>\n",
              "      <th>City</th>\n",
              "      <th>State</th>\n",
              "    </tr>\n",
              "  </thead>\n",
              "  <tbody>\n",
              "    <tr>\n",
              "      <th>0</th>\n",
              "      <td>Nashik</td>\n",
              "      <td>Retail</td>\n",
              "      <td>E14006</td>\n",
              "      <td>Maharashtra</td>\n",
              "      <td>2017-04-14</td>\n",
              "      <td>7164601412</td>\n",
              "      <td>15:29:52</td>\n",
              "      <td>674656</td>\n",
              "      <td>2017-04-13</td>\n",
              "      <td>17:09:17</td>\n",
              "      <td>35165</td>\n",
              "      <td>579.13</td>\n",
              "      <td>HONDA</td>\n",
              "      <td>0.0</td>\n",
              "      <td>CITY</td>\n",
              "      <td>0.0</td>\n",
              "      <td>Paid Service</td>\n",
              "      <td>40.54</td>\n",
              "      <td>422000</td>\n",
              "      <td>X073</td>\n",
              "      <td>X073- KRITI AUTOMOBILE REPAIR</td>\n",
              "      <td>619.67</td>\n",
              "      <td>X073SA1</td>\n",
              "      <td>1.0</td>\n",
              "      <td>Z001</td>\n",
              "      <td>2.0</td>\n",
              "      <td>Z_HONDA</td>\n",
              "      <td>MH15EB5067</td>\n",
              "      <td>2</td>\n",
              "      <td>X073- KRITI AUTOMOBILE REPAIR</td>\n",
              "      <td>422007</td>\n",
              "      <td>Nashik</td>\n",
              "      <td>Maharashtra</td>\n",
              "    </tr>\n",
              "    <tr>\n",
              "      <th>1</th>\n",
              "      <td>Nashik</td>\n",
              "      <td>Retail</td>\n",
              "      <td>E14006</td>\n",
              "      <td>Maharashtra</td>\n",
              "      <td>2017-07-26</td>\n",
              "      <td>7164602068</td>\n",
              "      <td>12:07:36</td>\n",
              "      <td>809011</td>\n",
              "      <td>2017-07-26</td>\n",
              "      <td>11:01:16</td>\n",
              "      <td>36165</td>\n",
              "      <td>3.46</td>\n",
              "      <td>HONDA</td>\n",
              "      <td>0.0</td>\n",
              "      <td>CITY</td>\n",
              "      <td>0.0</td>\n",
              "      <td>Running Repairs</td>\n",
              "      <td>0.00</td>\n",
              "      <td>422000</td>\n",
              "      <td>X073</td>\n",
              "      <td>X073- KRITI AUTOMOBILE REPAIR</td>\n",
              "      <td>3.46</td>\n",
              "      <td>X073SA1</td>\n",
              "      <td>1.0</td>\n",
              "      <td>Z001</td>\n",
              "      <td>2.0</td>\n",
              "      <td>Z_HONDA</td>\n",
              "      <td>MH15EB5067</td>\n",
              "      <td>2</td>\n",
              "      <td>X073- KRITI AUTOMOBILE REPAIR</td>\n",
              "      <td>422007</td>\n",
              "      <td>Nashik</td>\n",
              "      <td>Maharashtra</td>\n",
              "    </tr>\n",
              "    <tr>\n",
              "      <th>2</th>\n",
              "      <td>Nashik</td>\n",
              "      <td>Retail</td>\n",
              "      <td>E27136</td>\n",
              "      <td>Maharashtra</td>\n",
              "      <td>2017-08-16</td>\n",
              "      <td>7164602334</td>\n",
              "      <td>18:49:05</td>\n",
              "      <td>836012</td>\n",
              "      <td>2017-08-16</td>\n",
              "      <td>16:16:12</td>\n",
              "      <td>89944</td>\n",
              "      <td>3.46</td>\n",
              "      <td>MARUTI SUZUKI</td>\n",
              "      <td>0.0</td>\n",
              "      <td>WAGONR</td>\n",
              "      <td>0.0</td>\n",
              "      <td>Paid Service</td>\n",
              "      <td>0.00</td>\n",
              "      <td>422009</td>\n",
              "      <td>X073</td>\n",
              "      <td>X073- KRITI AUTOMOBILE REPAIR</td>\n",
              "      <td>3.46</td>\n",
              "      <td>X073SA1</td>\n",
              "      <td>1.0</td>\n",
              "      <td>Z001</td>\n",
              "      <td>2.0</td>\n",
              "      <td>Z_MARUTI</td>\n",
              "      <td>MH04BK0425</td>\n",
              "      <td>2</td>\n",
              "      <td>X073- KRITI AUTOMOBILE REPAIR</td>\n",
              "      <td>422007</td>\n",
              "      <td>Nashik</td>\n",
              "      <td>Maharashtra</td>\n",
              "    </tr>\n",
              "    <tr>\n",
              "      <th>3</th>\n",
              "      <td>Pune</td>\n",
              "      <td>Retail</td>\n",
              "      <td>E26786</td>\n",
              "      <td>Maharashtra</td>\n",
              "      <td>2017-03-18</td>\n",
              "      <td>7164601170</td>\n",
              "      <td>14:46:31</td>\n",
              "      <td>626932</td>\n",
              "      <td>2017-03-04</td>\n",
              "      <td>11:41:33</td>\n",
              "      <td>30796</td>\n",
              "      <td>150.48</td>\n",
              "      <td>MARUTI SUZUKI</td>\n",
              "      <td>0.0</td>\n",
              "      <td>WAGONR</td>\n",
              "      <td>0.0</td>\n",
              "      <td>Running Repairs</td>\n",
              "      <td>0.00</td>\n",
              "      <td>411056</td>\n",
              "      <td>X073</td>\n",
              "      <td>X073- KRITI AUTOMOBILE REPAIR</td>\n",
              "      <td>150.48</td>\n",
              "      <td>X073SA1</td>\n",
              "      <td>1.0</td>\n",
              "      <td>Z001</td>\n",
              "      <td>2.0</td>\n",
              "      <td>Z_MARUTI</td>\n",
              "      <td>MH15EB6209</td>\n",
              "      <td>1</td>\n",
              "      <td>X073- KRITI AUTOMOBILE REPAIR</td>\n",
              "      <td>422007</td>\n",
              "      <td>Nashik</td>\n",
              "      <td>Maharashtra</td>\n",
              "    </tr>\n",
              "    <tr>\n",
              "      <th>4</th>\n",
              "      <td>NASIK</td>\n",
              "      <td>Retail</td>\n",
              "      <td>131</td>\n",
              "      <td>Maharashtra</td>\n",
              "      <td>2016-12-31</td>\n",
              "      <td>7164600695</td>\n",
              "      <td>11:55:07</td>\n",
              "      <td>554552</td>\n",
              "      <td>2016-12-28</td>\n",
              "      <td>16:50:13</td>\n",
              "      <td>177260</td>\n",
              "      <td>1519.08</td>\n",
              "      <td>MARUTI SUZUKI</td>\n",
              "      <td>0.0</td>\n",
              "      <td>ALTO</td>\n",
              "      <td>0.0</td>\n",
              "      <td>Paid Service</td>\n",
              "      <td>889.92</td>\n",
              "      <td>422000</td>\n",
              "      <td>X073</td>\n",
              "      <td>X073- KRITI AUTOMOBILE REPAIR</td>\n",
              "      <td>2409.00</td>\n",
              "      <td>X073SA1</td>\n",
              "      <td>1.0</td>\n",
              "      <td>Z005</td>\n",
              "      <td>2.0</td>\n",
              "      <td>Z_MARUTI</td>\n",
              "      <td>MH15BD6287</td>\n",
              "      <td>1</td>\n",
              "      <td>X073- KRITI AUTOMOBILE REPAIR</td>\n",
              "      <td>422007</td>\n",
              "      <td>Nashik</td>\n",
              "      <td>Maharashtra</td>\n",
              "    </tr>\n",
              "  </tbody>\n",
              "</table>\n",
              "</div>"
            ],
            "text/plain": [
              "     CITY Cust Type Customer No.  ... Postal Code    City        State\n",
              "0  Nashik    Retail       E14006  ...      422007  Nashik  Maharashtra\n",
              "1  Nashik    Retail       E14006  ...      422007  Nashik  Maharashtra\n",
              "2  Nashik    Retail       E27136  ...      422007  Nashik  Maharashtra\n",
              "3    Pune    Retail       E26786  ...      422007  Nashik  Maharashtra\n",
              "4   NASIK    Retail          131  ...      422007  Nashik  Maharashtra\n",
              "\n",
              "[5 rows x 33 columns]"
            ]
          },
          "metadata": {
            "tags": []
          },
          "execution_count": 78
        }
      ]
    },
    {
      "cell_type": "code",
      "metadata": {
        "id": "uzWSlzcuDFqd",
        "colab_type": "code",
        "colab": {}
      },
      "source": [
        "invoice_customer_vehicles_plant['Fuel Type'] = invoice_customer_vehicles_plant['Fuel Type'].astype(int)"
      ],
      "execution_count": 0,
      "outputs": []
    },
    {
      "cell_type": "code",
      "metadata": {
        "id": "hgLWLRlrDXhE",
        "colab_type": "code",
        "colab": {
          "base_uri": "https://localhost:8080/",
          "height": 119
        },
        "outputId": "890dd773-ad3f-401a-b909-fec1c233b11e"
      },
      "source": [
        "(invoice_customer_vehicles_plant['Fuel Type'].value_counts()/len(invoice_customer_vehicles_plant['Fuel Type']))*100"
      ],
      "execution_count": 80,
      "outputs": [
        {
          "output_type": "execute_result",
          "data": {
            "text/plain": [
              "2    63.509460\n",
              "1    33.995787\n",
              "3     1.524198\n",
              "4     0.968135\n",
              "5     0.002420\n",
              "Name: Fuel Type, dtype: float64"
            ]
          },
          "metadata": {
            "tags": []
          },
          "execution_count": 80
        }
      ]
    },
    {
      "cell_type": "code",
      "metadata": {
        "id": "EoJbcAPpv-uD",
        "colab_type": "code",
        "outputId": "21965260-7b91-4b0f-b0e4-604694be2eed",
        "colab": {
          "base_uri": "https://localhost:8080/",
          "height": 34
        }
      },
      "source": [
        "invoice_customer_vehicles_plant.shape"
      ],
      "execution_count": 81,
      "outputs": [
        {
          "output_type": "execute_result",
          "data": {
            "text/plain": [
              "(743801, 33)"
            ]
          },
          "metadata": {
            "tags": []
          },
          "execution_count": 81
        }
      ]
    },
    {
      "cell_type": "code",
      "metadata": {
        "id": "l_gyEZDhw2hM",
        "colab_type": "code",
        "outputId": "6825cb1d-b868-4495-a9bf-95b6b0d82670",
        "colab": {
          "base_uri": "https://localhost:8080/",
          "height": 334
        }
      },
      "source": [
        "invoice_customer_vehicles_plant.describe()"
      ],
      "execution_count": 82,
      "outputs": [
        {
          "output_type": "execute_result",
          "data": {
            "text/html": [
              "<div>\n",
              "<style scoped>\n",
              "    .dataframe tbody tr th:only-of-type {\n",
              "        vertical-align: middle;\n",
              "    }\n",
              "\n",
              "    .dataframe tbody tr th {\n",
              "        vertical-align: top;\n",
              "    }\n",
              "\n",
              "    .dataframe thead th {\n",
              "        text-align: right;\n",
              "    }\n",
              "</style>\n",
              "<table border=\"1\" class=\"dataframe\">\n",
              "  <thead>\n",
              "    <tr style=\"text-align: right;\">\n",
              "      <th></th>\n",
              "      <th>Invoice No</th>\n",
              "      <th>Job Card No</th>\n",
              "      <th>KMs Reading</th>\n",
              "      <th>Labour Total</th>\n",
              "      <th>Misc Total</th>\n",
              "      <th>OSL Total</th>\n",
              "      <th>Parts Total</th>\n",
              "      <th>Pin code</th>\n",
              "      <th>Total Amt Wtd Tax.</th>\n",
              "      <th>Partner Type</th>\n",
              "      <th>Title</th>\n",
              "      <th>Fuel Type</th>\n",
              "      <th>Postal Code</th>\n",
              "    </tr>\n",
              "  </thead>\n",
              "  <tbody>\n",
              "    <tr>\n",
              "      <th>count</th>\n",
              "      <td>7.438010e+05</td>\n",
              "      <td>7.438010e+05</td>\n",
              "      <td>7.438010e+05</td>\n",
              "      <td>743801.000000</td>\n",
              "      <td>743801.000000</td>\n",
              "      <td>743801.000000</td>\n",
              "      <td>743801.000000</td>\n",
              "      <td>743801.000000</td>\n",
              "      <td>743801.000000</td>\n",
              "      <td>743801.000000</td>\n",
              "      <td>743801.000000</td>\n",
              "      <td>743801.000000</td>\n",
              "      <td>743801.000000</td>\n",
              "    </tr>\n",
              "    <tr>\n",
              "      <th>mean</th>\n",
              "      <td>7.183450e+09</td>\n",
              "      <td>6.098939e+05</td>\n",
              "      <td>8.416413e+04</td>\n",
              "      <td>1530.608330</td>\n",
              "      <td>291.219836</td>\n",
              "      <td>76.105915</td>\n",
              "      <td>2218.535148</td>\n",
              "      <td>471388.503781</td>\n",
              "      <td>4116.469230</td>\n",
              "      <td>1.231200</td>\n",
              "      <td>1.952764</td>\n",
              "      <td>1.694719</td>\n",
              "      <td>478618.281046</td>\n",
              "    </tr>\n",
              "    <tr>\n",
              "      <th>std</th>\n",
              "      <td>4.735438e+07</td>\n",
              "      <td>2.304533e+05</td>\n",
              "      <td>1.430325e+05</td>\n",
              "      <td>4828.993265</td>\n",
              "      <td>2435.280185</td>\n",
              "      <td>1055.780333</td>\n",
              "      <td>7810.100921</td>\n",
              "      <td>187263.159601</td>\n",
              "      <td>11360.422771</td>\n",
              "      <td>45.491633</td>\n",
              "      <td>0.212143</td>\n",
              "      <td>0.548587</td>\n",
              "      <td>179724.614738</td>\n",
              "    </tr>\n",
              "    <tr>\n",
              "      <th>min</th>\n",
              "      <td>7.000000e+09</td>\n",
              "      <td>1.190000e+02</td>\n",
              "      <td>1.000000e+00</td>\n",
              "      <td>-164.950000</td>\n",
              "      <td>-0.060000</td>\n",
              "      <td>0.000000</td>\n",
              "      <td>-2343.200000</td>\n",
              "      <td>0.000000</td>\n",
              "      <td>-2342.200000</td>\n",
              "      <td>1.000000</td>\n",
              "      <td>1.000000</td>\n",
              "      <td>1.000000</td>\n",
              "      <td>121006.000000</td>\n",
              "    </tr>\n",
              "    <tr>\n",
              "      <th>25%</th>\n",
              "      <td>7.159801e+09</td>\n",
              "      <td>4.254400e+05</td>\n",
              "      <td>3.606100e+04</td>\n",
              "      <td>0.010000</td>\n",
              "      <td>0.000000</td>\n",
              "      <td>0.000000</td>\n",
              "      <td>0.000000</td>\n",
              "      <td>333026.000000</td>\n",
              "      <td>221.560000</td>\n",
              "      <td>1.000000</td>\n",
              "      <td>2.000000</td>\n",
              "      <td>1.000000</td>\n",
              "      <td>342001.000000</td>\n",
              "    </tr>\n",
              "    <tr>\n",
              "      <th>50%</th>\n",
              "      <td>7.179401e+09</td>\n",
              "      <td>6.160930e+05</td>\n",
              "      <td>6.439100e+04</td>\n",
              "      <td>349.960000</td>\n",
              "      <td>0.000000</td>\n",
              "      <td>0.000000</td>\n",
              "      <td>148.390000</td>\n",
              "      <td>485001.000000</td>\n",
              "      <td>1105.200000</td>\n",
              "      <td>1.000000</td>\n",
              "      <td>2.000000</td>\n",
              "      <td>2.000000</td>\n",
              "      <td>500050.000000</td>\n",
              "    </tr>\n",
              "    <tr>\n",
              "      <th>75%</th>\n",
              "      <td>7.214001e+09</td>\n",
              "      <td>8.056700e+05</td>\n",
              "      <td>1.005160e+05</td>\n",
              "      <td>1244.250000</td>\n",
              "      <td>0.000000</td>\n",
              "      <td>0.000000</td>\n",
              "      <td>1981.000000</td>\n",
              "      <td>608001.000000</td>\n",
              "      <td>3925.150000</td>\n",
              "      <td>1.000000</td>\n",
              "      <td>2.000000</td>\n",
              "      <td>2.000000</td>\n",
              "      <td>608001.000000</td>\n",
              "    </tr>\n",
              "    <tr>\n",
              "      <th>max</th>\n",
              "      <td>7.309000e+09</td>\n",
              "      <td>1.001292e+06</td>\n",
              "      <td>9.999999e+06</td>\n",
              "      <td>434000.000000</td>\n",
              "      <td>355200.060000</td>\n",
              "      <td>99974.800000</td>\n",
              "      <td>640296.060000</td>\n",
              "      <td>999999.000000</td>\n",
              "      <td>720296.070000</td>\n",
              "      <td>9003.000000</td>\n",
              "      <td>2.000000</td>\n",
              "      <td>5.000000</td>\n",
              "      <td>999999.000000</td>\n",
              "    </tr>\n",
              "  </tbody>\n",
              "</table>\n",
              "</div>"
            ],
            "text/plain": [
              "         Invoice No   Job Card No  ...      Fuel Type    Postal Code\n",
              "count  7.438010e+05  7.438010e+05  ...  743801.000000  743801.000000\n",
              "mean   7.183450e+09  6.098939e+05  ...       1.694719  478618.281046\n",
              "std    4.735438e+07  2.304533e+05  ...       0.548587  179724.614738\n",
              "min    7.000000e+09  1.190000e+02  ...       1.000000  121006.000000\n",
              "25%    7.159801e+09  4.254400e+05  ...       1.000000  342001.000000\n",
              "50%    7.179401e+09  6.160930e+05  ...       2.000000  500050.000000\n",
              "75%    7.214001e+09  8.056700e+05  ...       2.000000  608001.000000\n",
              "max    7.309000e+09  1.001292e+06  ...       5.000000  999999.000000\n",
              "\n",
              "[8 rows x 13 columns]"
            ]
          },
          "metadata": {
            "tags": []
          },
          "execution_count": 82
        }
      ]
    },
    {
      "cell_type": "code",
      "metadata": {
        "id": "tE1NjTNX1kVg",
        "colab_type": "code",
        "outputId": "58c1fbf5-2223-4ad1-d260-f4adbf2f0750",
        "colab": {
          "base_uri": "https://localhost:8080/",
          "height": 170
        }
      },
      "source": [
        "invoice_customer_vehicles_plant.shape, invoice_customer_vehicles_plant.columns"
      ],
      "execution_count": 83,
      "outputs": [
        {
          "output_type": "execute_result",
          "data": {
            "text/plain": [
              "((743801, 33),\n",
              " Index(['CITY', 'Cust Type', 'Customer No.', 'District', 'Invoice Date',\n",
              "        'Invoice No', 'Invoice Time', 'Job Card No', 'JobCard Date',\n",
              "        'JobCard Time', 'KMs Reading', 'Labour Total', 'Make', 'Misc Total',\n",
              "        'Model', 'OSL Total', 'Order Type', 'Parts Total', 'Pin code', 'Plant',\n",
              "        'Plant Name1', 'Total Amt Wtd Tax.', 'User ID', 'Partner Type',\n",
              "        'Data Origin', 'Title', 'Vehicle Model', 'License Plate Number',\n",
              "        'Fuel Type', 'Name 1', 'Postal Code', 'City', 'State'],\n",
              "       dtype='object'))"
            ]
          },
          "metadata": {
            "tags": []
          },
          "execution_count": 83
        }
      ]
    },
    {
      "cell_type": "code",
      "metadata": {
        "id": "ZWWfsFxoJ7it",
        "colab_type": "code",
        "colab": {}
      },
      "source": [
        "invoice_customer_vehicles_plant['Invoice Date'] = pd.to_datetime(invoice_customer_vehicles_plant['Invoice Date'])"
      ],
      "execution_count": 0,
      "outputs": []
    },
    {
      "cell_type": "code",
      "metadata": {
        "id": "Zg7fAiE3KC9A",
        "colab_type": "code",
        "colab": {}
      },
      "source": [
        "invoice_customer_vehicles_plant['Invoice Date Time'] = invoice_customer_vehicles_plant['Invoice Date'].astype(str).str.cat(invoice_customer_vehicles_plant[['Invoice Time']].astype(str),sep=' ')"
      ],
      "execution_count": 0,
      "outputs": []
    },
    {
      "cell_type": "code",
      "metadata": {
        "id": "OGPO7y71Kgz2",
        "colab_type": "code",
        "colab": {}
      },
      "source": [
        "invoice_customer_vehicles_plant['JobCard Date'] =  pd.to_datetime(invoice_customer_vehicles_plant['JobCard Date'])"
      ],
      "execution_count": 0,
      "outputs": []
    },
    {
      "cell_type": "code",
      "metadata": {
        "id": "GGrHn9ohKnz6",
        "colab_type": "code",
        "colab": {}
      },
      "source": [
        "invoice_customer_vehicles_plant['JobCard Date Time'] = invoice_customer_vehicles_plant['JobCard Date'].astype(str).str.cat(invoice_customer_vehicles_plant[['JobCard Time']].astype(str), sep=' ')"
      ],
      "execution_count": 0,
      "outputs": []
    },
    {
      "cell_type": "code",
      "metadata": {
        "id": "vU7on3Qt1uTh",
        "colab_type": "code",
        "outputId": "68a9ad00-fb67-41a6-cee1-27aeb9bbaafe",
        "colab": {
          "base_uri": "https://localhost:8080/",
          "height": 204
        }
      },
      "source": [
        "invoice_customer_vehicles_plant.loc[:, ['JobCard Date Time', 'JobCard Date','JobCard Time']].head()"
      ],
      "execution_count": 88,
      "outputs": [
        {
          "output_type": "execute_result",
          "data": {
            "text/html": [
              "<div>\n",
              "<style scoped>\n",
              "    .dataframe tbody tr th:only-of-type {\n",
              "        vertical-align: middle;\n",
              "    }\n",
              "\n",
              "    .dataframe tbody tr th {\n",
              "        vertical-align: top;\n",
              "    }\n",
              "\n",
              "    .dataframe thead th {\n",
              "        text-align: right;\n",
              "    }\n",
              "</style>\n",
              "<table border=\"1\" class=\"dataframe\">\n",
              "  <thead>\n",
              "    <tr style=\"text-align: right;\">\n",
              "      <th></th>\n",
              "      <th>JobCard Date Time</th>\n",
              "      <th>JobCard Date</th>\n",
              "      <th>JobCard Time</th>\n",
              "    </tr>\n",
              "  </thead>\n",
              "  <tbody>\n",
              "    <tr>\n",
              "      <th>0</th>\n",
              "      <td>2017-04-13 17:09:17</td>\n",
              "      <td>2017-04-13</td>\n",
              "      <td>17:09:17</td>\n",
              "    </tr>\n",
              "    <tr>\n",
              "      <th>1</th>\n",
              "      <td>2017-07-26 11:01:16</td>\n",
              "      <td>2017-07-26</td>\n",
              "      <td>11:01:16</td>\n",
              "    </tr>\n",
              "    <tr>\n",
              "      <th>2</th>\n",
              "      <td>2017-08-16 16:16:12</td>\n",
              "      <td>2017-08-16</td>\n",
              "      <td>16:16:12</td>\n",
              "    </tr>\n",
              "    <tr>\n",
              "      <th>3</th>\n",
              "      <td>2017-03-04 11:41:33</td>\n",
              "      <td>2017-03-04</td>\n",
              "      <td>11:41:33</td>\n",
              "    </tr>\n",
              "    <tr>\n",
              "      <th>4</th>\n",
              "      <td>2016-12-28 16:50:13</td>\n",
              "      <td>2016-12-28</td>\n",
              "      <td>16:50:13</td>\n",
              "    </tr>\n",
              "  </tbody>\n",
              "</table>\n",
              "</div>"
            ],
            "text/plain": [
              "     JobCard Date Time JobCard Date JobCard Time\n",
              "0  2017-04-13 17:09:17   2017-04-13     17:09:17\n",
              "1  2017-07-26 11:01:16   2017-07-26     11:01:16\n",
              "2  2017-08-16 16:16:12   2017-08-16     16:16:12\n",
              "3  2017-03-04 11:41:33   2017-03-04     11:41:33\n",
              "4  2016-12-28 16:50:13   2016-12-28     16:50:13"
            ]
          },
          "metadata": {
            "tags": []
          },
          "execution_count": 88
        }
      ]
    },
    {
      "cell_type": "code",
      "metadata": {
        "id": "W-uk27pwLcpo",
        "colab_type": "code",
        "outputId": "569f3dfb-6c2f-467d-cc99-eac41366d6c3",
        "colab": {
          "base_uri": "https://localhost:8080/",
          "height": 204
        }
      },
      "source": [
        "invoice_customer_vehicles_plant.loc[:, ['Invoice Date Time', 'Invoice Date','Invoice Time']].head()"
      ],
      "execution_count": 89,
      "outputs": [
        {
          "output_type": "execute_result",
          "data": {
            "text/html": [
              "<div>\n",
              "<style scoped>\n",
              "    .dataframe tbody tr th:only-of-type {\n",
              "        vertical-align: middle;\n",
              "    }\n",
              "\n",
              "    .dataframe tbody tr th {\n",
              "        vertical-align: top;\n",
              "    }\n",
              "\n",
              "    .dataframe thead th {\n",
              "        text-align: right;\n",
              "    }\n",
              "</style>\n",
              "<table border=\"1\" class=\"dataframe\">\n",
              "  <thead>\n",
              "    <tr style=\"text-align: right;\">\n",
              "      <th></th>\n",
              "      <th>Invoice Date Time</th>\n",
              "      <th>Invoice Date</th>\n",
              "      <th>Invoice Time</th>\n",
              "    </tr>\n",
              "  </thead>\n",
              "  <tbody>\n",
              "    <tr>\n",
              "      <th>0</th>\n",
              "      <td>2017-04-14 15:29:52</td>\n",
              "      <td>2017-04-14</td>\n",
              "      <td>15:29:52</td>\n",
              "    </tr>\n",
              "    <tr>\n",
              "      <th>1</th>\n",
              "      <td>2017-07-26 12:07:36</td>\n",
              "      <td>2017-07-26</td>\n",
              "      <td>12:07:36</td>\n",
              "    </tr>\n",
              "    <tr>\n",
              "      <th>2</th>\n",
              "      <td>2017-08-16 18:49:05</td>\n",
              "      <td>2017-08-16</td>\n",
              "      <td>18:49:05</td>\n",
              "    </tr>\n",
              "    <tr>\n",
              "      <th>3</th>\n",
              "      <td>2017-03-18 14:46:31</td>\n",
              "      <td>2017-03-18</td>\n",
              "      <td>14:46:31</td>\n",
              "    </tr>\n",
              "    <tr>\n",
              "      <th>4</th>\n",
              "      <td>2016-12-31 11:55:07</td>\n",
              "      <td>2016-12-31</td>\n",
              "      <td>11:55:07</td>\n",
              "    </tr>\n",
              "  </tbody>\n",
              "</table>\n",
              "</div>"
            ],
            "text/plain": [
              "     Invoice Date Time Invoice Date Invoice Time\n",
              "0  2017-04-14 15:29:52   2017-04-14     15:29:52\n",
              "1  2017-07-26 12:07:36   2017-07-26     12:07:36\n",
              "2  2017-08-16 18:49:05   2017-08-16     18:49:05\n",
              "3  2017-03-18 14:46:31   2017-03-18     14:46:31\n",
              "4  2016-12-31 11:55:07   2016-12-31     11:55:07"
            ]
          },
          "metadata": {
            "tags": []
          },
          "execution_count": 89
        }
      ]
    },
    {
      "cell_type": "code",
      "metadata": {
        "id": "9y6CQMMvLgpK",
        "colab_type": "code",
        "colab": {}
      },
      "source": [
        "invoice_customer_vehicles_plant['Invoice Date Time'] = pd.to_datetime(invoice_customer_vehicles_plant['Invoice Date Time'])"
      ],
      "execution_count": 0,
      "outputs": []
    },
    {
      "cell_type": "code",
      "metadata": {
        "id": "reiTdg60LuOU",
        "colab_type": "code",
        "colab": {}
      },
      "source": [
        "invoice_customer_vehicles_plant['JobCard Date Time'] = pd.to_datetime(invoice_customer_vehicles_plant['JobCard Date Time'])"
      ],
      "execution_count": 0,
      "outputs": []
    },
    {
      "cell_type": "code",
      "metadata": {
        "id": "tmqSn4ydL1G-",
        "colab_type": "code",
        "colab": {}
      },
      "source": [
        "invoice_customer_vehicles_plant['ServiceTime'] = invoice_customer_vehicles_plant['Invoice Date Time']-invoice_customer_vehicles_plant['JobCard Date Time']"
      ],
      "execution_count": 0,
      "outputs": []
    },
    {
      "cell_type": "code",
      "metadata": {
        "id": "SnuRQvgYL9iS",
        "colab_type": "code",
        "outputId": "70395efe-f85e-4ebd-d4c6-5819c039dc2f",
        "colab": {
          "base_uri": "https://localhost:8080/",
          "height": 204
        }
      },
      "source": [
        "invoice_customer_vehicles_plant.loc[:, ['ServiceTime']].head()"
      ],
      "execution_count": 93,
      "outputs": [
        {
          "output_type": "execute_result",
          "data": {
            "text/html": [
              "<div>\n",
              "<style scoped>\n",
              "    .dataframe tbody tr th:only-of-type {\n",
              "        vertical-align: middle;\n",
              "    }\n",
              "\n",
              "    .dataframe tbody tr th {\n",
              "        vertical-align: top;\n",
              "    }\n",
              "\n",
              "    .dataframe thead th {\n",
              "        text-align: right;\n",
              "    }\n",
              "</style>\n",
              "<table border=\"1\" class=\"dataframe\">\n",
              "  <thead>\n",
              "    <tr style=\"text-align: right;\">\n",
              "      <th></th>\n",
              "      <th>ServiceTime</th>\n",
              "    </tr>\n",
              "  </thead>\n",
              "  <tbody>\n",
              "    <tr>\n",
              "      <th>0</th>\n",
              "      <td>0 days 22:20:35</td>\n",
              "    </tr>\n",
              "    <tr>\n",
              "      <th>1</th>\n",
              "      <td>0 days 01:06:20</td>\n",
              "    </tr>\n",
              "    <tr>\n",
              "      <th>2</th>\n",
              "      <td>0 days 02:32:53</td>\n",
              "    </tr>\n",
              "    <tr>\n",
              "      <th>3</th>\n",
              "      <td>14 days 03:04:58</td>\n",
              "    </tr>\n",
              "    <tr>\n",
              "      <th>4</th>\n",
              "      <td>2 days 19:04:54</td>\n",
              "    </tr>\n",
              "  </tbody>\n",
              "</table>\n",
              "</div>"
            ],
            "text/plain": [
              "       ServiceTime\n",
              "0  0 days 22:20:35\n",
              "1  0 days 01:06:20\n",
              "2  0 days 02:32:53\n",
              "3 14 days 03:04:58\n",
              "4  2 days 19:04:54"
            ]
          },
          "metadata": {
            "tags": []
          },
          "execution_count": 93
        }
      ]
    },
    {
      "cell_type": "code",
      "metadata": {
        "id": "oCjeRouZMNZi",
        "colab_type": "code",
        "outputId": "73d5d48e-c8dc-496f-9a00-312838a0515e",
        "colab": {
          "base_uri": "https://localhost:8080/",
          "height": 297
        }
      },
      "source": [
        "invoice_customer_vehicles_plant.loc[:, ['ServiceTime']].describe()"
      ],
      "execution_count": 94,
      "outputs": [
        {
          "output_type": "execute_result",
          "data": {
            "text/html": [
              "<div>\n",
              "<style scoped>\n",
              "    .dataframe tbody tr th:only-of-type {\n",
              "        vertical-align: middle;\n",
              "    }\n",
              "\n",
              "    .dataframe tbody tr th {\n",
              "        vertical-align: top;\n",
              "    }\n",
              "\n",
              "    .dataframe thead th {\n",
              "        text-align: right;\n",
              "    }\n",
              "</style>\n",
              "<table border=\"1\" class=\"dataframe\">\n",
              "  <thead>\n",
              "    <tr style=\"text-align: right;\">\n",
              "      <th></th>\n",
              "      <th>ServiceTime</th>\n",
              "    </tr>\n",
              "  </thead>\n",
              "  <tbody>\n",
              "    <tr>\n",
              "      <th>count</th>\n",
              "      <td>743801</td>\n",
              "    </tr>\n",
              "    <tr>\n",
              "      <th>mean</th>\n",
              "      <td>4 days 14:12:20.529961</td>\n",
              "    </tr>\n",
              "    <tr>\n",
              "      <th>std</th>\n",
              "      <td>14 days 09:21:48.693044</td>\n",
              "    </tr>\n",
              "    <tr>\n",
              "      <th>min</th>\n",
              "      <td>-1 days +23:59:27</td>\n",
              "    </tr>\n",
              "    <tr>\n",
              "      <th>25%</th>\n",
              "      <td>0 days 01:34:17</td>\n",
              "    </tr>\n",
              "    <tr>\n",
              "      <th>50%</th>\n",
              "      <td>0 days 06:54:15</td>\n",
              "    </tr>\n",
              "    <tr>\n",
              "      <th>75%</th>\n",
              "      <td>3 days 01:07:20</td>\n",
              "    </tr>\n",
              "    <tr>\n",
              "      <th>max</th>\n",
              "      <td>650 days 01:10:26</td>\n",
              "    </tr>\n",
              "  </tbody>\n",
              "</table>\n",
              "</div>"
            ],
            "text/plain": [
              "                   ServiceTime\n",
              "count                   743801\n",
              "mean    4 days 14:12:20.529961\n",
              "std    14 days 09:21:48.693044\n",
              "min          -1 days +23:59:27\n",
              "25%            0 days 01:34:17\n",
              "50%            0 days 06:54:15\n",
              "75%            3 days 01:07:20\n",
              "max          650 days 01:10:26"
            ]
          },
          "metadata": {
            "tags": []
          },
          "execution_count": 94
        }
      ]
    },
    {
      "cell_type": "code",
      "metadata": {
        "id": "CTH6E6IcMVii",
        "colab_type": "code",
        "colab": {}
      },
      "source": [
        "invoice_customer_vehicles_plant = invoice_customer_vehicles_plant.loc[invoice_customer_vehicles_plant['ServiceTime']>pd.Timedelta(hours=0),:]"
      ],
      "execution_count": 0,
      "outputs": []
    },
    {
      "cell_type": "code",
      "metadata": {
        "id": "U3KP90vEMlNt",
        "colab_type": "code",
        "outputId": "88cc928f-5fd9-4145-ceee-ca75a3e18d54",
        "colab": {
          "base_uri": "https://localhost:8080/",
          "height": 297
        }
      },
      "source": [
        "invoice_customer_vehicles_plant.loc[:, ['ServiceTime']].describe()"
      ],
      "execution_count": 96,
      "outputs": [
        {
          "output_type": "execute_result",
          "data": {
            "text/html": [
              "<div>\n",
              "<style scoped>\n",
              "    .dataframe tbody tr th:only-of-type {\n",
              "        vertical-align: middle;\n",
              "    }\n",
              "\n",
              "    .dataframe tbody tr th {\n",
              "        vertical-align: top;\n",
              "    }\n",
              "\n",
              "    .dataframe thead th {\n",
              "        text-align: right;\n",
              "    }\n",
              "</style>\n",
              "<table border=\"1\" class=\"dataframe\">\n",
              "  <thead>\n",
              "    <tr style=\"text-align: right;\">\n",
              "      <th></th>\n",
              "      <th>ServiceTime</th>\n",
              "    </tr>\n",
              "  </thead>\n",
              "  <tbody>\n",
              "    <tr>\n",
              "      <th>count</th>\n",
              "      <td>743800</td>\n",
              "    </tr>\n",
              "    <tr>\n",
              "      <th>mean</th>\n",
              "      <td>4 days 14:12:21.063402</td>\n",
              "    </tr>\n",
              "    <tr>\n",
              "      <th>std</th>\n",
              "      <td>14 days 09:21:49.443709</td>\n",
              "    </tr>\n",
              "    <tr>\n",
              "      <th>min</th>\n",
              "      <td>0 days 00:00:36</td>\n",
              "    </tr>\n",
              "    <tr>\n",
              "      <th>25%</th>\n",
              "      <td>0 days 01:34:17</td>\n",
              "    </tr>\n",
              "    <tr>\n",
              "      <th>50%</th>\n",
              "      <td>0 days 06:54:15</td>\n",
              "    </tr>\n",
              "    <tr>\n",
              "      <th>75%</th>\n",
              "      <td>3 days 01:07:20.250000</td>\n",
              "    </tr>\n",
              "    <tr>\n",
              "      <th>max</th>\n",
              "      <td>650 days 01:10:26</td>\n",
              "    </tr>\n",
              "  </tbody>\n",
              "</table>\n",
              "</div>"
            ],
            "text/plain": [
              "                   ServiceTime\n",
              "count                   743800\n",
              "mean    4 days 14:12:21.063402\n",
              "std    14 days 09:21:49.443709\n",
              "min            0 days 00:00:36\n",
              "25%            0 days 01:34:17\n",
              "50%            0 days 06:54:15\n",
              "75%     3 days 01:07:20.250000\n",
              "max          650 days 01:10:26"
            ]
          },
          "metadata": {
            "tags": []
          },
          "execution_count": 96
        }
      ]
    },
    {
      "cell_type": "code",
      "metadata": {
        "id": "DCfkzQkwMylP",
        "colab_type": "code",
        "colab": {}
      },
      "source": [
        "invoice_customer_vehicles_plant['ServiceTime_category']=None\n",
        "invoice_customer_vehicles_plant.loc[invoice_customer_vehicles_plant['ServiceTime']<pd.Timedelta(hours=13),'ServiceTime_category']='super_fast'\n",
        "invoice_customer_vehicles_plant.loc[(invoice_customer_vehicles_plant['ServiceTime']>=pd.Timedelta(hours=13))&(invoice_customer_vehicles_plant['ServiceTime']<pd.Timedelta(hours=36)),'ServiceTime_category']='fast'\n",
        "invoice_customer_vehicles_plant.loc[(invoice_customer_vehicles_plant['ServiceTime']>=pd.Timedelta(hours=36))&(invoice_customer_vehicles_plant['ServiceTime']<pd.Timedelta(hours=61)),'ServiceTime_category']='mid'\n",
        "invoice_customer_vehicles_plant.loc[(invoice_customer_vehicles_plant['ServiceTime']>=pd.Timedelta(hours=61))&(invoice_customer_vehicles_plant['ServiceTime']<pd.Timedelta(hours=84)),'ServiceTime_category']='slow'\n",
        "invoice_customer_vehicles_plant.loc[invoice_customer_vehicles_plant['ServiceTime']>=pd.Timedelta(hours=84),'ServiceTime_category']='super_slow'"
      ],
      "execution_count": 0,
      "outputs": []
    },
    {
      "cell_type": "code",
      "metadata": {
        "id": "S8PxuX18OITq",
        "colab_type": "code",
        "colab": {}
      },
      "source": [
        "invoice_customer_vehicles_plant.drop(columns=['Invoice Time', 'Invoice Date', 'Invoice No', 'JobCard Date', 'JobCard Time', 'KMs Reading', 'Make', 'Model', 'Pin code', 'Plant', 'Plant Name1', 'User ID', 'District', 'License Plate Number', 'Name 1', 'Postal Code', 'CITY', 'State', 'Invoice Date Time', 'JobCard Date Time', 'ServiceTime'], inplace=True)"
      ],
      "execution_count": 0,
      "outputs": []
    },
    {
      "cell_type": "code",
      "metadata": {
        "id": "3wOR3eEhN7iZ",
        "colab_type": "code",
        "outputId": "286f982f-23fe-4ff1-f155-a02a15ed292d",
        "colab": {
          "base_uri": "https://localhost:8080/",
          "height": 306
        }
      },
      "source": [
        "invoice_customer_vehicles_plant.head()"
      ],
      "execution_count": 99,
      "outputs": [
        {
          "output_type": "execute_result",
          "data": {
            "text/html": [
              "<div>\n",
              "<style scoped>\n",
              "    .dataframe tbody tr th:only-of-type {\n",
              "        vertical-align: middle;\n",
              "    }\n",
              "\n",
              "    .dataframe tbody tr th {\n",
              "        vertical-align: top;\n",
              "    }\n",
              "\n",
              "    .dataframe thead th {\n",
              "        text-align: right;\n",
              "    }\n",
              "</style>\n",
              "<table border=\"1\" class=\"dataframe\">\n",
              "  <thead>\n",
              "    <tr style=\"text-align: right;\">\n",
              "      <th></th>\n",
              "      <th>Cust Type</th>\n",
              "      <th>Customer No.</th>\n",
              "      <th>Job Card No</th>\n",
              "      <th>Labour Total</th>\n",
              "      <th>Misc Total</th>\n",
              "      <th>OSL Total</th>\n",
              "      <th>Order Type</th>\n",
              "      <th>Parts Total</th>\n",
              "      <th>Total Amt Wtd Tax.</th>\n",
              "      <th>Partner Type</th>\n",
              "      <th>Data Origin</th>\n",
              "      <th>Title</th>\n",
              "      <th>Vehicle Model</th>\n",
              "      <th>Fuel Type</th>\n",
              "      <th>City</th>\n",
              "      <th>ServiceTime_category</th>\n",
              "    </tr>\n",
              "  </thead>\n",
              "  <tbody>\n",
              "    <tr>\n",
              "      <th>0</th>\n",
              "      <td>Retail</td>\n",
              "      <td>E14006</td>\n",
              "      <td>674656</td>\n",
              "      <td>579.13</td>\n",
              "      <td>0.0</td>\n",
              "      <td>0.0</td>\n",
              "      <td>Paid Service</td>\n",
              "      <td>40.54</td>\n",
              "      <td>619.67</td>\n",
              "      <td>1.0</td>\n",
              "      <td>Z001</td>\n",
              "      <td>2.0</td>\n",
              "      <td>Z_HONDA</td>\n",
              "      <td>2</td>\n",
              "      <td>Nashik</td>\n",
              "      <td>fast</td>\n",
              "    </tr>\n",
              "    <tr>\n",
              "      <th>1</th>\n",
              "      <td>Retail</td>\n",
              "      <td>E14006</td>\n",
              "      <td>809011</td>\n",
              "      <td>3.46</td>\n",
              "      <td>0.0</td>\n",
              "      <td>0.0</td>\n",
              "      <td>Running Repairs</td>\n",
              "      <td>0.00</td>\n",
              "      <td>3.46</td>\n",
              "      <td>1.0</td>\n",
              "      <td>Z001</td>\n",
              "      <td>2.0</td>\n",
              "      <td>Z_HONDA</td>\n",
              "      <td>2</td>\n",
              "      <td>Nashik</td>\n",
              "      <td>super_fast</td>\n",
              "    </tr>\n",
              "    <tr>\n",
              "      <th>2</th>\n",
              "      <td>Retail</td>\n",
              "      <td>E27136</td>\n",
              "      <td>836012</td>\n",
              "      <td>3.46</td>\n",
              "      <td>0.0</td>\n",
              "      <td>0.0</td>\n",
              "      <td>Paid Service</td>\n",
              "      <td>0.00</td>\n",
              "      <td>3.46</td>\n",
              "      <td>1.0</td>\n",
              "      <td>Z001</td>\n",
              "      <td>2.0</td>\n",
              "      <td>Z_MARUTI</td>\n",
              "      <td>2</td>\n",
              "      <td>Nashik</td>\n",
              "      <td>super_fast</td>\n",
              "    </tr>\n",
              "    <tr>\n",
              "      <th>3</th>\n",
              "      <td>Retail</td>\n",
              "      <td>E26786</td>\n",
              "      <td>626932</td>\n",
              "      <td>150.48</td>\n",
              "      <td>0.0</td>\n",
              "      <td>0.0</td>\n",
              "      <td>Running Repairs</td>\n",
              "      <td>0.00</td>\n",
              "      <td>150.48</td>\n",
              "      <td>1.0</td>\n",
              "      <td>Z001</td>\n",
              "      <td>2.0</td>\n",
              "      <td>Z_MARUTI</td>\n",
              "      <td>1</td>\n",
              "      <td>Nashik</td>\n",
              "      <td>super_slow</td>\n",
              "    </tr>\n",
              "    <tr>\n",
              "      <th>4</th>\n",
              "      <td>Retail</td>\n",
              "      <td>131</td>\n",
              "      <td>554552</td>\n",
              "      <td>1519.08</td>\n",
              "      <td>0.0</td>\n",
              "      <td>0.0</td>\n",
              "      <td>Paid Service</td>\n",
              "      <td>889.92</td>\n",
              "      <td>2409.00</td>\n",
              "      <td>1.0</td>\n",
              "      <td>Z005</td>\n",
              "      <td>2.0</td>\n",
              "      <td>Z_MARUTI</td>\n",
              "      <td>1</td>\n",
              "      <td>Nashik</td>\n",
              "      <td>slow</td>\n",
              "    </tr>\n",
              "  </tbody>\n",
              "</table>\n",
              "</div>"
            ],
            "text/plain": [
              "  Cust Type Customer No.  Job Card No  ...  Fuel Type    City  ServiceTime_category\n",
              "0    Retail       E14006       674656  ...          2  Nashik                  fast\n",
              "1    Retail       E14006       809011  ...          2  Nashik            super_fast\n",
              "2    Retail       E27136       836012  ...          2  Nashik            super_fast\n",
              "3    Retail       E26786       626932  ...          1  Nashik            super_slow\n",
              "4    Retail          131       554552  ...          1  Nashik                  slow\n",
              "\n",
              "[5 rows x 16 columns]"
            ]
          },
          "metadata": {
            "tags": []
          },
          "execution_count": 99
        }
      ]
    },
    {
      "cell_type": "markdown",
      "metadata": {
        "id": "O5KHCG7zWRcI",
        "colab_type": "text"
      },
      "source": [
        "**Merge Jtd grouped and invoice_customer_vehicles_plant csv**"
      ]
    },
    {
      "cell_type": "code",
      "metadata": {
        "id": "0E_cdhobWQ0N",
        "colab_type": "code",
        "outputId": "fe9ff9f7-9766-470e-992a-650a926f469f",
        "colab": {
          "base_uri": "https://localhost:8080/",
          "height": 34
        }
      },
      "source": [
        "len(invoice_customer_vehicles_plant['Job Card No'].unique()), len(jtd_grouped['DBM Order'].unique())"
      ],
      "execution_count": 100,
      "outputs": [
        {
          "output_type": "execute_result",
          "data": {
            "text/plain": [
              "(735685, 973473)"
            ]
          },
          "metadata": {
            "tags": []
          },
          "execution_count": 100
        }
      ]
    },
    {
      "cell_type": "code",
      "metadata": {
        "id": "udvRZHfDWp5-",
        "colab_type": "code",
        "colab": {}
      },
      "source": [
        "invoice_customer_vehicles_plant_jtd = pd.merge(invoice_customer_vehicles_plant, jtd_grouped, left_on='Job Card No', right_on='DBM Order').drop('DBM Order', axis=1)"
      ],
      "execution_count": 0,
      "outputs": []
    },
    {
      "cell_type": "code",
      "metadata": {
        "id": "FyDVAUPjW-wd",
        "colab_type": "code",
        "outputId": "3416f3b9-edae-44b8-ad27-a84beef808d8",
        "colab": {
          "base_uri": "https://localhost:8080/",
          "height": 34
        }
      },
      "source": [
        "invoice_customer_vehicles_plant_jtd.shape"
      ],
      "execution_count": 102,
      "outputs": [
        {
          "output_type": "execute_result",
          "data": {
            "text/plain": [
              "(743689, 20)"
            ]
          },
          "metadata": {
            "tags": []
          },
          "execution_count": 102
        }
      ]
    },
    {
      "cell_type": "code",
      "metadata": {
        "id": "s7Ch81IYXFHW",
        "colab_type": "code",
        "outputId": "e88aa636-0717-40e7-94c7-8ca5099ec12d",
        "colab": {
          "base_uri": "https://localhost:8080/",
          "height": 236
        }
      },
      "source": [
        "invoice_customer_vehicles_plant_jtd.head(1)"
      ],
      "execution_count": 103,
      "outputs": [
        {
          "output_type": "execute_result",
          "data": {
            "text/html": [
              "<div>\n",
              "<style scoped>\n",
              "    .dataframe tbody tr th:only-of-type {\n",
              "        vertical-align: middle;\n",
              "    }\n",
              "\n",
              "    .dataframe tbody tr th {\n",
              "        vertical-align: top;\n",
              "    }\n",
              "\n",
              "    .dataframe thead th {\n",
              "        text-align: right;\n",
              "    }\n",
              "</style>\n",
              "<table border=\"1\" class=\"dataframe\">\n",
              "  <thead>\n",
              "    <tr style=\"text-align: right;\">\n",
              "      <th></th>\n",
              "      <th>Cust Type</th>\n",
              "      <th>Customer No.</th>\n",
              "      <th>Job Card No</th>\n",
              "      <th>Labour Total</th>\n",
              "      <th>Misc Total</th>\n",
              "      <th>OSL Total</th>\n",
              "      <th>Order Type</th>\n",
              "      <th>Parts Total</th>\n",
              "      <th>Total Amt Wtd Tax.</th>\n",
              "      <th>Partner Type</th>\n",
              "      <th>Data Origin</th>\n",
              "      <th>Title</th>\n",
              "      <th>Vehicle Model</th>\n",
              "      <th>Fuel Type</th>\n",
              "      <th>City</th>\n",
              "      <th>ServiceTime_category</th>\n",
              "      <th>Description</th>\n",
              "      <th>Item Category</th>\n",
              "      <th>Order Quantity</th>\n",
              "      <th>Net value</th>\n",
              "    </tr>\n",
              "  </thead>\n",
              "  <tbody>\n",
              "    <tr>\n",
              "      <th>0</th>\n",
              "      <td>Retail</td>\n",
              "      <td>E14006</td>\n",
              "      <td>674656</td>\n",
              "      <td>579.13</td>\n",
              "      <td>0.0</td>\n",
              "      <td>0.0</td>\n",
              "      <td>Paid Service</td>\n",
              "      <td>40.54</td>\n",
              "      <td>619.67</td>\n",
              "      <td>1.0</td>\n",
              "      <td>Z001</td>\n",
              "      <td>2.0</td>\n",
              "      <td>Z_HONDA</td>\n",
              "      <td>2</td>\n",
              "      <td>Nashik</td>\n",
              "      <td>fast</td>\n",
              "      <td>Wheel Alignment, MISC LABOR 0.5 HOURS, BALANCE...</td>\n",
              "      <td>P002, P001</td>\n",
              "      <td>33.0</td>\n",
              "      <td>619.67</td>\n",
              "    </tr>\n",
              "  </tbody>\n",
              "</table>\n",
              "</div>"
            ],
            "text/plain": [
              "  Cust Type Customer No.  Job Card No  ...  Item Category  Order Quantity  Net value\n",
              "0    Retail       E14006       674656  ...     P002, P001            33.0     619.67\n",
              "\n",
              "[1 rows x 20 columns]"
            ]
          },
          "metadata": {
            "tags": []
          },
          "execution_count": 103
        }
      ]
    },
    {
      "cell_type": "code",
      "metadata": {
        "id": "t051xCzjO7Q0",
        "colab_type": "code",
        "colab": {}
      },
      "source": [
        "aggregation_by_customer_no = {'Cust Type' : lambda x: str(set(x)).strip(\"{}\").replace(\"'\",\"\"),\n",
        "                              'Labour Total':'sum',\n",
        "                              'Misc Total':'sum',\n",
        "                              'OSL Total':'sum',\n",
        "                              'Order Type' : lambda x: str(set(x)).strip(\"{}\").replace(\"'\",\"\"),\n",
        "                              'Parts Total' : 'sum',\n",
        "                              'Total Amt Wtd Tax.' : 'sum',\n",
        "                              'Partner Type': 'nunique',\n",
        "                              'Data Origin' : lambda x: str(set(x)).strip(\"{}\").replace(\"'\",\"\"),\n",
        "                              'Title' : 'nunique',\n",
        "                              'Vehicle Model': lambda x: str(set(x)).strip(\"{}\").replace(\"'\",\"\"),\n",
        "                              'Fuel Type' : 'nunique',\n",
        "                              'City' : lambda x: str(set(x)).strip(\"{}\").replace(\"'\",\"\"),\n",
        "                              'ServiceTime_category' : lambda x: str(set(x)).strip(\"{}\").replace(\"'\",\"\"),\n",
        "                              'Description' : lambda x: str(set(x)).strip(\"{}\").replace(\"'\",\"\"),\n",
        "                              'Item Category' : lambda x: str(set(x)).strip(\"{}\").replace(\"'\",\"\"),\n",
        "                              'Order Quantity' : 'sum',\n",
        "                              'Net value' : 'sum'}"
      ],
      "execution_count": 0,
      "outputs": []
    },
    {
      "cell_type": "code",
      "metadata": {
        "id": "oNfPf9f8d5A9",
        "colab_type": "code",
        "colab": {}
      },
      "source": [
        "invoice_grouped_data = invoice_customer_vehicles_plant_jtd.groupby('Customer No.').agg(aggregation_by_customer_no).reset_index()"
      ],
      "execution_count": 0,
      "outputs": []
    },
    {
      "cell_type": "code",
      "metadata": {
        "id": "d67Au_xWeDlg",
        "colab_type": "code",
        "outputId": "4c45a04e-ac2a-48bf-bfb2-5c77a4c33310",
        "colab": {
          "base_uri": "https://localhost:8080/",
          "height": 34
        }
      },
      "source": [
        "invoice_grouped_data.shape"
      ],
      "execution_count": 106,
      "outputs": [
        {
          "output_type": "execute_result",
          "data": {
            "text/plain": [
              "(406838, 19)"
            ]
          },
          "metadata": {
            "tags": []
          },
          "execution_count": 106
        }
      ]
    },
    {
      "cell_type": "code",
      "metadata": {
        "id": "7NW0bR7PiIS2",
        "colab_type": "code",
        "outputId": "9b45e5df-fcc7-46f4-a24a-0e73f10b5676",
        "colab": {
          "base_uri": "https://localhost:8080/",
          "height": 236
        }
      },
      "source": [
        "invoice_grouped_data.head(1)"
      ],
      "execution_count": 107,
      "outputs": [
        {
          "output_type": "execute_result",
          "data": {
            "text/html": [
              "<div>\n",
              "<style scoped>\n",
              "    .dataframe tbody tr th:only-of-type {\n",
              "        vertical-align: middle;\n",
              "    }\n",
              "\n",
              "    .dataframe tbody tr th {\n",
              "        vertical-align: top;\n",
              "    }\n",
              "\n",
              "    .dataframe thead th {\n",
              "        text-align: right;\n",
              "    }\n",
              "</style>\n",
              "<table border=\"1\" class=\"dataframe\">\n",
              "  <thead>\n",
              "    <tr style=\"text-align: right;\">\n",
              "      <th></th>\n",
              "      <th>Customer No.</th>\n",
              "      <th>Cust Type</th>\n",
              "      <th>Labour Total</th>\n",
              "      <th>Misc Total</th>\n",
              "      <th>OSL Total</th>\n",
              "      <th>Order Type</th>\n",
              "      <th>Parts Total</th>\n",
              "      <th>Total Amt Wtd Tax.</th>\n",
              "      <th>Partner Type</th>\n",
              "      <th>Data Origin</th>\n",
              "      <th>Title</th>\n",
              "      <th>Vehicle Model</th>\n",
              "      <th>Fuel Type</th>\n",
              "      <th>City</th>\n",
              "      <th>ServiceTime_category</th>\n",
              "      <th>Description</th>\n",
              "      <th>Item Category</th>\n",
              "      <th>Order Quantity</th>\n",
              "      <th>Net value</th>\n",
              "    </tr>\n",
              "  </thead>\n",
              "  <tbody>\n",
              "    <tr>\n",
              "      <th>0</th>\n",
              "      <td>100001</td>\n",
              "      <td>Retail</td>\n",
              "      <td>3429.34</td>\n",
              "      <td>0.0</td>\n",
              "      <td>0.0</td>\n",
              "      <td>Accidental, Running Repairs</td>\n",
              "      <td>834.41</td>\n",
              "      <td>4263.75</td>\n",
              "      <td>1</td>\n",
              "      <td>Z005</td>\n",
              "      <td>1</td>\n",
              "      <td>Z_SKODA, Z_TOYOTA, Z_MAHINDRA</td>\n",
              "      <td>2</td>\n",
              "      <td>Pune</td>\n",
              "      <td>mid, super_slow, super_fast</td>\n",
              "      <td>\"WIPER BLADE 508 mm / 20\", TIE CLIP, PETRONAS ...</td>\n",
              "      <td>P002, P001, P001</td>\n",
              "      <td>1208.2</td>\n",
              "      <td>4263.75</td>\n",
              "    </tr>\n",
              "  </tbody>\n",
              "</table>\n",
              "</div>"
            ],
            "text/plain": [
              "  Customer No. Cust Type  ...  Order Quantity  Net value\n",
              "0       100001    Retail  ...          1208.2    4263.75\n",
              "\n",
              "[1 rows x 19 columns]"
            ]
          },
          "metadata": {
            "tags": []
          },
          "execution_count": 107
        }
      ]
    },
    {
      "cell_type": "code",
      "metadata": {
        "id": "iEvlPQMNlWvN",
        "colab_type": "code",
        "outputId": "cb021b08-df97-4db6-ddb7-74a4fd729b24",
        "colab": {
          "base_uri": "https://localhost:8080/",
          "height": 34
        }
      },
      "source": [
        "','.join(sorted([w.strip(' ') for w in invoice_grouped_data['Order Type'].iloc[50].split(',')]))\n"
      ],
      "execution_count": 108,
      "outputs": [
        {
          "output_type": "execute_result",
          "data": {
            "text/plain": [
              "'Accidental,Paid Service,Running Repairs'"
            ]
          },
          "metadata": {
            "tags": []
          },
          "execution_count": 108
        }
      ]
    },
    {
      "cell_type": "code",
      "metadata": {
        "id": "QdxLZ6HDoc4A",
        "colab_type": "code",
        "colab": {}
      },
      "source": [
        "invoice_grouped_data['Order Type'] = invoice_grouped_data['Order Type'].apply(lambda x: ','.join(sorted([w.strip(' ') for w in x.split(',')])))"
      ],
      "execution_count": 0,
      "outputs": []
    },
    {
      "cell_type": "code",
      "metadata": {
        "id": "5rYE0tpxzV1n",
        "colab_type": "code",
        "colab": {}
      },
      "source": [
        "freq_used_services = ['Running Repairs','Paid Service', 'Paid Service,Running Repairs', 'Accidental']"
      ],
      "execution_count": 0,
      "outputs": []
    },
    {
      "cell_type": "code",
      "metadata": {
        "id": "QSdIIicb1XQe",
        "colab_type": "code",
        "colab": {}
      },
      "source": [
        "invoice_grouped_data['Order Type'] = invoice_grouped_data['Order Type'].apply(lambda order: 'Others' if order not in freq_used_services else order)"
      ],
      "execution_count": 0,
      "outputs": []
    },
    {
      "cell_type": "code",
      "metadata": {
        "id": "N4LF2rH1wQFy",
        "colab_type": "code",
        "colab": {
          "base_uri": "https://localhost:8080/",
          "height": 119
        },
        "outputId": "28c04287-36b7-4861-f1a5-62b66ad7dedd"
      },
      "source": [
        "(invoice_grouped_data['Order Type'].value_counts()/len(invoice_grouped_data['Order Type']))*100"
      ],
      "execution_count": 112,
      "outputs": [
        {
          "output_type": "execute_result",
          "data": {
            "text/plain": [
              "Running Repairs                 45.934500\n",
              "Paid Service                    24.773743\n",
              "Paid Service,Running Repairs    12.827710\n",
              "Others                          10.757845\n",
              "Accidental                       5.706202\n",
              "Name: Order Type, dtype: float64"
            ]
          },
          "metadata": {
            "tags": []
          },
          "execution_count": 112
        }
      ]
    },
    {
      "cell_type": "code",
      "metadata": {
        "id": "MpgXFW__3utp",
        "colab_type": "code",
        "colab": {}
      },
      "source": [
        "most_freq_data_origin = (invoice_grouped_data['Data Origin'].value_counts()/len(invoice_grouped_data['Data Origin'])).iloc[0:7].index"
      ],
      "execution_count": 0,
      "outputs": []
    },
    {
      "cell_type": "code",
      "metadata": {
        "id": "GSGWJdsJoLR2",
        "colab_type": "code",
        "colab": {}
      },
      "source": [
        "invoice_grouped_data['Data Origin'] = invoice_grouped_data['Data Origin'].apply(lambda x: 'Others' if x not in most_freq_data_origin else x)"
      ],
      "execution_count": 0,
      "outputs": []
    },
    {
      "cell_type": "code",
      "metadata": {
        "id": "O1iDKD7P4nAa",
        "colab_type": "code",
        "colab": {
          "base_uri": "https://localhost:8080/",
          "height": 170
        },
        "outputId": "6c412ad1-5afb-4c22-fc7c-f7179c61b965"
      },
      "source": [
        "(invoice_grouped_data['Data Origin'].value_counts()/len(invoice_grouped_data['Data Origin']))*100"
      ],
      "execution_count": 115,
      "outputs": [
        {
          "output_type": "execute_result",
          "data": {
            "text/plain": [
              "Z005      28.169689\n",
              "Z006      24.485913\n",
              "Others    14.111022\n",
              "Z001       8.555494\n",
              "Z004       7.042607\n",
              "Z002       6.759447\n",
              "Z019       5.761507\n",
              "Z021       5.114321\n",
              "Name: Data Origin, dtype: float64"
            ]
          },
          "metadata": {
            "tags": []
          },
          "execution_count": 115
        }
      ]
    },
    {
      "cell_type": "code",
      "metadata": {
        "id": "EpwKLv1T45Z0",
        "colab_type": "code",
        "colab": {}
      },
      "source": [
        "most_freq_used_veh_models = ((invoice_grouped_data['Vehicle Model'].value_counts()/len(invoice_grouped_data['Vehicle Model']))*100)[((invoice_grouped_data['Vehicle Model'].value_counts()/len(invoice_grouped_data['Vehicle Model']))*100)>2].index"
      ],
      "execution_count": 0,
      "outputs": []
    },
    {
      "cell_type": "code",
      "metadata": {
        "id": "3OjPW7pc4kL8",
        "colab_type": "code",
        "colab": {}
      },
      "source": [
        "invoice_grouped_data['Vehicle Model'] = invoice_grouped_data['Vehicle Model'].apply(lambda x: 'Others' if x not in most_freq_used_veh_models else x)"
      ],
      "execution_count": 0,
      "outputs": []
    },
    {
      "cell_type": "code",
      "metadata": {
        "id": "i10JwjjZ5ucv",
        "colab_type": "code",
        "colab": {
          "base_uri": "https://localhost:8080/",
          "height": 187
        },
        "outputId": "80765e25-5a2b-44f8-a2ea-f9e8a9888991"
      },
      "source": [
        "invoice_grouped_data['Vehicle Model'].value_counts()/len(invoice_grouped_data['Vehicle Model'])*100"
      ],
      "execution_count": 118,
      "outputs": [
        {
          "output_type": "execute_result",
          "data": {
            "text/plain": [
              "Z_MARUTI            32.637807\n",
              "Z_MAHINDRA          17.944243\n",
              "Z_HYUNDAI           14.480457\n",
              "Z_TATA              10.542526\n",
              "Others               8.341650\n",
              "Z_GENERAL MOTORS     4.866065\n",
              "Z_TOYOTA             4.320147\n",
              "Z_FORD               3.966935\n",
              "Z_HONDA              2.900172\n",
              "Name: Vehicle Model, dtype: float64"
            ]
          },
          "metadata": {
            "tags": []
          },
          "execution_count": 118
        }
      ]
    },
    {
      "cell_type": "code",
      "metadata": {
        "id": "vLJjGNsT546B",
        "colab_type": "code",
        "colab": {}
      },
      "source": [
        "most_freq_service_type = ((invoice_grouped_data['ServiceTime_category'].value_counts()/len(invoice_grouped_data['ServiceTime_category']))*100).iloc[0:11]"
      ],
      "execution_count": 0,
      "outputs": []
    },
    {
      "cell_type": "code",
      "metadata": {
        "id": "efQKpAss7GDh",
        "colab_type": "code",
        "colab": {}
      },
      "source": [
        "invoice_grouped_data['ServiceTime_category'] = invoice_grouped_data['ServiceTime_category'].apply(lambda x: 'Others' if x not in most_freq_service_type else x )"
      ],
      "execution_count": 0,
      "outputs": []
    },
    {
      "cell_type": "code",
      "metadata": {
        "id": "1W-Rcr5q7RWV",
        "colab_type": "code",
        "colab": {
          "base_uri": "https://localhost:8080/",
          "height": 238
        },
        "outputId": "bb01e2cf-6fbf-4d94-b19b-6b482d16bb91"
      },
      "source": [
        "((invoice_grouped_data['ServiceTime_category'].value_counts()/len(invoice_grouped_data['ServiceTime_category']))*100)"
      ],
      "execution_count": 121,
      "outputs": [
        {
          "output_type": "execute_result",
          "data": {
            "text/plain": [
              "super_fast                      43.779342\n",
              "super_slow                      16.563350\n",
              "fast                             8.233744\n",
              "Others                           7.584591\n",
              "super_slow, super_fast           6.303000\n",
              "mid                              4.304908\n",
              "fast, super_fast                 4.282540\n",
              "slow                             2.694439\n",
              "mid, super_fast                  1.909605\n",
              "fast, super_slow, super_fast     1.841519\n",
              "fast, super_slow                 1.551477\n",
              "mid, super_slow                  0.951484\n",
              "Name: ServiceTime_category, dtype: float64"
            ]
          },
          "metadata": {
            "tags": []
          },
          "execution_count": 121
        }
      ]
    },
    {
      "cell_type": "code",
      "metadata": {
        "id": "vkkVOX1a8FAK",
        "colab_type": "code",
        "colab": {
          "base_uri": "https://localhost:8080/",
          "height": 236
        },
        "outputId": "d1dffc42-81b9-4592-d656-704f29df6532"
      },
      "source": [
        "invoice_grouped_data.head(1)"
      ],
      "execution_count": 122,
      "outputs": [
        {
          "output_type": "execute_result",
          "data": {
            "text/html": [
              "<div>\n",
              "<style scoped>\n",
              "    .dataframe tbody tr th:only-of-type {\n",
              "        vertical-align: middle;\n",
              "    }\n",
              "\n",
              "    .dataframe tbody tr th {\n",
              "        vertical-align: top;\n",
              "    }\n",
              "\n",
              "    .dataframe thead th {\n",
              "        text-align: right;\n",
              "    }\n",
              "</style>\n",
              "<table border=\"1\" class=\"dataframe\">\n",
              "  <thead>\n",
              "    <tr style=\"text-align: right;\">\n",
              "      <th></th>\n",
              "      <th>Customer No.</th>\n",
              "      <th>Cust Type</th>\n",
              "      <th>Labour Total</th>\n",
              "      <th>Misc Total</th>\n",
              "      <th>OSL Total</th>\n",
              "      <th>Order Type</th>\n",
              "      <th>Parts Total</th>\n",
              "      <th>Total Amt Wtd Tax.</th>\n",
              "      <th>Partner Type</th>\n",
              "      <th>Data Origin</th>\n",
              "      <th>Title</th>\n",
              "      <th>Vehicle Model</th>\n",
              "      <th>Fuel Type</th>\n",
              "      <th>City</th>\n",
              "      <th>ServiceTime_category</th>\n",
              "      <th>Description</th>\n",
              "      <th>Item Category</th>\n",
              "      <th>Order Quantity</th>\n",
              "      <th>Net value</th>\n",
              "    </tr>\n",
              "  </thead>\n",
              "  <tbody>\n",
              "    <tr>\n",
              "      <th>0</th>\n",
              "      <td>100001</td>\n",
              "      <td>Retail</td>\n",
              "      <td>3429.34</td>\n",
              "      <td>0.0</td>\n",
              "      <td>0.0</td>\n",
              "      <td>Others</td>\n",
              "      <td>834.41</td>\n",
              "      <td>4263.75</td>\n",
              "      <td>1</td>\n",
              "      <td>Z005</td>\n",
              "      <td>1</td>\n",
              "      <td>Others</td>\n",
              "      <td>2</td>\n",
              "      <td>Pune</td>\n",
              "      <td>Others</td>\n",
              "      <td>\"WIPER BLADE 508 mm / 20\", TIE CLIP, PETRONAS ...</td>\n",
              "      <td>P002, P001, P001</td>\n",
              "      <td>1208.2</td>\n",
              "      <td>4263.75</td>\n",
              "    </tr>\n",
              "  </tbody>\n",
              "</table>\n",
              "</div>"
            ],
            "text/plain": [
              "  Customer No. Cust Type  ...  Order Quantity  Net value\n",
              "0       100001    Retail  ...          1208.2    4263.75\n",
              "\n",
              "[1 rows x 19 columns]"
            ]
          },
          "metadata": {
            "tags": []
          },
          "execution_count": 122
        }
      ]
    },
    {
      "cell_type": "code",
      "metadata": {
        "id": "Wvb9D1AA8yCp",
        "colab_type": "code",
        "colab": {}
      },
      "source": [
        "invoice_grouped_data.drop(columns=['Description'], inplace=True)"
      ],
      "execution_count": 0,
      "outputs": []
    },
    {
      "cell_type": "code",
      "metadata": {
        "id": "ZaP8d3Ln83BR",
        "colab_type": "code",
        "colab": {}
      },
      "source": [
        "most_freq_used_item_categ = ((invoice_grouped_data['Item Category'].value_counts()/len(invoice_grouped_data['Item Category']))*100).iloc[0:11].index"
      ],
      "execution_count": 0,
      "outputs": []
    },
    {
      "cell_type": "code",
      "metadata": {
        "id": "uf8AnR-L9dJG",
        "colab_type": "code",
        "colab": {}
      },
      "source": [
        "invoice_grouped_data['Item Category'] = invoice_grouped_data['Item Category'].apply(lambda x: 'Others' if x not in most_freq_used_item_categ else x)"
      ],
      "execution_count": 0,
      "outputs": []
    },
    {
      "cell_type": "code",
      "metadata": {
        "id": "na0PI8RD9oy0",
        "colab_type": "code",
        "colab": {
          "base_uri": "https://localhost:8080/",
          "height": 185
        },
        "outputId": "4252709f-cba2-45c2-dc07-42e3e97ad631"
      },
      "source": [
        "invoice_grouped_data.head(1)"
      ],
      "execution_count": 126,
      "outputs": [
        {
          "output_type": "execute_result",
          "data": {
            "text/html": [
              "<div>\n",
              "<style scoped>\n",
              "    .dataframe tbody tr th:only-of-type {\n",
              "        vertical-align: middle;\n",
              "    }\n",
              "\n",
              "    .dataframe tbody tr th {\n",
              "        vertical-align: top;\n",
              "    }\n",
              "\n",
              "    .dataframe thead th {\n",
              "        text-align: right;\n",
              "    }\n",
              "</style>\n",
              "<table border=\"1\" class=\"dataframe\">\n",
              "  <thead>\n",
              "    <tr style=\"text-align: right;\">\n",
              "      <th></th>\n",
              "      <th>Customer No.</th>\n",
              "      <th>Cust Type</th>\n",
              "      <th>Labour Total</th>\n",
              "      <th>Misc Total</th>\n",
              "      <th>OSL Total</th>\n",
              "      <th>Order Type</th>\n",
              "      <th>Parts Total</th>\n",
              "      <th>Total Amt Wtd Tax.</th>\n",
              "      <th>Partner Type</th>\n",
              "      <th>Data Origin</th>\n",
              "      <th>Title</th>\n",
              "      <th>Vehicle Model</th>\n",
              "      <th>Fuel Type</th>\n",
              "      <th>City</th>\n",
              "      <th>ServiceTime_category</th>\n",
              "      <th>Item Category</th>\n",
              "      <th>Order Quantity</th>\n",
              "      <th>Net value</th>\n",
              "    </tr>\n",
              "  </thead>\n",
              "  <tbody>\n",
              "    <tr>\n",
              "      <th>0</th>\n",
              "      <td>100001</td>\n",
              "      <td>Retail</td>\n",
              "      <td>3429.34</td>\n",
              "      <td>0.0</td>\n",
              "      <td>0.0</td>\n",
              "      <td>Others</td>\n",
              "      <td>834.41</td>\n",
              "      <td>4263.75</td>\n",
              "      <td>1</td>\n",
              "      <td>Z005</td>\n",
              "      <td>1</td>\n",
              "      <td>Others</td>\n",
              "      <td>2</td>\n",
              "      <td>Pune</td>\n",
              "      <td>Others</td>\n",
              "      <td>P002, P001, P001</td>\n",
              "      <td>1208.2</td>\n",
              "      <td>4263.75</td>\n",
              "    </tr>\n",
              "  </tbody>\n",
              "</table>\n",
              "</div>"
            ],
            "text/plain": [
              "  Customer No. Cust Type  ...  Order Quantity  Net value\n",
              "0       100001    Retail  ...          1208.2    4263.75\n",
              "\n",
              "[1 rows x 18 columns]"
            ]
          },
          "metadata": {
            "tags": []
          },
          "execution_count": 126
        }
      ]
    },
    {
      "cell_type": "markdown",
      "metadata": {
        "id": "PfGb7IaFHWfj",
        "colab_type": "text"
      },
      "source": [
        "**Apply Label Encoding on cluster data**"
      ]
    },
    {
      "cell_type": "code",
      "metadata": {
        "id": "DVAicCYnHciH",
        "colab_type": "code",
        "colab": {}
      },
      "source": [
        "from sklearn.preprocessing import LabelEncoder"
      ],
      "execution_count": 0,
      "outputs": []
    },
    {
      "cell_type": "code",
      "metadata": {
        "id": "fX9pDVCdHqeL",
        "colab_type": "code",
        "colab": {}
      },
      "source": [
        "le = LabelEncoder()"
      ],
      "execution_count": 0,
      "outputs": []
    },
    {
      "cell_type": "code",
      "metadata": {
        "id": "etiult2EH2Ze",
        "colab_type": "code",
        "colab": {}
      },
      "source": [
        "invoice_grouped_data_categroical = invoice_grouped_data[['Cust Type', 'Order Type',  'OSL Total', 'Vehicle Model', 'City', 'ServiceTime_category']]"
      ],
      "execution_count": 0,
      "outputs": []
    },
    {
      "cell_type": "code",
      "metadata": {
        "id": "QlAJSLrnNIo-",
        "colab_type": "code",
        "colab": {
          "base_uri": "https://localhost:8080/",
          "height": 204
        },
        "outputId": "5999735d-6b2a-44e1-a5e1-7af19a357936"
      },
      "source": [
        "invoice_grouped_data_categroical.head()"
      ],
      "execution_count": 134,
      "outputs": [
        {
          "output_type": "execute_result",
          "data": {
            "text/html": [
              "<div>\n",
              "<style scoped>\n",
              "    .dataframe tbody tr th:only-of-type {\n",
              "        vertical-align: middle;\n",
              "    }\n",
              "\n",
              "    .dataframe tbody tr th {\n",
              "        vertical-align: top;\n",
              "    }\n",
              "\n",
              "    .dataframe thead th {\n",
              "        text-align: right;\n",
              "    }\n",
              "</style>\n",
              "<table border=\"1\" class=\"dataframe\">\n",
              "  <thead>\n",
              "    <tr style=\"text-align: right;\">\n",
              "      <th></th>\n",
              "      <th>Cust Type</th>\n",
              "      <th>Order Type</th>\n",
              "      <th>Data Origin</th>\n",
              "      <th>Vehicle Model</th>\n",
              "      <th>City</th>\n",
              "      <th>ServiceTime_category</th>\n",
              "    </tr>\n",
              "  </thead>\n",
              "  <tbody>\n",
              "    <tr>\n",
              "      <th>0</th>\n",
              "      <td>Retail</td>\n",
              "      <td>Others</td>\n",
              "      <td>Z005</td>\n",
              "      <td>Others</td>\n",
              "      <td>Pune</td>\n",
              "      <td>Others</td>\n",
              "    </tr>\n",
              "    <tr>\n",
              "      <th>1</th>\n",
              "      <td>Retail</td>\n",
              "      <td>Accidental</td>\n",
              "      <td>Z005</td>\n",
              "      <td>Z_TOYOTA</td>\n",
              "      <td>Shirur</td>\n",
              "      <td>super_fast</td>\n",
              "    </tr>\n",
              "    <tr>\n",
              "      <th>2</th>\n",
              "      <td>Retail</td>\n",
              "      <td>Paid Service,Running Repairs</td>\n",
              "      <td>Z005</td>\n",
              "      <td>Z_HYUNDAI</td>\n",
              "      <td>Boripardhi</td>\n",
              "      <td>fast, super_fast</td>\n",
              "    </tr>\n",
              "    <tr>\n",
              "      <th>3</th>\n",
              "      <td>Retail</td>\n",
              "      <td>Paid Service</td>\n",
              "      <td>Z006</td>\n",
              "      <td>Z_MARUTI</td>\n",
              "      <td>Abohar</td>\n",
              "      <td>mid</td>\n",
              "    </tr>\n",
              "    <tr>\n",
              "      <th>4</th>\n",
              "      <td>Retail</td>\n",
              "      <td>Paid Service,Running Repairs</td>\n",
              "      <td>Z005</td>\n",
              "      <td>Z_HYUNDAI</td>\n",
              "      <td>Tirupur</td>\n",
              "      <td>Others</td>\n",
              "    </tr>\n",
              "  </tbody>\n",
              "</table>\n",
              "</div>"
            ],
            "text/plain": [
              "  Cust Type                    Order Type  ...        City ServiceTime_category\n",
              "0    Retail                        Others  ...        Pune               Others\n",
              "1    Retail                    Accidental  ...      Shirur           super_fast\n",
              "2    Retail  Paid Service,Running Repairs  ...  Boripardhi     fast, super_fast\n",
              "3    Retail                  Paid Service  ...      Abohar                  mid\n",
              "4    Retail  Paid Service,Running Repairs  ...     Tirupur               Others\n",
              "\n",
              "[5 rows x 6 columns]"
            ]
          },
          "metadata": {
            "tags": []
          },
          "execution_count": 134
        }
      ]
    },
    {
      "cell_type": "code",
      "metadata": {
        "id": "aPYesXiCHtgj",
        "colab_type": "code",
        "colab": {}
      },
      "source": [
        "invoice_grouped_data_encoded = invoice_grouped_data_categroical.apply(le.fit_transform)"
      ],
      "execution_count": 0,
      "outputs": []
    },
    {
      "cell_type": "code",
      "metadata": {
        "id": "Vy6s7HC1JfVi",
        "colab_type": "code",
        "colab": {}
      },
      "source": [
        "invoice_grouped_data_numerical = cluster_data[['Labour Total', 'Misc Total', 'Total Amt Wtd Tax.', 'Partner Type', 'Title', 'Fuel Type', 'JobCard Month']]"
      ],
      "execution_count": 0,
      "outputs": []
    },
    {
      "cell_type": "code",
      "metadata": {
        "id": "hL4GW8PCNiCl",
        "colab_type": "code",
        "colab": {}
      },
      "source": [
        "invoice_grouped_data_numerical = invoice_grouped_data.select_dtypes(include=[np.number])"
      ],
      "execution_count": 0,
      "outputs": []
    },
    {
      "cell_type": "code",
      "metadata": {
        "id": "UdgSmAjnJbZA",
        "colab_type": "code",
        "colab": {}
      },
      "source": [
        "cluster_data = pd.concat([invoice_grouped_data_encoded,invoice_grouped_data_numerical], axis=1)"
      ],
      "execution_count": 0,
      "outputs": []
    },
    {
      "cell_type": "code",
      "metadata": {
        "id": "t-BkaZXrIiUt",
        "colab_type": "code",
        "colab": {
          "base_uri": "https://localhost:8080/",
          "height": 221
        },
        "outputId": "ed7748c6-c66c-46d2-a1b4-7d27a7d4f53c"
      },
      "source": [
        "cluster_data.tail()"
      ],
      "execution_count": 145,
      "outputs": [
        {
          "output_type": "execute_result",
          "data": {
            "text/html": [
              "<div>\n",
              "<style scoped>\n",
              "    .dataframe tbody tr th:only-of-type {\n",
              "        vertical-align: middle;\n",
              "    }\n",
              "\n",
              "    .dataframe tbody tr th {\n",
              "        vertical-align: top;\n",
              "    }\n",
              "\n",
              "    .dataframe thead th {\n",
              "        text-align: right;\n",
              "    }\n",
              "</style>\n",
              "<table border=\"1\" class=\"dataframe\">\n",
              "  <thead>\n",
              "    <tr style=\"text-align: right;\">\n",
              "      <th></th>\n",
              "      <th>Cust Type</th>\n",
              "      <th>Order Type</th>\n",
              "      <th>Data Origin</th>\n",
              "      <th>Vehicle Model</th>\n",
              "      <th>City</th>\n",
              "      <th>ServiceTime_category</th>\n",
              "      <th>Labour Total</th>\n",
              "      <th>Misc Total</th>\n",
              "      <th>OSL Total</th>\n",
              "      <th>Parts Total</th>\n",
              "      <th>Total Amt Wtd Tax.</th>\n",
              "      <th>Partner Type</th>\n",
              "      <th>Title</th>\n",
              "      <th>Fuel Type</th>\n",
              "      <th>Order Quantity</th>\n",
              "      <th>Net value</th>\n",
              "    </tr>\n",
              "  </thead>\n",
              "  <tbody>\n",
              "    <tr>\n",
              "      <th>406833</th>\n",
              "      <td>4</td>\n",
              "      <td>4</td>\n",
              "      <td>4</td>\n",
              "      <td>4</td>\n",
              "      <td>1560</td>\n",
              "      <td>10</td>\n",
              "      <td>0.00</td>\n",
              "      <td>0.00</td>\n",
              "      <td>0.0</td>\n",
              "      <td>0.00</td>\n",
              "      <td>0.00</td>\n",
              "      <td>1</td>\n",
              "      <td>1</td>\n",
              "      <td>1</td>\n",
              "      <td>84.000</td>\n",
              "      <td>0.00</td>\n",
              "    </tr>\n",
              "    <tr>\n",
              "      <th>406834</th>\n",
              "      <td>5</td>\n",
              "      <td>1</td>\n",
              "      <td>4</td>\n",
              "      <td>0</td>\n",
              "      <td>2256</td>\n",
              "      <td>11</td>\n",
              "      <td>1049.46</td>\n",
              "      <td>0.00</td>\n",
              "      <td>0.0</td>\n",
              "      <td>39851.33</td>\n",
              "      <td>40900.79</td>\n",
              "      <td>1</td>\n",
              "      <td>1</td>\n",
              "      <td>1</td>\n",
              "      <td>1317.000</td>\n",
              "      <td>40900.79</td>\n",
              "    </tr>\n",
              "    <tr>\n",
              "      <th>406835</th>\n",
              "      <td>4</td>\n",
              "      <td>4</td>\n",
              "      <td>4</td>\n",
              "      <td>6</td>\n",
              "      <td>1211</td>\n",
              "      <td>10</td>\n",
              "      <td>0.00</td>\n",
              "      <td>0.00</td>\n",
              "      <td>0.0</td>\n",
              "      <td>3604.74</td>\n",
              "      <td>3604.74</td>\n",
              "      <td>1</td>\n",
              "      <td>1</td>\n",
              "      <td>1</td>\n",
              "      <td>17.875</td>\n",
              "      <td>3604.74</td>\n",
              "    </tr>\n",
              "    <tr>\n",
              "      <th>406836</th>\n",
              "      <td>4</td>\n",
              "      <td>4</td>\n",
              "      <td>4</td>\n",
              "      <td>0</td>\n",
              "      <td>2037</td>\n",
              "      <td>11</td>\n",
              "      <td>105.04</td>\n",
              "      <td>0.00</td>\n",
              "      <td>0.0</td>\n",
              "      <td>2830.32</td>\n",
              "      <td>2935.36</td>\n",
              "      <td>1</td>\n",
              "      <td>1</td>\n",
              "      <td>1</td>\n",
              "      <td>58.500</td>\n",
              "      <td>2935.36</td>\n",
              "    </tr>\n",
              "    <tr>\n",
              "      <th>406837</th>\n",
              "      <td>4</td>\n",
              "      <td>3</td>\n",
              "      <td>4</td>\n",
              "      <td>7</td>\n",
              "      <td>706</td>\n",
              "      <td>3</td>\n",
              "      <td>1008.91</td>\n",
              "      <td>0.82</td>\n",
              "      <td>0.0</td>\n",
              "      <td>1715.03</td>\n",
              "      <td>2724.76</td>\n",
              "      <td>1</td>\n",
              "      <td>1</td>\n",
              "      <td>1</td>\n",
              "      <td>93.500</td>\n",
              "      <td>2724.76</td>\n",
              "    </tr>\n",
              "  </tbody>\n",
              "</table>\n",
              "</div>"
            ],
            "text/plain": [
              "        Cust Type  Order Type  ...  Order Quantity  Net value\n",
              "406833          4           4  ...          84.000       0.00\n",
              "406834          5           1  ...        1317.000   40900.79\n",
              "406835          4           4  ...          17.875    3604.74\n",
              "406836          4           4  ...          58.500    2935.36\n",
              "406837          4           3  ...          93.500    2724.76\n",
              "\n",
              "[5 rows x 16 columns]"
            ]
          },
          "metadata": {
            "tags": []
          },
          "execution_count": 145
        }
      ]
    },
    {
      "cell_type": "code",
      "metadata": {
        "id": "bGTNdsaCJqj8",
        "colab_type": "code",
        "colab": {
          "base_uri": "https://localhost:8080/",
          "height": 34
        },
        "outputId": "e7c2972d-cf6b-4e02-b54e-fcc8217f599c"
      },
      "source": [
        "cluster_data.shape"
      ],
      "execution_count": 147,
      "outputs": [
        {
          "output_type": "execute_result",
          "data": {
            "text/plain": [
              "(406838, 16)"
            ]
          },
          "metadata": {
            "tags": []
          },
          "execution_count": 147
        }
      ]
    },
    {
      "cell_type": "markdown",
      "metadata": {
        "id": "daOdM5BV_AVs",
        "colab_type": "text"
      },
      "source": [
        "## Apply Clustering Algorthims"
      ]
    },
    {
      "cell_type": "code",
      "metadata": {
        "id": "l48hKfdB-_YT",
        "colab_type": "code",
        "colab": {}
      },
      "source": [
        "from sklearn.cluster import KMeans"
      ],
      "execution_count": 0,
      "outputs": []
    },
    {
      "cell_type": "code",
      "metadata": {
        "id": "rwlzzHBqLCZ6",
        "colab_type": "code",
        "colab": {}
      },
      "source": [
        "dist=[]\n",
        "# Iterate from 1-9\n",
        "for i in range(1, 10):\n",
        "    # Initialize KMeans algorithm\n",
        "    km = KMeans(n_clusters=i, init='k-means++', n_init=10, max_iter=300, random_state=0)\n",
        "    # Fit on data\n",
        "    km.fit(cluster_data)\n",
        "    # Append WCSS to list storing WCSS\n",
        "    dist.append(km.inertia_)"
      ],
      "execution_count": 0,
      "outputs": []
    },
    {
      "cell_type": "code",
      "metadata": {
        "id": "VYdA3IaRNxDw",
        "colab_type": "code",
        "colab": {}
      },
      "source": [
        "import matplotlib.pyplot as plt"
      ],
      "execution_count": 0,
      "outputs": []
    },
    {
      "cell_type": "code",
      "metadata": {
        "id": "jOU0wmqUNo1s",
        "colab_type": "code",
        "colab": {
          "base_uri": "https://localhost:8080/",
          "height": 276
        },
        "outputId": "b86c641d-bb39-43de-8a40-66fa6e6dea16"
      },
      "source": [
        "# Line plot # clusters on X-axis and WCSS on Y-axis \n",
        "plt.plot(range(1, 10), dist, 'bo-')\n",
        "plt.show()"
      ],
      "execution_count": 151,
      "outputs": [
        {
          "output_type": "display_data",
          "data": {
            "image/png": "[encoded data removed]",
            "text/plain": [
              "<Figure size 432x288 with 1 Axes>"
            ]
          },
          "metadata": {
            "tags": []
          }
        }
      ]
    },
    {
      "cell_type": "code",
      "metadata": {
        "id": "jQO3DzC4PJM3",
        "colab_type": "code",
        "colab": {}
      },
      "source": [
        "cluster  = KMeans(n_clusters=5, init='k-means++', max_iter=300, n_init=10, random_state=0)\n",
        "# create 'cluster' column\n",
        "cluster_data['cluster'] = cluster.fit_predict(cluster_data)"
      ],
      "execution_count": 0,
      "outputs": []
    },
    {
      "cell_type": "code",
      "metadata": {
        "id": "kzZHIJI4P1wD",
        "colab_type": "code",
        "colab": {}
      },
      "source": [
        "# Cluster centers\n",
        "centroids = cluster.cluster_centers_"
      ],
      "execution_count": 0,
      "outputs": []
    },
    {
      "cell_type": "code",
      "metadata": {
        "id": "wnutvCjuP-SU",
        "colab_type": "code",
        "colab": {}
      },
      "source": [
        "# Within cluster sum of squares\n",
        "wcss = km.inertia_"
      ],
      "execution_count": 0,
      "outputs": []
    },
    {
      "cell_type": "code",
      "metadata": {
        "id": "mHwkeFRSP_Z8",
        "colab_type": "code",
        "colab": {
          "base_uri": "https://localhost:8080/",
          "height": 357
        },
        "outputId": "cebb6dad-92ae-400d-9a48-27113c8fdbb1"
      },
      "source": [
        "centroids"
      ],
      "execution_count": 158,
      "outputs": [
        {
          "output_type": "execute_result",
          "data": {
            "text/plain": [
              "array([[6.99984339e+00, 2.96811206e+00, 3.48078920e+00, 4.78734868e+00,\n",
              "        1.15504051e+03, 7.35594925e+00, 1.28251749e+03, 2.61946980e+02,\n",
              "        4.01159526e+01, 1.63493898e+03, 3.21951940e+03, 1.00000000e+00,\n",
              "        1.00000000e+00, 1.00712987e+00, 2.77301404e+02, 3.32621101e+03],\n",
              "       [6.99620380e+00, 1.10349650e+00, 3.56863137e+00, 4.28551449e+00,\n",
              "        1.09036623e+03, 5.86713287e+00, 3.52097236e+04, 6.15178896e+03,\n",
              "        2.74480419e+03, 6.14195201e+04, 1.05525837e+05, 1.00000000e+00,\n",
              "        1.00000000e+00, 1.04095904e+00, 7.71002431e+03, 1.11219593e+05],\n",
              "       [6.94400000e+00, 7.94000000e-01, 3.59200000e+00, 4.01400000e+00,\n",
              "        1.04295600e+03, 6.58000000e+00, 8.78912278e+04, 1.92031019e+04,\n",
              "        5.60800598e+03, 1.88916736e+05, 3.01619072e+05, 1.00000000e+00,\n",
              "        1.00000000e+00, 1.07000000e+00, 1.91438233e+04, 3.63015546e+05],\n",
              "       [6.99820544e+00, 1.69259408e+00, 3.53330655e+00, 4.37487612e+00,\n",
              "        1.12805839e+03, 5.76059997e+00, 1.18054646e+04, 2.06415967e+03,\n",
              "        6.44642499e+02, 1.68892303e+04, 3.14034970e+04, 1.00000000e+00,\n",
              "        1.00000000e+00, 1.02590063e+00, 2.84614159e+03, 3.25292144e+04],\n",
              "       [6.80555556e+00, 8.88888889e-01, 3.16666667e+00, 3.77777778e+00,\n",
              "        7.96527778e+02, 4.00000000e+00, 2.29897523e+05, 7.98270386e+04,\n",
              "        3.82638222e+04, 6.02174984e+05, 9.50163369e+05, 1.00000000e+00,\n",
              "        1.00000000e+00, 1.30555556e+00, 5.85893465e+04, 1.37130994e+06]])"
            ]
          },
          "metadata": {
            "tags": []
          },
          "execution_count": 158
        }
      ]
    },
    {
      "cell_type": "code",
      "metadata": {
        "id": "-5wT9alhQCg6",
        "colab_type": "code",
        "colab": {
          "base_uri": "https://localhost:8080/",
          "height": 34
        },
        "outputId": "b9e14da0-9630-4726-a32b-186f7ce82ac5"
      },
      "source": [
        "wcss"
      ],
      "execution_count": 159,
      "outputs": [
        {
          "output_type": "execute_result",
          "data": {
            "text/plain": [
              "77120441811116.1"
            ]
          },
          "metadata": {
            "tags": []
          },
          "execution_count": 159
        }
      ]
    },
    {
      "cell_type": "code",
      "metadata": {
        "id": "ZtJfcaz_QHl4",
        "colab_type": "code",
        "colab": {
          "base_uri": "https://localhost:8080/",
          "height": 595
        },
        "outputId": "f27a729b-fdc6-434c-c8db-3570010a1d98"
      },
      "source": [
        "for col in cluster_data[cluster_data['cluster']==0].columns:\n",
        "  print(cluster_data[col].mode())"
      ],
      "execution_count": 165,
      "outputs": [
        {
          "output_type": "stream",
          "text": [
            "0    7\n",
            "dtype: int64\n",
            "0    4\n",
            "dtype: int64\n",
            "0    4\n",
            "dtype: int64\n",
            "0    6\n",
            "dtype: int64\n",
            "0    368\n",
            "dtype: int64\n",
            "0    9\n",
            "dtype: int64\n",
            "0    0.0\n",
            "dtype: float64\n",
            "0    0.0\n",
            "dtype: float64\n",
            "0    0.0\n",
            "dtype: float64\n",
            "0    0.0\n",
            "dtype: float64\n",
            "0    0.0\n",
            "dtype: float64\n",
            "0    1\n",
            "dtype: int64\n",
            "0    1\n",
            "dtype: int64\n",
            "0    1\n",
            "dtype: int64\n",
            "0    1.0\n",
            "dtype: float64\n",
            "0    0.0\n",
            "dtype: float64\n",
            "0    0\n",
            "dtype: int32\n"
          ],
          "name": "stdout"
        }
      ]
    }
  ]
}