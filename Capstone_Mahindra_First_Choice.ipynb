{
  "nbformat": 4,
  "nbformat_minor": 0,
  "metadata": {
    "colab": {
      "name": "Capstone_Mahindra_First_Choice.ipynb",
      "version": "0.3.2",
      "provenance": [],
      "collapsed_sections": [
        "_SjzdmPwoaq4",
        "-gDSUTYQr-83"
      ],
      "include_colab_link": true
    },
    "kernelspec": {
      "name": "python3",
      "display_name": "Python 3"
    }
  },
  "cells": [
    {
      "cell_type": "markdown",
      "metadata": {
        "id": "view-in-github",
        "colab_type": "text"
      },
      "source": [
        "<a href=\"https://colab.research.google.com/github/shailendrajain2892/GA-Classes/blob/master/Capstone_Mahindra_First_Choice.ipynb\" target=\"_parent\"><img src=\"https://colab.research.google.com/assets/colab-badge.svg\" alt=\"Open In Colab\"/></a>"
      ]
    },
    {
      "cell_type": "code",
      "metadata": {
        "id": "ijiRV1yciq_5",
        "colab_type": "code",
        "colab": {}
      },
      "source": [
        "import pandas as pd\n",
        "import numpy as np"
      ],
      "execution_count": 0,
      "outputs": []
    },
    {
      "cell_type": "code",
      "metadata": {
        "id": "N4N3OoCEiylL",
        "colab_type": "code",
        "outputId": "0c9129d9-98f9-41ca-ad08-4683a7c95d3e",
        "colab": {
          "base_uri": "https://localhost:8080/",
          "height": 34
        }
      },
      "source": [
        "from google.colab import drive\n",
        "drive.mount('/content/drive')"
      ],
      "execution_count": 0,
      "outputs": [
        {
          "output_type": "stream",
          "text": [
            "Drive already mounted at /content/drive; to attempt to forcibly remount, call drive.mount(\"/content/drive\", force_remount=True).\n"
          ],
          "name": "stdout"
        }
      ]
    },
    {
      "cell_type": "markdown",
      "metadata": {
        "id": "RP-Ew7HwbmCa",
        "colab_type": "text"
      },
      "source": [
        "##Load Plant data \n",
        "**remove duplicate and null columns.**"
      ]
    },
    {
      "cell_type": "code",
      "metadata": {
        "id": "8N057FhYjY3K",
        "colab_type": "code",
        "colab": {}
      },
      "source": [
        "plant_full_data = pd.read_csv('./drive/My Drive/Colab Notebooks/data/final_csv/plant.csv', index_col=0)"
      ],
      "execution_count": 0,
      "outputs": []
    },
    {
      "cell_type": "code",
      "metadata": {
        "id": "yEPSpLibktkQ",
        "colab_type": "code",
        "outputId": "38543ced-4194-4b6b-ef27-b038bbd35db0",
        "colab": {
          "base_uri": "https://localhost:8080/",
          "height": 357
        }
      },
      "source": [
        "plant_full_data.head()"
      ],
      "execution_count": 0,
      "outputs": [
        {
          "output_type": "execute_result",
          "data": {
            "text/html": [
              "<div>\n",
              "<style scoped>\n",
              "    .dataframe tbody tr th:only-of-type {\n",
              "        vertical-align: middle;\n",
              "    }\n",
              "\n",
              "    .dataframe tbody tr th {\n",
              "        vertical-align: top;\n",
              "    }\n",
              "\n",
              "    .dataframe thead th {\n",
              "        text-align: right;\n",
              "    }\n",
              "</style>\n",
              "<table border=\"1\" class=\"dataframe\">\n",
              "  <thead>\n",
              "    <tr style=\"text-align: right;\">\n",
              "      <th></th>\n",
              "      <th>Plant</th>\n",
              "      <th>Name 1</th>\n",
              "      <th>Valuation Area</th>\n",
              "      <th>Customer no. - plant</th>\n",
              "      <th>Vendor number plant</th>\n",
              "      <th>Factory calendar</th>\n",
              "      <th>Name 2</th>\n",
              "      <th>House number and street</th>\n",
              "      <th>PO Box</th>\n",
              "      <th>Postal Code</th>\n",
              "      <th>City</th>\n",
              "      <th>Sales organization</th>\n",
              "      <th>State</th>\n",
              "    </tr>\n",
              "  </thead>\n",
              "  <tbody>\n",
              "    <tr>\n",
              "      <th>0</th>\n",
              "      <td>BC07</td>\n",
              "      <td>NERKUNDRAM</td>\n",
              "      <td>BC07</td>\n",
              "      <td>PLBC07</td>\n",
              "      <td>PLBC07</td>\n",
              "      <td>IN</td>\n",
              "      <td>NaN</td>\n",
              "      <td>No.117 Poonamallee High Road,</td>\n",
              "      <td>600107.0</td>\n",
              "      <td>600107</td>\n",
              "      <td>Chennai</td>\n",
              "      <td>MFCS</td>\n",
              "      <td>Tamil Nadu</td>\n",
              "    </tr>\n",
              "    <tr>\n",
              "      <th>1</th>\n",
              "      <td>BC30</td>\n",
              "      <td>SAS NAGAR - MOHALI</td>\n",
              "      <td>BC30</td>\n",
              "      <td>PLBC30</td>\n",
              "      <td>PLBC30</td>\n",
              "      <td>IN</td>\n",
              "      <td>NaN</td>\n",
              "      <td>C-118, Phase 07,</td>\n",
              "      <td>160055.0</td>\n",
              "      <td>160055</td>\n",
              "      <td>Mohali</td>\n",
              "      <td>MFCS</td>\n",
              "      <td>Punjab</td>\n",
              "    </tr>\n",
              "    <tr>\n",
              "      <th>2</th>\n",
              "      <td>X001</td>\n",
              "      <td>X001 - AUTO PLANET WHEELS</td>\n",
              "      <td>X001</td>\n",
              "      <td>PLX001</td>\n",
              "      <td>NaN</td>\n",
              "      <td>IN</td>\n",
              "      <td>Thane</td>\n",
              "      <td>Unit No.3, Kothari Compound,</td>\n",
              "      <td>400610.0</td>\n",
              "      <td>400610</td>\n",
              "      <td>Thane</td>\n",
              "      <td>MFCA</td>\n",
              "      <td>Maharashtra</td>\n",
              "    </tr>\n",
              "    <tr>\n",
              "      <th>3</th>\n",
              "      <td>X002</td>\n",
              "      <td>X002 - BHANDARI INDUSTRIES PVT</td>\n",
              "      <td>X002</td>\n",
              "      <td>PLX002</td>\n",
              "      <td>NaN</td>\n",
              "      <td>IN</td>\n",
              "      <td>Ghaziabad</td>\n",
              "      <td>18/1, C Site 4, Sahibabad</td>\n",
              "      <td>201010.0</td>\n",
              "      <td>201010</td>\n",
              "      <td>Ghaziabad</td>\n",
              "      <td>MFCA</td>\n",
              "      <td>Uttar Pradesh</td>\n",
              "    </tr>\n",
              "    <tr>\n",
              "      <th>4</th>\n",
              "      <td>X003</td>\n",
              "      <td>X003 - Om Sri Satya Sai Automo</td>\n",
              "      <td>X003</td>\n",
              "      <td>PLX003</td>\n",
              "      <td>NaN</td>\n",
              "      <td>IN</td>\n",
              "      <td>Bengaluru</td>\n",
              "      <td>#75, Sy.No. 83/2, Panathur Mai</td>\n",
              "      <td>560087.0</td>\n",
              "      <td>560087</td>\n",
              "      <td>Bengaluru</td>\n",
              "      <td>MFCB</td>\n",
              "      <td>Karnataka</td>\n",
              "    </tr>\n",
              "  </tbody>\n",
              "</table>\n",
              "</div>"
            ],
            "text/plain": [
              "  Plant                          Name 1  ... Sales organization          State\n",
              "0  BC07                      NERKUNDRAM  ...               MFCS     Tamil Nadu\n",
              "1  BC30              SAS NAGAR - MOHALI  ...               MFCS         Punjab\n",
              "2  X001       X001 - AUTO PLANET WHEELS  ...               MFCA    Maharashtra\n",
              "3  X002  X002 - BHANDARI INDUSTRIES PVT  ...               MFCA  Uttar Pradesh\n",
              "4  X003  X003 - Om Sri Satya Sai Automo  ...               MFCB      Karnataka\n",
              "\n",
              "[5 rows x 13 columns]"
            ]
          },
          "metadata": {
            "tags": []
          },
          "execution_count": 4
        }
      ]
    },
    {
      "cell_type": "code",
      "metadata": {
        "id": "R21BLM_DacpH",
        "colab_type": "code",
        "outputId": "89b66280-e1f0-425a-811a-3dd91c1475b3",
        "colab": {
          "base_uri": "https://localhost:8080/",
          "height": 255
        }
      },
      "source": [
        "plant_full_data.isnull().sum()"
      ],
      "execution_count": 0,
      "outputs": [
        {
          "output_type": "execute_result",
          "data": {
            "text/plain": [
              "Plant                        0\n",
              "Name 1                       0\n",
              "Valuation Area               0\n",
              "Customer no. - plant         0\n",
              "Vendor number plant        436\n",
              "Factory calendar             0\n",
              "Name 2                       2\n",
              "House number and street      2\n",
              "PO Box                       1\n",
              "Postal Code                  0\n",
              "City                         0\n",
              "Sales organization           5\n",
              "State                        0\n",
              "dtype: int64"
            ]
          },
          "metadata": {
            "tags": []
          },
          "execution_count": 5
        }
      ]
    },
    {
      "cell_type": "code",
      "metadata": {
        "id": "kg1VM_-RaikQ",
        "colab_type": "code",
        "outputId": "4c68aa6b-42ab-4d7c-f62b-bb69c6392777",
        "colab": {
          "base_uri": "https://localhost:8080/",
          "height": 34
        }
      },
      "source": [
        "plant_full_data.shape"
      ],
      "execution_count": 0,
      "outputs": [
        {
          "output_type": "execute_result",
          "data": {
            "text/plain": [
              "(438, 13)"
            ]
          },
          "metadata": {
            "tags": []
          },
          "execution_count": 6
        }
      ]
    },
    {
      "cell_type": "markdown",
      "metadata": {
        "id": "BrLsb6wLc6tK",
        "colab_type": "text"
      },
      "source": [
        "**Drop columns=['Vendor number plant', 'Valuation Area', 'Factory calendar', 'Name 2', 'House number and street', 'PO Box', 'Sales organization']**"
      ]
    },
    {
      "cell_type": "code",
      "metadata": {
        "id": "xiOmysjbam9V",
        "colab_type": "code",
        "colab": {}
      },
      "source": [
        "plant = plant_full_data.drop(columns=['Vendor number plant', 'Valuation Area', 'Factory calendar', 'Name 2', 'House number and street', 'PO Box', 'Sales organization', 'Customer no. - plant'])"
      ],
      "execution_count": 0,
      "outputs": []
    },
    {
      "cell_type": "code",
      "metadata": {
        "id": "x-g1ppOOavsV",
        "colab_type": "code",
        "outputId": "ab6f7b3e-22ec-49c0-b7d0-ccfa9be24b53",
        "colab": {
          "base_uri": "https://localhost:8080/",
          "height": 34
        }
      },
      "source": [
        "plant.shape"
      ],
      "execution_count": 0,
      "outputs": [
        {
          "output_type": "execute_result",
          "data": {
            "text/plain": [
              "(438, 5)"
            ]
          },
          "metadata": {
            "tags": []
          },
          "execution_count": 8
        }
      ]
    },
    {
      "cell_type": "code",
      "metadata": {
        "id": "fxctlvb1dMy5",
        "colab_type": "code",
        "outputId": "d28a072e-d708-4065-da8f-7b96b96416b6",
        "colab": {
          "base_uri": "https://localhost:8080/",
          "height": 119
        }
      },
      "source": [
        "plant.isnull().sum()"
      ],
      "execution_count": 0,
      "outputs": [
        {
          "output_type": "execute_result",
          "data": {
            "text/plain": [
              "Plant          0\n",
              "Name 1         0\n",
              "Postal Code    0\n",
              "City           0\n",
              "State          0\n",
              "dtype: int64"
            ]
          },
          "metadata": {
            "tags": []
          },
          "execution_count": 9
        }
      ]
    },
    {
      "cell_type": "markdown",
      "metadata": {
        "id": "xVqML_yzdr1o",
        "colab_type": "text"
      },
      "source": [
        "##Read Customer Data. \n",
        "**Remove Duplicate and Missing values columns**."
      ]
    },
    {
      "cell_type": "code",
      "metadata": {
        "id": "Ae7b-ddplUqh",
        "colab_type": "code",
        "outputId": "5dce7fc3-9b55-4bf5-ef53-6e24958f9136",
        "colab": {
          "base_uri": "https://localhost:8080/",
          "height": 71
        }
      },
      "source": [
        "customer_full_data = pd.read_csv('./drive/My Drive/Colab Notebooks/data/final_csv/customer.csv', index_col=0)"
      ],
      "execution_count": 0,
      "outputs": [
        {
          "output_type": "stream",
          "text": [
            "/usr/local/lib/python3.6/dist-packages/IPython/core/interactiveshell.py:2718: DtypeWarning: Columns (1,2) have mixed types. Specify dtype option on import or set low_memory=False.\n",
            "  interactivity=interactivity, compiler=compiler, result=result)\n"
          ],
          "name": "stderr"
        }
      ]
    },
    {
      "cell_type": "code",
      "metadata": {
        "id": "pzB4RwgXlxrM",
        "colab_type": "code",
        "outputId": "dc081289-fe4d-4070-e4fc-9fa32474af0b",
        "colab": {
          "base_uri": "https://localhost:8080/",
          "height": 204
        }
      },
      "source": [
        "customer_full_data.head()"
      ],
      "execution_count": 0,
      "outputs": [
        {
          "output_type": "execute_result",
          "data": {
            "text/html": [
              "<div>\n",
              "<style scoped>\n",
              "    .dataframe tbody tr th:only-of-type {\n",
              "        vertical-align: middle;\n",
              "    }\n",
              "\n",
              "    .dataframe tbody tr th {\n",
              "        vertical-align: top;\n",
              "    }\n",
              "\n",
              "    .dataframe thead th {\n",
              "        text-align: right;\n",
              "    }\n",
              "</style>\n",
              "<table border=\"1\" class=\"dataframe\">\n",
              "  <thead>\n",
              "    <tr style=\"text-align: right;\">\n",
              "      <th></th>\n",
              "      <th>Business Partner</th>\n",
              "      <th>Customer No.</th>\n",
              "      <th>Partner Type</th>\n",
              "      <th>Data Origin</th>\n",
              "      <th>Title</th>\n",
              "      <th>Marital Status</th>\n",
              "      <th>Occupation</th>\n",
              "      <th>Date of Birth</th>\n",
              "      <th>Death date</th>\n",
              "    </tr>\n",
              "  </thead>\n",
              "  <tbody>\n",
              "    <tr>\n",
              "      <th>0</th>\n",
              "      <td>31</td>\n",
              "      <td>1</td>\n",
              "      <td>1.0</td>\n",
              "      <td>Z001</td>\n",
              "      <td>NaN</td>\n",
              "      <td>NaN</td>\n",
              "      <td>NaN</td>\n",
              "      <td>NaN</td>\n",
              "      <td>NaN</td>\n",
              "    </tr>\n",
              "    <tr>\n",
              "      <th>1</th>\n",
              "      <td>32</td>\n",
              "      <td>2</td>\n",
              "      <td>1.0</td>\n",
              "      <td>Z005</td>\n",
              "      <td>NaN</td>\n",
              "      <td>NaN</td>\n",
              "      <td>NaN</td>\n",
              "      <td>NaN</td>\n",
              "      <td>NaN</td>\n",
              "    </tr>\n",
              "    <tr>\n",
              "      <th>2</th>\n",
              "      <td>34</td>\n",
              "      <td>4</td>\n",
              "      <td>1.0</td>\n",
              "      <td>Z005</td>\n",
              "      <td>NaN</td>\n",
              "      <td>2.0</td>\n",
              "      <td>NaN</td>\n",
              "      <td>NaN</td>\n",
              "      <td>NaN</td>\n",
              "    </tr>\n",
              "    <tr>\n",
              "      <th>3</th>\n",
              "      <td>35</td>\n",
              "      <td>5</td>\n",
              "      <td>1.0</td>\n",
              "      <td>Z005</td>\n",
              "      <td>NaN</td>\n",
              "      <td>NaN</td>\n",
              "      <td>NaN</td>\n",
              "      <td>NaN</td>\n",
              "      <td>NaN</td>\n",
              "    </tr>\n",
              "    <tr>\n",
              "      <th>4</th>\n",
              "      <td>42</td>\n",
              "      <td>7</td>\n",
              "      <td>1.0</td>\n",
              "      <td>Z008</td>\n",
              "      <td>NaN</td>\n",
              "      <td>NaN</td>\n",
              "      <td>NaN</td>\n",
              "      <td>NaN</td>\n",
              "      <td>NaN</td>\n",
              "    </tr>\n",
              "  </tbody>\n",
              "</table>\n",
              "</div>"
            ],
            "text/plain": [
              "  Business Partner Customer No.  ...  Date of Birth Death date\n",
              "0               31            1  ...            NaN        NaN\n",
              "1               32            2  ...            NaN        NaN\n",
              "2               34            4  ...            NaN        NaN\n",
              "3               35            5  ...            NaN        NaN\n",
              "4               42            7  ...            NaN        NaN\n",
              "\n",
              "[5 rows x 9 columns]"
            ]
          },
          "metadata": {
            "tags": []
          },
          "execution_count": 11
        }
      ]
    },
    {
      "cell_type": "code",
      "metadata": {
        "id": "m9o7xFETe5OI",
        "colab_type": "code",
        "outputId": "5cf6ffab-4193-40f8-cf59-0246ebfd10e8",
        "colab": {
          "base_uri": "https://localhost:8080/",
          "height": 34
        }
      },
      "source": [
        "customer_full_data.shape"
      ],
      "execution_count": 0,
      "outputs": [
        {
          "output_type": "execute_result",
          "data": {
            "text/plain": [
              "(555338, 9)"
            ]
          },
          "metadata": {
            "tags": []
          },
          "execution_count": 12
        }
      ]
    },
    {
      "cell_type": "code",
      "metadata": {
        "id": "1wojI66kVXjs",
        "colab_type": "code",
        "outputId": "0b59500e-126c-470d-c022-26e6f2a9fbf7",
        "colab": {
          "base_uri": "https://localhost:8080/",
          "height": 187
        }
      },
      "source": [
        "customer_full_data.isnull().sum()"
      ],
      "execution_count": 0,
      "outputs": [
        {
          "output_type": "execute_result",
          "data": {
            "text/plain": [
              "Business Partner         0\n",
              "Customer No.             0\n",
              "Partner Type            78\n",
              "Data Origin            136\n",
              "Title                46307\n",
              "Marital Status      539301\n",
              "Occupation          540780\n",
              "Date of Birth       541894\n",
              "Death date          554675\n",
              "dtype: int64"
            ]
          },
          "metadata": {
            "tags": []
          },
          "execution_count": 13
        }
      ]
    },
    {
      "cell_type": "code",
      "metadata": {
        "id": "mC2YZ6mmgA0q",
        "colab_type": "code",
        "colab": {}
      },
      "source": [
        "customer = customer_full_data.drop(columns = ['Marital Status', 'Occupation', 'Date of Birth', 'Death date', 'Business Partner'])"
      ],
      "execution_count": 0,
      "outputs": []
    },
    {
      "cell_type": "code",
      "metadata": {
        "id": "H9JXOWb-jJxr",
        "colab_type": "code",
        "outputId": "ba26753d-7b90-49ae-bc69-d79b49cd70d2",
        "colab": {
          "base_uri": "https://localhost:8080/",
          "height": 102
        }
      },
      "source": [
        "customer.dtypes"
      ],
      "execution_count": 0,
      "outputs": [
        {
          "output_type": "execute_result",
          "data": {
            "text/plain": [
              "Customer No.     object\n",
              "Partner Type    float64\n",
              "Data Origin      object\n",
              "Title           float64\n",
              "dtype: object"
            ]
          },
          "metadata": {
            "tags": []
          },
          "execution_count": 15
        }
      ]
    },
    {
      "cell_type": "code",
      "metadata": {
        "id": "6qOtHQd0gUHt",
        "colab_type": "code",
        "outputId": "e9bdc4b3-2e0d-43e2-9170-b30a261fcc67",
        "colab": {
          "base_uri": "https://localhost:8080/",
          "height": 102
        }
      },
      "source": [
        "customer.isnull().sum()"
      ],
      "execution_count": 0,
      "outputs": [
        {
          "output_type": "execute_result",
          "data": {
            "text/plain": [
              "Customer No.        0\n",
              "Partner Type       78\n",
              "Data Origin       136\n",
              "Title           46307\n",
              "dtype: int64"
            ]
          },
          "metadata": {
            "tags": []
          },
          "execution_count": 16
        }
      ]
    },
    {
      "cell_type": "markdown",
      "metadata": {
        "id": "BJs7yJAjlwP2",
        "colab_type": "text"
      },
      "source": [
        "**FIll Missing Values in Partner Type, Data Origin, Title columns with most_frequently used values.**"
      ]
    },
    {
      "cell_type": "code",
      "metadata": {
        "id": "_ezt1434hKqd",
        "colab_type": "code",
        "colab": {}
      },
      "source": [
        "most_frequent_value = customer['Partner Type'].mode()\n",
        "customer['Partner Type'] = customer['Partner Type'].fillna(most_frequent_value[0])"
      ],
      "execution_count": 0,
      "outputs": []
    },
    {
      "cell_type": "code",
      "metadata": {
        "id": "fC5xpwkRlVtZ",
        "colab_type": "code",
        "colab": {}
      },
      "source": [
        "customer['Data Origin'] = customer['Data Origin'].fillna(customer['Data Origin'].mode()[0])"
      ],
      "execution_count": 0,
      "outputs": []
    },
    {
      "cell_type": "code",
      "metadata": {
        "id": "1bT6C0ZnlgUI",
        "colab_type": "code",
        "colab": {}
      },
      "source": [
        "customer['Title'] = customer['Title'].fillna(customer['Title'].mode()[0])"
      ],
      "execution_count": 0,
      "outputs": []
    },
    {
      "cell_type": "code",
      "metadata": {
        "id": "zTUNWHj8lvTE",
        "colab_type": "code",
        "outputId": "046c2268-8eac-4152-8afd-b3d51716740b",
        "colab": {
          "base_uri": "https://localhost:8080/",
          "height": 102
        }
      },
      "source": [
        "customer.isnull().sum()"
      ],
      "execution_count": 0,
      "outputs": [
        {
          "output_type": "execute_result",
          "data": {
            "text/plain": [
              "Customer No.    0\n",
              "Partner Type    0\n",
              "Data Origin     0\n",
              "Title           0\n",
              "dtype: int64"
            ]
          },
          "metadata": {
            "tags": []
          },
          "execution_count": 20
        }
      ]
    },
    {
      "cell_type": "markdown",
      "metadata": {
        "id": "_SjzdmPwoaq4",
        "colab_type": "text"
      },
      "source": [
        "##Load Vehicle Data. \n",
        "**Treat missing and nan values.**"
      ]
    },
    {
      "cell_type": "code",
      "metadata": {
        "id": "N1SGaJcDl5xE",
        "colab_type": "code",
        "outputId": "24b2372c-3ed0-4dfd-ccdc-781c0fca2f96",
        "colab": {
          "base_uri": "https://localhost:8080/"
        }
      },
      "source": [
        "vehicles_full_data = pd.read_csv('./drive/My Drive/Colab Notebooks/data/final_csv/vehicles.csv', index_col=0)"
      ],
      "execution_count": 0,
      "outputs": [
        {
          "output_type": "stream",
          "text": [
            "/usr/local/lib/python3.6/dist-packages/IPython/core/interactiveshell.py:2718: DtypeWarning: Columns (4) have mixed types. Specify dtype option on import or set low_memory=False.\n",
            "  interactivity=interactivity, compiler=compiler, result=result)\n"
          ],
          "name": "stderr"
        }
      ]
    },
    {
      "cell_type": "code",
      "metadata": {
        "id": "e_wT8KtYsVDr",
        "colab_type": "code",
        "outputId": "8910ebed-bcdb-49da-b240-b8f13452f096",
        "colab": {
          "base_uri": "https://localhost:8080/"
        }
      },
      "source": [
        "vehicles_full_data.head()"
      ],
      "execution_count": 0,
      "outputs": [
        {
          "output_type": "execute_result",
          "data": {
            "text/html": [
              "<div>\n",
              "<style scoped>\n",
              "    .dataframe tbody tr th:only-of-type {\n",
              "        vertical-align: middle;\n",
              "    }\n",
              "\n",
              "    .dataframe tbody tr th {\n",
              "        vertical-align: top;\n",
              "    }\n",
              "\n",
              "    .dataframe thead th {\n",
              "        text-align: right;\n",
              "    }\n",
              "</style>\n",
              "<table border=\"1\" class=\"dataframe\">\n",
              "  <thead>\n",
              "    <tr style=\"text-align: right;\">\n",
              "      <th></th>\n",
              "      <th>Vehicle Model</th>\n",
              "      <th>Product GUID</th>\n",
              "      <th>License Plate Number</th>\n",
              "      <th>Fuel Type</th>\n",
              "    </tr>\n",
              "  </thead>\n",
              "  <tbody>\n",
              "    <tr>\n",
              "      <th>0</th>\n",
              "      <td>Z_MAHINDRA</td>\n",
              "      <td>000C2937F0991ED493A0CC3579ED97ED</td>\n",
              "      <td>MH12HN2835</td>\n",
              "      <td>2</td>\n",
              "    </tr>\n",
              "    <tr>\n",
              "      <th>1</th>\n",
              "      <td>Z_TATA</td>\n",
              "      <td>000C2937F0991ED493A19620CB69DDA0</td>\n",
              "      <td>TN10AL3462</td>\n",
              "      <td>2</td>\n",
              "    </tr>\n",
              "    <tr>\n",
              "      <th>2</th>\n",
              "      <td>Z_MARUTI</td>\n",
              "      <td>000C2937F0991ED493A28DAFBFBA870E</td>\n",
              "      <td>AP28DG9695</td>\n",
              "      <td>1</td>\n",
              "    </tr>\n",
              "    <tr>\n",
              "      <th>3</th>\n",
              "      <td>Z_HONDA</td>\n",
              "      <td>000C2937F0991ED493A496B779A143D3</td>\n",
              "      <td>MH15DS9580</td>\n",
              "      <td>1</td>\n",
              "    </tr>\n",
              "    <tr>\n",
              "      <th>4</th>\n",
              "      <td>Z_MARUTI</td>\n",
              "      <td>000C2937F0991ED493A58273B92EC2F8</td>\n",
              "      <td>MH14CK0669</td>\n",
              "      <td>2</td>\n",
              "    </tr>\n",
              "  </tbody>\n",
              "</table>\n",
              "</div>"
            ],
            "text/plain": [
              "  Vehicle Model  ... Fuel Type\n",
              "0    Z_MAHINDRA  ...         2\n",
              "1        Z_TATA  ...         2\n",
              "2      Z_MARUTI  ...         1\n",
              "3       Z_HONDA  ...         1\n",
              "4      Z_MARUTI  ...         2\n",
              "\n",
              "[5 rows x 4 columns]"
            ]
          },
          "metadata": {
            "tags": []
          },
          "execution_count": 22
        }
      ]
    },
    {
      "cell_type": "code",
      "metadata": {
        "id": "KeshmvEGpTBC",
        "colab_type": "code",
        "outputId": "b7c58a10-d7bf-4fd9-ea65-d4a07e6d3aa2",
        "colab": {
          "base_uri": "https://localhost:8080/"
        }
      },
      "source": [
        "vehicles_full_data.shape"
      ],
      "execution_count": 0,
      "outputs": [
        {
          "output_type": "execute_result",
          "data": {
            "text/plain": [
              "(588761, 4)"
            ]
          },
          "metadata": {
            "tags": []
          },
          "execution_count": 23
        }
      ]
    },
    {
      "cell_type": "code",
      "metadata": {
        "id": "5e2KQAa9pLKC",
        "colab_type": "code",
        "outputId": "b8d171c3-9af3-4c91-b9b7-4022eeefbe83",
        "colab": {
          "base_uri": "https://localhost:8080/"
        }
      },
      "source": [
        "vehicles_full_data.isnull().sum()"
      ],
      "execution_count": 0,
      "outputs": [
        {
          "output_type": "execute_result",
          "data": {
            "text/plain": [
              "Vehicle Model               0\n",
              "Product GUID                0\n",
              "License Plate Number     2058\n",
              "Fuel Type               15627\n",
              "dtype: int64"
            ]
          },
          "metadata": {
            "tags": []
          },
          "execution_count": 24
        }
      ]
    },
    {
      "cell_type": "markdown",
      "metadata": {
        "id": "61U8R8REqiYL",
        "colab_type": "text"
      },
      "source": [
        "***`Remove Product GUID column`***"
      ]
    },
    {
      "cell_type": "code",
      "metadata": {
        "id": "kzii6AKApzLH",
        "colab_type": "code",
        "colab": {}
      },
      "source": [
        "vehicles = vehicles_full_data.drop(columns='Product GUID')"
      ],
      "execution_count": 0,
      "outputs": []
    },
    {
      "cell_type": "code",
      "metadata": {
        "id": "rxylrfdyqhtv",
        "colab_type": "code",
        "outputId": "95082c75-982f-44bd-8b9f-e4bf1cd20d23",
        "colab": {
          "base_uri": "https://localhost:8080/"
        }
      },
      "source": [
        "vehicles.shape"
      ],
      "execution_count": 0,
      "outputs": [
        {
          "output_type": "execute_result",
          "data": {
            "text/plain": [
              "(588761, 3)"
            ]
          },
          "metadata": {
            "tags": []
          },
          "execution_count": 26
        }
      ]
    },
    {
      "cell_type": "code",
      "metadata": {
        "id": "w4___Ep9qw2h",
        "colab_type": "code",
        "outputId": "ddec56bb-a1b1-48ec-edb8-c8b072553fb6",
        "colab": {
          "base_uri": "https://localhost:8080/"
        }
      },
      "source": [
        "vehicles.isnull().sum()"
      ],
      "execution_count": 0,
      "outputs": [
        {
          "output_type": "execute_result",
          "data": {
            "text/plain": [
              "Vehicle Model               0\n",
              "License Plate Number     2058\n",
              "Fuel Type               15627\n",
              "dtype: int64"
            ]
          },
          "metadata": {
            "tags": []
          },
          "execution_count": 27
        }
      ]
    },
    {
      "cell_type": "code",
      "metadata": {
        "id": "AV3T2ddjq4dO",
        "colab_type": "code",
        "outputId": "6619c781-f0d9-438a-b057-b6d716210323",
        "colab": {
          "base_uri": "https://localhost:8080/"
        }
      },
      "source": [
        "vehicles.dtypes"
      ],
      "execution_count": 0,
      "outputs": [
        {
          "output_type": "execute_result",
          "data": {
            "text/plain": [
              "Vehicle Model           object\n",
              "License Plate Number    object\n",
              "Fuel Type               object\n",
              "dtype: object"
            ]
          },
          "metadata": {
            "tags": []
          },
          "execution_count": 28
        }
      ]
    },
    {
      "cell_type": "markdown",
      "metadata": {
        "id": "cdjfWR-rrN5s",
        "colab_type": "text"
      },
      "source": [
        "***`Remove vehicles which doesn't have License Plate Number`***"
      ]
    },
    {
      "cell_type": "code",
      "metadata": {
        "id": "CdymoOowpzRB",
        "colab_type": "code",
        "colab": {}
      },
      "source": [
        "vehicles.dropna(subset=['License Plate Number'], inplace=True)"
      ],
      "execution_count": 0,
      "outputs": []
    },
    {
      "cell_type": "code",
      "metadata": {
        "id": "c7_Y8xRIrLKd",
        "colab_type": "code",
        "outputId": "9fa3de4f-4ea0-4f40-b6f8-8cf937a403e2",
        "colab": {
          "base_uri": "https://localhost:8080/"
        }
      },
      "source": [
        "vehicles.shape"
      ],
      "execution_count": 0,
      "outputs": [
        {
          "output_type": "execute_result",
          "data": {
            "text/plain": [
              "(586703, 3)"
            ]
          },
          "metadata": {
            "tags": []
          },
          "execution_count": 30
        }
      ]
    },
    {
      "cell_type": "code",
      "metadata": {
        "id": "yIenhMf5raGy",
        "colab_type": "code",
        "colab": {}
      },
      "source": [
        "vehicles['Fuel Type'] = vehicles['Fuel Type'].fillna(vehicles['Fuel Type'].mode()[0])"
      ],
      "execution_count": 0,
      "outputs": []
    },
    {
      "cell_type": "code",
      "metadata": {
        "id": "CePgWMv-r5JV",
        "colab_type": "code",
        "outputId": "fc7eae2b-046a-411c-952a-0b4a5ff25694",
        "colab": {
          "base_uri": "https://localhost:8080/"
        }
      },
      "source": [
        "vehicles.isnull().sum()"
      ],
      "execution_count": 0,
      "outputs": [
        {
          "output_type": "execute_result",
          "data": {
            "text/plain": [
              "Vehicle Model           0\n",
              "License Plate Number    0\n",
              "Fuel Type               0\n",
              "dtype: int64"
            ]
          },
          "metadata": {
            "tags": []
          },
          "execution_count": 32
        }
      ]
    },
    {
      "cell_type": "markdown",
      "metadata": {
        "id": "-gDSUTYQr-83",
        "colab_type": "text"
      },
      "source": [
        "## Load Invoice Data\n",
        "Handle missing, duplicate data"
      ]
    },
    {
      "cell_type": "code",
      "metadata": {
        "id": "V-e3x0M7si2Y",
        "colab_type": "code",
        "outputId": "36027d4e-6fb0-4e2a-ed37-71180184d34e",
        "colab": {
          "base_uri": "https://localhost:8080/"
        }
      },
      "source": [
        "invoice_full_data = pd.read_csv('/content/drive/My Drive/Colab Notebooks/data/final_csv/invoice.csv',index_col=0)"
      ],
      "execution_count": 0,
      "outputs": [
        {
          "output_type": "stream",
          "text": [
            "/usr/local/lib/python3.6/dist-packages/IPython/core/interactiveshell.py:2718: DtypeWarning: Columns (9,10,14,15,21,41,51) have mixed types. Specify dtype option on import or set low_memory=False.\n",
            "  interactivity=interactivity, compiler=compiler, result=result)\n"
          ],
          "name": "stderr"
        }
      ]
    },
    {
      "cell_type": "code",
      "metadata": {
        "id": "EHceLpPfss7g",
        "colab_type": "code",
        "outputId": "42fbdf61-0b29-47ce-e49e-445e7f2f8c67",
        "colab": {
          "base_uri": "https://localhost:8080/"
        }
      },
      "source": [
        "invoice_full_data.head()"
      ],
      "execution_count": 0,
      "outputs": [
        {
          "output_type": "execute_result",
          "data": {
            "text/html": [
              "<div>\n",
              "<style scoped>\n",
              "    .dataframe tbody tr th:only-of-type {\n",
              "        vertical-align: middle;\n",
              "    }\n",
              "\n",
              "    .dataframe tbody tr th {\n",
              "        vertical-align: top;\n",
              "    }\n",
              "\n",
              "    .dataframe thead th {\n",
              "        text-align: right;\n",
              "    }\n",
              "</style>\n",
              "<table border=\"1\" class=\"dataframe\">\n",
              "  <thead>\n",
              "    <tr style=\"text-align: right;\">\n",
              "      <th></th>\n",
              "      <th>Amt Rcvd From Custom</th>\n",
              "      <th>Amt Rcvd From Ins Co</th>\n",
              "      <th>Area / Locality</th>\n",
              "      <th>CGST(14%)</th>\n",
              "      <th>CGST(2.5%)</th>\n",
              "      <th>CGST(6%)</th>\n",
              "      <th>CGST(9%)</th>\n",
              "      <th>CITY</th>\n",
              "      <th>Cash /Cashless Type</th>\n",
              "      <th>Claim No.</th>\n",
              "      <th>Cust Type</th>\n",
              "      <th>Customer No.</th>\n",
              "      <th>District</th>\n",
              "      <th>Expiry Date</th>\n",
              "      <th>Gate Pass Date</th>\n",
              "      <th>Gate Pass Time</th>\n",
              "      <th>IGST(12%)</th>\n",
              "      <th>IGST(18%)</th>\n",
              "      <th>IGST(28%)</th>\n",
              "      <th>IGST(5%)</th>\n",
              "      <th>Insurance Company</th>\n",
              "      <th>Invoice Date</th>\n",
              "      <th>Invoice No</th>\n",
              "      <th>Invoice Time</th>\n",
              "      <th>Job Card No</th>\n",
              "      <th>JobCard Date</th>\n",
              "      <th>JobCard Time</th>\n",
              "      <th>KMs Reading</th>\n",
              "      <th>Labour Total</th>\n",
              "      <th>Make</th>\n",
              "      <th>Misc Total</th>\n",
              "      <th>Model</th>\n",
              "      <th>ODN No.</th>\n",
              "      <th>OSL Total</th>\n",
              "      <th>Order Type</th>\n",
              "      <th>Outstanding Amt</th>\n",
              "      <th>Parts Total</th>\n",
              "      <th>Pin code</th>\n",
              "      <th>Plant</th>\n",
              "      <th>Plant Name1</th>\n",
              "      <th>Policy no.</th>\n",
              "      <th>Print Status</th>\n",
              "      <th>Recovrbl Exp</th>\n",
              "      <th>Regn No</th>\n",
              "      <th>SGST/UGST(14%)</th>\n",
              "      <th>SGST/UGST(2.5%)</th>\n",
              "      <th>SGST/UGST(6%)</th>\n",
              "      <th>SGST/UGST(9%)</th>\n",
              "      <th>Service Advisor Name</th>\n",
              "      <th>TDS amount</th>\n",
              "      <th>Technician Name</th>\n",
              "      <th>Total Amt Wtd Tax.</th>\n",
              "      <th>Total CGST</th>\n",
              "      <th>Total GST</th>\n",
              "      <th>Total IGST</th>\n",
              "      <th>Total SGST/UGST</th>\n",
              "      <th>Total Value</th>\n",
              "      <th>User ID</th>\n",
              "    </tr>\n",
              "  </thead>\n",
              "  <tbody>\n",
              "    <tr>\n",
              "      <th>0</th>\n",
              "      <td>0.0</td>\n",
              "      <td>0.0</td>\n",
              "      <td>NaN</td>\n",
              "      <td>0.0</td>\n",
              "      <td>0.0</td>\n",
              "      <td>0.0</td>\n",
              "      <td>0.0</td>\n",
              "      <td>Nashik</td>\n",
              "      <td>NaN</td>\n",
              "      <td>NaN</td>\n",
              "      <td>Retail</td>\n",
              "      <td>E14006</td>\n",
              "      <td>Maharashtra</td>\n",
              "      <td>NaN</td>\n",
              "      <td>NaN</td>\n",
              "      <td>00:00:00</td>\n",
              "      <td>0.0</td>\n",
              "      <td>0.0</td>\n",
              "      <td>0.0</td>\n",
              "      <td>0.0</td>\n",
              "      <td>NaN</td>\n",
              "      <td>2012-04-02</td>\n",
              "      <td>7000000011</td>\n",
              "      <td>17:04:33</td>\n",
              "      <td>101</td>\n",
              "      <td>2012-04-02</td>\n",
              "      <td>15:15:31</td>\n",
              "      <td>80440</td>\n",
              "      <td>420.09</td>\n",
              "      <td>HYUNDAI</td>\n",
              "      <td>0.0</td>\n",
              "      <td>SANTRO</td>\n",
              "      <td>7.000000e+09</td>\n",
              "      <td>0.00</td>\n",
              "      <td>Running Repairs</td>\n",
              "      <td>0.0</td>\n",
              "      <td>0.00</td>\n",
              "      <td>422000</td>\n",
              "      <td>BC03</td>\n",
              "      <td>NASHIK</td>\n",
              "      <td>NaN</td>\n",
              "      <td>NO</td>\n",
              "      <td>0.0</td>\n",
              "      <td>MH15BN2714</td>\n",
              "      <td>0.0</td>\n",
              "      <td>0.0</td>\n",
              "      <td>0.0</td>\n",
              "      <td>0.0</td>\n",
              "      <td>NaN</td>\n",
              "      <td>0.0</td>\n",
              "      <td>NaN</td>\n",
              "      <td>420.09</td>\n",
              "      <td>0.0</td>\n",
              "      <td>0.0</td>\n",
              "      <td>0.0</td>\n",
              "      <td>0.0</td>\n",
              "      <td>420.09</td>\n",
              "      <td>GOLIVE</td>\n",
              "    </tr>\n",
              "    <tr>\n",
              "      <th>1</th>\n",
              "      <td>0.0</td>\n",
              "      <td>0.0</td>\n",
              "      <td>NaN</td>\n",
              "      <td>0.0</td>\n",
              "      <td>0.0</td>\n",
              "      <td>0.0</td>\n",
              "      <td>0.0</td>\n",
              "      <td>THANE</td>\n",
              "      <td>NaN</td>\n",
              "      <td>NaN</td>\n",
              "      <td>Retail</td>\n",
              "      <td>0000000017</td>\n",
              "      <td>Maharashtra</td>\n",
              "      <td>NaN</td>\n",
              "      <td>NaN</td>\n",
              "      <td>00:00:00</td>\n",
              "      <td>0.0</td>\n",
              "      <td>0.0</td>\n",
              "      <td>0.0</td>\n",
              "      <td>0.0</td>\n",
              "      <td>NaN</td>\n",
              "      <td>2012-04-02</td>\n",
              "      <td>7000000014</td>\n",
              "      <td>17:26:52</td>\n",
              "      <td>105</td>\n",
              "      <td>2012-04-02</td>\n",
              "      <td>16:13:11</td>\n",
              "      <td>98474</td>\n",
              "      <td>179.75</td>\n",
              "      <td>MAHINDRA &amp;  MAHINDRA</td>\n",
              "      <td>0.0</td>\n",
              "      <td>LOGAN P</td>\n",
              "      <td>7.000000e+09</td>\n",
              "      <td>0.00</td>\n",
              "      <td>Running Repairs</td>\n",
              "      <td>0.0</td>\n",
              "      <td>0.00</td>\n",
              "      <td>401107</td>\n",
              "      <td>BC01</td>\n",
              "      <td>THANE</td>\n",
              "      <td>NaN</td>\n",
              "      <td>NO</td>\n",
              "      <td>0.0</td>\n",
              "      <td>MH04DN6210</td>\n",
              "      <td>0.0</td>\n",
              "      <td>0.0</td>\n",
              "      <td>0.0</td>\n",
              "      <td>0.0</td>\n",
              "      <td>NaN</td>\n",
              "      <td>0.0</td>\n",
              "      <td>NaN</td>\n",
              "      <td>179.75</td>\n",
              "      <td>0.0</td>\n",
              "      <td>0.0</td>\n",
              "      <td>0.0</td>\n",
              "      <td>0.0</td>\n",
              "      <td>179.75</td>\n",
              "      <td>GOLIVE</td>\n",
              "    </tr>\n",
              "    <tr>\n",
              "      <th>2</th>\n",
              "      <td>0.0</td>\n",
              "      <td>0.0</td>\n",
              "      <td>NaN</td>\n",
              "      <td>0.0</td>\n",
              "      <td>0.0</td>\n",
              "      <td>0.0</td>\n",
              "      <td>0.0</td>\n",
              "      <td>Hyderabad</td>\n",
              "      <td>NaN</td>\n",
              "      <td>NaN</td>\n",
              "      <td>Retail</td>\n",
              "      <td>0000000007</td>\n",
              "      <td>Andhra Pradesh</td>\n",
              "      <td>NaN</td>\n",
              "      <td>NaN</td>\n",
              "      <td>00:00:00</td>\n",
              "      <td>0.0</td>\n",
              "      <td>0.0</td>\n",
              "      <td>0.0</td>\n",
              "      <td>0.0</td>\n",
              "      <td>NaN</td>\n",
              "      <td>2012-04-02</td>\n",
              "      <td>7000000016</td>\n",
              "      <td>17:44:03</td>\n",
              "      <td>6</td>\n",
              "      <td>2012-04-02</td>\n",
              "      <td>12:47:59</td>\n",
              "      <td>137832</td>\n",
              "      <td>1340.37</td>\n",
              "      <td>MAHINDRA &amp;  MAHINDRA</td>\n",
              "      <td>0.0</td>\n",
              "      <td>SCORPIO CRDE</td>\n",
              "      <td>7.000000e+09</td>\n",
              "      <td>0.00</td>\n",
              "      <td>Paid Service</td>\n",
              "      <td>0.0</td>\n",
              "      <td>0.00</td>\n",
              "      <td>500038</td>\n",
              "      <td>BC04</td>\n",
              "      <td>BALANAGAR</td>\n",
              "      <td>NaN</td>\n",
              "      <td>NO</td>\n",
              "      <td>0.0</td>\n",
              "      <td>AP11AB0153</td>\n",
              "      <td>0.0</td>\n",
              "      <td>0.0</td>\n",
              "      <td>0.0</td>\n",
              "      <td>0.0</td>\n",
              "      <td>NaN</td>\n",
              "      <td>0.0</td>\n",
              "      <td>NaN</td>\n",
              "      <td>1340.37</td>\n",
              "      <td>0.0</td>\n",
              "      <td>0.0</td>\n",
              "      <td>0.0</td>\n",
              "      <td>0.0</td>\n",
              "      <td>1340.37</td>\n",
              "      <td>GOLIVE</td>\n",
              "    </tr>\n",
              "    <tr>\n",
              "      <th>3</th>\n",
              "      <td>0.0</td>\n",
              "      <td>0.0</td>\n",
              "      <td>NaN</td>\n",
              "      <td>0.0</td>\n",
              "      <td>0.0</td>\n",
              "      <td>0.0</td>\n",
              "      <td>0.0</td>\n",
              "      <td>Hyderabad</td>\n",
              "      <td>NaN</td>\n",
              "      <td>NaN</td>\n",
              "      <td>Retail</td>\n",
              "      <td>E22364</td>\n",
              "      <td>Andhra Pradesh</td>\n",
              "      <td>NaN</td>\n",
              "      <td>NaN</td>\n",
              "      <td>00:00:00</td>\n",
              "      <td>0.0</td>\n",
              "      <td>0.0</td>\n",
              "      <td>0.0</td>\n",
              "      <td>0.0</td>\n",
              "      <td>NaN</td>\n",
              "      <td>2012-04-02</td>\n",
              "      <td>7000000026</td>\n",
              "      <td>20:04:51</td>\n",
              "      <td>24</td>\n",
              "      <td>2012-04-01</td>\n",
              "      <td>16:19:32</td>\n",
              "      <td>75627</td>\n",
              "      <td>1709.06</td>\n",
              "      <td>MAHINDRA &amp;  MAHINDRA</td>\n",
              "      <td>0.0</td>\n",
              "      <td>SCORPIO CRDE</td>\n",
              "      <td>7.000000e+09</td>\n",
              "      <td>480.02</td>\n",
              "      <td>Paid Service</td>\n",
              "      <td>0.0</td>\n",
              "      <td>3317.37</td>\n",
              "      <td>500023</td>\n",
              "      <td>BC04</td>\n",
              "      <td>BALANAGAR</td>\n",
              "      <td>NaN</td>\n",
              "      <td>NO</td>\n",
              "      <td>0.0</td>\n",
              "      <td>AP9BJ4847</td>\n",
              "      <td>0.0</td>\n",
              "      <td>0.0</td>\n",
              "      <td>0.0</td>\n",
              "      <td>0.0</td>\n",
              "      <td>NaN</td>\n",
              "      <td>0.0</td>\n",
              "      <td>4302339</td>\n",
              "      <td>5506.45</td>\n",
              "      <td>0.0</td>\n",
              "      <td>0.0</td>\n",
              "      <td>0.0</td>\n",
              "      <td>0.0</td>\n",
              "      <td>5506.45</td>\n",
              "      <td>GOLIVE</td>\n",
              "    </tr>\n",
              "    <tr>\n",
              "      <th>4</th>\n",
              "      <td>0.0</td>\n",
              "      <td>0.0</td>\n",
              "      <td>NaN</td>\n",
              "      <td>0.0</td>\n",
              "      <td>0.0</td>\n",
              "      <td>0.0</td>\n",
              "      <td>0.0</td>\n",
              "      <td>Hyderabad</td>\n",
              "      <td>NaN</td>\n",
              "      <td>NaN</td>\n",
              "      <td>Retail</td>\n",
              "      <td>E25218</td>\n",
              "      <td>Andhra Pradesh</td>\n",
              "      <td>NaN</td>\n",
              "      <td>NaN</td>\n",
              "      <td>00:00:00</td>\n",
              "      <td>0.0</td>\n",
              "      <td>0.0</td>\n",
              "      <td>0.0</td>\n",
              "      <td>0.0</td>\n",
              "      <td>NaN</td>\n",
              "      <td>2012-04-02</td>\n",
              "      <td>7000000027</td>\n",
              "      <td>20:24:21</td>\n",
              "      <td>23</td>\n",
              "      <td>2012-04-01</td>\n",
              "      <td>16:19:32</td>\n",
              "      <td>1</td>\n",
              "      <td>2074.88</td>\n",
              "      <td>TATA MOTORS</td>\n",
              "      <td>0.0</td>\n",
              "      <td>INDICA</td>\n",
              "      <td>7.000000e+09</td>\n",
              "      <td>0.00</td>\n",
              "      <td>Accidental</td>\n",
              "      <td>0.0</td>\n",
              "      <td>3105.67</td>\n",
              "      <td>500045</td>\n",
              "      <td>BC04</td>\n",
              "      <td>BALANAGAR</td>\n",
              "      <td>NaN</td>\n",
              "      <td>NO</td>\n",
              "      <td>0.0</td>\n",
              "      <td>AP29BB4586</td>\n",
              "      <td>0.0</td>\n",
              "      <td>0.0</td>\n",
              "      <td>0.0</td>\n",
              "      <td>0.0</td>\n",
              "      <td>NaN</td>\n",
              "      <td>0.0</td>\n",
              "      <td>4302337</td>\n",
              "      <td>5180.55</td>\n",
              "      <td>0.0</td>\n",
              "      <td>0.0</td>\n",
              "      <td>0.0</td>\n",
              "      <td>0.0</td>\n",
              "      <td>5180.55</td>\n",
              "      <td>GOLIVE</td>\n",
              "    </tr>\n",
              "  </tbody>\n",
              "</table>\n",
              "</div>"
            ],
            "text/plain": [
              "   Amt Rcvd From Custom  Amt Rcvd From Ins Co  ... Total Value  User ID\n",
              "0                   0.0                   0.0  ...      420.09   GOLIVE\n",
              "1                   0.0                   0.0  ...      179.75   GOLIVE\n",
              "2                   0.0                   0.0  ...     1340.37   GOLIVE\n",
              "3                   0.0                   0.0  ...     5506.45   GOLIVE\n",
              "4                   0.0                   0.0  ...     5180.55   GOLIVE\n",
              "\n",
              "[5 rows x 58 columns]"
            ]
          },
          "metadata": {
            "tags": []
          },
          "execution_count": 34
        }
      ]
    },
    {
      "cell_type": "code",
      "metadata": {
        "id": "vEJjDsZOsWvd",
        "colab_type": "code",
        "outputId": "92724be5-d1c6-4d40-a209-fa7ca9d545ee",
        "colab": {
          "base_uri": "https://localhost:8080/"
        }
      },
      "source": [
        "invoice_full_data.shape"
      ],
      "execution_count": 0,
      "outputs": [
        {
          "output_type": "execute_result",
          "data": {
            "text/plain": [
              "(984741, 58)"
            ]
          },
          "metadata": {
            "tags": []
          },
          "execution_count": 35
        }
      ]
    },
    {
      "cell_type": "code",
      "metadata": {
        "id": "fXG5tq3bsW-x",
        "colab_type": "code",
        "colab": {}
      },
      "source": [
        "columns_to_be_removed = invoice_full_data.isnull().sum()[invoice_full_data.isnull().sum().sort_values() > 29178].index"
      ],
      "execution_count": 0,
      "outputs": []
    },
    {
      "cell_type": "code",
      "metadata": {
        "id": "NqOKaco9D_ly",
        "colab_type": "code",
        "colab": {}
      },
      "source": [
        "invoice = invoice_full_data.drop(columns=columns_to_be_removed)"
      ],
      "execution_count": 0,
      "outputs": []
    },
    {
      "cell_type": "code",
      "metadata": {
        "id": "CE-wcFK9EEhJ",
        "colab_type": "code",
        "outputId": "2642dff4-a6e4-4423-fd6a-c20c2c0d4c1f",
        "colab": {
          "base_uri": "https://localhost:8080/"
        }
      },
      "source": [
        "invoice.shape"
      ],
      "execution_count": 0,
      "outputs": [
        {
          "output_type": "execute_result",
          "data": {
            "text/plain": [
              "(984741, 28)"
            ]
          },
          "metadata": {
            "tags": []
          },
          "execution_count": 38
        }
      ]
    },
    {
      "cell_type": "code",
      "metadata": {
        "id": "M32ZbEo5EK8s",
        "colab_type": "code",
        "outputId": "c5031b46-bc1e-402b-f79a-716cdf2183ab",
        "colab": {
          "base_uri": "https://localhost:8080/"
        }
      },
      "source": [
        "invoice.head(5)"
      ],
      "execution_count": 0,
      "outputs": [
        {
          "output_type": "execute_result",
          "data": {
            "text/html": [
              "<div>\n",
              "<style scoped>\n",
              "    .dataframe tbody tr th:only-of-type {\n",
              "        vertical-align: middle;\n",
              "    }\n",
              "\n",
              "    .dataframe tbody tr th {\n",
              "        vertical-align: top;\n",
              "    }\n",
              "\n",
              "    .dataframe thead th {\n",
              "        text-align: right;\n",
              "    }\n",
              "</style>\n",
              "<table border=\"1\" class=\"dataframe\">\n",
              "  <thead>\n",
              "    <tr style=\"text-align: right;\">\n",
              "      <th></th>\n",
              "      <th>Area / Locality</th>\n",
              "      <th>CITY</th>\n",
              "      <th>Cust Type</th>\n",
              "      <th>Customer No.</th>\n",
              "      <th>District</th>\n",
              "      <th>Gate Pass Time</th>\n",
              "      <th>Invoice Date</th>\n",
              "      <th>Invoice No</th>\n",
              "      <th>Invoice Time</th>\n",
              "      <th>Job Card No</th>\n",
              "      <th>JobCard Date</th>\n",
              "      <th>JobCard Time</th>\n",
              "      <th>KMs Reading</th>\n",
              "      <th>Labour Total</th>\n",
              "      <th>Make</th>\n",
              "      <th>Misc Total</th>\n",
              "      <th>Model</th>\n",
              "      <th>OSL Total</th>\n",
              "      <th>Order Type</th>\n",
              "      <th>Parts Total</th>\n",
              "      <th>Pin code</th>\n",
              "      <th>Plant</th>\n",
              "      <th>Plant Name1</th>\n",
              "      <th>Print Status</th>\n",
              "      <th>Recovrbl Exp</th>\n",
              "      <th>Regn No</th>\n",
              "      <th>Total Amt Wtd Tax.</th>\n",
              "      <th>User ID</th>\n",
              "    </tr>\n",
              "  </thead>\n",
              "  <tbody>\n",
              "    <tr>\n",
              "      <th>0</th>\n",
              "      <td>NaN</td>\n",
              "      <td>Nashik</td>\n",
              "      <td>Retail</td>\n",
              "      <td>E14006</td>\n",
              "      <td>Maharashtra</td>\n",
              "      <td>00:00:00</td>\n",
              "      <td>2012-04-02</td>\n",
              "      <td>7000000011</td>\n",
              "      <td>17:04:33</td>\n",
              "      <td>101</td>\n",
              "      <td>2012-04-02</td>\n",
              "      <td>15:15:31</td>\n",
              "      <td>80440</td>\n",
              "      <td>420.09</td>\n",
              "      <td>HYUNDAI</td>\n",
              "      <td>0.0</td>\n",
              "      <td>SANTRO</td>\n",
              "      <td>0.00</td>\n",
              "      <td>Running Repairs</td>\n",
              "      <td>0.00</td>\n",
              "      <td>422000</td>\n",
              "      <td>BC03</td>\n",
              "      <td>NASHIK</td>\n",
              "      <td>NO</td>\n",
              "      <td>0.0</td>\n",
              "      <td>MH15BN2714</td>\n",
              "      <td>420.09</td>\n",
              "      <td>GOLIVE</td>\n",
              "    </tr>\n",
              "    <tr>\n",
              "      <th>1</th>\n",
              "      <td>NaN</td>\n",
              "      <td>THANE</td>\n",
              "      <td>Retail</td>\n",
              "      <td>0000000017</td>\n",
              "      <td>Maharashtra</td>\n",
              "      <td>00:00:00</td>\n",
              "      <td>2012-04-02</td>\n",
              "      <td>7000000014</td>\n",
              "      <td>17:26:52</td>\n",
              "      <td>105</td>\n",
              "      <td>2012-04-02</td>\n",
              "      <td>16:13:11</td>\n",
              "      <td>98474</td>\n",
              "      <td>179.75</td>\n",
              "      <td>MAHINDRA &amp;  MAHINDRA</td>\n",
              "      <td>0.0</td>\n",
              "      <td>LOGAN P</td>\n",
              "      <td>0.00</td>\n",
              "      <td>Running Repairs</td>\n",
              "      <td>0.00</td>\n",
              "      <td>401107</td>\n",
              "      <td>BC01</td>\n",
              "      <td>THANE</td>\n",
              "      <td>NO</td>\n",
              "      <td>0.0</td>\n",
              "      <td>MH04DN6210</td>\n",
              "      <td>179.75</td>\n",
              "      <td>GOLIVE</td>\n",
              "    </tr>\n",
              "    <tr>\n",
              "      <th>2</th>\n",
              "      <td>NaN</td>\n",
              "      <td>Hyderabad</td>\n",
              "      <td>Retail</td>\n",
              "      <td>0000000007</td>\n",
              "      <td>Andhra Pradesh</td>\n",
              "      <td>00:00:00</td>\n",
              "      <td>2012-04-02</td>\n",
              "      <td>7000000016</td>\n",
              "      <td>17:44:03</td>\n",
              "      <td>6</td>\n",
              "      <td>2012-04-02</td>\n",
              "      <td>12:47:59</td>\n",
              "      <td>137832</td>\n",
              "      <td>1340.37</td>\n",
              "      <td>MAHINDRA &amp;  MAHINDRA</td>\n",
              "      <td>0.0</td>\n",
              "      <td>SCORPIO CRDE</td>\n",
              "      <td>0.00</td>\n",
              "      <td>Paid Service</td>\n",
              "      <td>0.00</td>\n",
              "      <td>500038</td>\n",
              "      <td>BC04</td>\n",
              "      <td>BALANAGAR</td>\n",
              "      <td>NO</td>\n",
              "      <td>0.0</td>\n",
              "      <td>AP11AB0153</td>\n",
              "      <td>1340.37</td>\n",
              "      <td>GOLIVE</td>\n",
              "    </tr>\n",
              "    <tr>\n",
              "      <th>3</th>\n",
              "      <td>NaN</td>\n",
              "      <td>Hyderabad</td>\n",
              "      <td>Retail</td>\n",
              "      <td>E22364</td>\n",
              "      <td>Andhra Pradesh</td>\n",
              "      <td>00:00:00</td>\n",
              "      <td>2012-04-02</td>\n",
              "      <td>7000000026</td>\n",
              "      <td>20:04:51</td>\n",
              "      <td>24</td>\n",
              "      <td>2012-04-01</td>\n",
              "      <td>16:19:32</td>\n",
              "      <td>75627</td>\n",
              "      <td>1709.06</td>\n",
              "      <td>MAHINDRA &amp;  MAHINDRA</td>\n",
              "      <td>0.0</td>\n",
              "      <td>SCORPIO CRDE</td>\n",
              "      <td>480.02</td>\n",
              "      <td>Paid Service</td>\n",
              "      <td>3317.37</td>\n",
              "      <td>500023</td>\n",
              "      <td>BC04</td>\n",
              "      <td>BALANAGAR</td>\n",
              "      <td>NO</td>\n",
              "      <td>0.0</td>\n",
              "      <td>AP9BJ4847</td>\n",
              "      <td>5506.45</td>\n",
              "      <td>GOLIVE</td>\n",
              "    </tr>\n",
              "    <tr>\n",
              "      <th>4</th>\n",
              "      <td>NaN</td>\n",
              "      <td>Hyderabad</td>\n",
              "      <td>Retail</td>\n",
              "      <td>E25218</td>\n",
              "      <td>Andhra Pradesh</td>\n",
              "      <td>00:00:00</td>\n",
              "      <td>2012-04-02</td>\n",
              "      <td>7000000027</td>\n",
              "      <td>20:24:21</td>\n",
              "      <td>23</td>\n",
              "      <td>2012-04-01</td>\n",
              "      <td>16:19:32</td>\n",
              "      <td>1</td>\n",
              "      <td>2074.88</td>\n",
              "      <td>TATA MOTORS</td>\n",
              "      <td>0.0</td>\n",
              "      <td>INDICA</td>\n",
              "      <td>0.00</td>\n",
              "      <td>Accidental</td>\n",
              "      <td>3105.67</td>\n",
              "      <td>500045</td>\n",
              "      <td>BC04</td>\n",
              "      <td>BALANAGAR</td>\n",
              "      <td>NO</td>\n",
              "      <td>0.0</td>\n",
              "      <td>AP29BB4586</td>\n",
              "      <td>5180.55</td>\n",
              "      <td>GOLIVE</td>\n",
              "    </tr>\n",
              "  </tbody>\n",
              "</table>\n",
              "</div>"
            ],
            "text/plain": [
              "  Area / Locality       CITY Cust Type  ...     Regn No Total Amt Wtd Tax. User ID\n",
              "0             NaN     Nashik    Retail  ...  MH15BN2714             420.09  GOLIVE\n",
              "1             NaN      THANE    Retail  ...  MH04DN6210             179.75  GOLIVE\n",
              "2             NaN  Hyderabad    Retail  ...  AP11AB0153            1340.37  GOLIVE\n",
              "3             NaN  Hyderabad    Retail  ...   AP9BJ4847            5506.45  GOLIVE\n",
              "4             NaN  Hyderabad    Retail  ...  AP29BB4586            5180.55  GOLIVE\n",
              "\n",
              "[5 rows x 28 columns]"
            ]
          },
          "metadata": {
            "tags": []
          },
          "execution_count": 39
        }
      ]
    },
    {
      "cell_type": "code",
      "metadata": {
        "id": "ADyVxU0TLKJb",
        "colab_type": "code",
        "colab": {}
      },
      "source": [
        "columns_irrelevant = ['Area / Locality', 'Print Status', 'Gate Pass Time', 'Recovrbl Exp']"
      ],
      "execution_count": 0,
      "outputs": []
    },
    {
      "cell_type": "code",
      "metadata": {
        "id": "owC2gn0thq_P",
        "colab_type": "code",
        "colab": {}
      },
      "source": [
        "invoice = invoice.drop(columns=columns_irrelevant)"
      ],
      "execution_count": 0,
      "outputs": []
    },
    {
      "cell_type": "code",
      "metadata": {
        "id": "UIxpmur3jQkx",
        "colab_type": "code",
        "colab": {}
      },
      "source": [
        "invoice.dropna(subset=['Regn No'], inplace=True)"
      ],
      "execution_count": 0,
      "outputs": []
    },
    {
      "cell_type": "code",
      "metadata": {
        "id": "KthPw8BoLX7G",
        "colab_type": "code",
        "outputId": "fd81d503-680f-4a7e-ff60-4518372aeacd",
        "colab": {
          "base_uri": "https://localhost:8080/"
        }
      },
      "source": [
        "invoice.isnull().sum().sort_values()"
      ],
      "execution_count": 0,
      "outputs": [
        {
          "output_type": "execute_result",
          "data": {
            "text/plain": [
              "Labour Total             0\n",
              "Regn No                  0\n",
              "Plant Name1              0\n",
              "Plant                    0\n",
              "Pin code                 0\n",
              "Parts Total              0\n",
              "Order Type               0\n",
              "OSL Total                0\n",
              "Misc Total               0\n",
              "Make                     0\n",
              "Total Amt Wtd Tax.       0\n",
              "User ID                  0\n",
              "JobCard Time             0\n",
              "JobCard Date             0\n",
              "Job Card No              0\n",
              "Invoice Time             0\n",
              "Invoice No               0\n",
              "Invoice Date             0\n",
              "District                 0\n",
              "Customer No.             0\n",
              "KMs Reading              0\n",
              "Cust Type                4\n",
              "CITY                     4\n",
              "Model                 1524\n",
              "dtype: int64"
            ]
          },
          "metadata": {
            "tags": []
          },
          "execution_count": 43
        }
      ]
    },
    {
      "cell_type": "code",
      "metadata": {
        "id": "kCGj8yMNcc7I",
        "colab_type": "code",
        "colab": {}
      },
      "source": [
        "invoice['Cust Type'] = invoice['Cust Type'].fillna(invoice['Cust Type'].mode()[0])\n",
        "invoice['CITY'] = invoice['CITY'].fillna(invoice['CITY'].mode()[0])\n",
        "invoice['Model']  = invoice['Model'].fillna(invoice['Model'].mode()[0])"
      ],
      "execution_count": 0,
      "outputs": []
    },
    {
      "cell_type": "code",
      "metadata": {
        "id": "9BPxLAzujpTb",
        "colab_type": "code",
        "outputId": "6fdb2e60-fe82-4296-ac2f-713d7f96f4a1",
        "colab": {
          "base_uri": "https://localhost:8080/"
        }
      },
      "source": [
        "invoice.isnull().sum().sort_values()"
      ],
      "execution_count": 0,
      "outputs": [
        {
          "output_type": "execute_result",
          "data": {
            "text/plain": [
              "CITY                  0\n",
              "Regn No               0\n",
              "Plant Name1           0\n",
              "Plant                 0\n",
              "Pin code              0\n",
              "Parts Total           0\n",
              "Order Type            0\n",
              "OSL Total             0\n",
              "Model                 0\n",
              "Misc Total            0\n",
              "Make                  0\n",
              "Labour Total          0\n",
              "KMs Reading           0\n",
              "JobCard Time          0\n",
              "JobCard Date          0\n",
              "Job Card No           0\n",
              "Invoice Time          0\n",
              "Invoice No            0\n",
              "Invoice Date          0\n",
              "District              0\n",
              "Customer No.          0\n",
              "Cust Type             0\n",
              "Total Amt Wtd Tax.    0\n",
              "User ID               0\n",
              "dtype: int64"
            ]
          },
          "metadata": {
            "tags": []
          },
          "execution_count": 45
        }
      ]
    },
    {
      "cell_type": "markdown",
      "metadata": {
        "id": "2J0JfMJ8kfkx",
        "colab_type": "text"
      },
      "source": [
        "## Read JTD data\n",
        "* Handle missing and duplicate data."
      ]
    },
    {
      "cell_type": "code",
      "metadata": {
        "id": "Q5YbQqDus6dw",
        "colab_type": "code",
        "outputId": "e2128eb0-4685-403d-8f47-039b87a8af3f",
        "colab": {
          "base_uri": "https://localhost:8080/"
        }
      },
      "source": [
        "jtd = pd.read_csv('/content/drive/My Drive/Colab Notebooks/data/final_csv/jtd.csv', index_col=0)"
      ],
      "execution_count": 0,
      "outputs": [
        {
          "output_type": "stream",
          "text": [
            "/usr/local/lib/python3.6/dist-packages/numpy/lib/arraysetops.py:569: FutureWarning: elementwise comparison failed; returning scalar instead, but in the future will perform elementwise comparison\n",
            "  mask |= (ar1 == a)\n"
          ],
          "name": "stderr"
        }
      ]
    },
    {
      "cell_type": "code",
      "metadata": {
        "id": "4SceHKu8tAEn",
        "colab_type": "code",
        "outputId": "3fa9d545-8874-430e-b9cd-8d27460feb9c",
        "colab": {
          "base_uri": "https://localhost:8080/",
          "height": 204
        }
      },
      "source": [
        "jtd.head()"
      ],
      "execution_count": 150,
      "outputs": [
        {
          "output_type": "execute_result",
          "data": {
            "text/html": [
              "<div>\n",
              "<style scoped>\n",
              "    .dataframe tbody tr th:only-of-type {\n",
              "        vertical-align: middle;\n",
              "    }\n",
              "\n",
              "    .dataframe tbody tr th {\n",
              "        vertical-align: top;\n",
              "    }\n",
              "\n",
              "    .dataframe thead th {\n",
              "        text-align: right;\n",
              "    }\n",
              "</style>\n",
              "<table border=\"1\" class=\"dataframe\">\n",
              "  <thead>\n",
              "    <tr style=\"text-align: right;\">\n",
              "      <th></th>\n",
              "      <th>DBM Order</th>\n",
              "      <th>Order Item</th>\n",
              "      <th>Material</th>\n",
              "      <th>Labor Value Number</th>\n",
              "      <th>Description</th>\n",
              "      <th>Item Category</th>\n",
              "      <th>Order Quantity</th>\n",
              "      <th>Target quantity UoM</th>\n",
              "      <th>Net value</th>\n",
              "    </tr>\n",
              "  </thead>\n",
              "  <tbody>\n",
              "    <tr>\n",
              "      <th>0</th>\n",
              "      <td>98050</td>\n",
              "      <td>10</td>\n",
              "      <td>1EMJ96615412</td>\n",
              "      <td>NaN</td>\n",
              "      <td>SWITCH A-A/C CONTROL</td>\n",
              "      <td>P002</td>\n",
              "      <td>1.0</td>\n",
              "      <td>EA</td>\n",
              "      <td>5185.92</td>\n",
              "    </tr>\n",
              "    <tr>\n",
              "      <th>1</th>\n",
              "      <td>98050</td>\n",
              "      <td>20</td>\n",
              "      <td>1EMJ96548238</td>\n",
              "      <td>NaN</td>\n",
              "      <td>WEATHER STRIP A-REAR DOOR LH</td>\n",
              "      <td>P002</td>\n",
              "      <td>1.0</td>\n",
              "      <td>EA</td>\n",
              "      <td>1433.49</td>\n",
              "    </tr>\n",
              "    <tr>\n",
              "      <th>2</th>\n",
              "      <td>98050</td>\n",
              "      <td>30</td>\n",
              "      <td>1EMJ96548102</td>\n",
              "      <td>NaN</td>\n",
              "      <td>WEATHER STRIP A-FRONT DOOR LH</td>\n",
              "      <td>P002</td>\n",
              "      <td>1.0</td>\n",
              "      <td>EA</td>\n",
              "      <td>1526.88</td>\n",
              "    </tr>\n",
              "    <tr>\n",
              "      <th>3</th>\n",
              "      <td>98050</td>\n",
              "      <td>40</td>\n",
              "      <td>1EMJ96548239</td>\n",
              "      <td>NaN</td>\n",
              "      <td>WEATHER STRIP A-REAR DOOR RH</td>\n",
              "      <td>P002</td>\n",
              "      <td>1.0</td>\n",
              "      <td>EA</td>\n",
              "      <td>1433.49</td>\n",
              "    </tr>\n",
              "    <tr>\n",
              "      <th>4</th>\n",
              "      <td>98050</td>\n",
              "      <td>50</td>\n",
              "      <td>1EMJ96548103</td>\n",
              "      <td>NaN</td>\n",
              "      <td>WEATHER STRIP A-FRONT DOOR RH</td>\n",
              "      <td>P002</td>\n",
              "      <td>1.0</td>\n",
              "      <td>EA</td>\n",
              "      <td>1526.88</td>\n",
              "    </tr>\n",
              "  </tbody>\n",
              "</table>\n",
              "</div>"
            ],
            "text/plain": [
              "   DBM Order  Order Item  ... Target quantity UoM Net value\n",
              "0      98050          10  ...                  EA   5185.92\n",
              "1      98050          20  ...                  EA   1433.49\n",
              "2      98050          30  ...                  EA   1526.88\n",
              "3      98050          40  ...                  EA   1433.49\n",
              "4      98050          50  ...                  EA   1526.88\n",
              "\n",
              "[5 rows x 9 columns]"
            ]
          },
          "metadata": {
            "tags": []
          },
          "execution_count": 150
        }
      ]
    },
    {
      "cell_type": "code",
      "metadata": {
        "id": "XLGX1WsI4LBo",
        "colab_type": "code",
        "colab": {
          "base_uri": "https://localhost:8080/",
          "height": 1000
        },
        "outputId": "e8ffa1ca-ef9d-4f65-9234-603d5edb261a"
      },
      "source": [
        "jtd['Description'].value_counts()"
      ],
      "execution_count": 152,
      "outputs": [
        {
          "output_type": "execute_result",
          "data": {
            "text/plain": [
              "MISC_OTHER CHARGES                          270563\n",
              "Paid Service-Minor                          201857\n",
              "WASHING                                     199068\n",
              "Wheel Alignment                             191211\n",
              "OIL FILTER                                  154387\n",
              "URANIA SUPREMO CI 4 15W 40                  122218\n",
              "MFC PROLEUM CI4/SL 15W40                     92091\n",
              "AIR FILTER                                   80211\n",
              "Wheel Balancing (5 Wheels)                   79970\n",
              "MISC LABOR 0.5 HOURS                         62982\n",
              "General Check up                             62459\n",
              "Paid Service-Major                           60369\n",
              "WINDSHIELD LIQUID WASHER                     55352\n",
              "MISC LABOR 0.25 HOURS                        50143\n",
              "DISTILLED WATER                              46919\n",
              "Interior & Upholstery Cleaning               44864\n",
              "REPLACE BRAKE PAD (BOTH SIDE)                38552\n",
              "PAINTING CHARGES                             34187\n",
              "MISC LABOR 1 HOUR                            33993\n",
              "BALANCE WEIGHT 15GRAM                        31791\n",
              "MISC LABOR 2 HOURS                           31761\n",
              "BALANCE WEIGHT 20 GRAM                       29524\n",
              "BALANCE WEIGHT 25GRAM                        28774\n",
              "CLIP                                         28714\n",
              "BALANCE WEIGHT 10GRAM                        27962\n",
              "ANTIFREEZE COOLANT-GREEN                     27403\n",
              "BALANCE WEIGHT 30GRAM                        26724\n",
              "REPAIRING CHARGES                            23669\n",
              "PROFAR CONCENTRATED ANTIFREEZE COOLANT       22536\n",
              "Brake service - All 4 Wheels                 21236\n",
              "                                             ...  \n",
              "GEAR & CASE                                      1\n",
              "HOSE A-REF,SUCT&EVAP                             1\n",
              "NUT-SLOTTED                                      1\n",
              "ASSY DIPSTICK  - NEF FEAD 2.6 LCV                1\n",
              "ENGAGING GEAR(M/S SUNDRAM FASTENERS LTD)         1\n",
              "RETAINER, FR BMPR                                1\n",
              "MOLDING-CLUSTER                                  1\n",
              "BRACKET A-T/A MT,RR                              1\n",
              "WEATHERSTRIP RR S D WOD                          1\n",
              "INSIDE COVER LH-O.R.V.M (E/TEC                   1\n",
              "STUD FIAT PART NO. 13532521                      1\n",
              "ASSY HOSE SUCTION (110CC) BEHR                   1\n",
              "EXTENTION, QTR INNI                              1\n",
              "GLASS MOULDING SPARK                             1\n",
              "CRANKCASE                                        1\n",
              "KNOB GEAR SHIFT CONTROL LEVER(ZEN MINOR          1\n",
              "ASSY BOWDEN CABLE AIR MODE - B                   1\n",
              "ASSY FRT FENDER TRIM LH - SILVER                 1\n",
              "BANJO BOLT M14X1 5 (STRG END RET  PIPE)          1\n",
              "PLASTIC RIVET -B PLR LWR TRIM                    1\n",
              "ASSY AIRBAG PASSENGER MODULE GREY                1\n",
              "ROOD LAMP(LINEN)                                 1\n",
              "OIL PRESSURE TRANSDUCER SWIT                     1\n",
              "W/STRIP-FR DR UPR,RH                             1\n",
              "ASSY.COMBI SWITCH RHD-ARMY-MSS                   1\n",
              "ROCKER SHAFT ARMADA O/M                          1\n",
              "EMBLEM RR AMEZ                                   1\n",
              "ECU 1.3 SDE 90 PS (BS-IV) W/H                    1\n",
              "1DM284254209912                                  1\n",
              "WASHER LOCK-WHEEL BEARING NUT                    1\n",
              "Name: Description, Length: 58558, dtype: int64"
            ]
          },
          "metadata": {
            "tags": []
          },
          "execution_count": 152
        }
      ]
    },
    {
      "cell_type": "code",
      "metadata": {
        "id": "sut5vWkirmO5",
        "colab_type": "code",
        "outputId": "f3039681-6fff-4b52-a80d-2564c3415c43",
        "colab": {
          "base_uri": "https://localhost:8080/",
          "height": 1000
        }
      },
      "source": [
        "jtd[jtd['Material']=='MARUTISUZUKI_SRV']"
      ],
      "execution_count": 0,
      "outputs": [
        {
          "output_type": "execute_result",
          "data": {
            "text/html": [
              "<div>\n",
              "<style scoped>\n",
              "    .dataframe tbody tr th:only-of-type {\n",
              "        vertical-align: middle;\n",
              "    }\n",
              "\n",
              "    .dataframe tbody tr th {\n",
              "        vertical-align: top;\n",
              "    }\n",
              "\n",
              "    .dataframe thead th {\n",
              "        text-align: right;\n",
              "    }\n",
              "</style>\n",
              "<table border=\"1\" class=\"dataframe\">\n",
              "  <thead>\n",
              "    <tr style=\"text-align: right;\">\n",
              "      <th></th>\n",
              "      <th>DBM Order</th>\n",
              "      <th>Order Item</th>\n",
              "      <th>Material</th>\n",
              "      <th>Labor Value Number</th>\n",
              "      <th>Description</th>\n",
              "      <th>Item Category</th>\n",
              "      <th>Order Quantity</th>\n",
              "      <th>Target quantity UoM</th>\n",
              "      <th>Net value</th>\n",
              "    </tr>\n",
              "  </thead>\n",
              "  <tbody>\n",
              "    <tr>\n",
              "      <th>71</th>\n",
              "      <td>341232</td>\n",
              "      <td>80</td>\n",
              "      <td>MARUTISUZUKI_SRV</td>\n",
              "      <td>MSALPS0004</td>\n",
              "      <td>WASHING</td>\n",
              "      <td>P001</td>\n",
              "      <td>84.0</td>\n",
              "      <td>MIN</td>\n",
              "      <td>0.01</td>\n",
              "    </tr>\n",
              "    <tr>\n",
              "      <th>180</th>\n",
              "      <td>371391</td>\n",
              "      <td>10</td>\n",
              "      <td>MARUTISUZUKI_SRV</td>\n",
              "      <td>MSSWPS0004</td>\n",
              "      <td>WASHING</td>\n",
              "      <td>P001</td>\n",
              "      <td>84.0</td>\n",
              "      <td>MIN</td>\n",
              "      <td>0.01</td>\n",
              "    </tr>\n",
              "    <tr>\n",
              "      <th>284</th>\n",
              "      <td>381137</td>\n",
              "      <td>30</td>\n",
              "      <td>MARUTISUZUKI_SRV</td>\n",
              "      <td>MSZESP0003</td>\n",
              "      <td>OVERHAUL FRONT SUSPENSION</td>\n",
              "      <td>P001</td>\n",
              "      <td>144.0</td>\n",
              "      <td>MIN</td>\n",
              "      <td>647.97</td>\n",
              "    </tr>\n",
              "    <tr>\n",
              "      <th>313</th>\n",
              "      <td>386061</td>\n",
              "      <td>10</td>\n",
              "      <td>MARUTISUZUKI_SRV</td>\n",
              "      <td>MSSWPS0006</td>\n",
              "      <td>MISC LABOR 0.25 HOURS</td>\n",
              "      <td>P001</td>\n",
              "      <td>15.0</td>\n",
              "      <td>MIN</td>\n",
              "      <td>33.90</td>\n",
              "    </tr>\n",
              "    <tr>\n",
              "      <th>326</th>\n",
              "      <td>387424</td>\n",
              "      <td>90</td>\n",
              "      <td>MARUTISUZUKI_SRV</td>\n",
              "      <td>MSSWEL0040</td>\n",
              "      <td>REMOVE &amp; REFIT WINDSHIELD TANK MOTOR</td>\n",
              "      <td>P001</td>\n",
              "      <td>36.0</td>\n",
              "      <td>MIN</td>\n",
              "      <td>162.01</td>\n",
              "    </tr>\n",
              "    <tr>\n",
              "      <th>327</th>\n",
              "      <td>387424</td>\n",
              "      <td>100</td>\n",
              "      <td>MARUTISUZUKI_SRV</td>\n",
              "      <td>MSSWEL0075</td>\n",
              "      <td>REPLACE PARKING BRAKE SWITCH</td>\n",
              "      <td>P001</td>\n",
              "      <td>24.0</td>\n",
              "      <td>MIN</td>\n",
              "      <td>108.01</td>\n",
              "    </tr>\n",
              "    <tr>\n",
              "      <th>336</th>\n",
              "      <td>390912</td>\n",
              "      <td>10</td>\n",
              "      <td>MARUTISUZUKI_SRV</td>\n",
              "      <td>MSZNPS0004</td>\n",
              "      <td>WASHING</td>\n",
              "      <td>P001</td>\n",
              "      <td>84.0</td>\n",
              "      <td>MIN</td>\n",
              "      <td>0.00</td>\n",
              "    </tr>\n",
              "    <tr>\n",
              "      <th>355</th>\n",
              "      <td>395188</td>\n",
              "      <td>10</td>\n",
              "      <td>MARUTISUZUKI_SRV</td>\n",
              "      <td>MSSDSP0003</td>\n",
              "      <td>OVERHAUL FRONT SUSPENSION</td>\n",
              "      <td>P001</td>\n",
              "      <td>156.0</td>\n",
              "      <td>MIN</td>\n",
              "      <td>702.00</td>\n",
              "    </tr>\n",
              "    <tr>\n",
              "      <th>356</th>\n",
              "      <td>395188</td>\n",
              "      <td>20</td>\n",
              "      <td>MARUTISUZUKI_SRV</td>\n",
              "      <td>MSSDSP0004</td>\n",
              "      <td>REPLACE RR STABLIZER (ONE)</td>\n",
              "      <td>P001</td>\n",
              "      <td>42.0</td>\n",
              "      <td>MIN</td>\n",
              "      <td>189.00</td>\n",
              "    </tr>\n",
              "    <tr>\n",
              "      <th>357</th>\n",
              "      <td>395188</td>\n",
              "      <td>30</td>\n",
              "      <td>MARUTISUZUKI_SRV</td>\n",
              "      <td>MSSDSP0007</td>\n",
              "      <td>REPLACE RR STRUT ASSY (ONE)</td>\n",
              "      <td>P001</td>\n",
              "      <td>66.0</td>\n",
              "      <td>MIN</td>\n",
              "      <td>297.00</td>\n",
              "    </tr>\n",
              "    <tr>\n",
              "      <th>358</th>\n",
              "      <td>395188</td>\n",
              "      <td>40</td>\n",
              "      <td>MARUTISUZUKI_SRV</td>\n",
              "      <td>MSSDSP0009</td>\n",
              "      <td>REPLACE LOWER ARM ASSY (ONE)</td>\n",
              "      <td>P001</td>\n",
              "      <td>48.0</td>\n",
              "      <td>MIN</td>\n",
              "      <td>315.00</td>\n",
              "    </tr>\n",
              "    <tr>\n",
              "      <th>361</th>\n",
              "      <td>395188</td>\n",
              "      <td>70</td>\n",
              "      <td>MARUTISUZUKI_SRV</td>\n",
              "      <td>MSSDCC0001</td>\n",
              "      <td>REMOVE &amp; REFIT A.C. CONDENSER ASSY</td>\n",
              "      <td>P001</td>\n",
              "      <td>96.0</td>\n",
              "      <td>MIN</td>\n",
              "      <td>432.00</td>\n",
              "    </tr>\n",
              "    <tr>\n",
              "      <th>362</th>\n",
              "      <td>395188</td>\n",
              "      <td>80</td>\n",
              "      <td>MARUTISUZUKI_SRV</td>\n",
              "      <td>MSSDCC0002</td>\n",
              "      <td>REMOVE &amp; REFIT RADIATOR WITH FAN MOTOR</td>\n",
              "      <td>P001</td>\n",
              "      <td>48.0</td>\n",
              "      <td>MIN</td>\n",
              "      <td>216.00</td>\n",
              "    </tr>\n",
              "    <tr>\n",
              "      <th>363</th>\n",
              "      <td>395188</td>\n",
              "      <td>90</td>\n",
              "      <td>MARUTISUZUKI_SRV</td>\n",
              "      <td>MSSDCC0007</td>\n",
              "      <td>REPLACE PRESSURE HOSES</td>\n",
              "      <td>P001</td>\n",
              "      <td>60.0</td>\n",
              "      <td>MIN</td>\n",
              "      <td>270.00</td>\n",
              "    </tr>\n",
              "    <tr>\n",
              "      <th>364</th>\n",
              "      <td>395188</td>\n",
              "      <td>100</td>\n",
              "      <td>MARUTISUZUKI_SRV</td>\n",
              "      <td>MSSDEL0037</td>\n",
              "      <td>REPLACE HORN( EACH)</td>\n",
              "      <td>P001</td>\n",
              "      <td>42.0</td>\n",
              "      <td>MIN</td>\n",
              "      <td>189.00</td>\n",
              "    </tr>\n",
              "    <tr>\n",
              "      <th>365</th>\n",
              "      <td>395188</td>\n",
              "      <td>110</td>\n",
              "      <td>MARUTISUZUKI_SRV</td>\n",
              "      <td>MSSDEL0037</td>\n",
              "      <td>REPLACE HORN( EACH)</td>\n",
              "      <td>P001</td>\n",
              "      <td>42.0</td>\n",
              "      <td>MIN</td>\n",
              "      <td>189.00</td>\n",
              "    </tr>\n",
              "    <tr>\n",
              "      <th>449</th>\n",
              "      <td>398390</td>\n",
              "      <td>20</td>\n",
              "      <td>MARUTISUZUKI_SRV</td>\n",
              "      <td>MSWABK0001</td>\n",
              "      <td>REPLACE BRAKE PAD (BOTH SIDE)</td>\n",
              "      <td>P001</td>\n",
              "      <td>72.0</td>\n",
              "      <td>MIN</td>\n",
              "      <td>107.51</td>\n",
              "    </tr>\n",
              "    <tr>\n",
              "      <th>644</th>\n",
              "      <td>411076</td>\n",
              "      <td>30</td>\n",
              "      <td>MARUTISUZUKI_SRV</td>\n",
              "      <td>MSSWPS0003</td>\n",
              "      <td>MISC LABOR 1 HOUR</td>\n",
              "      <td>P001</td>\n",
              "      <td>60.0</td>\n",
              "      <td>MIN</td>\n",
              "      <td>249.75</td>\n",
              "    </tr>\n",
              "    <tr>\n",
              "      <th>676</th>\n",
              "      <td>416082</td>\n",
              "      <td>30</td>\n",
              "      <td>MARUTISUZUKI_SRV</td>\n",
              "      <td>MSSWBK0001</td>\n",
              "      <td>REPLACE BRAKE PAD (BOTH SIDE)</td>\n",
              "      <td>P001</td>\n",
              "      <td>72.0</td>\n",
              "      <td>MIN</td>\n",
              "      <td>279.00</td>\n",
              "    </tr>\n",
              "    <tr>\n",
              "      <th>679</th>\n",
              "      <td>416082</td>\n",
              "      <td>60</td>\n",
              "      <td>MARUTISUZUKI_SRV</td>\n",
              "      <td>MSSWBK0024</td>\n",
              "      <td>REPLACE BRAKE SHOE</td>\n",
              "      <td>P001</td>\n",
              "      <td>75.6</td>\n",
              "      <td>MIN</td>\n",
              "      <td>425.00</td>\n",
              "    </tr>\n",
              "    <tr>\n",
              "      <th>680</th>\n",
              "      <td>416082</td>\n",
              "      <td>70</td>\n",
              "      <td>MARUTISUZUKI_SRV</td>\n",
              "      <td>MSSWBK0023</td>\n",
              "      <td>REPLACE BRAKE WHEEL CYLINDER FRONT(ONE)</td>\n",
              "      <td>P001</td>\n",
              "      <td>66.0</td>\n",
              "      <td>MIN</td>\n",
              "      <td>429.00</td>\n",
              "    </tr>\n",
              "    <tr>\n",
              "      <th>681</th>\n",
              "      <td>416082</td>\n",
              "      <td>80</td>\n",
              "      <td>MARUTISUZUKI_SRV</td>\n",
              "      <td>MSSWBK0023</td>\n",
              "      <td>REPLACE BRAKE WHEEL CYLINDER FRONT(ONE)</td>\n",
              "      <td>P001</td>\n",
              "      <td>66.0</td>\n",
              "      <td>MIN</td>\n",
              "      <td>429.00</td>\n",
              "    </tr>\n",
              "    <tr>\n",
              "      <th>682</th>\n",
              "      <td>416082</td>\n",
              "      <td>90</td>\n",
              "      <td>MARUTISUZUKI_SRV</td>\n",
              "      <td>MSSWWH0003</td>\n",
              "      <td>REPLACE RR WHEEL BEARING (ONE)</td>\n",
              "      <td>P001</td>\n",
              "      <td>72.0</td>\n",
              "      <td>MIN</td>\n",
              "      <td>325.00</td>\n",
              "    </tr>\n",
              "    <tr>\n",
              "      <th>683</th>\n",
              "      <td>416082</td>\n",
              "      <td>100</td>\n",
              "      <td>MARUTISUZUKI_SRV</td>\n",
              "      <td>MSSWWH0003</td>\n",
              "      <td>REPLACE RR WHEEL BEARING (ONE)</td>\n",
              "      <td>P001</td>\n",
              "      <td>72.0</td>\n",
              "      <td>MIN</td>\n",
              "      <td>325.00</td>\n",
              "    </tr>\n",
              "    <tr>\n",
              "      <th>684</th>\n",
              "      <td>416082</td>\n",
              "      <td>110</td>\n",
              "      <td>MARUTISUZUKI_SRV</td>\n",
              "      <td>MSSWWH0001</td>\n",
              "      <td>REMOVE &amp; REFIT FRONT WHEEL BEARING (ONE)</td>\n",
              "      <td>P001</td>\n",
              "      <td>72.0</td>\n",
              "      <td>MIN</td>\n",
              "      <td>490.00</td>\n",
              "    </tr>\n",
              "    <tr>\n",
              "      <th>685</th>\n",
              "      <td>416082</td>\n",
              "      <td>120</td>\n",
              "      <td>MARUTISUZUKI_SRV</td>\n",
              "      <td>MSSWWH0001</td>\n",
              "      <td>REMOVE &amp; REFIT FRONT WHEEL BEARING (ONE)</td>\n",
              "      <td>P001</td>\n",
              "      <td>72.0</td>\n",
              "      <td>MIN</td>\n",
              "      <td>490.00</td>\n",
              "    </tr>\n",
              "    <tr>\n",
              "      <th>686</th>\n",
              "      <td>416082</td>\n",
              "      <td>130</td>\n",
              "      <td>MARUTISUZUKI_SRV</td>\n",
              "      <td>MSSWCC0016</td>\n",
              "      <td>ASSEMBLY AC BLOWER MOTOR</td>\n",
              "      <td>P001</td>\n",
              "      <td>78.0</td>\n",
              "      <td>MIN</td>\n",
              "      <td>507.00</td>\n",
              "    </tr>\n",
              "    <tr>\n",
              "      <th>687</th>\n",
              "      <td>416082</td>\n",
              "      <td>140</td>\n",
              "      <td>MARUTISUZUKI_SRV</td>\n",
              "      <td>MSSWCC0029</td>\n",
              "      <td>SERVICE COMPLETE AC</td>\n",
              "      <td>P001</td>\n",
              "      <td>420.0</td>\n",
              "      <td>MIN</td>\n",
              "      <td>3680.09</td>\n",
              "    </tr>\n",
              "    <tr>\n",
              "      <th>688</th>\n",
              "      <td>416082</td>\n",
              "      <td>150</td>\n",
              "      <td>MARUTISUZUKI_SRV</td>\n",
              "      <td>MSSWBK0016</td>\n",
              "      <td>REPLACE REAR BRAKE DRUM (ONE SIDE)</td>\n",
              "      <td>P001</td>\n",
              "      <td>42.0</td>\n",
              "      <td>MIN</td>\n",
              "      <td>273.00</td>\n",
              "    </tr>\n",
              "    <tr>\n",
              "      <th>689</th>\n",
              "      <td>416082</td>\n",
              "      <td>160</td>\n",
              "      <td>MARUTISUZUKI_SRV</td>\n",
              "      <td>MSSWBK0016</td>\n",
              "      <td>REPLACE REAR BRAKE DRUM (ONE SIDE)</td>\n",
              "      <td>P001</td>\n",
              "      <td>42.0</td>\n",
              "      <td>MIN</td>\n",
              "      <td>273.00</td>\n",
              "    </tr>\n",
              "    <tr>\n",
              "      <th>...</th>\n",
              "      <td>...</td>\n",
              "      <td>...</td>\n",
              "      <td>...</td>\n",
              "      <td>...</td>\n",
              "      <td>...</td>\n",
              "      <td>...</td>\n",
              "      <td>...</td>\n",
              "      <td>...</td>\n",
              "      <td>...</td>\n",
              "    </tr>\n",
              "    <tr>\n",
              "      <th>796795</th>\n",
              "      <td>300024</td>\n",
              "      <td>140</td>\n",
              "      <td>MARUTISUZUKI_SRV</td>\n",
              "      <td>MSALEL0103</td>\n",
              "      <td>REMOVE &amp; REFIT HEADLIGHT ASSY LHS</td>\n",
              "      <td>P001</td>\n",
              "      <td>30.0</td>\n",
              "      <td>MIN</td>\n",
              "      <td>135.00</td>\n",
              "    </tr>\n",
              "    <tr>\n",
              "      <th>796796</th>\n",
              "      <td>300024</td>\n",
              "      <td>150</td>\n",
              "      <td>MARUTISUZUKI_SRV</td>\n",
              "      <td>MSALIP0015</td>\n",
              "      <td>REMOVE &amp; REFIT SEAT (EACH)</td>\n",
              "      <td>P001</td>\n",
              "      <td>42.0</td>\n",
              "      <td>MIN</td>\n",
              "      <td>189.00</td>\n",
              "    </tr>\n",
              "    <tr>\n",
              "      <th>796797</th>\n",
              "      <td>300024</td>\n",
              "      <td>160</td>\n",
              "      <td>MARUTISUZUKI_SRV</td>\n",
              "      <td>MSALIP0015</td>\n",
              "      <td>REMOVE &amp; REFIT SEAT (EACH)</td>\n",
              "      <td>P001</td>\n",
              "      <td>42.0</td>\n",
              "      <td>MIN</td>\n",
              "      <td>189.00</td>\n",
              "    </tr>\n",
              "    <tr>\n",
              "      <th>796798</th>\n",
              "      <td>300024</td>\n",
              "      <td>170</td>\n",
              "      <td>MARUTISUZUKI_SRV</td>\n",
              "      <td>MSALIP0015</td>\n",
              "      <td>REMOVE &amp; REFIT SEAT (EACH)</td>\n",
              "      <td>P001</td>\n",
              "      <td>42.0</td>\n",
              "      <td>MIN</td>\n",
              "      <td>189.00</td>\n",
              "    </tr>\n",
              "    <tr>\n",
              "      <th>796799</th>\n",
              "      <td>300024</td>\n",
              "      <td>180</td>\n",
              "      <td>MARUTISUZUKI_SRV</td>\n",
              "      <td>MSALIP0015</td>\n",
              "      <td>REMOVE &amp; REFIT SEAT (EACH)</td>\n",
              "      <td>P001</td>\n",
              "      <td>42.0</td>\n",
              "      <td>MIN</td>\n",
              "      <td>189.00</td>\n",
              "    </tr>\n",
              "    <tr>\n",
              "      <th>796800</th>\n",
              "      <td>300024</td>\n",
              "      <td>190</td>\n",
              "      <td>MARUTISUZUKI_SRV</td>\n",
              "      <td>MSALIP0018</td>\n",
              "      <td>REMOVE &amp; REFIT DOOR TRIMS (EACH)</td>\n",
              "      <td>P001</td>\n",
              "      <td>30.0</td>\n",
              "      <td>MIN</td>\n",
              "      <td>135.00</td>\n",
              "    </tr>\n",
              "    <tr>\n",
              "      <th>796801</th>\n",
              "      <td>300024</td>\n",
              "      <td>200</td>\n",
              "      <td>MARUTISUZUKI_SRV</td>\n",
              "      <td>MSALIP0018</td>\n",
              "      <td>REMOVE &amp; REFIT DOOR TRIMS (EACH)</td>\n",
              "      <td>P001</td>\n",
              "      <td>30.0</td>\n",
              "      <td>MIN</td>\n",
              "      <td>135.00</td>\n",
              "    </tr>\n",
              "    <tr>\n",
              "      <th>796802</th>\n",
              "      <td>300024</td>\n",
              "      <td>210</td>\n",
              "      <td>MARUTISUZUKI_SRV</td>\n",
              "      <td>MSALIP0018</td>\n",
              "      <td>REMOVE &amp; REFIT DOOR TRIMS (EACH)</td>\n",
              "      <td>P001</td>\n",
              "      <td>30.0</td>\n",
              "      <td>MIN</td>\n",
              "      <td>135.00</td>\n",
              "    </tr>\n",
              "    <tr>\n",
              "      <th>796803</th>\n",
              "      <td>300024</td>\n",
              "      <td>220</td>\n",
              "      <td>MARUTISUZUKI_SRV</td>\n",
              "      <td>MSALIP0018</td>\n",
              "      <td>REMOVE &amp; REFIT DOOR TRIMS (EACH)</td>\n",
              "      <td>P001</td>\n",
              "      <td>30.0</td>\n",
              "      <td>MIN</td>\n",
              "      <td>135.00</td>\n",
              "    </tr>\n",
              "    <tr>\n",
              "      <th>796804</th>\n",
              "      <td>300024</td>\n",
              "      <td>230</td>\n",
              "      <td>MARUTISUZUKI_SRV</td>\n",
              "      <td>MSALIP0020</td>\n",
              "      <td>REMOVE &amp; REFIT CARPET</td>\n",
              "      <td>P001</td>\n",
              "      <td>96.0</td>\n",
              "      <td>MIN</td>\n",
              "      <td>432.00</td>\n",
              "    </tr>\n",
              "    <tr>\n",
              "      <th>796806</th>\n",
              "      <td>300024</td>\n",
              "      <td>250</td>\n",
              "      <td>MARUTISUZUKI_SRV</td>\n",
              "      <td>MSALPS0004</td>\n",
              "      <td>WASHING</td>\n",
              "      <td>P001</td>\n",
              "      <td>84.0</td>\n",
              "      <td>MIN</td>\n",
              "      <td>378.00</td>\n",
              "    </tr>\n",
              "    <tr>\n",
              "      <th>796811</th>\n",
              "      <td>300024</td>\n",
              "      <td>300</td>\n",
              "      <td>MARUTISUZUKI_SRV</td>\n",
              "      <td>MSALPS0002</td>\n",
              "      <td>MISC LABOR 0.5 HOURS</td>\n",
              "      <td>P001</td>\n",
              "      <td>30.0</td>\n",
              "      <td>MIN</td>\n",
              "      <td>2635.01</td>\n",
              "    </tr>\n",
              "    <tr>\n",
              "      <th>796822</th>\n",
              "      <td>300027</td>\n",
              "      <td>60</td>\n",
              "      <td>MARUTISUZUKI_SRV</td>\n",
              "      <td>MSWACC0011</td>\n",
              "      <td>REPLACE COOLANT</td>\n",
              "      <td>P001</td>\n",
              "      <td>29.0</td>\n",
              "      <td>MIN</td>\n",
              "      <td>131.00</td>\n",
              "    </tr>\n",
              "    <tr>\n",
              "      <th>796879</th>\n",
              "      <td>300046</td>\n",
              "      <td>20</td>\n",
              "      <td>MARUTISUZUKI_SRV</td>\n",
              "      <td>MSSDPS0002</td>\n",
              "      <td>MISC LABOR 0.5 HOURS</td>\n",
              "      <td>P001</td>\n",
              "      <td>30.0</td>\n",
              "      <td>MIN</td>\n",
              "      <td>174.01</td>\n",
              "    </tr>\n",
              "    <tr>\n",
              "      <th>796880</th>\n",
              "      <td>300047</td>\n",
              "      <td>10</td>\n",
              "      <td>MARUTISUZUKI_SRV</td>\n",
              "      <td>MSSWWH0001</td>\n",
              "      <td>REMOVE &amp; REFIT FRONT WHEEL BEARING (ONE)</td>\n",
              "      <td>P001</td>\n",
              "      <td>72.0</td>\n",
              "      <td>MIN</td>\n",
              "      <td>373.93</td>\n",
              "    </tr>\n",
              "    <tr>\n",
              "      <th>796882</th>\n",
              "      <td>300048</td>\n",
              "      <td>10</td>\n",
              "      <td>MARUTISUZUKI_SRV</td>\n",
              "      <td>MSALEN0001</td>\n",
              "      <td>TUNE UP ENGINE</td>\n",
              "      <td>P001</td>\n",
              "      <td>84.0</td>\n",
              "      <td>MIN</td>\n",
              "      <td>621.09</td>\n",
              "    </tr>\n",
              "    <tr>\n",
              "      <th>796883</th>\n",
              "      <td>300048</td>\n",
              "      <td>20</td>\n",
              "      <td>MARUTISUZUKI_SRV</td>\n",
              "      <td>MSALEL0030</td>\n",
              "      <td>REPAIR ENGINE WIRING</td>\n",
              "      <td>P001</td>\n",
              "      <td>60.0</td>\n",
              "      <td>MIN</td>\n",
              "      <td>672.10</td>\n",
              "    </tr>\n",
              "    <tr>\n",
              "      <th>796920</th>\n",
              "      <td>300059</td>\n",
              "      <td>180</td>\n",
              "      <td>MARUTISUZUKI_SRV</td>\n",
              "      <td>MSSDBK0001</td>\n",
              "      <td>REPLACE BRAKE PAD (BOTH SIDE)</td>\n",
              "      <td>P001</td>\n",
              "      <td>81.0</td>\n",
              "      <td>MIN</td>\n",
              "      <td>420.97</td>\n",
              "    </tr>\n",
              "    <tr>\n",
              "      <th>796929</th>\n",
              "      <td>300063</td>\n",
              "      <td>10</td>\n",
              "      <td>MARUTISUZUKI_SRV</td>\n",
              "      <td>MSSDPS0004</td>\n",
              "      <td>WASHING</td>\n",
              "      <td>P001</td>\n",
              "      <td>84.0</td>\n",
              "      <td>MIN</td>\n",
              "      <td>248.89</td>\n",
              "    </tr>\n",
              "    <tr>\n",
              "      <th>796943</th>\n",
              "      <td>300069</td>\n",
              "      <td>10</td>\n",
              "      <td>MARUTISUZUKI_SRV</td>\n",
              "      <td>MSALPS0002</td>\n",
              "      <td>MISC LABOR 0.5 HOURS</td>\n",
              "      <td>P001</td>\n",
              "      <td>30.0</td>\n",
              "      <td>MIN</td>\n",
              "      <td>249.75</td>\n",
              "    </tr>\n",
              "    <tr>\n",
              "      <th>796992</th>\n",
              "      <td>300091</td>\n",
              "      <td>10</td>\n",
              "      <td>MARUTISUZUKI_SRV</td>\n",
              "      <td>MSSDPS0004</td>\n",
              "      <td>WASHING</td>\n",
              "      <td>P001</td>\n",
              "      <td>84.0</td>\n",
              "      <td>MIN</td>\n",
              "      <td>0.00</td>\n",
              "    </tr>\n",
              "    <tr>\n",
              "      <th>797002</th>\n",
              "      <td>300097</td>\n",
              "      <td>30</td>\n",
              "      <td>MARUTISUZUKI_SRV</td>\n",
              "      <td>MSWAPS0004</td>\n",
              "      <td>WASHING</td>\n",
              "      <td>P001</td>\n",
              "      <td>84.0</td>\n",
              "      <td>MIN</td>\n",
              "      <td>0.00</td>\n",
              "    </tr>\n",
              "    <tr>\n",
              "      <th>797006</th>\n",
              "      <td>300098</td>\n",
              "      <td>50</td>\n",
              "      <td>MARUTISUZUKI_SRV</td>\n",
              "      <td>MSWAEN0017</td>\n",
              "      <td>REPLACE OIL FILLER CAP</td>\n",
              "      <td>P001</td>\n",
              "      <td>24.0</td>\n",
              "      <td>MIN</td>\n",
              "      <td>110.02</td>\n",
              "    </tr>\n",
              "    <tr>\n",
              "      <th>797090</th>\n",
              "      <td>300145</td>\n",
              "      <td>10</td>\n",
              "      <td>MARUTISUZUKI_SRV</td>\n",
              "      <td>MSSDPS0004</td>\n",
              "      <td>WASHING</td>\n",
              "      <td>P001</td>\n",
              "      <td>84.0</td>\n",
              "      <td>MIN</td>\n",
              "      <td>248.93</td>\n",
              "    </tr>\n",
              "    <tr>\n",
              "      <th>797111</th>\n",
              "      <td>300148</td>\n",
              "      <td>140</td>\n",
              "      <td>MARUTISUZUKI_SRV</td>\n",
              "      <td>MSALPS0004</td>\n",
              "      <td>WASHING</td>\n",
              "      <td>P001</td>\n",
              "      <td>84.0</td>\n",
              "      <td>MIN</td>\n",
              "      <td>437.00</td>\n",
              "    </tr>\n",
              "    <tr>\n",
              "      <th>797115</th>\n",
              "      <td>300148</td>\n",
              "      <td>180</td>\n",
              "      <td>MARUTISUZUKI_SRV</td>\n",
              "      <td>MSALPS0096</td>\n",
              "      <td>EGR Cleaning</td>\n",
              "      <td>P001</td>\n",
              "      <td>120.0</td>\n",
              "      <td>MIN</td>\n",
              "      <td>624.00</td>\n",
              "    </tr>\n",
              "    <tr>\n",
              "      <th>797116</th>\n",
              "      <td>300148</td>\n",
              "      <td>190</td>\n",
              "      <td>MARUTISUZUKI_SRV</td>\n",
              "      <td>MSALSP0003</td>\n",
              "      <td>OVERHAUL FRONT SUSPENSION</td>\n",
              "      <td>P001</td>\n",
              "      <td>132.0</td>\n",
              "      <td>MIN</td>\n",
              "      <td>686.00</td>\n",
              "    </tr>\n",
              "    <tr>\n",
              "      <th>797117</th>\n",
              "      <td>300148</td>\n",
              "      <td>200</td>\n",
              "      <td>MARUTISUZUKI_SRV</td>\n",
              "      <td>MSALSP0009</td>\n",
              "      <td>REPLACE LOWER ARM ASSY (ONE)</td>\n",
              "      <td>P001</td>\n",
              "      <td>36.0</td>\n",
              "      <td>MIN</td>\n",
              "      <td>487.00</td>\n",
              "    </tr>\n",
              "    <tr>\n",
              "      <th>797118</th>\n",
              "      <td>300148</td>\n",
              "      <td>210</td>\n",
              "      <td>MARUTISUZUKI_SRV</td>\n",
              "      <td>MSALRB0004</td>\n",
              "      <td>REPLACE BONNET BUSH</td>\n",
              "      <td>P001</td>\n",
              "      <td>36.0</td>\n",
              "      <td>MIN</td>\n",
              "      <td>287.00</td>\n",
              "    </tr>\n",
              "    <tr>\n",
              "      <th>797135</th>\n",
              "      <td>300155</td>\n",
              "      <td>10</td>\n",
              "      <td>MARUTISUZUKI_SRV</td>\n",
              "      <td>MSWATR0011</td>\n",
              "      <td>REMOVE &amp; REFIT GEARBOX</td>\n",
              "      <td>P001</td>\n",
              "      <td>300.0</td>\n",
              "      <td>MIN</td>\n",
              "      <td>6119.60</td>\n",
              "    </tr>\n",
              "  </tbody>\n",
              "</table>\n",
              "<p>292232 rows × 9 columns</p>\n",
              "</div>"
            ],
            "text/plain": [
              "        DBM Order  Order Item  ... Target quantity UoM Net value\n",
              "71         341232          80  ...                 MIN      0.01\n",
              "180        371391          10  ...                 MIN      0.01\n",
              "284        381137          30  ...                 MIN    647.97\n",
              "313        386061          10  ...                 MIN     33.90\n",
              "326        387424          90  ...                 MIN    162.01\n",
              "327        387424         100  ...                 MIN    108.01\n",
              "336        390912          10  ...                 MIN      0.00\n",
              "355        395188          10  ...                 MIN    702.00\n",
              "356        395188          20  ...                 MIN    189.00\n",
              "357        395188          30  ...                 MIN    297.00\n",
              "358        395188          40  ...                 MIN    315.00\n",
              "361        395188          70  ...                 MIN    432.00\n",
              "362        395188          80  ...                 MIN    216.00\n",
              "363        395188          90  ...                 MIN    270.00\n",
              "364        395188         100  ...                 MIN    189.00\n",
              "365        395188         110  ...                 MIN    189.00\n",
              "449        398390          20  ...                 MIN    107.51\n",
              "644        411076          30  ...                 MIN    249.75\n",
              "676        416082          30  ...                 MIN    279.00\n",
              "679        416082          60  ...                 MIN    425.00\n",
              "680        416082          70  ...                 MIN    429.00\n",
              "681        416082          80  ...                 MIN    429.00\n",
              "682        416082          90  ...                 MIN    325.00\n",
              "683        416082         100  ...                 MIN    325.00\n",
              "684        416082         110  ...                 MIN    490.00\n",
              "685        416082         120  ...                 MIN    490.00\n",
              "686        416082         130  ...                 MIN    507.00\n",
              "687        416082         140  ...                 MIN   3680.09\n",
              "688        416082         150  ...                 MIN    273.00\n",
              "689        416082         160  ...                 MIN    273.00\n",
              "...           ...         ...  ...                 ...       ...\n",
              "796795     300024         140  ...                 MIN    135.00\n",
              "796796     300024         150  ...                 MIN    189.00\n",
              "796797     300024         160  ...                 MIN    189.00\n",
              "796798     300024         170  ...                 MIN    189.00\n",
              "796799     300024         180  ...                 MIN    189.00\n",
              "796800     300024         190  ...                 MIN    135.00\n",
              "796801     300024         200  ...                 MIN    135.00\n",
              "796802     300024         210  ...                 MIN    135.00\n",
              "796803     300024         220  ...                 MIN    135.00\n",
              "796804     300024         230  ...                 MIN    432.00\n",
              "796806     300024         250  ...                 MIN    378.00\n",
              "796811     300024         300  ...                 MIN   2635.01\n",
              "796822     300027          60  ...                 MIN    131.00\n",
              "796879     300046          20  ...                 MIN    174.01\n",
              "796880     300047          10  ...                 MIN    373.93\n",
              "796882     300048          10  ...                 MIN    621.09\n",
              "796883     300048          20  ...                 MIN    672.10\n",
              "796920     300059         180  ...                 MIN    420.97\n",
              "796929     300063          10  ...                 MIN    248.89\n",
              "796943     300069          10  ...                 MIN    249.75\n",
              "796992     300091          10  ...                 MIN      0.00\n",
              "797002     300097          30  ...                 MIN      0.00\n",
              "797006     300098          50  ...                 MIN    110.02\n",
              "797090     300145          10  ...                 MIN    248.93\n",
              "797111     300148         140  ...                 MIN    437.00\n",
              "797115     300148         180  ...                 MIN    624.00\n",
              "797116     300148         190  ...                 MIN    686.00\n",
              "797117     300148         200  ...                 MIN    487.00\n",
              "797118     300148         210  ...                 MIN    287.00\n",
              "797135     300155          10  ...                 MIN   6119.60\n",
              "\n",
              "[292232 rows x 9 columns]"
            ]
          },
          "metadata": {
            "tags": []
          },
          "execution_count": 110
        }
      ]
    },
    {
      "cell_type": "code",
      "metadata": {
        "id": "BL1V-0c4kvyz",
        "colab_type": "code",
        "outputId": "1a916e38-ad2e-42ec-dcb5-9699df1f7e4c",
        "colab": {
          "base_uri": "https://localhost:8080/"
        }
      },
      "source": [
        "jtd.shape"
      ],
      "execution_count": 0,
      "outputs": [
        {
          "output_type": "execute_result",
          "data": {
            "text/plain": [
              "(5619484, 9)"
            ]
          },
          "metadata": {
            "tags": []
          },
          "execution_count": 48
        }
      ]
    },
    {
      "cell_type": "code",
      "metadata": {
        "id": "yAdjItftkrm3",
        "colab_type": "code",
        "outputId": "68cb6705-3c7b-4636-cd63-6a9ba97a3ddc",
        "colab": {
          "base_uri": "https://localhost:8080/"
        }
      },
      "source": [
        "jtd.isnull().sum().sort_values()"
      ],
      "execution_count": 0,
      "outputs": [
        {
          "output_type": "execute_result",
          "data": {
            "text/plain": [
              "DBM Order                    0\n",
              "Order Item                   0\n",
              "Item Category                0\n",
              "Order Quantity               0\n",
              "Net value                    0\n",
              "Material                 51629\n",
              "Description              51629\n",
              "Target quantity UoM      51629\n",
              "Labor Value Number     3774033\n",
              "dtype: int64"
            ]
          },
          "metadata": {
            "tags": []
          },
          "execution_count": 49
        }
      ]
    },
    {
      "cell_type": "markdown",
      "metadata": {
        "id": "E_ANL4TJmjIM",
        "colab_type": "text"
      },
      "source": [
        "## Merge the Data\n",
        "**Merge Invoice and Customer Data on Customer No. Key**"
      ]
    },
    {
      "cell_type": "code",
      "metadata": {
        "id": "v9IP3WO9v_uT",
        "colab_type": "code",
        "colab": {}
      },
      "source": [
        "invoice['Customer No.'] = invoice['Customer No.'].str.lstrip('0')"
      ],
      "execution_count": 0,
      "outputs": []
    },
    {
      "cell_type": "code",
      "metadata": {
        "id": "1zgxfmYZsMUo",
        "colab_type": "code",
        "colab": {}
      },
      "source": [
        "customer['Customer No.'] = customer['Customer No.'].astype(str)"
      ],
      "execution_count": 0,
      "outputs": []
    },
    {
      "cell_type": "code",
      "metadata": {
        "id": "4ecC8PX-xsDZ",
        "colab_type": "code",
        "colab": {}
      },
      "source": [
        "invoice_customer = pd.merge(invoice, customer, on='Customer No.')"
      ],
      "execution_count": 0,
      "outputs": []
    },
    {
      "cell_type": "code",
      "metadata": {
        "id": "oVDs_BjwxuoL",
        "colab_type": "code",
        "outputId": "869a28a6-4409-48c2-c892-fc463b34922d",
        "colab": {
          "base_uri": "https://localhost:8080/",
          "height": 34
        }
      },
      "source": [
        "invoice_customer.shape, len(invoice['Customer No.'].unique()), len(customer['Customer No.'].unique()), len(invoice_customer['Customer No.'].unique())"
      ],
      "execution_count": 0,
      "outputs": [
        {
          "output_type": "execute_result",
          "data": {
            "text/plain": [
              "((981217, 27), 502770, 555338, 502480)"
            ]
          },
          "metadata": {
            "tags": []
          },
          "execution_count": 53
        }
      ]
    },
    {
      "cell_type": "code",
      "metadata": {
        "id": "T_7DAYhv_ULl",
        "colab_type": "code",
        "outputId": "2f66b5e4-5dc3-4481-8edd-573e580b1a3a",
        "colab": {
          "base_uri": "https://localhost:8080/",
          "height": 493
        }
      },
      "source": [
        "invoice_customer.isnull().sum()"
      ],
      "execution_count": 0,
      "outputs": [
        {
          "output_type": "execute_result",
          "data": {
            "text/plain": [
              "CITY                  0\n",
              "Cust Type             0\n",
              "Customer No.          0\n",
              "District              0\n",
              "Invoice Date          0\n",
              "Invoice No            0\n",
              "Invoice Time          0\n",
              "Job Card No           0\n",
              "JobCard Date          0\n",
              "JobCard Time          0\n",
              "KMs Reading           0\n",
              "Labour Total          0\n",
              "Make                  0\n",
              "Misc Total            0\n",
              "Model                 0\n",
              "OSL Total             0\n",
              "Order Type            0\n",
              "Parts Total           0\n",
              "Pin code              0\n",
              "Plant                 0\n",
              "Plant Name1           0\n",
              "Regn No               0\n",
              "Total Amt Wtd Tax.    0\n",
              "User ID               0\n",
              "Partner Type          0\n",
              "Data Origin           0\n",
              "Title                 0\n",
              "dtype: int64"
            ]
          },
          "metadata": {
            "tags": []
          },
          "execution_count": 54
        }
      ]
    },
    {
      "cell_type": "markdown",
      "metadata": {
        "id": "q2Q2GdF6mwiD",
        "colab_type": "text"
      },
      "source": [
        "**Merge Vehicle and Invoice Customer df based on Registration number and License plat number**"
      ]
    },
    {
      "cell_type": "code",
      "metadata": {
        "id": "Q_k4JBrUmvcB",
        "colab_type": "code",
        "outputId": "9208b1cb-655c-46c5-9b5c-cd6b6d5bac72",
        "colab": {
          "base_uri": "https://localhost:8080/",
          "height": 394
        }
      },
      "source": [
        "invoice_customer.head()"
      ],
      "execution_count": 0,
      "outputs": [
        {
          "output_type": "execute_result",
          "data": {
            "text/html": [
              "<div>\n",
              "<style scoped>\n",
              "    .dataframe tbody tr th:only-of-type {\n",
              "        vertical-align: middle;\n",
              "    }\n",
              "\n",
              "    .dataframe tbody tr th {\n",
              "        vertical-align: top;\n",
              "    }\n",
              "\n",
              "    .dataframe thead th {\n",
              "        text-align: right;\n",
              "    }\n",
              "</style>\n",
              "<table border=\"1\" class=\"dataframe\">\n",
              "  <thead>\n",
              "    <tr style=\"text-align: right;\">\n",
              "      <th></th>\n",
              "      <th>CITY</th>\n",
              "      <th>Cust Type</th>\n",
              "      <th>Customer No.</th>\n",
              "      <th>District</th>\n",
              "      <th>Invoice Date</th>\n",
              "      <th>Invoice No</th>\n",
              "      <th>Invoice Time</th>\n",
              "      <th>Job Card No</th>\n",
              "      <th>JobCard Date</th>\n",
              "      <th>JobCard Time</th>\n",
              "      <th>KMs Reading</th>\n",
              "      <th>Labour Total</th>\n",
              "      <th>Make</th>\n",
              "      <th>Misc Total</th>\n",
              "      <th>Model</th>\n",
              "      <th>OSL Total</th>\n",
              "      <th>Order Type</th>\n",
              "      <th>Parts Total</th>\n",
              "      <th>Pin code</th>\n",
              "      <th>Plant</th>\n",
              "      <th>Plant Name1</th>\n",
              "      <th>Regn No</th>\n",
              "      <th>Total Amt Wtd Tax.</th>\n",
              "      <th>User ID</th>\n",
              "      <th>Partner Type</th>\n",
              "      <th>Data Origin</th>\n",
              "      <th>Title</th>\n",
              "    </tr>\n",
              "  </thead>\n",
              "  <tbody>\n",
              "    <tr>\n",
              "      <th>0</th>\n",
              "      <td>Nashik</td>\n",
              "      <td>Retail</td>\n",
              "      <td>E14006</td>\n",
              "      <td>Maharashtra</td>\n",
              "      <td>2012-04-02</td>\n",
              "      <td>7000000011</td>\n",
              "      <td>17:04:33</td>\n",
              "      <td>101</td>\n",
              "      <td>2012-04-02</td>\n",
              "      <td>15:15:31</td>\n",
              "      <td>80440</td>\n",
              "      <td>420.09</td>\n",
              "      <td>HYUNDAI</td>\n",
              "      <td>0.0</td>\n",
              "      <td>SANTRO</td>\n",
              "      <td>0.0</td>\n",
              "      <td>Running Repairs</td>\n",
              "      <td>0.00</td>\n",
              "      <td>422000</td>\n",
              "      <td>BC03</td>\n",
              "      <td>NASHIK</td>\n",
              "      <td>MH15BN2714</td>\n",
              "      <td>420.09</td>\n",
              "      <td>GOLIVE</td>\n",
              "      <td>1.0</td>\n",
              "      <td>Z001</td>\n",
              "      <td>2.0</td>\n",
              "    </tr>\n",
              "    <tr>\n",
              "      <th>1</th>\n",
              "      <td>Nashik</td>\n",
              "      <td>Retail</td>\n",
              "      <td>E14006</td>\n",
              "      <td>Maharashtra</td>\n",
              "      <td>2012-12-05</td>\n",
              "      <td>7000016665</td>\n",
              "      <td>17:53:56</td>\n",
              "      <td>16545</td>\n",
              "      <td>2012-12-05</td>\n",
              "      <td>10:45:16</td>\n",
              "      <td>89165</td>\n",
              "      <td>779.09</td>\n",
              "      <td>HYUNDAI</td>\n",
              "      <td>0.0</td>\n",
              "      <td>SANTRO</td>\n",
              "      <td>0.0</td>\n",
              "      <td>Paid Service</td>\n",
              "      <td>858.34</td>\n",
              "      <td>422000</td>\n",
              "      <td>BC03</td>\n",
              "      <td>NASHIK</td>\n",
              "      <td>MH15BN2714</td>\n",
              "      <td>1637.43</td>\n",
              "      <td>BC03SA3</td>\n",
              "      <td>1.0</td>\n",
              "      <td>Z001</td>\n",
              "      <td>2.0</td>\n",
              "    </tr>\n",
              "    <tr>\n",
              "      <th>2</th>\n",
              "      <td>Nashik</td>\n",
              "      <td>Retail</td>\n",
              "      <td>E14006</td>\n",
              "      <td>Maharashtra</td>\n",
              "      <td>2017-04-14</td>\n",
              "      <td>7164601412</td>\n",
              "      <td>15:29:52</td>\n",
              "      <td>674656</td>\n",
              "      <td>2017-04-13</td>\n",
              "      <td>17:09:17</td>\n",
              "      <td>35165</td>\n",
              "      <td>579.13</td>\n",
              "      <td>HONDA</td>\n",
              "      <td>0.0</td>\n",
              "      <td>CITY</td>\n",
              "      <td>0.0</td>\n",
              "      <td>Paid Service</td>\n",
              "      <td>40.54</td>\n",
              "      <td>422000</td>\n",
              "      <td>X073</td>\n",
              "      <td>X073- KRITI AUTOMOBILE REPAIR</td>\n",
              "      <td>MH15EB5067</td>\n",
              "      <td>619.67</td>\n",
              "      <td>X073SA1</td>\n",
              "      <td>1.0</td>\n",
              "      <td>Z001</td>\n",
              "      <td>2.0</td>\n",
              "    </tr>\n",
              "    <tr>\n",
              "      <th>3</th>\n",
              "      <td>Nashik</td>\n",
              "      <td>Retail</td>\n",
              "      <td>E14006</td>\n",
              "      <td>Maharashtra</td>\n",
              "      <td>2017-07-26</td>\n",
              "      <td>7164602068</td>\n",
              "      <td>12:07:36</td>\n",
              "      <td>809011</td>\n",
              "      <td>2017-07-26</td>\n",
              "      <td>11:01:16</td>\n",
              "      <td>36165</td>\n",
              "      <td>3.46</td>\n",
              "      <td>HONDA</td>\n",
              "      <td>0.0</td>\n",
              "      <td>CITY</td>\n",
              "      <td>0.0</td>\n",
              "      <td>Running Repairs</td>\n",
              "      <td>0.00</td>\n",
              "      <td>422000</td>\n",
              "      <td>X073</td>\n",
              "      <td>X073- KRITI AUTOMOBILE REPAIR</td>\n",
              "      <td>MH15EB5067</td>\n",
              "      <td>3.46</td>\n",
              "      <td>X073SA1</td>\n",
              "      <td>1.0</td>\n",
              "      <td>Z001</td>\n",
              "      <td>2.0</td>\n",
              "    </tr>\n",
              "    <tr>\n",
              "      <th>4</th>\n",
              "      <td>Nashik</td>\n",
              "      <td>Retail</td>\n",
              "      <td>E14006</td>\n",
              "      <td>Maharashtra</td>\n",
              "      <td>2014-05-13</td>\n",
              "      <td>7000113010</td>\n",
              "      <td>10:18:16</td>\n",
              "      <td>113877</td>\n",
              "      <td>2014-05-12</td>\n",
              "      <td>10:09:53</td>\n",
              "      <td>104111</td>\n",
              "      <td>1539.84</td>\n",
              "      <td>HYUNDAI</td>\n",
              "      <td>0.0</td>\n",
              "      <td>SANTRO</td>\n",
              "      <td>0.0</td>\n",
              "      <td>Paid Service</td>\n",
              "      <td>1685.14</td>\n",
              "      <td>422000</td>\n",
              "      <td>BC03</td>\n",
              "      <td>NASHIK</td>\n",
              "      <td>MH15BN2714</td>\n",
              "      <td>3224.98</td>\n",
              "      <td>BC03SA2</td>\n",
              "      <td>1.0</td>\n",
              "      <td>Z001</td>\n",
              "      <td>2.0</td>\n",
              "    </tr>\n",
              "  </tbody>\n",
              "</table>\n",
              "</div>"
            ],
            "text/plain": [
              "     CITY Cust Type Customer No.  ... Partner Type Data Origin  Title\n",
              "0  Nashik    Retail       E14006  ...          1.0        Z001    2.0\n",
              "1  Nashik    Retail       E14006  ...          1.0        Z001    2.0\n",
              "2  Nashik    Retail       E14006  ...          1.0        Z001    2.0\n",
              "3  Nashik    Retail       E14006  ...          1.0        Z001    2.0\n",
              "4  Nashik    Retail       E14006  ...          1.0        Z001    2.0\n",
              "\n",
              "[5 rows x 27 columns]"
            ]
          },
          "metadata": {
            "tags": []
          },
          "execution_count": 55
        }
      ]
    },
    {
      "cell_type": "code",
      "metadata": {
        "id": "MdXw7L2S3DQY",
        "colab_type": "code",
        "colab": {}
      },
      "source": [
        "invoice_customer['Regn No'] = invoice_customer['Regn No'].astype(str)"
      ],
      "execution_count": 0,
      "outputs": []
    },
    {
      "cell_type": "code",
      "metadata": {
        "id": "3rXdqugiUhoH",
        "colab_type": "code",
        "colab": {}
      },
      "source": [
        "vehicles['License Plate Number'] = vehicles['License Plate Number'].astype(str)"
      ],
      "execution_count": 0,
      "outputs": []
    },
    {
      "cell_type": "code",
      "metadata": {
        "id": "lzQQ2GUP3Ma6",
        "colab_type": "code",
        "outputId": "97eb4506-6c3f-48dc-e104-32297ad82d00",
        "colab": {
          "base_uri": "https://localhost:8080/",
          "height": 51
        }
      },
      "source": [
        "vehicles['License Plate Number'].unique()"
      ],
      "execution_count": 0,
      "outputs": [
        {
          "output_type": "execute_result",
          "data": {
            "text/plain": [
              "array(['MH12HN2835', 'TN10AL3462', 'AP28DG9695', ..., 'KA09Z6087',\n",
              "       'TN30K7112', 'KA09MB290'], dtype=object)"
            ]
          },
          "metadata": {
            "tags": []
          },
          "execution_count": 58
        }
      ]
    },
    {
      "cell_type": "code",
      "metadata": {
        "id": "MEABAJsECyV2",
        "colab_type": "code",
        "outputId": "bcb22ba5-f37b-4106-9e7e-76b457834b53",
        "colab": {
          "base_uri": "https://localhost:8080/",
          "height": 34
        }
      },
      "source": [
        "invoice_customer.shape"
      ],
      "execution_count": 0,
      "outputs": [
        {
          "output_type": "execute_result",
          "data": {
            "text/plain": [
              "(981217, 27)"
            ]
          },
          "metadata": {
            "tags": []
          },
          "execution_count": 59
        }
      ]
    },
    {
      "cell_type": "code",
      "metadata": {
        "id": "O_rVbCif3fLx",
        "colab_type": "code",
        "colab": {}
      },
      "source": [
        "invoice_customer_vehicles = pd.merge(invoice_customer, vehicles, left_on='Regn No', right_on='License Plate Number')"
      ],
      "execution_count": 0,
      "outputs": []
    },
    {
      "cell_type": "code",
      "metadata": {
        "id": "d3ZGvPXG3tiX",
        "colab_type": "code",
        "colab": {}
      },
      "source": [
        "invoice_customer_vehicles.drop(columns='Regn No', inplace=True)"
      ],
      "execution_count": 0,
      "outputs": []
    },
    {
      "cell_type": "code",
      "metadata": {
        "id": "vU4KJFwUP2M8",
        "colab_type": "code",
        "outputId": "4157119b-568c-4ecc-c1ec-99e4354702d2",
        "colab": {
          "base_uri": "https://localhost:8080/",
          "height": 85
        }
      },
      "source": [
        "vehicles.isnull().sum()"
      ],
      "execution_count": 0,
      "outputs": [
        {
          "output_type": "execute_result",
          "data": {
            "text/plain": [
              "Vehicle Model           0\n",
              "License Plate Number    0\n",
              "Fuel Type               0\n",
              "dtype: int64"
            ]
          },
          "metadata": {
            "tags": []
          },
          "execution_count": 62
        }
      ]
    },
    {
      "cell_type": "code",
      "metadata": {
        "id": "xdslQ3ljE16a",
        "colab_type": "code",
        "outputId": "bfe774a6-0626-453d-8fd9-8d87d1d9898e",
        "colab": {
          "base_uri": "https://localhost:8080/",
          "height": 527
        }
      },
      "source": [
        "invoice_customer_vehicles.isnull().sum()"
      ],
      "execution_count": 0,
      "outputs": [
        {
          "output_type": "execute_result",
          "data": {
            "text/plain": [
              "CITY                    0\n",
              "Cust Type               0\n",
              "Customer No.            0\n",
              "District                0\n",
              "Invoice Date            0\n",
              "Invoice No              0\n",
              "Invoice Time            0\n",
              "Job Card No             0\n",
              "JobCard Date            0\n",
              "JobCard Time            0\n",
              "KMs Reading             0\n",
              "Labour Total            0\n",
              "Make                    0\n",
              "Misc Total              0\n",
              "Model                   0\n",
              "OSL Total               0\n",
              "Order Type              0\n",
              "Parts Total             0\n",
              "Pin code                0\n",
              "Plant                   0\n",
              "Plant Name1             0\n",
              "Total Amt Wtd Tax.      0\n",
              "User ID                 0\n",
              "Partner Type            0\n",
              "Data Origin             0\n",
              "Title                   0\n",
              "Vehicle Model           0\n",
              "License Plate Number    0\n",
              "Fuel Type               0\n",
              "dtype: int64"
            ]
          },
          "metadata": {
            "tags": []
          },
          "execution_count": 63
        }
      ]
    },
    {
      "cell_type": "code",
      "metadata": {
        "id": "XTFhuwhcvmNB",
        "colab_type": "code",
        "outputId": "d38124af-b069-4f4a-ed86-f322c6eb4213",
        "colab": {
          "base_uri": "https://localhost:8080/",
          "height": 34
        }
      },
      "source": [
        "invoice_customer_vehicles.shape"
      ],
      "execution_count": 0,
      "outputs": [
        {
          "output_type": "execute_result",
          "data": {
            "text/plain": [
              "(984165, 29)"
            ]
          },
          "metadata": {
            "tags": []
          },
          "execution_count": 64
        }
      ]
    },
    {
      "cell_type": "markdown",
      "metadata": {
        "id": "vP32h0DvvFtp",
        "colab_type": "text"
      },
      "source": [
        "**Merge invoice_customer_vehicles and Plant**"
      ]
    },
    {
      "cell_type": "code",
      "metadata": {
        "id": "xmxkFlXMu9Hc",
        "colab_type": "code",
        "outputId": "16343f41-eee2-4a66-ab05-ec9a78bd4a61",
        "colab": {
          "base_uri": "https://localhost:8080/",
          "height": 34
        }
      },
      "source": [
        "plant.shape"
      ],
      "execution_count": 0,
      "outputs": [
        {
          "output_type": "execute_result",
          "data": {
            "text/plain": [
              "(438, 5)"
            ]
          },
          "metadata": {
            "tags": []
          },
          "execution_count": 65
        }
      ]
    },
    {
      "cell_type": "code",
      "metadata": {
        "id": "IcKRbfOlwaVJ",
        "colab_type": "code",
        "outputId": "d2ca2727-6c70-4044-861f-445b2a290ddf",
        "colab": {
          "base_uri": "https://localhost:8080/",
          "height": 34
        }
      },
      "source": [
        "len(invoice_customer_vehicles.Plant.unique()), len(plant.Plant.unique())"
      ],
      "execution_count": 0,
      "outputs": [
        {
          "output_type": "execute_result",
          "data": {
            "text/plain": [
              "(431, 438)"
            ]
          },
          "metadata": {
            "tags": []
          },
          "execution_count": 66
        }
      ]
    },
    {
      "cell_type": "code",
      "metadata": {
        "id": "mt9d-E4kvLmL",
        "colab_type": "code",
        "colab": {}
      },
      "source": [
        "invoice_customer_vehicles_plant = pd.merge(invoice_customer_vehicles, plant, on='Plant')"
      ],
      "execution_count": 0,
      "outputs": []
    },
    {
      "cell_type": "code",
      "metadata": {
        "id": "jZ5UrVXqvgU5",
        "colab_type": "code",
        "outputId": "545ebbeb-f55b-4dd4-983e-38a73eee3f03",
        "colab": {
          "base_uri": "https://localhost:8080/",
          "height": 34
        }
      },
      "source": [
        "invoice_customer_vehicles_plant.shape"
      ],
      "execution_count": 0,
      "outputs": [
        {
          "output_type": "execute_result",
          "data": {
            "text/plain": [
              "(743801, 33)"
            ]
          },
          "metadata": {
            "tags": []
          },
          "execution_count": 113
        }
      ]
    },
    {
      "cell_type": "code",
      "metadata": {
        "id": "-SueEcdtrCu6",
        "colab_type": "code",
        "outputId": "402f05e0-bc51-4c86-e567-ae3936b389f8",
        "colab": {
          "base_uri": "https://localhost:8080/",
          "height": 595
        }
      },
      "source": [
        "invoice_customer_vehicles_plant.isnull().sum()"
      ],
      "execution_count": 0,
      "outputs": [
        {
          "output_type": "execute_result",
          "data": {
            "text/plain": [
              "CITY                    0\n",
              "Cust Type               0\n",
              "Customer No.            0\n",
              "District                0\n",
              "Invoice Date            0\n",
              "Invoice No              0\n",
              "Invoice Time            0\n",
              "Job Card No             0\n",
              "JobCard Date            0\n",
              "JobCard Time            0\n",
              "KMs Reading             0\n",
              "Labour Total            0\n",
              "Make                    0\n",
              "Misc Total              0\n",
              "Model                   0\n",
              "OSL Total               0\n",
              "Order Type              0\n",
              "Parts Total             0\n",
              "Pin code                0\n",
              "Plant                   0\n",
              "Plant Name1             0\n",
              "Total Amt Wtd Tax.      0\n",
              "User ID                 0\n",
              "Partner Type            0\n",
              "Data Origin             0\n",
              "Title                   0\n",
              "Vehicle Model           0\n",
              "License Plate Number    0\n",
              "Fuel Type               0\n",
              "Name 1                  0\n",
              "Postal Code             0\n",
              "City                    0\n",
              "State                   0\n",
              "dtype: int64"
            ]
          },
          "metadata": {
            "tags": []
          },
          "execution_count": 114
        }
      ]
    },
    {
      "cell_type": "markdown",
      "metadata": {
        "id": "xboWtcYxLV3J",
        "colab_type": "text"
      },
      "source": [
        "## Prepare Data for Clustering after cleaning merged data"
      ]
    },
    {
      "cell_type": "code",
      "metadata": {
        "id": "aPVhZ7MVLPbU",
        "colab_type": "code",
        "outputId": "590b02af-c1f3-49f2-dc0a-06fe978b0f59",
        "colab": {
          "base_uri": "https://localhost:8080/",
          "height": 445
        }
      },
      "source": [
        "invoice_customer_vehicles_plant.head()"
      ],
      "execution_count": 0,
      "outputs": [
        {
          "output_type": "execute_result",
          "data": {
            "text/html": [
              "<div>\n",
              "<style scoped>\n",
              "    .dataframe tbody tr th:only-of-type {\n",
              "        vertical-align: middle;\n",
              "    }\n",
              "\n",
              "    .dataframe tbody tr th {\n",
              "        vertical-align: top;\n",
              "    }\n",
              "\n",
              "    .dataframe thead th {\n",
              "        text-align: right;\n",
              "    }\n",
              "</style>\n",
              "<table border=\"1\" class=\"dataframe\">\n",
              "  <thead>\n",
              "    <tr style=\"text-align: right;\">\n",
              "      <th></th>\n",
              "      <th>CITY</th>\n",
              "      <th>Cust Type</th>\n",
              "      <th>Customer No.</th>\n",
              "      <th>District</th>\n",
              "      <th>Invoice Date</th>\n",
              "      <th>Invoice No</th>\n",
              "      <th>Invoice Time</th>\n",
              "      <th>Job Card No</th>\n",
              "      <th>JobCard Date</th>\n",
              "      <th>JobCard Time</th>\n",
              "      <th>KMs Reading</th>\n",
              "      <th>Labour Total</th>\n",
              "      <th>Make</th>\n",
              "      <th>Misc Total</th>\n",
              "      <th>Model</th>\n",
              "      <th>OSL Total</th>\n",
              "      <th>Order Type</th>\n",
              "      <th>Parts Total</th>\n",
              "      <th>Pin code</th>\n",
              "      <th>Plant</th>\n",
              "      <th>Plant Name1</th>\n",
              "      <th>Total Amt Wtd Tax.</th>\n",
              "      <th>User ID</th>\n",
              "      <th>Partner Type</th>\n",
              "      <th>Data Origin</th>\n",
              "      <th>Title</th>\n",
              "      <th>Vehicle Model</th>\n",
              "      <th>License Plate Number</th>\n",
              "      <th>Fuel Type</th>\n",
              "      <th>Name 1</th>\n",
              "      <th>Postal Code</th>\n",
              "      <th>City</th>\n",
              "      <th>State</th>\n",
              "    </tr>\n",
              "  </thead>\n",
              "  <tbody>\n",
              "    <tr>\n",
              "      <th>0</th>\n",
              "      <td>Nashik</td>\n",
              "      <td>Retail</td>\n",
              "      <td>E14006</td>\n",
              "      <td>Maharashtra</td>\n",
              "      <td>2017-04-14</td>\n",
              "      <td>7164601412</td>\n",
              "      <td>15:29:52</td>\n",
              "      <td>674656</td>\n",
              "      <td>2017-04-13</td>\n",
              "      <td>17:09:17</td>\n",
              "      <td>35165</td>\n",
              "      <td>579.13</td>\n",
              "      <td>HONDA</td>\n",
              "      <td>0.0</td>\n",
              "      <td>CITY</td>\n",
              "      <td>0.0</td>\n",
              "      <td>Paid Service</td>\n",
              "      <td>40.54</td>\n",
              "      <td>422000</td>\n",
              "      <td>X073</td>\n",
              "      <td>X073- KRITI AUTOMOBILE REPAIR</td>\n",
              "      <td>619.67</td>\n",
              "      <td>X073SA1</td>\n",
              "      <td>1.0</td>\n",
              "      <td>Z001</td>\n",
              "      <td>2.0</td>\n",
              "      <td>Z_HONDA</td>\n",
              "      <td>MH15EB5067</td>\n",
              "      <td>2</td>\n",
              "      <td>X073- KRITI AUTOMOBILE REPAIR</td>\n",
              "      <td>422007</td>\n",
              "      <td>Nashik</td>\n",
              "      <td>Maharashtra</td>\n",
              "    </tr>\n",
              "    <tr>\n",
              "      <th>1</th>\n",
              "      <td>Nashik</td>\n",
              "      <td>Retail</td>\n",
              "      <td>E14006</td>\n",
              "      <td>Maharashtra</td>\n",
              "      <td>2017-07-26</td>\n",
              "      <td>7164602068</td>\n",
              "      <td>12:07:36</td>\n",
              "      <td>809011</td>\n",
              "      <td>2017-07-26</td>\n",
              "      <td>11:01:16</td>\n",
              "      <td>36165</td>\n",
              "      <td>3.46</td>\n",
              "      <td>HONDA</td>\n",
              "      <td>0.0</td>\n",
              "      <td>CITY</td>\n",
              "      <td>0.0</td>\n",
              "      <td>Running Repairs</td>\n",
              "      <td>0.00</td>\n",
              "      <td>422000</td>\n",
              "      <td>X073</td>\n",
              "      <td>X073- KRITI AUTOMOBILE REPAIR</td>\n",
              "      <td>3.46</td>\n",
              "      <td>X073SA1</td>\n",
              "      <td>1.0</td>\n",
              "      <td>Z001</td>\n",
              "      <td>2.0</td>\n",
              "      <td>Z_HONDA</td>\n",
              "      <td>MH15EB5067</td>\n",
              "      <td>2</td>\n",
              "      <td>X073- KRITI AUTOMOBILE REPAIR</td>\n",
              "      <td>422007</td>\n",
              "      <td>Nashik</td>\n",
              "      <td>Maharashtra</td>\n",
              "    </tr>\n",
              "    <tr>\n",
              "      <th>2</th>\n",
              "      <td>Nashik</td>\n",
              "      <td>Retail</td>\n",
              "      <td>E27136</td>\n",
              "      <td>Maharashtra</td>\n",
              "      <td>2017-08-16</td>\n",
              "      <td>7164602334</td>\n",
              "      <td>18:49:05</td>\n",
              "      <td>836012</td>\n",
              "      <td>2017-08-16</td>\n",
              "      <td>16:16:12</td>\n",
              "      <td>89944</td>\n",
              "      <td>3.46</td>\n",
              "      <td>MARUTI SUZUKI</td>\n",
              "      <td>0.0</td>\n",
              "      <td>WAGONR</td>\n",
              "      <td>0.0</td>\n",
              "      <td>Paid Service</td>\n",
              "      <td>0.00</td>\n",
              "      <td>422009</td>\n",
              "      <td>X073</td>\n",
              "      <td>X073- KRITI AUTOMOBILE REPAIR</td>\n",
              "      <td>3.46</td>\n",
              "      <td>X073SA1</td>\n",
              "      <td>1.0</td>\n",
              "      <td>Z001</td>\n",
              "      <td>2.0</td>\n",
              "      <td>Z_MARUTI</td>\n",
              "      <td>MH04BK0425</td>\n",
              "      <td>2</td>\n",
              "      <td>X073- KRITI AUTOMOBILE REPAIR</td>\n",
              "      <td>422007</td>\n",
              "      <td>Nashik</td>\n",
              "      <td>Maharashtra</td>\n",
              "    </tr>\n",
              "    <tr>\n",
              "      <th>3</th>\n",
              "      <td>Pune</td>\n",
              "      <td>Retail</td>\n",
              "      <td>E26786</td>\n",
              "      <td>Maharashtra</td>\n",
              "      <td>2017-03-18</td>\n",
              "      <td>7164601170</td>\n",
              "      <td>14:46:31</td>\n",
              "      <td>626932</td>\n",
              "      <td>2017-03-04</td>\n",
              "      <td>11:41:33</td>\n",
              "      <td>30796</td>\n",
              "      <td>150.48</td>\n",
              "      <td>MARUTI SUZUKI</td>\n",
              "      <td>0.0</td>\n",
              "      <td>WAGONR</td>\n",
              "      <td>0.0</td>\n",
              "      <td>Running Repairs</td>\n",
              "      <td>0.00</td>\n",
              "      <td>411056</td>\n",
              "      <td>X073</td>\n",
              "      <td>X073- KRITI AUTOMOBILE REPAIR</td>\n",
              "      <td>150.48</td>\n",
              "      <td>X073SA1</td>\n",
              "      <td>1.0</td>\n",
              "      <td>Z001</td>\n",
              "      <td>2.0</td>\n",
              "      <td>Z_MARUTI</td>\n",
              "      <td>MH15EB6209</td>\n",
              "      <td>1</td>\n",
              "      <td>X073- KRITI AUTOMOBILE REPAIR</td>\n",
              "      <td>422007</td>\n",
              "      <td>Nashik</td>\n",
              "      <td>Maharashtra</td>\n",
              "    </tr>\n",
              "    <tr>\n",
              "      <th>4</th>\n",
              "      <td>NASIK</td>\n",
              "      <td>Retail</td>\n",
              "      <td>131</td>\n",
              "      <td>Maharashtra</td>\n",
              "      <td>2016-12-31</td>\n",
              "      <td>7164600695</td>\n",
              "      <td>11:55:07</td>\n",
              "      <td>554552</td>\n",
              "      <td>2016-12-28</td>\n",
              "      <td>16:50:13</td>\n",
              "      <td>177260</td>\n",
              "      <td>1519.08</td>\n",
              "      <td>MARUTI SUZUKI</td>\n",
              "      <td>0.0</td>\n",
              "      <td>ALTO</td>\n",
              "      <td>0.0</td>\n",
              "      <td>Paid Service</td>\n",
              "      <td>889.92</td>\n",
              "      <td>422000</td>\n",
              "      <td>X073</td>\n",
              "      <td>X073- KRITI AUTOMOBILE REPAIR</td>\n",
              "      <td>2409.00</td>\n",
              "      <td>X073SA1</td>\n",
              "      <td>1.0</td>\n",
              "      <td>Z005</td>\n",
              "      <td>2.0</td>\n",
              "      <td>Z_MARUTI</td>\n",
              "      <td>MH15BD6287</td>\n",
              "      <td>1</td>\n",
              "      <td>X073- KRITI AUTOMOBILE REPAIR</td>\n",
              "      <td>422007</td>\n",
              "      <td>Nashik</td>\n",
              "      <td>Maharashtra</td>\n",
              "    </tr>\n",
              "  </tbody>\n",
              "</table>\n",
              "</div>"
            ],
            "text/plain": [
              "     CITY Cust Type Customer No.  ... Postal Code    City        State\n",
              "0  Nashik    Retail       E14006  ...      422007  Nashik  Maharashtra\n",
              "1  Nashik    Retail       E14006  ...      422007  Nashik  Maharashtra\n",
              "2  Nashik    Retail       E27136  ...      422007  Nashik  Maharashtra\n",
              "3    Pune    Retail       E26786  ...      422007  Nashik  Maharashtra\n",
              "4   NASIK    Retail          131  ...      422007  Nashik  Maharashtra\n",
              "\n",
              "[5 rows x 33 columns]"
            ]
          },
          "metadata": {
            "tags": []
          },
          "execution_count": 115
        }
      ]
    },
    {
      "cell_type": "code",
      "metadata": {
        "id": "523Icr4zpiP7",
        "colab_type": "code",
        "outputId": "4f821c09-2c1a-4a23-ae7b-718e8c1c516c",
        "colab": {
          "base_uri": "https://localhost:8080/",
          "height": 250
        }
      },
      "source": [
        "invoice_customer_vehicles_plant[invoice_customer_vehicles_plant['Customer No.'] == 'E14006']"
      ],
      "execution_count": 0,
      "outputs": [
        {
          "output_type": "execute_result",
          "data": {
            "text/html": [
              "<div>\n",
              "<style scoped>\n",
              "    .dataframe tbody tr th:only-of-type {\n",
              "        vertical-align: middle;\n",
              "    }\n",
              "\n",
              "    .dataframe tbody tr th {\n",
              "        vertical-align: top;\n",
              "    }\n",
              "\n",
              "    .dataframe thead th {\n",
              "        text-align: right;\n",
              "    }\n",
              "</style>\n",
              "<table border=\"1\" class=\"dataframe\">\n",
              "  <thead>\n",
              "    <tr style=\"text-align: right;\">\n",
              "      <th></th>\n",
              "      <th>CITY</th>\n",
              "      <th>Cust Type</th>\n",
              "      <th>Customer No.</th>\n",
              "      <th>District</th>\n",
              "      <th>Invoice Date</th>\n",
              "      <th>Invoice No</th>\n",
              "      <th>Invoice Time</th>\n",
              "      <th>Job Card No</th>\n",
              "      <th>JobCard Date</th>\n",
              "      <th>JobCard Time</th>\n",
              "      <th>KMs Reading</th>\n",
              "      <th>Labour Total</th>\n",
              "      <th>Make</th>\n",
              "      <th>Misc Total</th>\n",
              "      <th>Model</th>\n",
              "      <th>OSL Total</th>\n",
              "      <th>Order Type</th>\n",
              "      <th>Parts Total</th>\n",
              "      <th>Pin code</th>\n",
              "      <th>Plant</th>\n",
              "      <th>Plant Name1</th>\n",
              "      <th>Total Amt Wtd Tax.</th>\n",
              "      <th>User ID</th>\n",
              "      <th>Partner Type</th>\n",
              "      <th>Data Origin</th>\n",
              "      <th>Title</th>\n",
              "      <th>Vehicle Model</th>\n",
              "      <th>License Plate Number</th>\n",
              "      <th>Fuel Type</th>\n",
              "      <th>Name 1</th>\n",
              "      <th>Postal Code</th>\n",
              "      <th>City</th>\n",
              "      <th>State</th>\n",
              "    </tr>\n",
              "  </thead>\n",
              "  <tbody>\n",
              "    <tr>\n",
              "      <th>0</th>\n",
              "      <td>Nashik</td>\n",
              "      <td>Retail</td>\n",
              "      <td>E14006</td>\n",
              "      <td>Maharashtra</td>\n",
              "      <td>2017-04-14</td>\n",
              "      <td>7164601412</td>\n",
              "      <td>15:29:52</td>\n",
              "      <td>674656</td>\n",
              "      <td>2017-04-13</td>\n",
              "      <td>17:09:17</td>\n",
              "      <td>35165</td>\n",
              "      <td>579.13</td>\n",
              "      <td>HONDA</td>\n",
              "      <td>0.0</td>\n",
              "      <td>CITY</td>\n",
              "      <td>0.0</td>\n",
              "      <td>Paid Service</td>\n",
              "      <td>40.54</td>\n",
              "      <td>422000</td>\n",
              "      <td>X073</td>\n",
              "      <td>X073- KRITI AUTOMOBILE REPAIR</td>\n",
              "      <td>619.67</td>\n",
              "      <td>X073SA1</td>\n",
              "      <td>1.0</td>\n",
              "      <td>Z001</td>\n",
              "      <td>2.0</td>\n",
              "      <td>Z_HONDA</td>\n",
              "      <td>MH15EB5067</td>\n",
              "      <td>2</td>\n",
              "      <td>X073- KRITI AUTOMOBILE REPAIR</td>\n",
              "      <td>422007</td>\n",
              "      <td>Nashik</td>\n",
              "      <td>Maharashtra</td>\n",
              "    </tr>\n",
              "    <tr>\n",
              "      <th>1</th>\n",
              "      <td>Nashik</td>\n",
              "      <td>Retail</td>\n",
              "      <td>E14006</td>\n",
              "      <td>Maharashtra</td>\n",
              "      <td>2017-07-26</td>\n",
              "      <td>7164602068</td>\n",
              "      <td>12:07:36</td>\n",
              "      <td>809011</td>\n",
              "      <td>2017-07-26</td>\n",
              "      <td>11:01:16</td>\n",
              "      <td>36165</td>\n",
              "      <td>3.46</td>\n",
              "      <td>HONDA</td>\n",
              "      <td>0.0</td>\n",
              "      <td>CITY</td>\n",
              "      <td>0.0</td>\n",
              "      <td>Running Repairs</td>\n",
              "      <td>0.00</td>\n",
              "      <td>422000</td>\n",
              "      <td>X073</td>\n",
              "      <td>X073- KRITI AUTOMOBILE REPAIR</td>\n",
              "      <td>3.46</td>\n",
              "      <td>X073SA1</td>\n",
              "      <td>1.0</td>\n",
              "      <td>Z001</td>\n",
              "      <td>2.0</td>\n",
              "      <td>Z_HONDA</td>\n",
              "      <td>MH15EB5067</td>\n",
              "      <td>2</td>\n",
              "      <td>X073- KRITI AUTOMOBILE REPAIR</td>\n",
              "      <td>422007</td>\n",
              "      <td>Nashik</td>\n",
              "      <td>Maharashtra</td>\n",
              "    </tr>\n",
              "  </tbody>\n",
              "</table>\n",
              "</div>"
            ],
            "text/plain": [
              "     CITY Cust Type Customer No.  ... Postal Code    City        State\n",
              "0  Nashik    Retail       E14006  ...      422007  Nashik  Maharashtra\n",
              "1  Nashik    Retail       E14006  ...      422007  Nashik  Maharashtra\n",
              "\n",
              "[2 rows x 33 columns]"
            ]
          },
          "metadata": {
            "tags": []
          },
          "execution_count": 116
        }
      ]
    },
    {
      "cell_type": "code",
      "metadata": {
        "id": "EoJbcAPpv-uD",
        "colab_type": "code",
        "outputId": "c98b46af-1f8e-49b7-ce68-54dab582e007",
        "colab": {
          "base_uri": "https://localhost:8080/",
          "height": 34
        }
      },
      "source": [
        "invoice_customer_vehicles_plant.shape"
      ],
      "execution_count": 0,
      "outputs": [
        {
          "output_type": "execute_result",
          "data": {
            "text/plain": [
              "(743801, 33)"
            ]
          },
          "metadata": {
            "tags": []
          },
          "execution_count": 117
        }
      ]
    },
    {
      "cell_type": "code",
      "metadata": {
        "id": "l_gyEZDhw2hM",
        "colab_type": "code",
        "outputId": "476c717e-2358-4397-a873-ef3cf959dafb",
        "colab": {
          "base_uri": "https://localhost:8080/",
          "height": 334
        }
      },
      "source": [
        "invoice_customer_vehicles_plant.describe()"
      ],
      "execution_count": 0,
      "outputs": [
        {
          "output_type": "execute_result",
          "data": {
            "text/html": [
              "<div>\n",
              "<style scoped>\n",
              "    .dataframe tbody tr th:only-of-type {\n",
              "        vertical-align: middle;\n",
              "    }\n",
              "\n",
              "    .dataframe tbody tr th {\n",
              "        vertical-align: top;\n",
              "    }\n",
              "\n",
              "    .dataframe thead th {\n",
              "        text-align: right;\n",
              "    }\n",
              "</style>\n",
              "<table border=\"1\" class=\"dataframe\">\n",
              "  <thead>\n",
              "    <tr style=\"text-align: right;\">\n",
              "      <th></th>\n",
              "      <th>Invoice No</th>\n",
              "      <th>Job Card No</th>\n",
              "      <th>KMs Reading</th>\n",
              "      <th>Labour Total</th>\n",
              "      <th>Misc Total</th>\n",
              "      <th>OSL Total</th>\n",
              "      <th>Parts Total</th>\n",
              "      <th>Pin code</th>\n",
              "      <th>Total Amt Wtd Tax.</th>\n",
              "      <th>Partner Type</th>\n",
              "      <th>Title</th>\n",
              "      <th>Postal Code</th>\n",
              "    </tr>\n",
              "  </thead>\n",
              "  <tbody>\n",
              "    <tr>\n",
              "      <th>count</th>\n",
              "      <td>7.438010e+05</td>\n",
              "      <td>7.438010e+05</td>\n",
              "      <td>7.438010e+05</td>\n",
              "      <td>743801.000000</td>\n",
              "      <td>743801.000000</td>\n",
              "      <td>743801.000000</td>\n",
              "      <td>743801.000000</td>\n",
              "      <td>743801.000000</td>\n",
              "      <td>743801.000000</td>\n",
              "      <td>743801.000000</td>\n",
              "      <td>743801.000000</td>\n",
              "      <td>743801.000000</td>\n",
              "    </tr>\n",
              "    <tr>\n",
              "      <th>mean</th>\n",
              "      <td>7.183450e+09</td>\n",
              "      <td>6.098939e+05</td>\n",
              "      <td>8.416413e+04</td>\n",
              "      <td>1530.608330</td>\n",
              "      <td>291.219836</td>\n",
              "      <td>76.105915</td>\n",
              "      <td>2218.535148</td>\n",
              "      <td>471388.503781</td>\n",
              "      <td>4116.469230</td>\n",
              "      <td>1.231200</td>\n",
              "      <td>1.952764</td>\n",
              "      <td>478618.281046</td>\n",
              "    </tr>\n",
              "    <tr>\n",
              "      <th>std</th>\n",
              "      <td>4.735438e+07</td>\n",
              "      <td>2.304533e+05</td>\n",
              "      <td>1.430325e+05</td>\n",
              "      <td>4828.993265</td>\n",
              "      <td>2435.280185</td>\n",
              "      <td>1055.780333</td>\n",
              "      <td>7810.100921</td>\n",
              "      <td>187263.159601</td>\n",
              "      <td>11360.422771</td>\n",
              "      <td>45.491633</td>\n",
              "      <td>0.212143</td>\n",
              "      <td>179724.614738</td>\n",
              "    </tr>\n",
              "    <tr>\n",
              "      <th>min</th>\n",
              "      <td>7.000000e+09</td>\n",
              "      <td>1.190000e+02</td>\n",
              "      <td>1.000000e+00</td>\n",
              "      <td>-164.950000</td>\n",
              "      <td>-0.060000</td>\n",
              "      <td>0.000000</td>\n",
              "      <td>-2343.200000</td>\n",
              "      <td>0.000000</td>\n",
              "      <td>-2342.200000</td>\n",
              "      <td>1.000000</td>\n",
              "      <td>1.000000</td>\n",
              "      <td>121006.000000</td>\n",
              "    </tr>\n",
              "    <tr>\n",
              "      <th>25%</th>\n",
              "      <td>7.159801e+09</td>\n",
              "      <td>4.254400e+05</td>\n",
              "      <td>3.606100e+04</td>\n",
              "      <td>0.010000</td>\n",
              "      <td>0.000000</td>\n",
              "      <td>0.000000</td>\n",
              "      <td>0.000000</td>\n",
              "      <td>333026.000000</td>\n",
              "      <td>221.560000</td>\n",
              "      <td>1.000000</td>\n",
              "      <td>2.000000</td>\n",
              "      <td>342001.000000</td>\n",
              "    </tr>\n",
              "    <tr>\n",
              "      <th>50%</th>\n",
              "      <td>7.179401e+09</td>\n",
              "      <td>6.160930e+05</td>\n",
              "      <td>6.439100e+04</td>\n",
              "      <td>349.960000</td>\n",
              "      <td>0.000000</td>\n",
              "      <td>0.000000</td>\n",
              "      <td>148.390000</td>\n",
              "      <td>485001.000000</td>\n",
              "      <td>1105.200000</td>\n",
              "      <td>1.000000</td>\n",
              "      <td>2.000000</td>\n",
              "      <td>500050.000000</td>\n",
              "    </tr>\n",
              "    <tr>\n",
              "      <th>75%</th>\n",
              "      <td>7.214001e+09</td>\n",
              "      <td>8.056700e+05</td>\n",
              "      <td>1.005160e+05</td>\n",
              "      <td>1244.250000</td>\n",
              "      <td>0.000000</td>\n",
              "      <td>0.000000</td>\n",
              "      <td>1981.000000</td>\n",
              "      <td>608001.000000</td>\n",
              "      <td>3925.150000</td>\n",
              "      <td>1.000000</td>\n",
              "      <td>2.000000</td>\n",
              "      <td>608001.000000</td>\n",
              "    </tr>\n",
              "    <tr>\n",
              "      <th>max</th>\n",
              "      <td>7.309000e+09</td>\n",
              "      <td>1.001292e+06</td>\n",
              "      <td>9.999999e+06</td>\n",
              "      <td>434000.000000</td>\n",
              "      <td>355200.060000</td>\n",
              "      <td>99974.800000</td>\n",
              "      <td>640296.060000</td>\n",
              "      <td>999999.000000</td>\n",
              "      <td>720296.070000</td>\n",
              "      <td>9003.000000</td>\n",
              "      <td>2.000000</td>\n",
              "      <td>999999.000000</td>\n",
              "    </tr>\n",
              "  </tbody>\n",
              "</table>\n",
              "</div>"
            ],
            "text/plain": [
              "         Invoice No   Job Card No  ...          Title    Postal Code\n",
              "count  7.438010e+05  7.438010e+05  ...  743801.000000  743801.000000\n",
              "mean   7.183450e+09  6.098939e+05  ...       1.952764  478618.281046\n",
              "std    4.735438e+07  2.304533e+05  ...       0.212143  179724.614738\n",
              "min    7.000000e+09  1.190000e+02  ...       1.000000  121006.000000\n",
              "25%    7.159801e+09  4.254400e+05  ...       2.000000  342001.000000\n",
              "50%    7.179401e+09  6.160930e+05  ...       2.000000  500050.000000\n",
              "75%    7.214001e+09  8.056700e+05  ...       2.000000  608001.000000\n",
              "max    7.309000e+09  1.001292e+06  ...       2.000000  999999.000000\n",
              "\n",
              "[8 rows x 12 columns]"
            ]
          },
          "metadata": {
            "tags": []
          },
          "execution_count": 118
        }
      ]
    },
    {
      "cell_type": "code",
      "metadata": {
        "id": "tE1NjTNX1kVg",
        "colab_type": "code",
        "outputId": "65c573ab-7130-4dfe-ec2d-46039e4cbf9e",
        "colab": {
          "base_uri": "https://localhost:8080/",
          "height": 170
        }
      },
      "source": [
        "invoice_customer_vehicles_plant.shape, invoice_customer_vehicles_plant.columns"
      ],
      "execution_count": 0,
      "outputs": [
        {
          "output_type": "execute_result",
          "data": {
            "text/plain": [
              "((743801, 33),\n",
              " Index(['CITY', 'Cust Type', 'Customer No.', 'District', 'Invoice Date',\n",
              "        'Invoice No', 'Invoice Time', 'Job Card No', 'JobCard Date',\n",
              "        'JobCard Time', 'KMs Reading', 'Labour Total', 'Make', 'Misc Total',\n",
              "        'Model', 'OSL Total', 'Order Type', 'Parts Total', 'Pin code', 'Plant',\n",
              "        'Plant Name1', 'Total Amt Wtd Tax.', 'User ID', 'Partner Type',\n",
              "        'Data Origin', 'Title', 'Vehicle Model', 'License Plate Number',\n",
              "        'Fuel Type', 'Name 1', 'Postal Code', 'City', 'State'],\n",
              "       dtype='object'))"
            ]
          },
          "metadata": {
            "tags": []
          },
          "execution_count": 119
        }
      ]
    },
    {
      "cell_type": "code",
      "metadata": {
        "id": "vU7on3Qt1uTh",
        "colab_type": "code",
        "outputId": "391504f0-a81d-487f-d9d6-936be037b50f",
        "colab": {
          "base_uri": "https://localhost:8080/",
          "height": 185
        }
      },
      "source": [
        "invoice_customer_vehicles_plant.head(1)"
      ],
      "execution_count": 0,
      "outputs": [
        {
          "output_type": "execute_result",
          "data": {
            "text/html": [
              "<div>\n",
              "<style scoped>\n",
              "    .dataframe tbody tr th:only-of-type {\n",
              "        vertical-align: middle;\n",
              "    }\n",
              "\n",
              "    .dataframe tbody tr th {\n",
              "        vertical-align: top;\n",
              "    }\n",
              "\n",
              "    .dataframe thead th {\n",
              "        text-align: right;\n",
              "    }\n",
              "</style>\n",
              "<table border=\"1\" class=\"dataframe\">\n",
              "  <thead>\n",
              "    <tr style=\"text-align: right;\">\n",
              "      <th></th>\n",
              "      <th>CITY</th>\n",
              "      <th>Cust Type</th>\n",
              "      <th>Customer No.</th>\n",
              "      <th>District</th>\n",
              "      <th>Invoice Date</th>\n",
              "      <th>Invoice No</th>\n",
              "      <th>Invoice Time</th>\n",
              "      <th>Job Card No</th>\n",
              "      <th>JobCard Date</th>\n",
              "      <th>JobCard Time</th>\n",
              "      <th>KMs Reading</th>\n",
              "      <th>Labour Total</th>\n",
              "      <th>Make</th>\n",
              "      <th>Misc Total</th>\n",
              "      <th>Model</th>\n",
              "      <th>OSL Total</th>\n",
              "      <th>Order Type</th>\n",
              "      <th>Parts Total</th>\n",
              "      <th>Pin code</th>\n",
              "      <th>Plant</th>\n",
              "      <th>Plant Name1</th>\n",
              "      <th>Total Amt Wtd Tax.</th>\n",
              "      <th>User ID</th>\n",
              "      <th>Partner Type</th>\n",
              "      <th>Data Origin</th>\n",
              "      <th>Title</th>\n",
              "      <th>Vehicle Model</th>\n",
              "      <th>License Plate Number</th>\n",
              "      <th>Fuel Type</th>\n",
              "      <th>Name 1</th>\n",
              "      <th>Postal Code</th>\n",
              "      <th>City</th>\n",
              "      <th>State</th>\n",
              "    </tr>\n",
              "  </thead>\n",
              "  <tbody>\n",
              "    <tr>\n",
              "      <th>0</th>\n",
              "      <td>Nashik</td>\n",
              "      <td>Retail</td>\n",
              "      <td>E14006</td>\n",
              "      <td>Maharashtra</td>\n",
              "      <td>2017-04-14</td>\n",
              "      <td>7164601412</td>\n",
              "      <td>15:29:52</td>\n",
              "      <td>674656</td>\n",
              "      <td>2017-04-13</td>\n",
              "      <td>17:09:17</td>\n",
              "      <td>35165</td>\n",
              "      <td>579.13</td>\n",
              "      <td>HONDA</td>\n",
              "      <td>0.0</td>\n",
              "      <td>CITY</td>\n",
              "      <td>0.0</td>\n",
              "      <td>Paid Service</td>\n",
              "      <td>40.54</td>\n",
              "      <td>422000</td>\n",
              "      <td>X073</td>\n",
              "      <td>X073- KRITI AUTOMOBILE REPAIR</td>\n",
              "      <td>619.67</td>\n",
              "      <td>X073SA1</td>\n",
              "      <td>1.0</td>\n",
              "      <td>Z001</td>\n",
              "      <td>2.0</td>\n",
              "      <td>Z_HONDA</td>\n",
              "      <td>MH15EB5067</td>\n",
              "      <td>2</td>\n",
              "      <td>X073- KRITI AUTOMOBILE REPAIR</td>\n",
              "      <td>422007</td>\n",
              "      <td>Nashik</td>\n",
              "      <td>Maharashtra</td>\n",
              "    </tr>\n",
              "  </tbody>\n",
              "</table>\n",
              "</div>"
            ],
            "text/plain": [
              "     CITY Cust Type Customer No.  ... Postal Code    City        State\n",
              "0  Nashik    Retail       E14006  ...      422007  Nashik  Maharashtra\n",
              "\n",
              "[1 rows x 33 columns]"
            ]
          },
          "metadata": {
            "tags": []
          },
          "execution_count": 120
        }
      ]
    },
    {
      "cell_type": "code",
      "metadata": {
        "id": "dzKY_ntK6wPZ",
        "colab_type": "code",
        "colab": {}
      },
      "source": [
        "columns_to_be_dropped_for_cluster = ['Name 1', 'CITY', 'District', 'Invoice Date', 'Invoice No', 'Invoice Time', 'Job Card No', 'Make', 'Model', 'OSL Total', 'Pin code', 'Plant Name1', 'User ID', 'License Plate Number', 'Misc Total', 'Postal Code', 'JobCard Time']"
      ],
      "execution_count": 0,
      "outputs": []
    },
    {
      "cell_type": "code",
      "metadata": {
        "id": "Jk_WR-qw59Lx",
        "colab_type": "code",
        "colab": {}
      },
      "source": [
        "cluster_data = invoice_customer_vehicles_plant.drop(columns=columns_to_be_dropped_for_cluster)"
      ],
      "execution_count": 0,
      "outputs": []
    },
    {
      "cell_type": "code",
      "metadata": {
        "id": "UVFKw5ET7Tyq",
        "colab_type": "code",
        "outputId": "1aa598cc-077c-40b2-8c91-04f4464186b1",
        "colab": {
          "base_uri": "https://localhost:8080/",
          "height": 34
        }
      },
      "source": [
        "cluster_data.shape"
      ],
      "execution_count": 0,
      "outputs": [
        {
          "output_type": "execute_result",
          "data": {
            "text/plain": [
              "(743801, 16)"
            ]
          },
          "metadata": {
            "tags": []
          },
          "execution_count": 123
        }
      ]
    },
    {
      "cell_type": "code",
      "metadata": {
        "id": "D_raPHSF7vcE",
        "colab_type": "code",
        "outputId": "a1a42da4-861a-4917-ec04-6835ab043c5f",
        "colab": {
          "base_uri": "https://localhost:8080/",
          "height": 114
        }
      },
      "source": [
        "cluster_data.head(1)"
      ],
      "execution_count": 0,
      "outputs": [
        {
          "output_type": "execute_result",
          "data": {
            "text/html": [
              "<div>\n",
              "<style scoped>\n",
              "    .dataframe tbody tr th:only-of-type {\n",
              "        vertical-align: middle;\n",
              "    }\n",
              "\n",
              "    .dataframe tbody tr th {\n",
              "        vertical-align: top;\n",
              "    }\n",
              "\n",
              "    .dataframe thead th {\n",
              "        text-align: right;\n",
              "    }\n",
              "</style>\n",
              "<table border=\"1\" class=\"dataframe\">\n",
              "  <thead>\n",
              "    <tr style=\"text-align: right;\">\n",
              "      <th></th>\n",
              "      <th>Cust Type</th>\n",
              "      <th>Customer No.</th>\n",
              "      <th>JobCard Date</th>\n",
              "      <th>KMs Reading</th>\n",
              "      <th>Labour Total</th>\n",
              "      <th>Order Type</th>\n",
              "      <th>Parts Total</th>\n",
              "      <th>Plant</th>\n",
              "      <th>Total Amt Wtd Tax.</th>\n",
              "      <th>Partner Type</th>\n",
              "      <th>Data Origin</th>\n",
              "      <th>Title</th>\n",
              "      <th>Vehicle Model</th>\n",
              "      <th>Fuel Type</th>\n",
              "      <th>City</th>\n",
              "      <th>State</th>\n",
              "    </tr>\n",
              "  </thead>\n",
              "  <tbody>\n",
              "    <tr>\n",
              "      <th>0</th>\n",
              "      <td>Retail</td>\n",
              "      <td>E14006</td>\n",
              "      <td>2017-04-13</td>\n",
              "      <td>35165</td>\n",
              "      <td>579.13</td>\n",
              "      <td>Paid Service</td>\n",
              "      <td>40.54</td>\n",
              "      <td>X073</td>\n",
              "      <td>619.67</td>\n",
              "      <td>1.0</td>\n",
              "      <td>Z001</td>\n",
              "      <td>2.0</td>\n",
              "      <td>Z_HONDA</td>\n",
              "      <td>2</td>\n",
              "      <td>Nashik</td>\n",
              "      <td>Maharashtra</td>\n",
              "    </tr>\n",
              "  </tbody>\n",
              "</table>\n",
              "</div>"
            ],
            "text/plain": [
              "  Cust Type Customer No. JobCard Date  ...  Fuel Type    City        State\n",
              "0    Retail       E14006   2017-04-13  ...          2  Nashik  Maharashtra\n",
              "\n",
              "[1 rows x 16 columns]"
            ]
          },
          "metadata": {
            "tags": []
          },
          "execution_count": 124
        }
      ]
    },
    {
      "cell_type": "code",
      "metadata": {
        "id": "cwaPoUgN8AgT",
        "colab_type": "code",
        "outputId": "849ae702-6f9d-4269-91d1-dde452dd2789",
        "colab": {
          "base_uri": "https://localhost:8080/",
          "height": 114
        }
      },
      "source": [
        "cluster_data.tail(1)"
      ],
      "execution_count": 0,
      "outputs": [
        {
          "output_type": "execute_result",
          "data": {
            "text/html": [
              "<div>\n",
              "<style scoped>\n",
              "    .dataframe tbody tr th:only-of-type {\n",
              "        vertical-align: middle;\n",
              "    }\n",
              "\n",
              "    .dataframe tbody tr th {\n",
              "        vertical-align: top;\n",
              "    }\n",
              "\n",
              "    .dataframe thead th {\n",
              "        text-align: right;\n",
              "    }\n",
              "</style>\n",
              "<table border=\"1\" class=\"dataframe\">\n",
              "  <thead>\n",
              "    <tr style=\"text-align: right;\">\n",
              "      <th></th>\n",
              "      <th>Cust Type</th>\n",
              "      <th>Customer No.</th>\n",
              "      <th>JobCard Date</th>\n",
              "      <th>KMs Reading</th>\n",
              "      <th>Labour Total</th>\n",
              "      <th>Order Type</th>\n",
              "      <th>Parts Total</th>\n",
              "      <th>Plant</th>\n",
              "      <th>Total Amt Wtd Tax.</th>\n",
              "      <th>Partner Type</th>\n",
              "      <th>Data Origin</th>\n",
              "      <th>Title</th>\n",
              "      <th>Vehicle Model</th>\n",
              "      <th>Fuel Type</th>\n",
              "      <th>City</th>\n",
              "      <th>State</th>\n",
              "    </tr>\n",
              "  </thead>\n",
              "  <tbody>\n",
              "    <tr>\n",
              "      <th>743800</th>\n",
              "      <td>Retail</td>\n",
              "      <td>503898</td>\n",
              "      <td>2017-11-30</td>\n",
              "      <td>63154</td>\n",
              "      <td>0.0</td>\n",
              "      <td>Running Repairs</td>\n",
              "      <td>0.0</td>\n",
              "      <td>X720</td>\n",
              "      <td>0.0</td>\n",
              "      <td>1.0</td>\n",
              "      <td>Z006</td>\n",
              "      <td>2.0</td>\n",
              "      <td>Z_TOYOTA</td>\n",
              "      <td>2</td>\n",
              "      <td>Lucknow</td>\n",
              "      <td>Uttar Pradesh</td>\n",
              "    </tr>\n",
              "  </tbody>\n",
              "</table>\n",
              "</div>"
            ],
            "text/plain": [
              "       Cust Type Customer No. JobCard Date  ...  Fuel Type     City          State\n",
              "743800    Retail       503898   2017-11-30  ...          2  Lucknow  Uttar Pradesh\n",
              "\n",
              "[1 rows x 16 columns]"
            ]
          },
          "metadata": {
            "tags": []
          },
          "execution_count": 125
        }
      ]
    },
    {
      "cell_type": "code",
      "metadata": {
        "id": "MLW00-3U8tHY",
        "colab_type": "code",
        "colab": {}
      },
      "source": [
        "cluster_data['JobCard Date'] = pd.to_datetime(cluster_data['JobCard Date'])"
      ],
      "execution_count": 0,
      "outputs": []
    },
    {
      "cell_type": "code",
      "metadata": {
        "id": "AkqVGEus9yPl",
        "colab_type": "code",
        "colab": {}
      },
      "source": [
        "cluster_data['JobCard Month'] = cluster_data['JobCard Date'].dt.month"
      ],
      "execution_count": 0,
      "outputs": []
    },
    {
      "cell_type": "code",
      "metadata": {
        "id": "_REBen1O-B3S",
        "colab_type": "code",
        "colab": {}
      },
      "source": [
        "cluster_data.drop(columns=['JobCard Date'], inplace=True)"
      ],
      "execution_count": 0,
      "outputs": []
    },
    {
      "cell_type": "code",
      "metadata": {
        "id": "wWp4_qIQ-Kte",
        "colab_type": "code",
        "outputId": "456c5545-90c9-41b9-cd4d-8b4736723544",
        "colab": {
          "base_uri": "https://localhost:8080/",
          "height": 114
        }
      },
      "source": [
        "cluster_data.tail(1)"
      ],
      "execution_count": 0,
      "outputs": [
        {
          "output_type": "execute_result",
          "data": {
            "text/html": [
              "<div>\n",
              "<style scoped>\n",
              "    .dataframe tbody tr th:only-of-type {\n",
              "        vertical-align: middle;\n",
              "    }\n",
              "\n",
              "    .dataframe tbody tr th {\n",
              "        vertical-align: top;\n",
              "    }\n",
              "\n",
              "    .dataframe thead th {\n",
              "        text-align: right;\n",
              "    }\n",
              "</style>\n",
              "<table border=\"1\" class=\"dataframe\">\n",
              "  <thead>\n",
              "    <tr style=\"text-align: right;\">\n",
              "      <th></th>\n",
              "      <th>Cust Type</th>\n",
              "      <th>Customer No.</th>\n",
              "      <th>KMs Reading</th>\n",
              "      <th>Labour Total</th>\n",
              "      <th>Order Type</th>\n",
              "      <th>Parts Total</th>\n",
              "      <th>Plant</th>\n",
              "      <th>Total Amt Wtd Tax.</th>\n",
              "      <th>Partner Type</th>\n",
              "      <th>Data Origin</th>\n",
              "      <th>Title</th>\n",
              "      <th>Vehicle Model</th>\n",
              "      <th>Fuel Type</th>\n",
              "      <th>City</th>\n",
              "      <th>State</th>\n",
              "      <th>JobCard Month</th>\n",
              "    </tr>\n",
              "  </thead>\n",
              "  <tbody>\n",
              "    <tr>\n",
              "      <th>743800</th>\n",
              "      <td>Retail</td>\n",
              "      <td>503898</td>\n",
              "      <td>63154</td>\n",
              "      <td>0.0</td>\n",
              "      <td>Running Repairs</td>\n",
              "      <td>0.0</td>\n",
              "      <td>X720</td>\n",
              "      <td>0.0</td>\n",
              "      <td>1.0</td>\n",
              "      <td>Z006</td>\n",
              "      <td>2.0</td>\n",
              "      <td>Z_TOYOTA</td>\n",
              "      <td>2</td>\n",
              "      <td>Lucknow</td>\n",
              "      <td>Uttar Pradesh</td>\n",
              "      <td>11</td>\n",
              "    </tr>\n",
              "  </tbody>\n",
              "</table>\n",
              "</div>"
            ],
            "text/plain": [
              "       Cust Type Customer No.  ...          State  JobCard Month\n",
              "743800    Retail       503898  ...  Uttar Pradesh             11\n",
              "\n",
              "[1 rows x 16 columns]"
            ]
          },
          "metadata": {
            "tags": []
          },
          "execution_count": 129
        }
      ]
    },
    {
      "cell_type": "code",
      "metadata": {
        "id": "DrZAQGTJ-Ym7",
        "colab_type": "code",
        "outputId": "ca700e82-ae33-41e3-f44a-d3150d8904b4",
        "colab": {
          "base_uri": "https://localhost:8080/",
          "height": 34
        }
      },
      "source": [
        "cluster_data.shape"
      ],
      "execution_count": 0,
      "outputs": [
        {
          "output_type": "execute_result",
          "data": {
            "text/plain": [
              "(743801, 16)"
            ]
          },
          "metadata": {
            "tags": []
          },
          "execution_count": 130
        }
      ]
    },
    {
      "cell_type": "code",
      "metadata": {
        "id": "lpMGzsMCtioz",
        "colab_type": "code",
        "outputId": "0dcff415-3869-4929-f86b-f16607d9e9a8",
        "colab": {
          "base_uri": "https://localhost:8080/",
          "height": 1000
        }
      },
      "source": [
        "cluster_data.groupby(by='Customer No.').first()"
      ],
      "execution_count": 0,
      "outputs": [
        {
          "output_type": "execute_result",
          "data": {
            "text/html": [
              "<div>\n",
              "<style scoped>\n",
              "    .dataframe tbody tr th:only-of-type {\n",
              "        vertical-align: middle;\n",
              "    }\n",
              "\n",
              "    .dataframe tbody tr th {\n",
              "        vertical-align: top;\n",
              "    }\n",
              "\n",
              "    .dataframe thead th {\n",
              "        text-align: right;\n",
              "    }\n",
              "</style>\n",
              "<table border=\"1\" class=\"dataframe\">\n",
              "  <thead>\n",
              "    <tr style=\"text-align: right;\">\n",
              "      <th></th>\n",
              "      <th>Cust Type</th>\n",
              "      <th>KMs Reading</th>\n",
              "      <th>Labour Total</th>\n",
              "      <th>Order Type</th>\n",
              "      <th>Parts Total</th>\n",
              "      <th>Plant</th>\n",
              "      <th>Total Amt Wtd Tax.</th>\n",
              "      <th>Partner Type</th>\n",
              "      <th>Data Origin</th>\n",
              "      <th>Title</th>\n",
              "      <th>Vehicle Model</th>\n",
              "      <th>Fuel Type</th>\n",
              "      <th>City</th>\n",
              "      <th>State</th>\n",
              "      <th>JobCard Month</th>\n",
              "    </tr>\n",
              "    <tr>\n",
              "      <th>Customer No.</th>\n",
              "      <th></th>\n",
              "      <th></th>\n",
              "      <th></th>\n",
              "      <th></th>\n",
              "      <th></th>\n",
              "      <th></th>\n",
              "      <th></th>\n",
              "      <th></th>\n",
              "      <th></th>\n",
              "      <th></th>\n",
              "      <th></th>\n",
              "      <th></th>\n",
              "      <th></th>\n",
              "      <th></th>\n",
              "      <th></th>\n",
              "    </tr>\n",
              "  </thead>\n",
              "  <tbody>\n",
              "    <tr>\n",
              "      <th>100001</th>\n",
              "      <td>Retail</td>\n",
              "      <td>80841</td>\n",
              "      <td>571.76</td>\n",
              "      <td>Running Repairs</td>\n",
              "      <td>486.68</td>\n",
              "      <td>X027</td>\n",
              "      <td>1058.44</td>\n",
              "      <td>1.0</td>\n",
              "      <td>Z005</td>\n",
              "      <td>2.0</td>\n",
              "      <td>Z_SKODA</td>\n",
              "      <td>1</td>\n",
              "      <td>Pune</td>\n",
              "      <td>Maharashtra</td>\n",
              "      <td>4</td>\n",
              "    </tr>\n",
              "    <tr>\n",
              "      <th>100003</th>\n",
              "      <td>Retail</td>\n",
              "      <td>104000</td>\n",
              "      <td>0.00</td>\n",
              "      <td>Accidental</td>\n",
              "      <td>0.00</td>\n",
              "      <td>X018</td>\n",
              "      <td>0.00</td>\n",
              "      <td>1.0</td>\n",
              "      <td>Z005</td>\n",
              "      <td>2.0</td>\n",
              "      <td>Z_TOYOTA</td>\n",
              "      <td>2</td>\n",
              "      <td>Shirur</td>\n",
              "      <td>Maharashtra</td>\n",
              "      <td>4</td>\n",
              "    </tr>\n",
              "    <tr>\n",
              "      <th>100004</th>\n",
              "      <td>Retail</td>\n",
              "      <td>2494</td>\n",
              "      <td>249.22</td>\n",
              "      <td>Running Repairs</td>\n",
              "      <td>0.00</td>\n",
              "      <td>X016</td>\n",
              "      <td>249.22</td>\n",
              "      <td>1.0</td>\n",
              "      <td>Z005</td>\n",
              "      <td>2.0</td>\n",
              "      <td>Z_HYUNDAI</td>\n",
              "      <td>2</td>\n",
              "      <td>Boripardhi</td>\n",
              "      <td>Maharashtra</td>\n",
              "      <td>4</td>\n",
              "    </tr>\n",
              "    <tr>\n",
              "      <th>100006</th>\n",
              "      <td>Retail</td>\n",
              "      <td>6000</td>\n",
              "      <td>1223.71</td>\n",
              "      <td>Paid Service</td>\n",
              "      <td>0.00</td>\n",
              "      <td>X072</td>\n",
              "      <td>1223.71</td>\n",
              "      <td>1.0</td>\n",
              "      <td>Z006</td>\n",
              "      <td>1.0</td>\n",
              "      <td>Z_MARUTI</td>\n",
              "      <td>1</td>\n",
              "      <td>Abohar</td>\n",
              "      <td>Punjab</td>\n",
              "      <td>4</td>\n",
              "    </tr>\n",
              "    <tr>\n",
              "      <th>100007</th>\n",
              "      <td>Retail</td>\n",
              "      <td>25207</td>\n",
              "      <td>1020.01</td>\n",
              "      <td>Paid Service</td>\n",
              "      <td>1407.07</td>\n",
              "      <td>X023</td>\n",
              "      <td>2427.08</td>\n",
              "      <td>1.0</td>\n",
              "      <td>Z005</td>\n",
              "      <td>2.0</td>\n",
              "      <td>Z_HYUNDAI</td>\n",
              "      <td>2</td>\n",
              "      <td>Tirupur</td>\n",
              "      <td>Tamil Nadu</td>\n",
              "      <td>3</td>\n",
              "    </tr>\n",
              "    <tr>\n",
              "      <th>100009</th>\n",
              "      <td>Retail</td>\n",
              "      <td>74130</td>\n",
              "      <td>0.00</td>\n",
              "      <td>Paid Service</td>\n",
              "      <td>3044.43</td>\n",
              "      <td>X029</td>\n",
              "      <td>3952.36</td>\n",
              "      <td>1.0</td>\n",
              "      <td>Z006</td>\n",
              "      <td>2.0</td>\n",
              "      <td>Z_MARUTI</td>\n",
              "      <td>1</td>\n",
              "      <td>Zirakpur</td>\n",
              "      <td>Punjab</td>\n",
              "      <td>4</td>\n",
              "    </tr>\n",
              "    <tr>\n",
              "      <th>10001</th>\n",
              "      <td>Retail</td>\n",
              "      <td>43285</td>\n",
              "      <td>4902.41</td>\n",
              "      <td>Paid Service</td>\n",
              "      <td>8024.01</td>\n",
              "      <td>X508</td>\n",
              "      <td>12926.42</td>\n",
              "      <td>1.0</td>\n",
              "      <td>Z001</td>\n",
              "      <td>2.0</td>\n",
              "      <td>Z_MAHINDRA</td>\n",
              "      <td>2</td>\n",
              "      <td>Thane(W)</td>\n",
              "      <td>Maharashtra</td>\n",
              "      <td>4</td>\n",
              "    </tr>\n",
              "    <tr>\n",
              "      <th>100011</th>\n",
              "      <td>Retail</td>\n",
              "      <td>123132</td>\n",
              "      <td>87.97</td>\n",
              "      <td>Paid Service</td>\n",
              "      <td>499.39</td>\n",
              "      <td>X218</td>\n",
              "      <td>587.36</td>\n",
              "      <td>1.0</td>\n",
              "      <td>Z005</td>\n",
              "      <td>2.0</td>\n",
              "      <td>Z_MAHINDRA</td>\n",
              "      <td>2</td>\n",
              "      <td>Nashik</td>\n",
              "      <td>Maharashtra</td>\n",
              "      <td>1</td>\n",
              "    </tr>\n",
              "    <tr>\n",
              "      <th>100014</th>\n",
              "      <td>Retail</td>\n",
              "      <td>27668</td>\n",
              "      <td>199.40</td>\n",
              "      <td>Running Repairs</td>\n",
              "      <td>0.00</td>\n",
              "      <td>X006</td>\n",
              "      <td>199.40</td>\n",
              "      <td>1.0</td>\n",
              "      <td>Z012</td>\n",
              "      <td>2.0</td>\n",
              "      <td>Z_HYUNDAI</td>\n",
              "      <td>1</td>\n",
              "      <td>Thane</td>\n",
              "      <td>Maharashtra</td>\n",
              "      <td>4</td>\n",
              "    </tr>\n",
              "    <tr>\n",
              "      <th>100015</th>\n",
              "      <td>Retail</td>\n",
              "      <td>90980</td>\n",
              "      <td>0.00</td>\n",
              "      <td>Accidental</td>\n",
              "      <td>0.00</td>\n",
              "      <td>BC30</td>\n",
              "      <td>3000.28</td>\n",
              "      <td>1.0</td>\n",
              "      <td>Z002</td>\n",
              "      <td>2.0</td>\n",
              "      <td>Z_FORD</td>\n",
              "      <td>2</td>\n",
              "      <td>Mohali</td>\n",
              "      <td>Punjab</td>\n",
              "      <td>4</td>\n",
              "    </tr>\n",
              "    <tr>\n",
              "      <th>100016</th>\n",
              "      <td>Retail</td>\n",
              "      <td>119673</td>\n",
              "      <td>310.56</td>\n",
              "      <td>Running Repairs</td>\n",
              "      <td>0.00</td>\n",
              "      <td>X018</td>\n",
              "      <td>310.56</td>\n",
              "      <td>1.0</td>\n",
              "      <td>Z005</td>\n",
              "      <td>2.0</td>\n",
              "      <td>Z_MAHINDRA</td>\n",
              "      <td>2</td>\n",
              "      <td>Shirur</td>\n",
              "      <td>Maharashtra</td>\n",
              "      <td>4</td>\n",
              "    </tr>\n",
              "    <tr>\n",
              "      <th>100018</th>\n",
              "      <td>Retail</td>\n",
              "      <td>124858</td>\n",
              "      <td>8791.34</td>\n",
              "      <td>Paid Service</td>\n",
              "      <td>0.00</td>\n",
              "      <td>X034</td>\n",
              "      <td>8791.34</td>\n",
              "      <td>1.0</td>\n",
              "      <td>Z005</td>\n",
              "      <td>2.0</td>\n",
              "      <td>Z_GENERAL MOTORS</td>\n",
              "      <td>1</td>\n",
              "      <td>Aurangabad</td>\n",
              "      <td>Maharashtra</td>\n",
              "      <td>7</td>\n",
              "    </tr>\n",
              "    <tr>\n",
              "      <th>100020</th>\n",
              "      <td>Retail</td>\n",
              "      <td>150395</td>\n",
              "      <td>559.90</td>\n",
              "      <td>Paid Service</td>\n",
              "      <td>689.67</td>\n",
              "      <td>X017</td>\n",
              "      <td>1249.57</td>\n",
              "      <td>1.0</td>\n",
              "      <td>Z002</td>\n",
              "      <td>2.0</td>\n",
              "      <td>Z_TATA</td>\n",
              "      <td>2</td>\n",
              "      <td>Kolhapur</td>\n",
              "      <td>Maharashtra</td>\n",
              "      <td>4</td>\n",
              "    </tr>\n",
              "    <tr>\n",
              "      <th>100021</th>\n",
              "      <td>Retail</td>\n",
              "      <td>45138</td>\n",
              "      <td>0.00</td>\n",
              "      <td>Accidental</td>\n",
              "      <td>110.25</td>\n",
              "      <td>BC30</td>\n",
              "      <td>4592.22</td>\n",
              "      <td>1.0</td>\n",
              "      <td>Z001</td>\n",
              "      <td>1.0</td>\n",
              "      <td>Z_TATA</td>\n",
              "      <td>2</td>\n",
              "      <td>Mohali</td>\n",
              "      <td>Punjab</td>\n",
              "      <td>4</td>\n",
              "    </tr>\n",
              "    <tr>\n",
              "      <th>100022</th>\n",
              "      <td>Retail</td>\n",
              "      <td>118313</td>\n",
              "      <td>550.01</td>\n",
              "      <td>Mechanical</td>\n",
              "      <td>3797.00</td>\n",
              "      <td>X032</td>\n",
              "      <td>4347.01</td>\n",
              "      <td>1.0</td>\n",
              "      <td>Z019</td>\n",
              "      <td>2.0</td>\n",
              "      <td>Z_TATA</td>\n",
              "      <td>2</td>\n",
              "      <td>Dharmapuri</td>\n",
              "      <td>Tamil Nadu</td>\n",
              "      <td>4</td>\n",
              "    </tr>\n",
              "    <tr>\n",
              "      <th>100023</th>\n",
              "      <td>Retail</td>\n",
              "      <td>76608</td>\n",
              "      <td>282.00</td>\n",
              "      <td>Accidental</td>\n",
              "      <td>26649.59</td>\n",
              "      <td>BC30</td>\n",
              "      <td>57089.67</td>\n",
              "      <td>1.0</td>\n",
              "      <td>Z002</td>\n",
              "      <td>2.0</td>\n",
              "      <td>Z_MARUTI</td>\n",
              "      <td>1</td>\n",
              "      <td>Mohali</td>\n",
              "      <td>Punjab</td>\n",
              "      <td>4</td>\n",
              "    </tr>\n",
              "    <tr>\n",
              "      <th>100024</th>\n",
              "      <td>Retail</td>\n",
              "      <td>90123</td>\n",
              "      <td>391.55</td>\n",
              "      <td>Running Repairs</td>\n",
              "      <td>0.00</td>\n",
              "      <td>X018</td>\n",
              "      <td>391.55</td>\n",
              "      <td>1.0</td>\n",
              "      <td>Z005</td>\n",
              "      <td>2.0</td>\n",
              "      <td>Z_MARUTI</td>\n",
              "      <td>4</td>\n",
              "      <td>Shirur</td>\n",
              "      <td>Maharashtra</td>\n",
              "      <td>4</td>\n",
              "    </tr>\n",
              "    <tr>\n",
              "      <th>100025</th>\n",
              "      <td>Retail</td>\n",
              "      <td>2127</td>\n",
              "      <td>1852.88</td>\n",
              "      <td>Paid Service</td>\n",
              "      <td>2410.73</td>\n",
              "      <td>X006</td>\n",
              "      <td>4263.61</td>\n",
              "      <td>1.0</td>\n",
              "      <td>Z006</td>\n",
              "      <td>2.0</td>\n",
              "      <td>Z_GENERAL MOTORS</td>\n",
              "      <td>2</td>\n",
              "      <td>Thane</td>\n",
              "      <td>Maharashtra</td>\n",
              "      <td>4</td>\n",
              "    </tr>\n",
              "    <tr>\n",
              "      <th>100027</th>\n",
              "      <td>Retail</td>\n",
              "      <td>13501</td>\n",
              "      <td>249.01</td>\n",
              "      <td>Accidental</td>\n",
              "      <td>3294.97</td>\n",
              "      <td>BC30</td>\n",
              "      <td>13902.25</td>\n",
              "      <td>1.0</td>\n",
              "      <td>Z002</td>\n",
              "      <td>2.0</td>\n",
              "      <td>Z_HYUNDAI</td>\n",
              "      <td>2</td>\n",
              "      <td>Mohali</td>\n",
              "      <td>Punjab</td>\n",
              "      <td>4</td>\n",
              "    </tr>\n",
              "    <tr>\n",
              "      <th>100028</th>\n",
              "      <td>Retail</td>\n",
              "      <td>45125</td>\n",
              "      <td>1000.02</td>\n",
              "      <td>Accidental</td>\n",
              "      <td>8434.22</td>\n",
              "      <td>BC30</td>\n",
              "      <td>14134.32</td>\n",
              "      <td>1.0</td>\n",
              "      <td>Z002</td>\n",
              "      <td>2.0</td>\n",
              "      <td>Z_FORD</td>\n",
              "      <td>2</td>\n",
              "      <td>Mohali</td>\n",
              "      <td>Punjab</td>\n",
              "      <td>4</td>\n",
              "    </tr>\n",
              "    <tr>\n",
              "      <th>100030</th>\n",
              "      <td>Retail</td>\n",
              "      <td>176717</td>\n",
              "      <td>3548.48</td>\n",
              "      <td>Running Repairs</td>\n",
              "      <td>0.00</td>\n",
              "      <td>X032</td>\n",
              "      <td>3548.48</td>\n",
              "      <td>1.0</td>\n",
              "      <td>Z019</td>\n",
              "      <td>2.0</td>\n",
              "      <td>Z_MAHINDRA</td>\n",
              "      <td>1</td>\n",
              "      <td>Dharmapuri</td>\n",
              "      <td>Tamil Nadu</td>\n",
              "      <td>4</td>\n",
              "    </tr>\n",
              "    <tr>\n",
              "      <th>100032</th>\n",
              "      <td>Retail</td>\n",
              "      <td>23543</td>\n",
              "      <td>769.91</td>\n",
              "      <td>Paid Service</td>\n",
              "      <td>920.81</td>\n",
              "      <td>X026</td>\n",
              "      <td>1690.72</td>\n",
              "      <td>1.0</td>\n",
              "      <td>Z005</td>\n",
              "      <td>2.0</td>\n",
              "      <td>Z_MARUTI</td>\n",
              "      <td>1</td>\n",
              "      <td>Pune</td>\n",
              "      <td>Maharashtra</td>\n",
              "      <td>4</td>\n",
              "    </tr>\n",
              "    <tr>\n",
              "      <th>100034</th>\n",
              "      <td>Retail</td>\n",
              "      <td>42469</td>\n",
              "      <td>624.44</td>\n",
              "      <td>Paid Service</td>\n",
              "      <td>1792.08</td>\n",
              "      <td>X029</td>\n",
              "      <td>2416.52</td>\n",
              "      <td>1.0</td>\n",
              "      <td>Z006</td>\n",
              "      <td>2.0</td>\n",
              "      <td>Z_MARUTI</td>\n",
              "      <td>1</td>\n",
              "      <td>Zirakpur</td>\n",
              "      <td>Punjab</td>\n",
              "      <td>4</td>\n",
              "    </tr>\n",
              "    <tr>\n",
              "      <th>100035</th>\n",
              "      <td>Retail</td>\n",
              "      <td>59397</td>\n",
              "      <td>1070.12</td>\n",
              "      <td>Paid Service</td>\n",
              "      <td>2350.68</td>\n",
              "      <td>X003</td>\n",
              "      <td>3580.82</td>\n",
              "      <td>1.0</td>\n",
              "      <td>Z021</td>\n",
              "      <td>2.0</td>\n",
              "      <td>Z_TATA</td>\n",
              "      <td>2</td>\n",
              "      <td>Bengaluru</td>\n",
              "      <td>Karnataka</td>\n",
              "      <td>5</td>\n",
              "    </tr>\n",
              "    <tr>\n",
              "      <th>100036</th>\n",
              "      <td>Retail</td>\n",
              "      <td>111102</td>\n",
              "      <td>2352.09</td>\n",
              "      <td>Running Repairs</td>\n",
              "      <td>136.16</td>\n",
              "      <td>X006</td>\n",
              "      <td>2488.25</td>\n",
              "      <td>1.0</td>\n",
              "      <td>Z012</td>\n",
              "      <td>2.0</td>\n",
              "      <td>Z_MARUTI</td>\n",
              "      <td>1</td>\n",
              "      <td>Thane</td>\n",
              "      <td>Maharashtra</td>\n",
              "      <td>4</td>\n",
              "    </tr>\n",
              "    <tr>\n",
              "      <th>100037</th>\n",
              "      <td>Retail</td>\n",
              "      <td>17066</td>\n",
              "      <td>250.11</td>\n",
              "      <td>Running Repairs</td>\n",
              "      <td>0.00</td>\n",
              "      <td>X025</td>\n",
              "      <td>250.11</td>\n",
              "      <td>1.0</td>\n",
              "      <td>Z002</td>\n",
              "      <td>2.0</td>\n",
              "      <td>Z_TATA</td>\n",
              "      <td>2</td>\n",
              "      <td>Moga</td>\n",
              "      <td>Punjab</td>\n",
              "      <td>4</td>\n",
              "    </tr>\n",
              "    <tr>\n",
              "      <th>100039</th>\n",
              "      <td>Retail</td>\n",
              "      <td>63286</td>\n",
              "      <td>0.00</td>\n",
              "      <td>Paid Service</td>\n",
              "      <td>0.00</td>\n",
              "      <td>X037</td>\n",
              "      <td>499.32</td>\n",
              "      <td>1.0</td>\n",
              "      <td>Z005</td>\n",
              "      <td>2.0</td>\n",
              "      <td>Z_HONDA</td>\n",
              "      <td>1</td>\n",
              "      <td>Kurnool</td>\n",
              "      <td>Andhra Pradesh</td>\n",
              "      <td>4</td>\n",
              "    </tr>\n",
              "    <tr>\n",
              "      <th>100040</th>\n",
              "      <td>Retail</td>\n",
              "      <td>100890</td>\n",
              "      <td>1839.97</td>\n",
              "      <td>Paid Service</td>\n",
              "      <td>1118.71</td>\n",
              "      <td>X508</td>\n",
              "      <td>3957.66</td>\n",
              "      <td>1.0</td>\n",
              "      <td>Z007</td>\n",
              "      <td>2.0</td>\n",
              "      <td>Z_MARUTI</td>\n",
              "      <td>1</td>\n",
              "      <td>Thane(W)</td>\n",
              "      <td>Maharashtra</td>\n",
              "      <td>8</td>\n",
              "    </tr>\n",
              "    <tr>\n",
              "      <th>100041</th>\n",
              "      <td>Retail</td>\n",
              "      <td>48962</td>\n",
              "      <td>249.22</td>\n",
              "      <td>Running Repairs</td>\n",
              "      <td>0.00</td>\n",
              "      <td>BC30</td>\n",
              "      <td>249.22</td>\n",
              "      <td>1.0</td>\n",
              "      <td>Z018</td>\n",
              "      <td>2.0</td>\n",
              "      <td>Z_HYUNDAI</td>\n",
              "      <td>1</td>\n",
              "      <td>Mohali</td>\n",
              "      <td>Punjab</td>\n",
              "      <td>4</td>\n",
              "    </tr>\n",
              "    <tr>\n",
              "      <th>100042</th>\n",
              "      <td>Retail</td>\n",
              "      <td>41429</td>\n",
              "      <td>639.92</td>\n",
              "      <td>Paid Service</td>\n",
              "      <td>1059.78</td>\n",
              "      <td>X350</td>\n",
              "      <td>1699.70</td>\n",
              "      <td>1.0</td>\n",
              "      <td>Z005</td>\n",
              "      <td>2.0</td>\n",
              "      <td>Z_HYUNDAI</td>\n",
              "      <td>2</td>\n",
              "      <td>Vadodara</td>\n",
              "      <td>Gujarat</td>\n",
              "      <td>10</td>\n",
              "    </tr>\n",
              "    <tr>\n",
              "      <th>...</th>\n",
              "      <td>...</td>\n",
              "      <td>...</td>\n",
              "      <td>...</td>\n",
              "      <td>...</td>\n",
              "      <td>...</td>\n",
              "      <td>...</td>\n",
              "      <td>...</td>\n",
              "      <td>...</td>\n",
              "      <td>...</td>\n",
              "      <td>...</td>\n",
              "      <td>...</td>\n",
              "      <td>...</td>\n",
              "      <td>...</td>\n",
              "      <td>...</td>\n",
              "      <td>...</td>\n",
              "    </tr>\n",
              "    <tr>\n",
              "      <th>MFCWP01</th>\n",
              "      <td>MFCWL</td>\n",
              "      <td>152401</td>\n",
              "      <td>1500.07</td>\n",
              "      <td>Running Repairs</td>\n",
              "      <td>6591.99</td>\n",
              "      <td>X006</td>\n",
              "      <td>8092.06</td>\n",
              "      <td>1.0</td>\n",
              "      <td>Z005</td>\n",
              "      <td>2.0</td>\n",
              "      <td>Z_MAHINDRA</td>\n",
              "      <td>2</td>\n",
              "      <td>Thane</td>\n",
              "      <td>Maharashtra</td>\n",
              "      <td>3</td>\n",
              "    </tr>\n",
              "    <tr>\n",
              "      <th>MFM15</th>\n",
              "      <td>MFCWL</td>\n",
              "      <td>40655</td>\n",
              "      <td>0.00</td>\n",
              "      <td>Paid Service</td>\n",
              "      <td>1050.02</td>\n",
              "      <td>BC07</td>\n",
              "      <td>1250.05</td>\n",
              "      <td>1.0</td>\n",
              "      <td>Z001</td>\n",
              "      <td>2.0</td>\n",
              "      <td>Z_MAHINDRA</td>\n",
              "      <td>2</td>\n",
              "      <td>Chennai</td>\n",
              "      <td>Tamil Nadu</td>\n",
              "      <td>4</td>\n",
              "    </tr>\n",
              "    <tr>\n",
              "      <th>PLX002</th>\n",
              "      <td>Franchise</td>\n",
              "      <td>69329</td>\n",
              "      <td>4126.97</td>\n",
              "      <td>Running Repairs</td>\n",
              "      <td>0.00</td>\n",
              "      <td>X002</td>\n",
              "      <td>4346.98</td>\n",
              "      <td>1.0</td>\n",
              "      <td>Z005</td>\n",
              "      <td>2.0</td>\n",
              "      <td>Z_TOYOTA</td>\n",
              "      <td>2</td>\n",
              "      <td>Ghaziabad</td>\n",
              "      <td>Uttar Pradesh</td>\n",
              "      <td>4</td>\n",
              "    </tr>\n",
              "    <tr>\n",
              "      <th>PLX046</th>\n",
              "      <td>Franchise</td>\n",
              "      <td>48720</td>\n",
              "      <td>0.00</td>\n",
              "      <td>Paid Service</td>\n",
              "      <td>11371.42</td>\n",
              "      <td>X046</td>\n",
              "      <td>11371.42</td>\n",
              "      <td>1.0</td>\n",
              "      <td>Z005</td>\n",
              "      <td>2.0</td>\n",
              "      <td>Z_TATA</td>\n",
              "      <td>2</td>\n",
              "      <td>Jhajjar</td>\n",
              "      <td>Haryana</td>\n",
              "      <td>1</td>\n",
              "    </tr>\n",
              "    <tr>\n",
              "      <th>PLX048</th>\n",
              "      <td>Retail</td>\n",
              "      <td>192146</td>\n",
              "      <td>2635.09</td>\n",
              "      <td>Paid Service</td>\n",
              "      <td>6225.78</td>\n",
              "      <td>X048</td>\n",
              "      <td>8860.87</td>\n",
              "      <td>1.0</td>\n",
              "      <td>Z005</td>\n",
              "      <td>2.0</td>\n",
              "      <td>Z_MAHINDRA</td>\n",
              "      <td>2</td>\n",
              "      <td>Nagercoil</td>\n",
              "      <td>Tamil Nadu</td>\n",
              "      <td>10</td>\n",
              "    </tr>\n",
              "    <tr>\n",
              "      <th>PLX057</th>\n",
              "      <td>Franchise</td>\n",
              "      <td>29903</td>\n",
              "      <td>1100.07</td>\n",
              "      <td>Paid Service</td>\n",
              "      <td>3480.31</td>\n",
              "      <td>X113</td>\n",
              "      <td>4580.38</td>\n",
              "      <td>1.0</td>\n",
              "      <td>Z005</td>\n",
              "      <td>2.0</td>\n",
              "      <td>Z_TATA</td>\n",
              "      <td>2</td>\n",
              "      <td>Mangalore</td>\n",
              "      <td>Karnataka</td>\n",
              "      <td>6</td>\n",
              "    </tr>\n",
              "    <tr>\n",
              "      <th>PLX073</th>\n",
              "      <td>Franchise</td>\n",
              "      <td>71671</td>\n",
              "      <td>0.00</td>\n",
              "      <td>Running Repairs</td>\n",
              "      <td>1182.21</td>\n",
              "      <td>X073</td>\n",
              "      <td>7482.20</td>\n",
              "      <td>1.0</td>\n",
              "      <td>Z005</td>\n",
              "      <td>2.0</td>\n",
              "      <td>Z_SKODA</td>\n",
              "      <td>2</td>\n",
              "      <td>Nashik</td>\n",
              "      <td>Maharashtra</td>\n",
              "      <td>9</td>\n",
              "    </tr>\n",
              "    <tr>\n",
              "      <th>PLX076</th>\n",
              "      <td>Franchise</td>\n",
              "      <td>79374</td>\n",
              "      <td>0.00</td>\n",
              "      <td>Running Repairs</td>\n",
              "      <td>8126.63</td>\n",
              "      <td>X076</td>\n",
              "      <td>8126.63</td>\n",
              "      <td>1.0</td>\n",
              "      <td>Z005</td>\n",
              "      <td>2.0</td>\n",
              "      <td>Z_HONDA</td>\n",
              "      <td>2</td>\n",
              "      <td>Firozabad</td>\n",
              "      <td>Uttar Pradesh</td>\n",
              "      <td>8</td>\n",
              "    </tr>\n",
              "    <tr>\n",
              "      <th>PLX081</th>\n",
              "      <td>Franchise</td>\n",
              "      <td>148024</td>\n",
              "      <td>1458.08</td>\n",
              "      <td>Paid Service</td>\n",
              "      <td>2112.00</td>\n",
              "      <td>X332</td>\n",
              "      <td>3570.08</td>\n",
              "      <td>1.0</td>\n",
              "      <td>Z005</td>\n",
              "      <td>2.0</td>\n",
              "      <td>Z_MITSUBISHI MOTOR</td>\n",
              "      <td>2</td>\n",
              "      <td>Kotayyam</td>\n",
              "      <td>Kerala</td>\n",
              "      <td>10</td>\n",
              "    </tr>\n",
              "    <tr>\n",
              "      <th>PLX099</th>\n",
              "      <td>Franchise</td>\n",
              "      <td>57435</td>\n",
              "      <td>0.00</td>\n",
              "      <td>Running Repairs</td>\n",
              "      <td>3249.34</td>\n",
              "      <td>X099</td>\n",
              "      <td>3249.34</td>\n",
              "      <td>1.0</td>\n",
              "      <td>Z005</td>\n",
              "      <td>2.0</td>\n",
              "      <td>Z_HYUNDAI</td>\n",
              "      <td>1</td>\n",
              "      <td>Nashik</td>\n",
              "      <td>Maharashtra</td>\n",
              "      <td>9</td>\n",
              "    </tr>\n",
              "    <tr>\n",
              "      <th>PLX109</th>\n",
              "      <td>Franchise</td>\n",
              "      <td>90160</td>\n",
              "      <td>6388.91</td>\n",
              "      <td>Paid Service</td>\n",
              "      <td>10188.88</td>\n",
              "      <td>X109</td>\n",
              "      <td>16577.79</td>\n",
              "      <td>1.0</td>\n",
              "      <td>Z005</td>\n",
              "      <td>2.0</td>\n",
              "      <td>Z_GENERAL MOTORS</td>\n",
              "      <td>2</td>\n",
              "      <td>Chennai</td>\n",
              "      <td>Tamil Nadu</td>\n",
              "      <td>11</td>\n",
              "    </tr>\n",
              "    <tr>\n",
              "      <th>PLX112</th>\n",
              "      <td>Franchise</td>\n",
              "      <td>32554</td>\n",
              "      <td>0.84</td>\n",
              "      <td>Running Repairs</td>\n",
              "      <td>0.00</td>\n",
              "      <td>X112</td>\n",
              "      <td>0.84</td>\n",
              "      <td>1.0</td>\n",
              "      <td>Z005</td>\n",
              "      <td>2.0</td>\n",
              "      <td>Z_HYUNDAI</td>\n",
              "      <td>1</td>\n",
              "      <td>Patna</td>\n",
              "      <td>Bihar</td>\n",
              "      <td>2</td>\n",
              "    </tr>\n",
              "    <tr>\n",
              "      <th>PLX115</th>\n",
              "      <td>Franchise</td>\n",
              "      <td>2734</td>\n",
              "      <td>3.46</td>\n",
              "      <td>Running Repairs</td>\n",
              "      <td>0.00</td>\n",
              "      <td>X115</td>\n",
              "      <td>3.46</td>\n",
              "      <td>1.0</td>\n",
              "      <td>Z005</td>\n",
              "      <td>2.0</td>\n",
              "      <td>Z_HONDA</td>\n",
              "      <td>2</td>\n",
              "      <td>Ujjain</td>\n",
              "      <td>Madhya Pradesh</td>\n",
              "      <td>7</td>\n",
              "    </tr>\n",
              "    <tr>\n",
              "      <th>PLX126</th>\n",
              "      <td>Franchise</td>\n",
              "      <td>15351</td>\n",
              "      <td>244.00</td>\n",
              "      <td>Running Repairs</td>\n",
              "      <td>0.00</td>\n",
              "      <td>X126</td>\n",
              "      <td>244.00</td>\n",
              "      <td>1.0</td>\n",
              "      <td>Z005</td>\n",
              "      <td>2.0</td>\n",
              "      <td>Z_HYUNDAI</td>\n",
              "      <td>1</td>\n",
              "      <td>Varanasi</td>\n",
              "      <td>Uttar Pradesh</td>\n",
              "      <td>11</td>\n",
              "    </tr>\n",
              "    <tr>\n",
              "      <th>PLX129</th>\n",
              "      <td>Franchise</td>\n",
              "      <td>53200</td>\n",
              "      <td>0.00</td>\n",
              "      <td>Paid Service</td>\n",
              "      <td>3397.14</td>\n",
              "      <td>X129</td>\n",
              "      <td>3397.14</td>\n",
              "      <td>1.0</td>\n",
              "      <td>Z005</td>\n",
              "      <td>2.0</td>\n",
              "      <td>Z_VOLKSWAGEN</td>\n",
              "      <td>2</td>\n",
              "      <td>Pinjore</td>\n",
              "      <td>Haryana</td>\n",
              "      <td>1</td>\n",
              "    </tr>\n",
              "    <tr>\n",
              "      <th>PLX241</th>\n",
              "      <td>Franchise</td>\n",
              "      <td>56328</td>\n",
              "      <td>3257.38</td>\n",
              "      <td>Running Repairs</td>\n",
              "      <td>0.00</td>\n",
              "      <td>X241</td>\n",
              "      <td>3477.37</td>\n",
              "      <td>1.0</td>\n",
              "      <td>Z005</td>\n",
              "      <td>2.0</td>\n",
              "      <td>Z_MARUTI</td>\n",
              "      <td>2</td>\n",
              "      <td>Kashipur</td>\n",
              "      <td>Uttarakhand</td>\n",
              "      <td>10</td>\n",
              "    </tr>\n",
              "    <tr>\n",
              "      <th>PLX249</th>\n",
              "      <td>Franchise</td>\n",
              "      <td>31023</td>\n",
              "      <td>700.00</td>\n",
              "      <td>Running Repairs</td>\n",
              "      <td>262.72</td>\n",
              "      <td>X021</td>\n",
              "      <td>962.72</td>\n",
              "      <td>1.0</td>\n",
              "      <td>Z005</td>\n",
              "      <td>2.0</td>\n",
              "      <td>Z_VOLKSWAGEN</td>\n",
              "      <td>2</td>\n",
              "      <td>Salem</td>\n",
              "      <td>Tamil Nadu</td>\n",
              "      <td>12</td>\n",
              "    </tr>\n",
              "    <tr>\n",
              "      <th>PLX254</th>\n",
              "      <td>Franchise</td>\n",
              "      <td>32189</td>\n",
              "      <td>800.01</td>\n",
              "      <td>Running Repairs</td>\n",
              "      <td>92.37</td>\n",
              "      <td>X330</td>\n",
              "      <td>1092.36</td>\n",
              "      <td>1.0</td>\n",
              "      <td>Z005</td>\n",
              "      <td>2.0</td>\n",
              "      <td>Z_HONDA</td>\n",
              "      <td>1</td>\n",
              "      <td>Trichy</td>\n",
              "      <td>Tamil Nadu</td>\n",
              "      <td>12</td>\n",
              "    </tr>\n",
              "    <tr>\n",
              "      <th>PLX265</th>\n",
              "      <td>Franchise</td>\n",
              "      <td>54824</td>\n",
              "      <td>3.46</td>\n",
              "      <td>Running Repairs</td>\n",
              "      <td>0.00</td>\n",
              "      <td>X265</td>\n",
              "      <td>3.46</td>\n",
              "      <td>1.0</td>\n",
              "      <td>Z005</td>\n",
              "      <td>2.0</td>\n",
              "      <td>Z_MAHINDRA</td>\n",
              "      <td>2</td>\n",
              "      <td>Barmer</td>\n",
              "      <td>Rajasthan</td>\n",
              "      <td>9</td>\n",
              "    </tr>\n",
              "    <tr>\n",
              "      <th>PLX277</th>\n",
              "      <td>Retail</td>\n",
              "      <td>52358</td>\n",
              "      <td>1245.04</td>\n",
              "      <td>Running Repairs</td>\n",
              "      <td>5625.91</td>\n",
              "      <td>X277</td>\n",
              "      <td>6870.95</td>\n",
              "      <td>1.0</td>\n",
              "      <td>Z005</td>\n",
              "      <td>2.0</td>\n",
              "      <td>Z_TATA</td>\n",
              "      <td>1</td>\n",
              "      <td>Jalpaiguri</td>\n",
              "      <td>West Bengal</td>\n",
              "      <td>10</td>\n",
              "    </tr>\n",
              "    <tr>\n",
              "      <th>PLX312</th>\n",
              "      <td>Franchise</td>\n",
              "      <td>57841</td>\n",
              "      <td>85.05</td>\n",
              "      <td>Running Repairs</td>\n",
              "      <td>326.18</td>\n",
              "      <td>X312</td>\n",
              "      <td>411.23</td>\n",
              "      <td>1.0</td>\n",
              "      <td>Z005</td>\n",
              "      <td>2.0</td>\n",
              "      <td>Z_MAHINDRA</td>\n",
              "      <td>2</td>\n",
              "      <td>Solapur</td>\n",
              "      <td>Maharashtra</td>\n",
              "      <td>6</td>\n",
              "    </tr>\n",
              "    <tr>\n",
              "      <th>PLX316</th>\n",
              "      <td>Franchise</td>\n",
              "      <td>23201</td>\n",
              "      <td>1.70</td>\n",
              "      <td>Running Repairs</td>\n",
              "      <td>0.00</td>\n",
              "      <td>X316</td>\n",
              "      <td>1.70</td>\n",
              "      <td>1.0</td>\n",
              "      <td>Z005</td>\n",
              "      <td>2.0</td>\n",
              "      <td>Z_MARUTI</td>\n",
              "      <td>2</td>\n",
              "      <td>Alwar</td>\n",
              "      <td>Rajasthan</td>\n",
              "      <td>6</td>\n",
              "    </tr>\n",
              "    <tr>\n",
              "      <th>PLX317</th>\n",
              "      <td>Franchise</td>\n",
              "      <td>50369</td>\n",
              "      <td>558.10</td>\n",
              "      <td>Paid Service</td>\n",
              "      <td>853.54</td>\n",
              "      <td>X317</td>\n",
              "      <td>1411.64</td>\n",
              "      <td>1.0</td>\n",
              "      <td>Z005</td>\n",
              "      <td>2.0</td>\n",
              "      <td>Z_MAHINDRA</td>\n",
              "      <td>2</td>\n",
              "      <td>Chirawa</td>\n",
              "      <td>Rajasthan</td>\n",
              "      <td>7</td>\n",
              "    </tr>\n",
              "    <tr>\n",
              "      <th>PLX361</th>\n",
              "      <td>Franchise</td>\n",
              "      <td>70590</td>\n",
              "      <td>3692.18</td>\n",
              "      <td>Running Repairs</td>\n",
              "      <td>0.00</td>\n",
              "      <td>X361</td>\n",
              "      <td>3912.18</td>\n",
              "      <td>1.0</td>\n",
              "      <td>Z005</td>\n",
              "      <td>2.0</td>\n",
              "      <td>Z_HYUNDAI</td>\n",
              "      <td>2</td>\n",
              "      <td>Raebareli</td>\n",
              "      <td>Uttar Pradesh</td>\n",
              "      <td>5</td>\n",
              "    </tr>\n",
              "    <tr>\n",
              "      <th>PLX380</th>\n",
              "      <td>Retail</td>\n",
              "      <td>90704</td>\n",
              "      <td>4126.97</td>\n",
              "      <td>Running Repairs</td>\n",
              "      <td>0.00</td>\n",
              "      <td>X380</td>\n",
              "      <td>4346.98</td>\n",
              "      <td>1.0</td>\n",
              "      <td>Z005</td>\n",
              "      <td>2.0</td>\n",
              "      <td>Z_MAHINDRA</td>\n",
              "      <td>2</td>\n",
              "      <td>Meerut</td>\n",
              "      <td>Uttar Pradesh</td>\n",
              "      <td>9</td>\n",
              "    </tr>\n",
              "    <tr>\n",
              "      <th>PLX386</th>\n",
              "      <td>Franchise</td>\n",
              "      <td>55222</td>\n",
              "      <td>0.00</td>\n",
              "      <td>Running Repairs</td>\n",
              "      <td>0.00</td>\n",
              "      <td>X386</td>\n",
              "      <td>0.00</td>\n",
              "      <td>1.0</td>\n",
              "      <td>Z005</td>\n",
              "      <td>2.0</td>\n",
              "      <td>Z_HYUNDAI</td>\n",
              "      <td>1</td>\n",
              "      <td>Nizamabad</td>\n",
              "      <td>Telangana</td>\n",
              "      <td>9</td>\n",
              "    </tr>\n",
              "    <tr>\n",
              "      <th>PLX500</th>\n",
              "      <td>Retail</td>\n",
              "      <td>166630</td>\n",
              "      <td>350.42</td>\n",
              "      <td>Running Repairs</td>\n",
              "      <td>0.00</td>\n",
              "      <td>X500</td>\n",
              "      <td>350.42</td>\n",
              "      <td>1.0</td>\n",
              "      <td>Z005</td>\n",
              "      <td>2.0</td>\n",
              "      <td>Z_MARUTI</td>\n",
              "      <td>2</td>\n",
              "      <td>Warangal</td>\n",
              "      <td>Telangana</td>\n",
              "      <td>4</td>\n",
              "    </tr>\n",
              "    <tr>\n",
              "      <th>PLX506</th>\n",
              "      <td>Franchise</td>\n",
              "      <td>78151</td>\n",
              "      <td>0.00</td>\n",
              "      <td>Running Repairs</td>\n",
              "      <td>3604.74</td>\n",
              "      <td>X506</td>\n",
              "      <td>3604.74</td>\n",
              "      <td>1.0</td>\n",
              "      <td>Z005</td>\n",
              "      <td>2.0</td>\n",
              "      <td>Z_MARUTI</td>\n",
              "      <td>1</td>\n",
              "      <td>Kumbakonam</td>\n",
              "      <td>Tamil Nadu</td>\n",
              "      <td>10</td>\n",
              "    </tr>\n",
              "    <tr>\n",
              "      <th>PLX508</th>\n",
              "      <td>Franchise</td>\n",
              "      <td>52132</td>\n",
              "      <td>105.04</td>\n",
              "      <td>Running Repairs</td>\n",
              "      <td>554.38</td>\n",
              "      <td>X508</td>\n",
              "      <td>659.42</td>\n",
              "      <td>1.0</td>\n",
              "      <td>Z005</td>\n",
              "      <td>2.0</td>\n",
              "      <td>Z_RENAULT</td>\n",
              "      <td>2</td>\n",
              "      <td>Thane(W)</td>\n",
              "      <td>Maharashtra</td>\n",
              "      <td>2</td>\n",
              "    </tr>\n",
              "    <tr>\n",
              "      <th>PLX555</th>\n",
              "      <td>Franchise</td>\n",
              "      <td>296197</td>\n",
              "      <td>1008.91</td>\n",
              "      <td>Running Repairs</td>\n",
              "      <td>1715.03</td>\n",
              "      <td>X555</td>\n",
              "      <td>2723.94</td>\n",
              "      <td>1.0</td>\n",
              "      <td>Z005</td>\n",
              "      <td>2.0</td>\n",
              "      <td>Z_TATA</td>\n",
              "      <td>2</td>\n",
              "      <td>Gadag</td>\n",
              "      <td>Karnataka</td>\n",
              "      <td>5</td>\n",
              "    </tr>\n",
              "  </tbody>\n",
              "</table>\n",
              "<p>406872 rows × 15 columns</p>\n",
              "</div>"
            ],
            "text/plain": [
              "              Cust Type  KMs Reading  ...           State JobCard Month\n",
              "Customer No.                          ...                              \n",
              "100001           Retail        80841  ...     Maharashtra             4\n",
              "100003           Retail       104000  ...     Maharashtra             4\n",
              "100004           Retail         2494  ...     Maharashtra             4\n",
              "100006           Retail         6000  ...          Punjab             4\n",
              "100007           Retail        25207  ...      Tamil Nadu             3\n",
              "100009           Retail        74130  ...          Punjab             4\n",
              "10001            Retail        43285  ...     Maharashtra             4\n",
              "100011           Retail       123132  ...     Maharashtra             1\n",
              "100014           Retail        27668  ...     Maharashtra             4\n",
              "100015           Retail        90980  ...          Punjab             4\n",
              "100016           Retail       119673  ...     Maharashtra             4\n",
              "100018           Retail       124858  ...     Maharashtra             7\n",
              "100020           Retail       150395  ...     Maharashtra             4\n",
              "100021           Retail        45138  ...          Punjab             4\n",
              "100022           Retail       118313  ...      Tamil Nadu             4\n",
              "100023           Retail        76608  ...          Punjab             4\n",
              "100024           Retail        90123  ...     Maharashtra             4\n",
              "100025           Retail         2127  ...     Maharashtra             4\n",
              "100027           Retail        13501  ...          Punjab             4\n",
              "100028           Retail        45125  ...          Punjab             4\n",
              "100030           Retail       176717  ...      Tamil Nadu             4\n",
              "100032           Retail        23543  ...     Maharashtra             4\n",
              "100034           Retail        42469  ...          Punjab             4\n",
              "100035           Retail        59397  ...       Karnataka             5\n",
              "100036           Retail       111102  ...     Maharashtra             4\n",
              "100037           Retail        17066  ...          Punjab             4\n",
              "100039           Retail        63286  ...  Andhra Pradesh             4\n",
              "100040           Retail       100890  ...     Maharashtra             8\n",
              "100041           Retail        48962  ...          Punjab             4\n",
              "100042           Retail        41429  ...         Gujarat            10\n",
              "...                 ...          ...  ...             ...           ...\n",
              "MFCWP01           MFCWL       152401  ...     Maharashtra             3\n",
              "MFM15             MFCWL        40655  ...      Tamil Nadu             4\n",
              "PLX002        Franchise        69329  ...   Uttar Pradesh             4\n",
              "PLX046        Franchise        48720  ...         Haryana             1\n",
              "PLX048           Retail       192146  ...      Tamil Nadu            10\n",
              "PLX057        Franchise        29903  ...       Karnataka             6\n",
              "PLX073        Franchise        71671  ...     Maharashtra             9\n",
              "PLX076        Franchise        79374  ...   Uttar Pradesh             8\n",
              "PLX081        Franchise       148024  ...          Kerala            10\n",
              "PLX099        Franchise        57435  ...     Maharashtra             9\n",
              "PLX109        Franchise        90160  ...      Tamil Nadu            11\n",
              "PLX112        Franchise        32554  ...           Bihar             2\n",
              "PLX115        Franchise         2734  ...  Madhya Pradesh             7\n",
              "PLX126        Franchise        15351  ...   Uttar Pradesh            11\n",
              "PLX129        Franchise        53200  ...         Haryana             1\n",
              "PLX241        Franchise        56328  ...     Uttarakhand            10\n",
              "PLX249        Franchise        31023  ...      Tamil Nadu            12\n",
              "PLX254        Franchise        32189  ...      Tamil Nadu            12\n",
              "PLX265        Franchise        54824  ...       Rajasthan             9\n",
              "PLX277           Retail        52358  ...     West Bengal            10\n",
              "PLX312        Franchise        57841  ...     Maharashtra             6\n",
              "PLX316        Franchise        23201  ...       Rajasthan             6\n",
              "PLX317        Franchise        50369  ...       Rajasthan             7\n",
              "PLX361        Franchise        70590  ...   Uttar Pradesh             5\n",
              "PLX380           Retail        90704  ...   Uttar Pradesh             9\n",
              "PLX386        Franchise        55222  ...       Telangana             9\n",
              "PLX500           Retail       166630  ...       Telangana             4\n",
              "PLX506        Franchise        78151  ...      Tamil Nadu            10\n",
              "PLX508        Franchise        52132  ...     Maharashtra             2\n",
              "PLX555        Franchise       296197  ...       Karnataka             5\n",
              "\n",
              "[406872 rows x 15 columns]"
            ]
          },
          "metadata": {
            "tags": []
          },
          "execution_count": 138
        }
      ]
    },
    {
      "cell_type": "code",
      "metadata": {
        "id": "mU_8tpRcvW39",
        "colab_type": "code",
        "outputId": "7395a393-a1ad-4c5d-f36f-e5fd89c06938",
        "colab": {
          "base_uri": "https://localhost:8080/",
          "height": 162
        }
      },
      "source": [
        "cluster_data.groupby(by='Customer No.').get_group('100004')"
      ],
      "execution_count": 0,
      "outputs": [
        {
          "output_type": "execute_result",
          "data": {
            "text/html": [
              "<div>\n",
              "<style scoped>\n",
              "    .dataframe tbody tr th:only-of-type {\n",
              "        vertical-align: middle;\n",
              "    }\n",
              "\n",
              "    .dataframe tbody tr th {\n",
              "        vertical-align: top;\n",
              "    }\n",
              "\n",
              "    .dataframe thead th {\n",
              "        text-align: right;\n",
              "    }\n",
              "</style>\n",
              "<table border=\"1\" class=\"dataframe\">\n",
              "  <thead>\n",
              "    <tr style=\"text-align: right;\">\n",
              "      <th></th>\n",
              "      <th>Cust Type</th>\n",
              "      <th>Customer No.</th>\n",
              "      <th>KMs Reading</th>\n",
              "      <th>Labour Total</th>\n",
              "      <th>Order Type</th>\n",
              "      <th>Parts Total</th>\n",
              "      <th>Plant</th>\n",
              "      <th>Total Amt Wtd Tax.</th>\n",
              "      <th>Partner Type</th>\n",
              "      <th>Data Origin</th>\n",
              "      <th>Title</th>\n",
              "      <th>Vehicle Model</th>\n",
              "      <th>Fuel Type</th>\n",
              "      <th>City</th>\n",
              "      <th>State</th>\n",
              "      <th>JobCard Month</th>\n",
              "    </tr>\n",
              "  </thead>\n",
              "  <tbody>\n",
              "    <tr>\n",
              "      <th>343573</th>\n",
              "      <td>Retail</td>\n",
              "      <td>100004</td>\n",
              "      <td>2494</td>\n",
              "      <td>249.22</td>\n",
              "      <td>Running Repairs</td>\n",
              "      <td>0.00</td>\n",
              "      <td>X016</td>\n",
              "      <td>249.22</td>\n",
              "      <td>1.0</td>\n",
              "      <td>Z005</td>\n",
              "      <td>2.0</td>\n",
              "      <td>Z_HYUNDAI</td>\n",
              "      <td>2</td>\n",
              "      <td>Boripardhi</td>\n",
              "      <td>Maharashtra</td>\n",
              "      <td>4</td>\n",
              "    </tr>\n",
              "    <tr>\n",
              "      <th>343574</th>\n",
              "      <td>Retail</td>\n",
              "      <td>100004</td>\n",
              "      <td>59666</td>\n",
              "      <td>1283.29</td>\n",
              "      <td>Paid Service</td>\n",
              "      <td>4179.93</td>\n",
              "      <td>X016</td>\n",
              "      <td>5463.22</td>\n",
              "      <td>1.0</td>\n",
              "      <td>Z005</td>\n",
              "      <td>2.0</td>\n",
              "      <td>Z_HYUNDAI</td>\n",
              "      <td>2</td>\n",
              "      <td>Boripardhi</td>\n",
              "      <td>Maharashtra</td>\n",
              "      <td>3</td>\n",
              "    </tr>\n",
              "  </tbody>\n",
              "</table>\n",
              "</div>"
            ],
            "text/plain": [
              "       Cust Type Customer No.  ...        State  JobCard Month\n",
              "343573    Retail       100004  ...  Maharashtra              4\n",
              "343574    Retail       100004  ...  Maharashtra              3\n",
              "\n",
              "[2 rows x 16 columns]"
            ]
          },
          "metadata": {
            "tags": []
          },
          "execution_count": 139
        }
      ]
    },
    {
      "cell_type": "code",
      "metadata": {
        "id": "uH6KwrtvxVFz",
        "colab_type": "code",
        "colab": {}
      },
      "source": [
        "from sklearn.preprocessing import OneHotEncoder"
      ],
      "execution_count": 0,
      "outputs": []
    },
    {
      "cell_type": "code",
      "metadata": {
        "id": "-VAmaLzAxWEX",
        "colab_type": "code",
        "outputId": "20b7a7dc-860b-44d8-df37-fd3ec7fd3f35",
        "colab": {
          "base_uri": "https://localhost:8080/",
          "height": 187
        }
      },
      "source": [
        "cluster_data['Order Type'].value_counts()"
      ],
      "execution_count": 0,
      "outputs": [
        {
          "output_type": "execute_result",
          "data": {
            "text/plain": [
              "Running Repairs      427316\n",
              "Paid Service         228718\n",
              "Accidental            61908\n",
              "Mechanical            12890\n",
              "SMC Redemption         6303\n",
              "SMC Value Package      5726\n",
              "Repeat Order            687\n",
              "WBW Order               252\n",
              "Workshop Damage           1\n",
              "Name: Order Type, dtype: int64"
            ]
          },
          "metadata": {
            "tags": []
          },
          "execution_count": 149
        }
      ]
    },
    {
      "cell_type": "code",
      "metadata": {
        "id": "AoREh1EzyIBn",
        "colab_type": "code",
        "outputId": "5ac06f7b-1ba3-4ac2-c611-13bac971ea0c",
        "colab": {
          "base_uri": "https://localhost:8080/",
          "height": 34
        }
      },
      "source": [
        "pd.get_dummies(cluster_data['Order Type']).shape"
      ],
      "execution_count": 0,
      "outputs": [
        {
          "output_type": "execute_result",
          "data": {
            "text/plain": [
              "(743801, 9)"
            ]
          },
          "metadata": {
            "tags": []
          },
          "execution_count": 148
        }
      ]
    },
    {
      "cell_type": "markdown",
      "metadata": {
        "id": "PfGb7IaFHWfj",
        "colab_type": "text"
      },
      "source": [
        "**Apply Label Encoding on cluster data**"
      ]
    },
    {
      "cell_type": "code",
      "metadata": {
        "id": "DVAicCYnHciH",
        "colab_type": "code",
        "colab": {}
      },
      "source": [
        "from sklearn.preprocessing import LabelEncoder"
      ],
      "execution_count": 0,
      "outputs": []
    },
    {
      "cell_type": "code",
      "metadata": {
        "id": "fX9pDVCdHqeL",
        "colab_type": "code",
        "colab": {}
      },
      "source": [
        "le = LabelEncoder()"
      ],
      "execution_count": 0,
      "outputs": []
    },
    {
      "cell_type": "code",
      "metadata": {
        "id": "etiult2EH2Ze",
        "colab_type": "code",
        "colab": {}
      },
      "source": [
        "cluster_data_categroical = cluster_data[['Cust Type', 'Order Type', 'Plant', 'Data Origin', 'Vehicle Model', 'City', 'State']]"
      ],
      "execution_count": 0,
      "outputs": []
    },
    {
      "cell_type": "code",
      "metadata": {
        "id": "aPYesXiCHtgj",
        "colab_type": "code",
        "colab": {}
      },
      "source": [
        "cluster_data_encoded = cluster_data_categroical.apply(le.fit_transform)"
      ],
      "execution_count": 0,
      "outputs": []
    },
    {
      "cell_type": "code",
      "metadata": {
        "id": "Vy6s7HC1JfVi",
        "colab_type": "code",
        "colab": {}
      },
      "source": [
        "cluster_data_numerical = cluster_data[['KMs Reading', 'Labour Total', 'Parts Total', 'Total Amt Wtd Tax.', 'Partner Type', 'Title', 'Fuel Type', 'JobCard Month']]"
      ],
      "execution_count": 0,
      "outputs": []
    },
    {
      "cell_type": "code",
      "metadata": {
        "id": "UdgSmAjnJbZA",
        "colab_type": "code",
        "colab": {}
      },
      "source": [
        "cluster_data_transformed = pd.concat([cluster_data_encoded,cluster_data_numerical], axis=1)"
      ],
      "execution_count": 0,
      "outputs": []
    },
    {
      "cell_type": "code",
      "metadata": {
        "id": "t-BkaZXrIiUt",
        "colab_type": "code",
        "outputId": "6352d361-98b3-46fa-cef3-23899afe8f0e",
        "colab": {
          "base_uri": "https://localhost:8080/",
          "height": 221
        }
      },
      "source": [
        "cluster_data_transformed.tail()"
      ],
      "execution_count": 0,
      "outputs": [
        {
          "output_type": "execute_result",
          "data": {
            "text/html": [
              "<div>\n",
              "<style scoped>\n",
              "    .dataframe tbody tr th:only-of-type {\n",
              "        vertical-align: middle;\n",
              "    }\n",
              "\n",
              "    .dataframe tbody tr th {\n",
              "        vertical-align: top;\n",
              "    }\n",
              "\n",
              "    .dataframe thead th {\n",
              "        text-align: right;\n",
              "    }\n",
              "</style>\n",
              "<table border=\"1\" class=\"dataframe\">\n",
              "  <thead>\n",
              "    <tr style=\"text-align: right;\">\n",
              "      <th></th>\n",
              "      <th>Cust Type</th>\n",
              "      <th>Order Type</th>\n",
              "      <th>Plant</th>\n",
              "      <th>Data Origin</th>\n",
              "      <th>Vehicle Model</th>\n",
              "      <th>City</th>\n",
              "      <th>State</th>\n",
              "      <th>KMs Reading</th>\n",
              "      <th>Labour Total</th>\n",
              "      <th>Parts Total</th>\n",
              "      <th>Total Amt Wtd Tax.</th>\n",
              "      <th>Partner Type</th>\n",
              "      <th>Title</th>\n",
              "      <th>Fuel Type</th>\n",
              "      <th>JobCard Month</th>\n",
              "    </tr>\n",
              "  </thead>\n",
              "  <tbody>\n",
              "    <tr>\n",
              "      <th>743796</th>\n",
              "      <td>6</td>\n",
              "      <td>4</td>\n",
              "      <td>395</td>\n",
              "      <td>18</td>\n",
              "      <td>11</td>\n",
              "      <td>173</td>\n",
              "      <td>22</td>\n",
              "      <td>32006</td>\n",
              "      <td>0.00</td>\n",
              "      <td>0.0</td>\n",
              "      <td>0.00</td>\n",
              "      <td>1.0</td>\n",
              "      <td>2.0</td>\n",
              "      <td>1</td>\n",
              "      <td>11</td>\n",
              "    </tr>\n",
              "    <tr>\n",
              "      <th>743797</th>\n",
              "      <td>6</td>\n",
              "      <td>4</td>\n",
              "      <td>395</td>\n",
              "      <td>18</td>\n",
              "      <td>12</td>\n",
              "      <td>173</td>\n",
              "      <td>22</td>\n",
              "      <td>127146</td>\n",
              "      <td>0.00</td>\n",
              "      <td>0.0</td>\n",
              "      <td>0.00</td>\n",
              "      <td>1.0</td>\n",
              "      <td>2.0</td>\n",
              "      <td>1</td>\n",
              "      <td>11</td>\n",
              "    </tr>\n",
              "    <tr>\n",
              "      <th>743798</th>\n",
              "      <td>6</td>\n",
              "      <td>4</td>\n",
              "      <td>395</td>\n",
              "      <td>12</td>\n",
              "      <td>16</td>\n",
              "      <td>173</td>\n",
              "      <td>22</td>\n",
              "      <td>75653</td>\n",
              "      <td>0.00</td>\n",
              "      <td>0.0</td>\n",
              "      <td>0.00</td>\n",
              "      <td>1.0</td>\n",
              "      <td>2.0</td>\n",
              "      <td>2</td>\n",
              "      <td>11</td>\n",
              "    </tr>\n",
              "    <tr>\n",
              "      <th>743799</th>\n",
              "      <td>6</td>\n",
              "      <td>4</td>\n",
              "      <td>395</td>\n",
              "      <td>12</td>\n",
              "      <td>9</td>\n",
              "      <td>173</td>\n",
              "      <td>22</td>\n",
              "      <td>109852</td>\n",
              "      <td>149.18</td>\n",
              "      <td>0.0</td>\n",
              "      <td>149.18</td>\n",
              "      <td>1.0</td>\n",
              "      <td>2.0</td>\n",
              "      <td>2</td>\n",
              "      <td>11</td>\n",
              "    </tr>\n",
              "    <tr>\n",
              "      <th>743800</th>\n",
              "      <td>6</td>\n",
              "      <td>4</td>\n",
              "      <td>395</td>\n",
              "      <td>5</td>\n",
              "      <td>25</td>\n",
              "      <td>173</td>\n",
              "      <td>22</td>\n",
              "      <td>63154</td>\n",
              "      <td>0.00</td>\n",
              "      <td>0.0</td>\n",
              "      <td>0.00</td>\n",
              "      <td>1.0</td>\n",
              "      <td>2.0</td>\n",
              "      <td>2</td>\n",
              "      <td>11</td>\n",
              "    </tr>\n",
              "  </tbody>\n",
              "</table>\n",
              "</div>"
            ],
            "text/plain": [
              "        Cust Type  Order Type  Plant  ...  Title  Fuel Type  JobCard Month\n",
              "743796          6           4    395  ...    2.0          1             11\n",
              "743797          6           4    395  ...    2.0          1             11\n",
              "743798          6           4    395  ...    2.0          2             11\n",
              "743799          6           4    395  ...    2.0          2             11\n",
              "743800          6           4    395  ...    2.0          2             11\n",
              "\n",
              "[5 rows x 15 columns]"
            ]
          },
          "metadata": {
            "tags": []
          },
          "execution_count": 91
        }
      ]
    },
    {
      "cell_type": "code",
      "metadata": {
        "id": "bGTNdsaCJqj8",
        "colab_type": "code",
        "outputId": "d59c24d8-755b-437c-95ac-c4366bbc6221",
        "colab": {
          "base_uri": "https://localhost:8080/",
          "height": 34
        }
      },
      "source": [
        "cluster_data_transformed.shape"
      ],
      "execution_count": 0,
      "outputs": [
        {
          "output_type": "execute_result",
          "data": {
            "text/plain": [
              "(743801, 15)"
            ]
          },
          "metadata": {
            "tags": []
          },
          "execution_count": 92
        }
      ]
    },
    {
      "cell_type": "markdown",
      "metadata": {
        "id": "daOdM5BV_AVs",
        "colab_type": "text"
      },
      "source": [
        "## Apply Clustering Algorthims"
      ]
    },
    {
      "cell_type": "code",
      "metadata": {
        "id": "l48hKfdB-_YT",
        "colab_type": "code",
        "colab": {}
      },
      "source": [
        "from sklearn.cluster import KMeans"
      ],
      "execution_count": 0,
      "outputs": []
    },
    {
      "cell_type": "code",
      "metadata": {
        "id": "rwlzzHBqLCZ6",
        "colab_type": "code",
        "colab": {}
      },
      "source": [
        "dist=[]\n",
        "# Iterate from 1-9\n",
        "for i in range(1, 10):\n",
        "    # Initialize KMeans algorithm\n",
        "    km = KMeans(n_clusters=i, init='k-means++', n_init=10, max_iter=300, random_state=0)\n",
        "    # Fit on data\n",
        "    km.fit(cluster_data_transformed)\n",
        "    # Append WCSS to list storing WCSS\n",
        "    dist.append(km.inertia_)"
      ],
      "execution_count": 0,
      "outputs": []
    },
    {
      "cell_type": "code",
      "metadata": {
        "id": "VYdA3IaRNxDw",
        "colab_type": "code",
        "colab": {}
      },
      "source": [
        "import matplotlib.pyplot as plt"
      ],
      "execution_count": 0,
      "outputs": []
    },
    {
      "cell_type": "code",
      "metadata": {
        "id": "jOU0wmqUNo1s",
        "colab_type": "code",
        "outputId": "579069ea-bfe1-4c8d-b400-56239fa5044c",
        "colab": {
          "base_uri": "https://localhost:8080/",
          "height": 276
        }
      },
      "source": [
        "# Line plot # clusters on X-axis and WCSS on Y-axis \n",
        "plt.plot(range(1, 10), dist, 'bo-')\n",
        "plt.show()"
      ],
      "execution_count": 0,
      "outputs": [
        {
          "output_type": "display_data",
          "data": {
            "image/png": "[encoded data removed]",
            "text/plain": [
              "<Figure size 432x288 with 1 Axes>"
            ]
          },
          "metadata": {
            "tags": []
          }
        }
      ]
    },
    {
      "cell_type": "code",
      "metadata": {
        "id": "jQO3DzC4PJM3",
        "colab_type": "code",
        "colab": {}
      },
      "source": [
        "cluster  = KMeans(n_clusters=5, init='k-means++', max_iter=300, n_init=10, random_state=0)\n",
        "# create 'cluster' column\n",
        "cluster_data_transformed['cluster'] = cluster.fit_predict(cluster_data_transformed)"
      ],
      "execution_count": 0,
      "outputs": []
    },
    {
      "cell_type": "code",
      "metadata": {
        "id": "Q_XBnIcrPUg8",
        "colab_type": "code",
        "outputId": "0c05d665-42c1-4e46-ade2-665ffa637642",
        "colab": {
          "base_uri": "https://localhost:8080/",
          "height": 221
        }
      },
      "source": [
        "cluster_data_transformed.tail()"
      ],
      "execution_count": 0,
      "outputs": [
        {
          "output_type": "execute_result",
          "data": {
            "text/html": [
              "<div>\n",
              "<style scoped>\n",
              "    .dataframe tbody tr th:only-of-type {\n",
              "        vertical-align: middle;\n",
              "    }\n",
              "\n",
              "    .dataframe tbody tr th {\n",
              "        vertical-align: top;\n",
              "    }\n",
              "\n",
              "    .dataframe thead th {\n",
              "        text-align: right;\n",
              "    }\n",
              "</style>\n",
              "<table border=\"1\" class=\"dataframe\">\n",
              "  <thead>\n",
              "    <tr style=\"text-align: right;\">\n",
              "      <th></th>\n",
              "      <th>Cust Type</th>\n",
              "      <th>Order Type</th>\n",
              "      <th>Plant</th>\n",
              "      <th>Data Origin</th>\n",
              "      <th>Vehicle Model</th>\n",
              "      <th>City</th>\n",
              "      <th>State</th>\n",
              "      <th>KMs Reading</th>\n",
              "      <th>Labour Total</th>\n",
              "      <th>Parts Total</th>\n",
              "      <th>Total Amt Wtd Tax.</th>\n",
              "      <th>Partner Type</th>\n",
              "      <th>Title</th>\n",
              "      <th>Fuel Type</th>\n",
              "      <th>JobCard Month</th>\n",
              "      <th>cluster</th>\n",
              "    </tr>\n",
              "  </thead>\n",
              "  <tbody>\n",
              "    <tr>\n",
              "      <th>743796</th>\n",
              "      <td>6</td>\n",
              "      <td>4</td>\n",
              "      <td>395</td>\n",
              "      <td>18</td>\n",
              "      <td>11</td>\n",
              "      <td>173</td>\n",
              "      <td>22</td>\n",
              "      <td>32006</td>\n",
              "      <td>0.00</td>\n",
              "      <td>0.0</td>\n",
              "      <td>0.00</td>\n",
              "      <td>1.0</td>\n",
              "      <td>2.0</td>\n",
              "      <td>1</td>\n",
              "      <td>11</td>\n",
              "      <td>0</td>\n",
              "    </tr>\n",
              "    <tr>\n",
              "      <th>743797</th>\n",
              "      <td>6</td>\n",
              "      <td>4</td>\n",
              "      <td>395</td>\n",
              "      <td>18</td>\n",
              "      <td>12</td>\n",
              "      <td>173</td>\n",
              "      <td>22</td>\n",
              "      <td>127146</td>\n",
              "      <td>0.00</td>\n",
              "      <td>0.0</td>\n",
              "      <td>0.00</td>\n",
              "      <td>1.0</td>\n",
              "      <td>2.0</td>\n",
              "      <td>1</td>\n",
              "      <td>11</td>\n",
              "      <td>4</td>\n",
              "    </tr>\n",
              "    <tr>\n",
              "      <th>743798</th>\n",
              "      <td>6</td>\n",
              "      <td>4</td>\n",
              "      <td>395</td>\n",
              "      <td>12</td>\n",
              "      <td>16</td>\n",
              "      <td>173</td>\n",
              "      <td>22</td>\n",
              "      <td>75653</td>\n",
              "      <td>0.00</td>\n",
              "      <td>0.0</td>\n",
              "      <td>0.00</td>\n",
              "      <td>1.0</td>\n",
              "      <td>2.0</td>\n",
              "      <td>2</td>\n",
              "      <td>11</td>\n",
              "      <td>0</td>\n",
              "    </tr>\n",
              "    <tr>\n",
              "      <th>743799</th>\n",
              "      <td>6</td>\n",
              "      <td>4</td>\n",
              "      <td>395</td>\n",
              "      <td>12</td>\n",
              "      <td>9</td>\n",
              "      <td>173</td>\n",
              "      <td>22</td>\n",
              "      <td>109852</td>\n",
              "      <td>149.18</td>\n",
              "      <td>0.0</td>\n",
              "      <td>149.18</td>\n",
              "      <td>1.0</td>\n",
              "      <td>2.0</td>\n",
              "      <td>2</td>\n",
              "      <td>11</td>\n",
              "      <td>4</td>\n",
              "    </tr>\n",
              "    <tr>\n",
              "      <th>743800</th>\n",
              "      <td>6</td>\n",
              "      <td>4</td>\n",
              "      <td>395</td>\n",
              "      <td>5</td>\n",
              "      <td>25</td>\n",
              "      <td>173</td>\n",
              "      <td>22</td>\n",
              "      <td>63154</td>\n",
              "      <td>0.00</td>\n",
              "      <td>0.0</td>\n",
              "      <td>0.00</td>\n",
              "      <td>1.0</td>\n",
              "      <td>2.0</td>\n",
              "      <td>2</td>\n",
              "      <td>11</td>\n",
              "      <td>0</td>\n",
              "    </tr>\n",
              "  </tbody>\n",
              "</table>\n",
              "</div>"
            ],
            "text/plain": [
              "        Cust Type  Order Type  Plant  ...  Fuel Type  JobCard Month  cluster\n",
              "743796          6           4    395  ...          1             11        0\n",
              "743797          6           4    395  ...          1             11        4\n",
              "743798          6           4    395  ...          2             11        0\n",
              "743799          6           4    395  ...          2             11        4\n",
              "743800          6           4    395  ...          2             11        0\n",
              "\n",
              "[5 rows x 16 columns]"
            ]
          },
          "metadata": {
            "tags": []
          },
          "execution_count": 98
        }
      ]
    },
    {
      "cell_type": "code",
      "metadata": {
        "id": "kzZHIJI4P1wD",
        "colab_type": "code",
        "colab": {}
      },
      "source": [
        "# Cluster centers\n",
        "centroids = cluster.cluster_centers_"
      ],
      "execution_count": 0,
      "outputs": []
    },
    {
      "cell_type": "code",
      "metadata": {
        "id": "wnutvCjuP-SU",
        "colab_type": "code",
        "colab": {}
      },
      "source": [
        "# Within cluster sum of squares\n",
        "wcss = km.inertia_"
      ],
      "execution_count": 0,
      "outputs": []
    },
    {
      "cell_type": "code",
      "metadata": {
        "id": "mHwkeFRSP_Z8",
        "colab_type": "code",
        "outputId": "383043ef-2c0b-48b4-8152-2ea98464b3ef",
        "colab": {
          "base_uri": "https://localhost:8080/",
          "height": 357
        }
      },
      "source": [
        "centroids"
      ],
      "execution_count": 0,
      "outputs": [
        {
          "output_type": "execute_result",
          "data": {
            "text/plain": [
              "array([[5.99693393e+00, 3.01337702e+00, 1.38544484e+02, 6.47123580e+00,\n",
              "        1.24881836e+01, 1.61836673e+02, 1.53050549e+01, 5.27379568e+04,\n",
              "        1.44725125e+03, 2.03339014e+03, 3.82679915e+03, 1.28000613e+00,\n",
              "        1.95148033e+00, 1.64520763e+00, 6.97991897e+00],\n",
              "       [6.00000000e+00, 2.97240473e+00, 1.67831800e+02, 5.13929041e+00,\n",
              "        1.49842313e+01, 1.94989488e+02, 1.45624179e+01, 2.14672601e+06,\n",
              "        1.87272683e+03, 2.37774989e+03, 4.45007714e+03, 1.00131406e+00,\n",
              "        1.96320631e+00, 1.80814717e+00, 7.23390276e+00],\n",
              "       [5.99869763e+00, 3.04319514e+00, 1.53955937e+02, 5.81571522e+00,\n",
              "        1.34030823e+01, 1.78200998e+02, 1.44304320e+01, 8.34071885e+05,\n",
              "        1.52143074e+03, 1.95649297e+03, 3.77078977e+03, 1.00043412e+00,\n",
              "        1.96201433e+00, 1.71044063e+00, 7.09919687e+00],\n",
              "       [6.00000000e+00, 2.97163121e+00, 1.86255319e+02, 4.83687943e+00,\n",
              "        1.24397163e+01, 1.79411348e+02, 1.50000000e+01, 6.54651238e+06,\n",
              "        2.18176603e+03, 2.40773184e+03, 4.80463723e+03, 1.00709220e+00,\n",
              "        1.97163121e+00, 1.63120567e+00, 7.30496454e+00],\n",
              "       [5.99296328e+00, 3.06308322e+00, 1.32184565e+02, 6.31355234e+00,\n",
              "        1.42793894e+01, 1.65677839e+02, 1.56357262e+01, 1.62194198e+05,\n",
              "        1.83542438e+03, 2.90664342e+03, 5.19041830e+03, 1.05962826e+00,\n",
              "        1.95715209e+00, 1.87598894e+00, 6.97952379e+00]])"
            ]
          },
          "metadata": {
            "tags": []
          },
          "execution_count": 101
        }
      ]
    },
    {
      "cell_type": "code",
      "metadata": {
        "id": "-5wT9alhQCg6",
        "colab_type": "code",
        "outputId": "23086f10-9c2f-477f-8597-6a3a4e2e73ff",
        "colab": {
          "base_uri": "https://localhost:8080/",
          "height": 34
        }
      },
      "source": [
        "wcss"
      ],
      "execution_count": 0,
      "outputs": [
        {
          "output_type": "execute_result",
          "data": {
            "text/plain": [
              "850269059345752.8"
            ]
          },
          "metadata": {
            "tags": []
          },
          "execution_count": 102
        }
      ]
    },
    {
      "cell_type": "code",
      "metadata": {
        "id": "ZtJfcaz_QHl4",
        "colab_type": "code",
        "outputId": "60fdda97-e007-4f16-9cbe-919750daba05",
        "colab": {
          "base_uri": "https://localhost:8080/",
          "height": 119
        }
      },
      "source": [
        "cluster_data_transformed['cluster'].value_counts()"
      ],
      "execution_count": 0,
      "outputs": [
        {
          "output_type": "execute_result",
          "data": {
            "text/plain": [
              "0    580429\n",
              "4    157862\n",
              "2      4608\n",
              "1       761\n",
              "3       141\n",
              "Name: cluster, dtype: int64"
            ]
          },
          "metadata": {
            "tags": []
          },
          "execution_count": 103
        }
      ]
    }
  ]
}